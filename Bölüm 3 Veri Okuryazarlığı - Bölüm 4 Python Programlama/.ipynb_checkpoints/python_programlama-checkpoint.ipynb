{
 "cells": [
  {
   "cell_type": "markdown",
   "id": "a227b28a-269f-4080-a60b-df76fd60cbb9",
   "metadata": {},
   "source": [
    "# Python Programlama"
   ]
  },
  {
   "cell_type": "code",
   "execution_count": 1,
   "id": "e7f7a30b-fcf2-42fe-913a-bbc5130eef3d",
   "metadata": {},
   "outputs": [
    {
     "data": {
      "text/plain": [
       "9"
      ]
     },
     "execution_count": 1,
     "metadata": {},
     "output_type": "execute_result"
    }
   ],
   "source": [
    "9 #integer #kesikli"
   ]
  },
  {
   "cell_type": "code",
   "execution_count": 2,
   "id": "49cbee38-952a-40d4-b7db-0437f51b80c4",
   "metadata": {},
   "outputs": [
    {
     "data": {
      "text/plain": [
       "9.2"
      ]
     },
     "execution_count": 2,
     "metadata": {},
     "output_type": "execute_result"
    }
   ],
   "source": [
    "9.2 #float #sürekli"
   ]
  },
  {
   "cell_type": "code",
   "execution_count": 3,
   "id": "a2ea99e3-a6ff-4671-b949-318bc81a1132",
   "metadata": {},
   "outputs": [
    {
     "data": {
      "text/plain": [
       "18"
      ]
     },
     "execution_count": 3,
     "metadata": {},
     "output_type": "execute_result"
    }
   ],
   "source": [
    "9+9"
   ]
  },
  {
   "cell_type": "code",
   "execution_count": 4,
   "id": "09780e8a-982d-4646-813b-69964857e627",
   "metadata": {},
   "outputs": [
    {
     "data": {
      "text/plain": [
       "81"
      ]
     },
     "execution_count": 4,
     "metadata": {},
     "output_type": "execute_result"
    }
   ],
   "source": [
    "9*9"
   ]
  },
  {
   "cell_type": "markdown",
   "id": "ba4a72c7-dd21-448c-aab0-195d3a5f48ec",
   "metadata": {},
   "source": [
    "#### F9 ile run line yapabilirsin"
   ]
  },
  {
   "cell_type": "code",
   "execution_count": 5,
   "id": "aa0acb6d-29ed-4bfb-b693-b4e970b1b4a7",
   "metadata": {},
   "outputs": [
    {
     "name": "stdout",
     "output_type": "stream",
     "text": [
      "HELLO AI ERA\n"
     ]
    }
   ],
   "source": [
    "print(\"HELLO AI ERA\")"
   ]
  },
  {
   "cell_type": "code",
   "execution_count": 6,
   "id": "4bb19639-5814-4ee8-97e9-f149ddad80d9",
   "metadata": {},
   "outputs": [
    {
     "data": {
      "text/plain": [
       "'HELLO AI ERA'"
      ]
     },
     "execution_count": 6,
     "metadata": {},
     "output_type": "execute_result"
    }
   ],
   "source": [
    "'HELLO AI ERA'"
   ]
  },
  {
   "cell_type": "markdown",
   "id": "9864c746-4eb1-4ab3-ae8d-d6c2d3008ebf",
   "metadata": {},
   "source": [
    "##### Run ile py dosyasını komple derleyerek basmak için print ifadesi koymak gerekir.\n",
    "##### F5 ile komple derleyici, print yazmak lazım"
   ]
  },
  {
   "cell_type": "markdown",
   "id": "a078782d-2e8c-4016-a037-58c1cfcce7c5",
   "metadata": {},
   "source": [
    "#### Nesnenin tipini nasıl öğrenebiliriz"
   ]
  },
  {
   "cell_type": "code",
   "execution_count": 7,
   "id": "499756f4-774a-4bfd-a4b7-7abdc3ef4fba",
   "metadata": {},
   "outputs": [
    {
     "data": {
      "text/plain": [
       "int"
      ]
     },
     "execution_count": 7,
     "metadata": {},
     "output_type": "execute_result"
    }
   ],
   "source": [
    "type(9)"
   ]
  },
  {
   "cell_type": "code",
   "execution_count": 8,
   "id": "6ea94465-b7ee-4110-9b62-f223b2b7ab48",
   "metadata": {},
   "outputs": [
    {
     "data": {
      "text/plain": [
       "float"
      ]
     },
     "execution_count": 8,
     "metadata": {},
     "output_type": "execute_result"
    }
   ],
   "source": [
    "type(9.2)"
   ]
  },
  {
   "cell_type": "code",
   "execution_count": 9,
   "id": "29211bbe-4edb-44c8-b979-cb00c3ede103",
   "metadata": {},
   "outputs": [
    {
     "data": {
      "text/plain": [
       "str"
      ]
     },
     "execution_count": 9,
     "metadata": {},
     "output_type": "execute_result"
    }
   ],
   "source": [
    "type(\"HELLO AI ERA\")"
   ]
  },
  {
   "cell_type": "markdown",
   "id": "f313c5e2-29b9-42bf-a8ea-6fae921eb78b",
   "metadata": {},
   "source": [
    "##### SyntaxError: Kod dizimiyle ilgili ne demek istedin, çalışan bir kod yok\n",
    "##### # ile Kodu görmezden gelir gibi düşünebiliriz"
   ]
  },
  {
   "cell_type": "markdown",
   "id": "d54ec8ab-7580-467c-ae67-937780fb0723",
   "metadata": {},
   "source": [
    "### STRINGLERE YAKINDAN BAKALIM"
   ]
  },
  {
   "cell_type": "code",
   "execution_count": 10,
   "id": "508d1500-878d-4f55-8942-cf3abaad206e",
   "metadata": {},
   "outputs": [
    {
     "data": {
      "text/plain": [
       "''"
      ]
     },
     "execution_count": 10,
     "metadata": {},
     "output_type": "execute_result"
    }
   ],
   "source": [
    "\"\""
   ]
  },
  {
   "cell_type": "code",
   "execution_count": 11,
   "id": "31db0967-6411-4331-9510-82203e2248b7",
   "metadata": {},
   "outputs": [
    {
     "data": {
      "text/plain": [
       "''"
      ]
     },
     "execution_count": 11,
     "metadata": {},
     "output_type": "execute_result"
    }
   ],
   "source": [
    "''"
   ]
  },
  {
   "cell_type": "code",
   "execution_count": 12,
   "id": "99b79f36-9f47-4281-9734-0b1b37f467e0",
   "metadata": {},
   "outputs": [
    {
     "data": {
      "text/plain": [
       "123"
      ]
     },
     "execution_count": 12,
     "metadata": {},
     "output_type": "execute_result"
    }
   ],
   "source": [
    "123"
   ]
  },
  {
   "cell_type": "code",
   "execution_count": 13,
   "id": "a5f3dc77-3079-4331-8107-3e6fb3df42ab",
   "metadata": {},
   "outputs": [
    {
     "data": {
      "text/plain": [
       "int"
      ]
     },
     "execution_count": 13,
     "metadata": {},
     "output_type": "execute_result"
    }
   ],
   "source": [
    "type(123)"
   ]
  },
  {
   "cell_type": "code",
   "execution_count": 14,
   "id": "75640c76-fab9-475a-9041-85eb92c56132",
   "metadata": {},
   "outputs": [
    {
     "data": {
      "text/plain": [
       "str"
      ]
     },
     "execution_count": 14,
     "metadata": {},
     "output_type": "execute_result"
    }
   ],
   "source": [
    "type(\"123\")"
   ]
  },
  {
   "cell_type": "code",
   "execution_count": 15,
   "id": "274fd9e1-99f4-4c12-a320-0e6548781fac",
   "metadata": {},
   "outputs": [
    {
     "data": {
      "text/plain": [
       "'ab'"
      ]
     },
     "execution_count": 15,
     "metadata": {},
     "output_type": "execute_result"
    }
   ],
   "source": [
    "\"a\" + \"b\""
   ]
  },
  {
   "cell_type": "code",
   "execution_count": 16,
   "id": "7e06c6da-2f0c-424d-bdf4-c240ab951dbc",
   "metadata": {},
   "outputs": [
    {
     "data": {
      "text/plain": [
       "'ab'"
      ]
     },
     "execution_count": 16,
     "metadata": {},
     "output_type": "execute_result"
    }
   ],
   "source": [
    "\"a\"  \"b\""
   ]
  },
  {
   "cell_type": "code",
   "execution_count": 17,
   "id": "29326262-579f-4e15-a259-524f5bca3038",
   "metadata": {},
   "outputs": [
    {
     "data": {
      "text/plain": [
       "'a b'"
      ]
     },
     "execution_count": 17,
     "metadata": {},
     "output_type": "execute_result"
    }
   ],
   "source": [
    "\"a\"  \" b\" # aralarında bir boşluk ile ifadeleri birleştirdim"
   ]
  },
  {
   "cell_type": "code",
   "execution_count": 18,
   "id": "138e068a-4ae0-4372-90ee-154eb7d245fd",
   "metadata": {},
   "outputs": [
    {
     "data": {
      "text/plain": [
       "'a-b'"
      ]
     },
     "execution_count": 18,
     "metadata": {},
     "output_type": "execute_result"
    }
   ],
   "source": [
    "\"a\" + \"-b\" # + ifadesi toplama değil birleştirme anlamındadır"
   ]
  },
  {
   "cell_type": "code",
   "execution_count": 19,
   "id": "124de567-f56f-4047-bc45-f8d84f98817d",
   "metadata": {},
   "outputs": [
    {
     "ename": "TypeError",
     "evalue": "unsupported operand type(s) for -: 'str' and 'str'",
     "output_type": "error",
     "traceback": [
      "\u001b[1;31m---------------------------------------------------------------------------\u001b[0m",
      "\u001b[1;31mTypeError\u001b[0m                                 Traceback (most recent call last)",
      "\u001b[1;32m~\\AppData\\Local\\Temp\\ipykernel_3340\\2046619882.py\u001b[0m in \u001b[0;36m<module>\u001b[1;34m\u001b[0m\n\u001b[1;32m----> 1\u001b[1;33m \u001b[1;34m\"a\"\u001b[0m \u001b[1;33m-\u001b[0m \u001b[1;34m\"b\"\u001b[0m\u001b[1;33m\u001b[0m\u001b[1;33m\u001b[0m\u001b[0m\n\u001b[0m",
      "\u001b[1;31mTypeError\u001b[0m: unsupported operand type(s) for -: 'str' and 'str'"
     ]
    }
   ],
   "source": [
    "\"a\" - \"b\""
   ]
  },
  {
   "cell_type": "markdown",
   "id": "34c39650-80d1-4331-9738-91ec57078b7c",
   "metadata": {},
   "source": [
    "##### TypeError: çıkarma işlemi nümerik ifadeler arasında olacağı için bu tip uygun değildir"
   ]
  },
  {
   "cell_type": "code",
   "execution_count": 20,
   "id": "2c4accd7-2b35-4355-af0c-0b250dcb1219",
   "metadata": {},
   "outputs": [
    {
     "data": {
      "text/plain": [
       "'aaa'"
      ]
     },
     "execution_count": 20,
     "metadata": {},
     "output_type": "execute_result"
    }
   ],
   "source": [
    "\"a\"*3"
   ]
  },
  {
   "cell_type": "code",
   "execution_count": 21,
   "id": "8f1d5c47-4de2-46ec-a1c1-c0428678773f",
   "metadata": {},
   "outputs": [
    {
     "ename": "TypeError",
     "evalue": "unsupported operand type(s) for /: 'str' and 'int'",
     "output_type": "error",
     "traceback": [
      "\u001b[1;31m---------------------------------------------------------------------------\u001b[0m",
      "\u001b[1;31mTypeError\u001b[0m                                 Traceback (most recent call last)",
      "\u001b[1;32m~\\AppData\\Local\\Temp\\ipykernel_3340\\2267856283.py\u001b[0m in \u001b[0;36m<module>\u001b[1;34m\u001b[0m\n\u001b[1;32m----> 1\u001b[1;33m \u001b[1;34m\"a\"\u001b[0m\u001b[1;33m/\u001b[0m\u001b[1;36m3\u001b[0m \u001b[1;31m# TypeError\u001b[0m\u001b[1;33m\u001b[0m\u001b[1;33m\u001b[0m\u001b[0m\n\u001b[0m",
      "\u001b[1;31mTypeError\u001b[0m: unsupported operand type(s) for /: 'str' and 'int'"
     ]
    }
   ],
   "source": [
    "\"a\"/3 # TypeError"
   ]
  },
  {
   "cell_type": "markdown",
   "id": "a1e94aa5-30c5-4623-b44c-98fdbdc5164a",
   "metadata": {},
   "source": [
    "### STRING METODLARI - len()"
   ]
  },
  {
   "cell_type": "code",
   "execution_count": 22,
   "id": "75b37294-6c71-4381-8d15-1154decc6527",
   "metadata": {},
   "outputs": [],
   "source": [
    "a = \"gelecegi_yazanlar\""
   ]
  },
  {
   "cell_type": "code",
   "execution_count": 23,
   "id": "75fbfab1-1b87-4a55-97b9-11a6fef7cf18",
   "metadata": {},
   "outputs": [],
   "source": [
    "mvk = \"gelecegi_yazanlar\""
   ]
  },
  {
   "cell_type": "code",
   "execution_count": 24,
   "id": "3284e1a6-235c-4f99-84d8-b4b5d0996d56",
   "metadata": {},
   "outputs": [
    {
     "data": {
      "text/plain": [
       "'gelecegi_yazanlar'"
      ]
     },
     "execution_count": 24,
     "metadata": {},
     "output_type": "execute_result"
    }
   ],
   "source": [
    "mvk"
   ]
  },
  {
   "cell_type": "code",
   "execution_count": 25,
   "id": "b87d7cb3-9b63-404a-958a-a4125710d4b9",
   "metadata": {},
   "outputs": [],
   "source": [
    "gel_yaz = \"gelecegi_yazanlar\""
   ]
  },
  {
   "cell_type": "code",
   "execution_count": 26,
   "id": "1978ac88-6e9d-4c61-8e23-0406caf99cde",
   "metadata": {},
   "outputs": [],
   "source": [
    "del mvk"
   ]
  },
  {
   "cell_type": "code",
   "execution_count": 27,
   "id": "143f9707-7caa-476e-b2b8-be5de012ed21",
   "metadata": {},
   "outputs": [
    {
     "ename": "NameError",
     "evalue": "name 'mvk' is not defined",
     "output_type": "error",
     "traceback": [
      "\u001b[1;31m---------------------------------------------------------------------------\u001b[0m",
      "\u001b[1;31mNameError\u001b[0m                                 Traceback (most recent call last)",
      "\u001b[1;32m~\\AppData\\Local\\Temp\\ipykernel_3340\\2876553924.py\u001b[0m in \u001b[0;36m<module>\u001b[1;34m\u001b[0m\n\u001b[1;32m----> 1\u001b[1;33m \u001b[0mmvk\u001b[0m\u001b[1;33m\u001b[0m\u001b[1;33m\u001b[0m\u001b[0m\n\u001b[0m",
      "\u001b[1;31mNameError\u001b[0m: name 'mvk' is not defined"
     ]
    }
   ],
   "source": [
    "mvk"
   ]
  },
  {
   "cell_type": "markdown",
   "id": "b2255196-2c1e-44c8-806a-dd60e3394fc0",
   "metadata": {},
   "source": [
    "##### Çıktı gelmedi, ama atama işlemi gerçekleşti, atama değeri değişti ama önceki atama variable explorer da kaldı\n",
    "\n",
    "##### del mvk # del yazarak önceki var gider"
   ]
  },
  {
   "cell_type": "markdown",
   "id": "401e9fcc-d664-46c2-9822-6a3a9b4bb8b2",
   "metadata": {},
   "source": [
    "##### a değeri için en son yazılan değer kabul edilir. Önceki değer silinir ve üstüne yeni değer otomatik atanır."
   ]
  },
  {
   "cell_type": "code",
   "execution_count": 28,
   "id": "feb73e22-5358-4030-831f-96628e882418",
   "metadata": {},
   "outputs": [],
   "source": [
    "a = 9\n",
    "b = 10"
   ]
  },
  {
   "cell_type": "code",
   "execution_count": 29,
   "id": "bb4508fd-d0c9-4fd0-ab38-0ff953cecfc8",
   "metadata": {},
   "outputs": [
    {
     "data": {
      "text/plain": [
       "90"
      ]
     },
     "execution_count": 29,
     "metadata": {},
     "output_type": "execute_result"
    }
   ],
   "source": [
    "a*b"
   ]
  },
  {
   "cell_type": "code",
   "execution_count": 30,
   "id": "ce90d952-e3d8-4ead-a0aa-5de56c7afc21",
   "metadata": {},
   "outputs": [
    {
     "data": {
      "text/plain": [
       "17"
      ]
     },
     "execution_count": 30,
     "metadata": {},
     "output_type": "execute_result"
    }
   ],
   "source": [
    "len(gel_yaz)"
   ]
  },
  {
   "cell_type": "markdown",
   "id": "a3a91d13-2104-45f4-baf2-b98c192a479a",
   "metadata": {},
   "source": [
    "##### len fonksiyonu verilmiş olan ifadenin boyutuna bakar"
   ]
  },
  {
   "cell_type": "code",
   "execution_count": 31,
   "id": "2577aab6-d518-4784-9dd9-0121ada6eb3b",
   "metadata": {},
   "outputs": [
    {
     "data": {
      "text/plain": [
       "17"
      ]
     },
     "execution_count": 31,
     "metadata": {},
     "output_type": "execute_result"
    }
   ],
   "source": [
    "len(\"gelecegi_yazanlar\")"
   ]
  },
  {
   "cell_type": "markdown",
   "id": "48b9197f-c574-4ba2-b9d4-acf913165b8a",
   "metadata": {},
   "source": [
    "### STRING METODLARI - upper() & lower()"
   ]
  },
  {
   "cell_type": "code",
   "execution_count": 32,
   "id": "8ad07374-67c0-4a39-b2d2-ff84f569454c",
   "metadata": {},
   "outputs": [],
   "source": [
    "gel_yaz = \"gelecegi_yazanlar\""
   ]
  },
  {
   "cell_type": "markdown",
   "id": "ca3da060-d84e-4d20-858c-d972aba26fd3",
   "metadata": {},
   "source": [
    "##### Kullanıcı girişli bir program yazdığınızda kullanıcının girdiği string ifadeleri standartlaştırır"
   ]
  },
  {
   "cell_type": "markdown",
   "id": "97c9e40d-634f-4ef5-bde8-8e3e2a034ea3",
   "metadata": {},
   "source": [
    "##### Veri analizinde değişken isimleri ve dosya isimlerinde küçük büyük harf problemi var."
   ]
  },
  {
   "cell_type": "code",
   "execution_count": 33,
   "id": "35924269-fe82-428a-87a5-8ba9a552defd",
   "metadata": {},
   "outputs": [
    {
     "data": {
      "text/plain": [
       "'GELECEGI_YAZANLAR'"
      ]
     },
     "execution_count": 33,
     "metadata": {},
     "output_type": "execute_result"
    }
   ],
   "source": [
    "gel_yaz.upper()"
   ]
  },
  {
   "cell_type": "code",
   "execution_count": 34,
   "id": "e8edbf64-0fe9-47f1-bf80-1d4f5c37d76f",
   "metadata": {},
   "outputs": [
    {
     "data": {
      "text/plain": [
       "'gelecegi_yazanlar'"
      ]
     },
     "execution_count": 34,
     "metadata": {},
     "output_type": "execute_result"
    }
   ],
   "source": [
    "gel_yaz.lower()"
   ]
  },
  {
   "cell_type": "code",
   "execution_count": 35,
   "id": "ced60f85-bf4b-4722-b961-ebf9f715d89b",
   "metadata": {},
   "outputs": [
    {
     "data": {
      "text/plain": [
       "True"
      ]
     },
     "execution_count": 35,
     "metadata": {},
     "output_type": "execute_result"
    }
   ],
   "source": [
    "# \"gelecegi_yazanlar\" ifadesi küçük harf mi?\n",
    "gel_yaz.islower()"
   ]
  },
  {
   "cell_type": "markdown",
   "id": "c791fa6c-30a6-4fca-b008-90c67fcae77b",
   "metadata": {},
   "source": [
    "##### Büyük harfli olmasını kalıcı hale getirmek için farklı bir değerle atama yap"
   ]
  },
  {
   "cell_type": "code",
   "execution_count": 36,
   "id": "1284e149-0f25-4c63-8c44-b930fdf38c0e",
   "metadata": {},
   "outputs": [],
   "source": [
    "B = gel_yaz.upper()"
   ]
  },
  {
   "cell_type": "code",
   "execution_count": 37,
   "id": "1362b93c-ba17-432d-ba9e-d274b0aeb5aa",
   "metadata": {},
   "outputs": [
    {
     "data": {
      "text/plain": [
       "False"
      ]
     },
     "execution_count": 37,
     "metadata": {},
     "output_type": "execute_result"
    }
   ],
   "source": [
    "B.islower()"
   ]
  },
  {
   "cell_type": "code",
   "execution_count": 38,
   "id": "c798e7cd-b52e-4e92-989d-6026b57451bd",
   "metadata": {},
   "outputs": [
    {
     "data": {
      "text/plain": [
       "True"
      ]
     },
     "execution_count": 38,
     "metadata": {},
     "output_type": "execute_result"
    }
   ],
   "source": [
    "B.isupper()"
   ]
  },
  {
   "cell_type": "markdown",
   "id": "e61ad87e-6318-44fc-9b0f-eec96f972a49",
   "metadata": {},
   "source": [
    "### STRING METODLARI - replace()"
   ]
  },
  {
   "cell_type": "code",
   "execution_count": 39,
   "id": "e79ac44d-f6be-476c-9533-c8546dc24c05",
   "metadata": {},
   "outputs": [],
   "source": [
    "gel_yaz = \"gelecegi_yazanlar\""
   ]
  },
  {
   "cell_type": "code",
   "execution_count": 40,
   "id": "fe8ad265-d889-4624-8adf-0e841ffe4634",
   "metadata": {},
   "outputs": [
    {
     "data": {
      "text/plain": [
       "'galacagi_yazanlar'"
      ]
     },
     "execution_count": 40,
     "metadata": {},
     "output_type": "execute_result"
    }
   ],
   "source": [
    "gel_yaz.replace(\"e\",\"a\")"
   ]
  },
  {
   "cell_type": "markdown",
   "id": "1a7c2de7-3caf-4c4a-aaec-a05ee4d54780",
   "metadata": {},
   "source": [
    "##### Replace foknsiyonu önce neyi değiştireceğini sonra ne ile değiştireceğini ifade eder"
   ]
  },
  {
   "cell_type": "code",
   "execution_count": 41,
   "id": "576eb151-c230-4536-8a36-a7db21501fd3",
   "metadata": {},
   "outputs": [
    {
     "data": {
      "text/plain": [
       "'gelecegi_yazanlar'"
      ]
     },
     "execution_count": 41,
     "metadata": {},
     "output_type": "execute_result"
    }
   ],
   "source": [
    "gel_yaz"
   ]
  },
  {
   "cell_type": "markdown",
   "id": "8c13fea5-81e0-45ee-aafc-b30f9d9dac1a",
   "metadata": {},
   "source": [
    "##### Bazı metodlar atama işlemi yapılmadığında nesnelerin orjinallerinde değişiklik yapmaz\n",
    "\n",
    "##### Bazı metodlar atama işlemi yapılmadığı halde dahi nesnelerde kalıcı değişiklik yapabilir"
   ]
  },
  {
   "cell_type": "code",
   "execution_count": 42,
   "id": "b264ec04-a851-41ce-b134-60056cf75204",
   "metadata": {},
   "outputs": [
    {
     "data": {
      "text/plain": [
       "'gelecegi_yizinlir'"
      ]
     },
     "execution_count": 42,
     "metadata": {},
     "output_type": "execute_result"
    }
   ],
   "source": [
    "gel_yaz.replace(\"a\", \"i\")"
   ]
  },
  {
   "cell_type": "code",
   "execution_count": 43,
   "id": "f88c43a6-d95c-4966-b1d3-7b41c4211d73",
   "metadata": {},
   "outputs": [
    {
     "data": {
      "text/plain": [
       "'gelecegi_yazanlar'"
      ]
     },
     "execution_count": 43,
     "metadata": {},
     "output_type": "execute_result"
    }
   ],
   "source": [
    "gel_yaz"
   ]
  },
  {
   "cell_type": "markdown",
   "id": "bcb2e62a-3375-4da6-ac51-05fa646b339f",
   "metadata": {},
   "source": [
    "### STRING METODLARI - strip()"
   ]
  },
  {
   "cell_type": "code",
   "execution_count": 44,
   "id": "14ee2923-3e0c-41af-96af-939c97fd2d0c",
   "metadata": {},
   "outputs": [],
   "source": [
    "gel_yaz = \" geleceği yazanlar \""
   ]
  },
  {
   "cell_type": "markdown",
   "id": "1d724b54-a8f0-4fbb-8ccc-3b65345c19a6",
   "metadata": {},
   "source": [
    "##### Boşluklardan kurtulmak için"
   ]
  },
  {
   "cell_type": "code",
   "execution_count": 45,
   "id": "b2f4750b-f380-4636-a0a5-c9dd57dd284f",
   "metadata": {},
   "outputs": [
    {
     "data": {
      "text/plain": [
       "'geleceği yazanlar'"
      ]
     },
     "execution_count": 45,
     "metadata": {},
     "output_type": "execute_result"
    }
   ],
   "source": [
    "gel_yaz.strip()"
   ]
  },
  {
   "cell_type": "markdown",
   "id": "9fc8cf93-b54a-4af2-8c0f-70c646327d83",
   "metadata": {},
   "source": [
    "##### ön tanımlı kırpma boşlukları alarak silme işlemi gerçekleştirir"
   ]
  },
  {
   "cell_type": "code",
   "execution_count": 46,
   "id": "bbba0a75-9dae-4db8-b281-f385fb53c0ec",
   "metadata": {},
   "outputs": [],
   "source": [
    "gel_yaz = \"*geleceği yazanlar*\""
   ]
  },
  {
   "cell_type": "markdown",
   "id": "5d5f5312-8dcf-41dd-8284-334a4bfea81f",
   "metadata": {},
   "source": [
    "##### ön tanımlı değeri * yaparak değiştir"
   ]
  },
  {
   "cell_type": "code",
   "execution_count": 47,
   "id": "396cdd03-9a79-492f-bf80-4deef3c93e3f",
   "metadata": {},
   "outputs": [
    {
     "data": {
      "text/plain": [
       "'geleceği yazanlar'"
      ]
     },
     "execution_count": 47,
     "metadata": {},
     "output_type": "execute_result"
    }
   ],
   "source": [
    "gel_yaz.strip(\"*\")"
   ]
  },
  {
   "cell_type": "code",
   "execution_count": 48,
   "id": "c3add277-ed93-4ce7-ac30-23364879d951",
   "metadata": {},
   "outputs": [
    {
     "data": {
      "text/plain": [
       "'geleceği yazanlar'"
      ]
     },
     "execution_count": 48,
     "metadata": {},
     "output_type": "execute_result"
    }
   ],
   "source": [
    "gel_yaz = \"lgeleceği yazanlarl\"\n",
    "gel_yaz.strip(\"l\")"
   ]
  },
  {
   "cell_type": "markdown",
   "id": "03b7d24f-397f-4c2e-b59c-4ec0aa38d5ae",
   "metadata": {},
   "source": [
    "### METODLARA GENEL BAKIS"
   ]
  },
  {
   "cell_type": "code",
   "execution_count": 49,
   "id": "3be5abac-43cb-4fd0-ae9c-5d8ac5cd5d58",
   "metadata": {},
   "outputs": [],
   "source": [
    "gel_yaz = \"gelecegi_yazanlar\""
   ]
  },
  {
   "cell_type": "code",
   "execution_count": 50,
   "id": "5894f8b0-28a3-4937-88c6-9ca8c571f8dd",
   "metadata": {},
   "outputs": [],
   "source": [
    "# dir(str)"
   ]
  },
  {
   "cell_type": "code",
   "execution_count": 51,
   "id": "2c31c813-0bbd-42ee-9ffc-8a9f1aa84b19",
   "metadata": {},
   "outputs": [
    {
     "data": {
      "text/plain": [
       "['__add__',\n",
       " '__class__',\n",
       " '__contains__',\n",
       " '__delattr__',\n",
       " '__dir__',\n",
       " '__doc__',\n",
       " '__eq__',\n",
       " '__format__',\n",
       " '__ge__',\n",
       " '__getattribute__',\n",
       " '__getitem__',\n",
       " '__getnewargs__',\n",
       " '__gt__',\n",
       " '__hash__',\n",
       " '__init__',\n",
       " '__init_subclass__',\n",
       " '__iter__',\n",
       " '__le__',\n",
       " '__len__',\n",
       " '__lt__',\n",
       " '__mod__',\n",
       " '__mul__',\n",
       " '__ne__',\n",
       " '__new__',\n",
       " '__reduce__',\n",
       " '__reduce_ex__',\n",
       " '__repr__',\n",
       " '__rmod__',\n",
       " '__rmul__',\n",
       " '__setattr__',\n",
       " '__sizeof__',\n",
       " '__str__',\n",
       " '__subclasshook__',\n",
       " 'capitalize',\n",
       " 'casefold',\n",
       " 'center',\n",
       " 'count',\n",
       " 'encode',\n",
       " 'endswith',\n",
       " 'expandtabs',\n",
       " 'find',\n",
       " 'format',\n",
       " 'format_map',\n",
       " 'index',\n",
       " 'isalnum',\n",
       " 'isalpha',\n",
       " 'isascii',\n",
       " 'isdecimal',\n",
       " 'isdigit',\n",
       " 'isidentifier',\n",
       " 'islower',\n",
       " 'isnumeric',\n",
       " 'isprintable',\n",
       " 'isspace',\n",
       " 'istitle',\n",
       " 'isupper',\n",
       " 'join',\n",
       " 'ljust',\n",
       " 'lower',\n",
       " 'lstrip',\n",
       " 'maketrans',\n",
       " 'partition',\n",
       " 'removeprefix',\n",
       " 'removesuffix',\n",
       " 'replace',\n",
       " 'rfind',\n",
       " 'rindex',\n",
       " 'rjust',\n",
       " 'rpartition',\n",
       " 'rsplit',\n",
       " 'rstrip',\n",
       " 'split',\n",
       " 'splitlines',\n",
       " 'startswith',\n",
       " 'strip',\n",
       " 'swapcase',\n",
       " 'title',\n",
       " 'translate',\n",
       " 'upper',\n",
       " 'zfill']"
      ]
     },
     "execution_count": 51,
     "metadata": {},
     "output_type": "execute_result"
    }
   ],
   "source": [
    "dir(gel_yaz)"
   ]
  },
  {
   "cell_type": "markdown",
   "id": "0c81a85f-92d2-4f39-bc96-01857242cd51",
   "metadata": {},
   "source": [
    "##### Elimizeki veri tipinin üzerine uygulanabilecek metodlara gitmektedir"
   ]
  },
  {
   "cell_type": "code",
   "execution_count": 52,
   "id": "f16407d4-58c2-4a1e-9dec-bf4b648ee65b",
   "metadata": {},
   "outputs": [
    {
     "data": {
      "text/plain": [
       "'Gelecegi_yazanlar'"
      ]
     },
     "execution_count": 52,
     "metadata": {},
     "output_type": "execute_result"
    }
   ],
   "source": [
    "gel_yaz.capitalize() # ilk harfi büyüt"
   ]
  },
  {
   "cell_type": "code",
   "execution_count": 53,
   "id": "9402236b-344b-437a-a291-bb0a58069b95",
   "metadata": {},
   "outputs": [
    {
     "data": {
      "text/plain": [
       "'Gelecegi_Yazanlar'"
      ]
     },
     "execution_count": 53,
     "metadata": {},
     "output_type": "execute_result"
    }
   ],
   "source": [
    "gel_yaz.title() # Bütün kelimelerin ilk harfini büyüt"
   ]
  },
  {
   "cell_type": "markdown",
   "id": "80778fd5-7569-4631-97c6-59657726db27",
   "metadata": {},
   "source": [
    "### SUBSTRINGLER"
   ]
  },
  {
   "cell_type": "code",
   "execution_count": 54,
   "id": "302f75fb-6afb-4d0d-a881-e5417f8e28d1",
   "metadata": {},
   "outputs": [],
   "source": [
    "gel_yaz = \"gelecegi_yazanlar\""
   ]
  },
  {
   "cell_type": "markdown",
   "id": "da914a06-c995-4236-ad19-473641ec2903",
   "metadata": {},
   "source": [
    "##### [] köşeli parantezde seçim işlemi yapılır, index lerden yararlanılır"
   ]
  },
  {
   "cell_type": "code",
   "execution_count": 55,
   "id": "367307aa-cd00-4379-9ff6-87d1dafc9d60",
   "metadata": {},
   "outputs": [
    {
     "data": {
      "text/plain": [
       "'g'"
      ]
     },
     "execution_count": 55,
     "metadata": {},
     "output_type": "execute_result"
    }
   ],
   "source": [
    "gel_yaz[0]"
   ]
  },
  {
   "cell_type": "code",
   "execution_count": 56,
   "id": "bca7341a-1185-4020-a052-bda84cde6178",
   "metadata": {},
   "outputs": [
    {
     "data": {
      "text/plain": [
       "'e'"
      ]
     },
     "execution_count": 56,
     "metadata": {},
     "output_type": "execute_result"
    }
   ],
   "source": [
    "gel_yaz[1]"
   ]
  },
  {
   "cell_type": "markdown",
   "id": "e3713612-9d03-4e10-9309-1a35d6165226",
   "metadata": {},
   "source": [
    "##### Sıfır her zaman başlangıç noktasıdır"
   ]
  },
  {
   "cell_type": "code",
   "execution_count": 57,
   "id": "4663628a-1132-4115-a1e2-deb23331f76e",
   "metadata": {},
   "outputs": [
    {
     "ename": "IndexError",
     "evalue": "string index out of range",
     "output_type": "error",
     "traceback": [
      "\u001b[1;31m---------------------------------------------------------------------------\u001b[0m",
      "\u001b[1;31mIndexError\u001b[0m                                Traceback (most recent call last)",
      "\u001b[1;32m~\\AppData\\Local\\Temp\\ipykernel_3340\\1030470572.py\u001b[0m in \u001b[0;36m<module>\u001b[1;34m\u001b[0m\n\u001b[1;32m----> 1\u001b[1;33m \u001b[0mgel_yaz\u001b[0m\u001b[1;33m[\u001b[0m\u001b[1;36m20\u001b[0m\u001b[1;33m]\u001b[0m\u001b[1;33m\u001b[0m\u001b[1;33m\u001b[0m\u001b[0m\n\u001b[0m",
      "\u001b[1;31mIndexError\u001b[0m: string index out of range"
     ]
    }
   ],
   "source": [
    "gel_yaz[20]"
   ]
  },
  {
   "cell_type": "markdown",
   "id": "48248ed7-987a-427d-af86-58635cbcf622",
   "metadata": {},
   "source": [
    "##### IndexError: Vermiş olduğunuz aralık bu stringin dışında kalıyor"
   ]
  },
  {
   "cell_type": "code",
   "execution_count": 58,
   "id": "758b2ef9-e50c-4a24-a11f-fee774468808",
   "metadata": {},
   "outputs": [
    {
     "data": {
      "text/plain": [
       "'gel'"
      ]
     },
     "execution_count": 58,
     "metadata": {},
     "output_type": "execute_result"
    }
   ],
   "source": [
    "gel_yaz[0:3]"
   ]
  },
  {
   "cell_type": "markdown",
   "id": "5f8204dc-e326-4321-90f7-25d3e05babab",
   "metadata": {},
   "source": [
    "##### [0:3] yazdık çünkü sol taraftaki index ifadesi dahil, sağ taraftaki hariç şeklinde yorumlanarak çalışıyor"
   ]
  },
  {
   "cell_type": "markdown",
   "id": "b4cd7fca-ae6f-4a9c-9e3c-8eddc73147c8",
   "metadata": {},
   "source": [
    "##### sağ taraf ... e'kadar demek"
   ]
  },
  {
   "cell_type": "code",
   "execution_count": 59,
   "id": "148b5b29-1889-48fb-96aa-3a2851783c59",
   "metadata": {},
   "outputs": [
    {
     "data": {
      "text/plain": [
       "'eceg'"
      ]
     },
     "execution_count": 59,
     "metadata": {},
     "output_type": "execute_result"
    }
   ],
   "source": [
    "gel_yaz[3:7] # 7 hariç"
   ]
  },
  {
   "cell_type": "markdown",
   "id": "7f411801-8c0c-41a5-9693-51a5bc109d23",
   "metadata": {},
   "source": [
    "##### \"gelecegi_yazanlar\" -> 'eceg' için 3'ten 7'e kadar, 7 dahil değildir"
   ]
  },
  {
   "cell_type": "markdown",
   "id": "2d32d13d-f8f0-450a-bb6f-175a85614e95",
   "metadata": {},
   "source": [
    "### DEGISKENLER"
   ]
  },
  {
   "cell_type": "markdown",
   "id": "2bbaeed4-4d9e-4765-a5e0-19909f0cf8ab",
   "metadata": {},
   "source": [
    "##### Bir değişken ile atama işleminde oluşana nesne denir."
   ]
  },
  {
   "cell_type": "code",
   "execution_count": 60,
   "id": "e2a26938-c566-44c5-8f4c-3da79c0c573c",
   "metadata": {},
   "outputs": [],
   "source": [
    "a = 9999\n",
    "b = \"ali_uazaya_git\""
   ]
  },
  {
   "cell_type": "code",
   "execution_count": 61,
   "id": "82ca0a4b-707d-4213-8309-7f995ff44184",
   "metadata": {},
   "outputs": [
    {
     "data": {
      "text/plain": [
       "59994"
      ]
     },
     "execution_count": 61,
     "metadata": {},
     "output_type": "execute_result"
    }
   ],
   "source": [
    "a*6"
   ]
  },
  {
   "cell_type": "code",
   "execution_count": 62,
   "id": "0ab8451c-b11e-42ea-9e67-4480e9d74f71",
   "metadata": {},
   "outputs": [],
   "source": [
    "c = a*2"
   ]
  },
  {
   "cell_type": "code",
   "execution_count": 63,
   "id": "fc722e3e-edff-40cd-86ae-110819e7c7f4",
   "metadata": {},
   "outputs": [
    {
     "data": {
      "text/plain": [
       "0.5"
      ]
     },
     "execution_count": 63,
     "metadata": {},
     "output_type": "execute_result"
    }
   ],
   "source": [
    "a/c"
   ]
  },
  {
   "cell_type": "code",
   "execution_count": 64,
   "id": "211e50a6-15aa-4026-a1c4-b331956385a4",
   "metadata": {},
   "outputs": [
    {
     "data": {
      "text/plain": [
       "199960002"
      ]
     },
     "execution_count": 64,
     "metadata": {},
     "output_type": "execute_result"
    }
   ],
   "source": [
    "a*c"
   ]
  },
  {
   "cell_type": "code",
   "execution_count": 65,
   "id": "9754551b-a26d-4ec6-a4ab-b65de7f3efa8",
   "metadata": {},
   "outputs": [
    {
     "data": {
      "text/plain": [
       "49995"
      ]
     },
     "execution_count": 65,
     "metadata": {},
     "output_type": "execute_result"
    }
   ],
   "source": [
    "a*5"
   ]
  },
  {
   "cell_type": "markdown",
   "id": "767bf664-1678-401f-8e6e-06436c76b62b",
   "metadata": {},
   "source": [
    "##### Fonksiyon isimlendirilmelerine dikkat edilir. Sayısal ifadelerin tipleri: "
   ]
  },
  {
   "cell_type": "code",
   "execution_count": 66,
   "id": "d19590f6-1f86-48eb-ae5e-8e93cd075de4",
   "metadata": {},
   "outputs": [
    {
     "data": {
      "text/plain": [
       "int"
      ]
     },
     "execution_count": 66,
     "metadata": {},
     "output_type": "execute_result"
    }
   ],
   "source": [
    "type(100)"
   ]
  },
  {
   "cell_type": "code",
   "execution_count": 67,
   "id": "81c11c91-54e5-4b5e-ac76-05dff4e10e75",
   "metadata": {},
   "outputs": [
    {
     "data": {
      "text/plain": [
       "float"
      ]
     },
     "execution_count": 67,
     "metadata": {},
     "output_type": "execute_result"
    }
   ],
   "source": [
    "type(100.2)"
   ]
  },
  {
   "cell_type": "code",
   "execution_count": 68,
   "id": "d0165029-bf54-4e76-a0c8-18925ae6cf77",
   "metadata": {},
   "outputs": [
    {
     "data": {
      "text/plain": [
       "complex"
      ]
     },
     "execution_count": 68,
     "metadata": {},
     "output_type": "execute_result"
    }
   ],
   "source": [
    "type(1+2j)"
   ]
  },
  {
   "cell_type": "code",
   "execution_count": 69,
   "id": "5d236599-cb81-4de5-b16a-00c7e6341a27",
   "metadata": {},
   "outputs": [],
   "source": [
    "a = 100.2"
   ]
  },
  {
   "cell_type": "markdown",
   "id": "08b304e1-47ba-4bdf-9c86-c5ab271cf889",
   "metadata": {},
   "source": [
    "##### Oluşturmuş olduğumuz fonksiyonlar, değişkenler vs birer nesnedir"
   ]
  },
  {
   "cell_type": "markdown",
   "id": "c8b28426-4663-4851-ac15-8f6a320cfd5b",
   "metadata": {},
   "source": [
    "### TYPE_DONUSUMLERI"
   ]
  },
  {
   "cell_type": "markdown",
   "id": "6b678994-ff8a-49c7-bb8f-26436c716d2a",
   "metadata": {},
   "source": [
    "##### Kullanıcı etkileşimli bir programlama yaparken fonksiyon ile kullanıcıya soru sorduk ve kullanıcı yanıt verdi."
   ]
  },
  {
   "cell_type": "markdown",
   "id": "155c1281-277d-4b9a-a5da-9d4a27e9b09a",
   "metadata": {},
   "source": [
    "##### - Kullanıcıların verdiği yanıtlar ön tanımlı karakter dizisi String olarak gelir"
   ]
  },
  {
   "cell_type": "markdown",
   "id": "a12c49de-e641-4b58-b06e-bac7fef5ddf4",
   "metadata": {},
   "source": [
    "##### - Kullanıcıdan aldığımız iki sayıyı çarpmak istediğimizde "
   ]
  },
  {
   "cell_type": "markdown",
   "id": "24d4c411-d5ed-452a-ab19-5e4d7ccb341c",
   "metadata": {},
   "source": [
    "##### input() : Kullanıcıdan bilgi almak için kullanılır"
   ]
  },
  {
   "cell_type": "code",
   "execution_count": 70,
   "id": "fe3cf15b-3df6-4231-aab0-1656ba2df56b",
   "metadata": {},
   "outputs": [
    {
     "name": "stdin",
     "output_type": "stream",
     "text": [
      " 2\n",
      " 5\n"
     ]
    }
   ],
   "source": [
    "toplama_bir = input()\n",
    "toplama_iki = input()"
   ]
  },
  {
   "cell_type": "code",
   "execution_count": 71,
   "id": "43bddc84-0cfc-4459-a31a-4e2106231858",
   "metadata": {},
   "outputs": [
    {
     "data": {
      "text/plain": [
       "str"
      ]
     },
     "execution_count": 71,
     "metadata": {},
     "output_type": "execute_result"
    }
   ],
   "source": [
    "type(toplama_bir)"
   ]
  },
  {
   "cell_type": "code",
   "execution_count": 72,
   "id": "ca99802f-a5e8-4d8b-bb7d-b1a03b82767d",
   "metadata": {},
   "outputs": [
    {
     "data": {
      "text/plain": [
       "'25'"
      ]
     },
     "execution_count": 72,
     "metadata": {},
     "output_type": "execute_result"
    }
   ],
   "source": [
    "toplama_bir + toplama_iki"
   ]
  },
  {
   "cell_type": "code",
   "execution_count": 73,
   "id": "e90fba3e-4280-4ef0-a5da-67c35b83b40f",
   "metadata": {},
   "outputs": [
    {
     "data": {
      "text/plain": [
       "7"
      ]
     },
     "execution_count": 73,
     "metadata": {},
     "output_type": "execute_result"
    }
   ],
   "source": [
    "int(toplama_bir) + int(toplama_iki)"
   ]
  },
  {
   "cell_type": "code",
   "execution_count": 74,
   "id": "f69c4d63-8394-4c62-afaa-d93ed9101dbd",
   "metadata": {},
   "outputs": [
    {
     "data": {
      "text/plain": [
       "11"
      ]
     },
     "execution_count": 74,
     "metadata": {},
     "output_type": "execute_result"
    }
   ],
   "source": [
    "int(11.0)"
   ]
  },
  {
   "cell_type": "code",
   "execution_count": 75,
   "id": "e452c514-e715-4ca2-8697-6f6339005df2",
   "metadata": {},
   "outputs": [
    {
     "data": {
      "text/plain": [
       "12.0"
      ]
     },
     "execution_count": 75,
     "metadata": {},
     "output_type": "execute_result"
    }
   ],
   "source": [
    "float(12)"
   ]
  },
  {
   "cell_type": "code",
   "execution_count": 76,
   "id": "2e6ee18f-fe35-497a-985e-799e06df5a78",
   "metadata": {},
   "outputs": [
    {
     "data": {
      "text/plain": [
       "'12'"
      ]
     },
     "execution_count": 76,
     "metadata": {},
     "output_type": "execute_result"
    }
   ],
   "source": [
    "str(12)"
   ]
  },
  {
   "cell_type": "code",
   "execution_count": 77,
   "id": "dbc1e6b5-1318-4b47-b2e7-7ffd5b8a180a",
   "metadata": {},
   "outputs": [
    {
     "data": {
      "text/plain": [
       "str"
      ]
     },
     "execution_count": 77,
     "metadata": {},
     "output_type": "execute_result"
    }
   ],
   "source": [
    "type(str(12))"
   ]
  },
  {
   "cell_type": "markdown",
   "id": "ed475b48-bbda-45d3-afb7-038ece19c8e6",
   "metadata": {},
   "source": [
    "### print()"
   ]
  },
  {
   "cell_type": "code",
   "execution_count": 78,
   "id": "d9d1f62a-0739-4e5c-8693-0ed1f4b10978",
   "metadata": {},
   "outputs": [
    {
     "name": "stdout",
     "output_type": "stream",
     "text": [
      "HELLO AI ERA\n"
     ]
    }
   ],
   "source": [
    "print(\"HELLO AI ERA\")"
   ]
  },
  {
   "cell_type": "code",
   "execution_count": 79,
   "id": "42905b4d-38be-4fb1-9cd7-aef10d8760c9",
   "metadata": {},
   "outputs": [
    {
     "name": "stdout",
     "output_type": "stream",
     "text": [
      "gelecegi yazanlar\n"
     ]
    }
   ],
   "source": [
    "print(\"gelecegi\",\"yazanlar\")"
   ]
  },
  {
   "cell_type": "markdown",
   "id": "fef9f8c8-d348-44b7-842d-1d3db662cd55",
   "metadata": {},
   "source": [
    "##### İki farklı string ifadelerin yazımı"
   ]
  },
  {
   "cell_type": "code",
   "execution_count": 80,
   "id": "3ba5baf4-b0ce-41d9-a9aa-80670c02e88c",
   "metadata": {},
   "outputs": [
    {
     "name": "stdout",
     "output_type": "stream",
     "text": [
      "gelecegi_yazanlar\n"
     ]
    }
   ],
   "source": [
    "print(\"gelecegi\",\"yazanlar\",sep = \"_\")"
   ]
  },
  {
   "cell_type": "markdown",
   "id": "251c37a4-d69a-44ca-9372-d79b6cfc7c62",
   "metadata": {},
   "source": [
    "##### ön tanım yerine sep argümanına değer verdik\n",
    "##### sep : Fonksiyonların genel amaçlarını biçimlendirmek için kullanılan alt görev belirticilere argüman denir."
   ]
  },
  {
   "cell_type": "code",
   "execution_count": 81,
   "id": "f0e62432-5d02-4b61-ba67-0fa3fa891e73",
   "metadata": {},
   "outputs": [
    {
     "name": "stdout",
     "output_type": "stream",
     "text": [
      "\n"
     ]
    }
   ],
   "source": [
    "print() "
   ]
  },
  {
   "cell_type": "markdown",
   "id": "5c03094b-4c17-4044-b96d-9be22b700d90",
   "metadata": {},
   "source": [
    "##### help kısmında arg gözükür. \n",
    "##### Preferences -> Help -> Editor tikini seç"
   ]
  },
  {
   "cell_type": "code",
   "execution_count": 82,
   "id": "ea73cc6b-f8d3-4dad-9f7d-531c870c4703",
   "metadata": {},
   "outputs": [
    {
     "ename": "TypeError",
     "evalue": "type() takes 1 or 3 arguments",
     "output_type": "error",
     "traceback": [
      "\u001b[1;31m---------------------------------------------------------------------------\u001b[0m",
      "\u001b[1;31mTypeError\u001b[0m                                 Traceback (most recent call last)",
      "\u001b[1;32m~\\AppData\\Local\\Temp\\ipykernel_3340\\2619444958.py\u001b[0m in \u001b[0;36m<module>\u001b[1;34m\u001b[0m\n\u001b[1;32m----> 1\u001b[1;33m \u001b[0mtype\u001b[0m\u001b[1;33m(\u001b[0m\u001b[1;33m)\u001b[0m\u001b[1;33m\u001b[0m\u001b[1;33m\u001b[0m\u001b[0m\n\u001b[0m",
      "\u001b[1;31mTypeError\u001b[0m: type() takes 1 or 3 arguments"
     ]
    }
   ],
   "source": [
    "type()"
   ]
  },
  {
   "cell_type": "code",
   "execution_count": 83,
   "id": "8e5846de-87f7-4c78-b0f5-c2871aa112e8",
   "metadata": {},
   "outputs": [
    {
     "data": {
      "text/plain": [
       "\u001b[1;31mDocstring:\u001b[0m\n",
       "print(value, ..., sep=' ', end='\\n', file=sys.stdout, flush=False)\n",
       "\n",
       "Prints the values to a stream, or to sys.stdout by default.\n",
       "Optional keyword arguments:\n",
       "file:  a file-like object (stream); defaults to the current sys.stdout.\n",
       "sep:   string inserted between values, default a space.\n",
       "end:   string appended after the last value, default a newline.\n",
       "flush: whether to forcibly flush the stream.\n",
       "\u001b[1;31mType:\u001b[0m      builtin_function_or_method\n"
      ]
     },
     "metadata": {},
     "output_type": "display_data"
    }
   ],
   "source": [
    "?print"
   ]
  },
  {
   "cell_type": "markdown",
   "id": "b96f8b59-6d38-4394-afae-8b8b9d7d1caf",
   "metadata": {},
   "source": [
    "## Python Programlama Alıştırmalar - 1"
   ]
  },
  {
   "cell_type": "markdown",
   "id": "05e06abf-08aa-4d41-9ee9-ee7ca4f4699f",
   "metadata": {},
   "source": [
    "##### Soru 1:\n",
    "#####  Kod bloğu içerisinde yapılan bir işlemin sonucunu ekrana bastırmak için hangi fonksiyon kullanılır?"
   ]
  },
  {
   "cell_type": "markdown",
   "id": "c315c4b3-cf5a-4e5d-8d80-c1367ab503ba",
   "metadata": {},
   "source": [
    "###### print()"
   ]
  },
  {
   "cell_type": "markdown",
   "id": "3de1cf16-fd44-40fa-b8aa-fe9873f54e85",
   "metadata": {},
   "source": [
    "##### Soru 2:\n",
    "##### Verilen kod parçasının çıktısı aşağıdakilerden hangisidir?"
   ]
  },
  {
   "cell_type": "code",
   "execution_count": 84,
   "id": "cf9c69af-6ab2-4f44-be67-7fac036798bc",
   "metadata": {},
   "outputs": [
    {
     "name": "stdout",
     "output_type": "stream",
     "text": [
      "uzaya**git\n"
     ]
    }
   ],
   "source": [
    "print(\"uzaya\", \"git\", sep = \"**\")"
   ]
  },
  {
   "cell_type": "markdown",
   "id": "268319d7-9f22-4f53-8e3a-b415a194624e",
   "metadata": {},
   "source": [
    "##### Soru 3:\n",
    "##### Aşağıdaki ifadelerden hangisi sayı (float ya da integer) değildir?"
   ]
  },
  {
   "cell_type": "code",
   "execution_count": 85,
   "id": "dde1cfb6-a986-4705-844d-7694ad2d5a36",
   "metadata": {},
   "outputs": [
    {
     "data": {
      "text/plain": [
       "str"
      ]
     },
     "execution_count": 85,
     "metadata": {},
     "output_type": "execute_result"
    }
   ],
   "source": [
    "type(\"9\")"
   ]
  },
  {
   "cell_type": "markdown",
   "id": "cd36b1ab-02c4-45e3-b651-9e9e5e1adfa6",
   "metadata": {},
   "source": [
    "##### Soru 4:\n",
    "##### type() fonksiyonu ne için kullanılmaktadır?"
   ]
  },
  {
   "cell_type": "markdown",
   "id": "fae6c959-14d0-4bfd-98a2-f04921134687",
   "metadata": {},
   "source": [
    "###### -Tip Sorgulamak"
   ]
  },
  {
   "cell_type": "markdown",
   "id": "4548e6f4-137f-4168-9104-e08c59217225",
   "metadata": {},
   "source": [
    " "
   ]
  },
  {
   "cell_type": "markdown",
   "id": "e6ca18c3-780d-4a9e-be3d-1fd3d6a67f1b",
   "metadata": {},
   "source": [
    "##### Soru 5:\n",
    "##### type(4)  kodunun çıktısı aşağıdakilerden hangisidir?"
   ]
  },
  {
   "cell_type": "code",
   "execution_count": 86,
   "id": "22ddc57e-4574-4d74-b7fd-7a7f99ec0545",
   "metadata": {},
   "outputs": [
    {
     "data": {
      "text/plain": [
       "int"
      ]
     },
     "execution_count": 86,
     "metadata": {},
     "output_type": "execute_result"
    }
   ],
   "source": [
    "type(4)"
   ]
  },
  {
   "cell_type": "markdown",
   "id": "a88348af-f764-4963-b334-ebf406ee3e2f",
   "metadata": {},
   "source": [
    "##### Soru 6:\n",
    "##### type(3.14) kodunun çıktısı aşağıdakilerden hangisidir?"
   ]
  },
  {
   "cell_type": "code",
   "execution_count": 87,
   "id": "2d96cb07-616c-40b3-a67b-4eefec1e5789",
   "metadata": {},
   "outputs": [
    {
     "data": {
      "text/plain": [
       "float"
      ]
     },
     "execution_count": 87,
     "metadata": {},
     "output_type": "execute_result"
    }
   ],
   "source": [
    "type(3.14)"
   ]
  },
  {
   "cell_type": "markdown",
   "id": "289bb442-b5ce-4f76-ba26-4d450773613d",
   "metadata": {},
   "source": [
    "##### Soru 7:\n",
    "##### \"a\" + \"b\" kodunun çıktısı aşağıdakilerden hangisidir?"
   ]
  },
  {
   "cell_type": "code",
   "execution_count": 88,
   "id": "03b71945-1ed8-42e9-b9ee-c227fc54f644",
   "metadata": {},
   "outputs": [
    {
     "data": {
      "text/plain": [
       "'ab'"
      ]
     },
     "execution_count": 88,
     "metadata": {},
     "output_type": "execute_result"
    }
   ],
   "source": [
    "\"a\" + \"b\""
   ]
  },
  {
   "cell_type": "markdown",
   "id": "f53fcbe2-3d3c-430e-a051-f2799eedd47f",
   "metadata": {},
   "source": [
    "##### Soru 8:\n",
    "##### \"9\" + \"1\" kodunun çıktısı aşağıdakilerden hangisidir?"
   ]
  },
  {
   "cell_type": "code",
   "execution_count": 89,
   "id": "7602fd26-50b1-47d9-8329-b56e7c867ab1",
   "metadata": {},
   "outputs": [
    {
     "data": {
      "text/plain": [
       "'91'"
      ]
     },
     "execution_count": 89,
     "metadata": {},
     "output_type": "execute_result"
    }
   ],
   "source": [
    "\"9\" + \"1\""
   ]
  },
  {
   "cell_type": "markdown",
   "id": "a3c093dd-ad17-4812-a976-c6d3c48cd15b",
   "metadata": {},
   "source": [
    "##### Soru 9:\n",
    "##### \"10\" + 2 kodunun çıktısı aşağıdakilerden hangisidir?"
   ]
  },
  {
   "cell_type": "code",
   "execution_count": 90,
   "id": "1c494d79-648a-4b0f-b679-fe98938d588f",
   "metadata": {},
   "outputs": [
    {
     "ename": "TypeError",
     "evalue": "can only concatenate str (not \"int\") to str",
     "output_type": "error",
     "traceback": [
      "\u001b[1;31m---------------------------------------------------------------------------\u001b[0m",
      "\u001b[1;31mTypeError\u001b[0m                                 Traceback (most recent call last)",
      "\u001b[1;32m~\\AppData\\Local\\Temp\\ipykernel_3340\\3868299715.py\u001b[0m in \u001b[0;36m<module>\u001b[1;34m\u001b[0m\n\u001b[1;32m----> 1\u001b[1;33m \u001b[1;34m\"10\"\u001b[0m \u001b[1;33m+\u001b[0m \u001b[1;36m2\u001b[0m\u001b[1;33m\u001b[0m\u001b[1;33m\u001b[0m\u001b[0m\n\u001b[0m",
      "\u001b[1;31mTypeError\u001b[0m: can only concatenate str (not \"int\") to str"
     ]
    }
   ],
   "source": [
    "\"10\" + 2"
   ]
  },
  {
   "cell_type": "markdown",
   "id": "a7fd2ee0-77c8-4f0f-bc8c-beccf849f014",
   "metadata": {},
   "source": [
    "###### -İşlem hata üretir"
   ]
  },
  {
   "cell_type": "markdown",
   "id": "f330e518-cfd5-41e3-9fc2-ee118caac3e4",
   "metadata": {},
   "source": [
    "##### Soru 10:\n",
    "##### Verilen örnek kodun çıktısı aşağıdakilerden hangisidir?"
   ]
  },
  {
   "cell_type": "code",
   "execution_count": 91,
   "id": "8a9dc607-dff9-46c4-b2e3-a3aea4855633",
   "metadata": {},
   "outputs": [],
   "source": [
    "a = 5\n",
    "b = 10\n",
    "c = a*b"
   ]
  },
  {
   "cell_type": "code",
   "execution_count": 92,
   "id": "94135b95-66a5-4285-9435-f832255a6e7f",
   "metadata": {},
   "outputs": [
    {
     "data": {
      "text/plain": [
       "50"
      ]
     },
     "execution_count": 92,
     "metadata": {},
     "output_type": "execute_result"
    }
   ],
   "source": [
    "c"
   ]
  },
  {
   "cell_type": "markdown",
   "id": "dc51b834-25a7-402d-b891-e46aedb8a7a8",
   "metadata": {},
   "source": [
    "## Python Programlama Alıştırmalar - 2"
   ]
  },
  {
   "cell_type": "markdown",
   "id": "edf57857-9c5a-4844-990f-92dbe4c9d7ec",
   "metadata": {},
   "source": [
    "##### Soru 1:\n",
    "##### Verilen örnek kodun çıktısı aşağıdakilerden hangisidir?"
   ]
  },
  {
   "cell_type": "code",
   "execution_count": 93,
   "id": "5a171ee4-80b9-4a49-9366-6312eac9bd19",
   "metadata": {},
   "outputs": [
    {
     "name": "stdout",
     "output_type": "stream",
     "text": [
      "16\n"
     ]
    }
   ],
   "source": [
    "degisken = 4\n",
    "print(degisken*degisken)"
   ]
  },
  {
   "cell_type": "markdown",
   "id": "e25b3385-205b-41c1-b9a6-fe3b7218ac0b",
   "metadata": {},
   "source": [
    "##### Soru 2:\n",
    "##### Verilen örnek kodun çıktısı aşağıdakilerden hangisidir?"
   ]
  },
  {
   "cell_type": "code",
   "execution_count": 94,
   "id": "ab97c5d2-1673-4e75-ad4c-01b72d93ee96",
   "metadata": {},
   "outputs": [],
   "source": [
    "sakla = 9 \n",
    "yeni_sakla = sakla*10"
   ]
  },
  {
   "cell_type": "markdown",
   "id": "9d4a04e9-76e3-4257-987e-1df7ddfcc95c",
   "metadata": {},
   "source": [
    "###### -kod çalışır çıktı üretmez"
   ]
  },
  {
   "cell_type": "markdown",
   "id": "61a0d617-4c58-45ac-b4b7-bdfa3e80948f",
   "metadata": {},
   "source": [
    "##### Soru 3:\n",
    "##### Verilen örnek kodun çıktısı aşağıdakilerden hangisidir?"
   ]
  },
  {
   "cell_type": "code",
   "execution_count": 95,
   "id": "6ef8b27e-44ee-4db9-828a-b4623d9148ec",
   "metadata": {},
   "outputs": [
    {
     "data": {
      "text/plain": [
       "str"
      ]
     },
     "execution_count": 95,
     "metadata": {},
     "output_type": "execute_result"
    }
   ],
   "source": [
    "ifade = \"selam\"\n",
    "type(ifade)"
   ]
  },
  {
   "cell_type": "markdown",
   "id": "0b75c4f4-3c1b-4b2b-bc41-19a303481a64",
   "metadata": {},
   "source": [
    "##### Soru 4:\n",
    "##### Aşağıdakilerden hangisi bir sayı (float ya da integer) değildir?"
   ]
  },
  {
   "cell_type": "code",
   "execution_count": 96,
   "id": "a5b23593-dcbb-4481-86a6-99b23b0d8f0f",
   "metadata": {},
   "outputs": [
    {
     "data": {
      "text/plain": [
       "str"
      ]
     },
     "execution_count": 96,
     "metadata": {},
     "output_type": "execute_result"
    }
   ],
   "source": [
    "type(\"3\")"
   ]
  },
  {
   "cell_type": "markdown",
   "id": "d691329d-545b-4d7a-b51d-5be48aa865e2",
   "metadata": {},
   "source": [
    "##### Soru 5:\n",
    "##### Verilen örnek kodun çıktısı aşağıdakilerden hangisidir?"
   ]
  },
  {
   "cell_type": "code",
   "execution_count": 97,
   "id": "cfec7c58-d88e-426d-a1d2-7bd8dcdaa8e2",
   "metadata": {},
   "outputs": [
    {
     "data": {
      "text/plain": [
       "'e'"
      ]
     },
     "execution_count": 97,
     "metadata": {},
     "output_type": "execute_result"
    }
   ],
   "source": [
    "ifade = \"gelecegi yaziyoruz\"\n",
    "ifade[1]"
   ]
  },
  {
   "cell_type": "markdown",
   "id": "e325a697-8ca7-4a75-a530-5b536f78ea14",
   "metadata": {},
   "source": [
    "##### Soru 6:\n",
    "##### Verilen örnek kodun çıktısı aşağıdakilerden hangisidir?"
   ]
  },
  {
   "cell_type": "code",
   "execution_count": 98,
   "id": "7d98601e-9a4a-42b3-9e7e-c24350731000",
   "metadata": {},
   "outputs": [
    {
     "data": {
      "text/plain": [
       "'ge'"
      ]
     },
     "execution_count": 98,
     "metadata": {},
     "output_type": "execute_result"
    }
   ],
   "source": [
    "ifade = \"gelecegi yaziyoruz\"\n",
    "ifade[0:2]"
   ]
  },
  {
   "cell_type": "markdown",
   "id": "90bc1728-54d7-4fb0-a357-ee72433710d3",
   "metadata": {},
   "source": [
    "##### Soru 7:\n",
    "##### Verilen örnek kodun çıktısı aşağıdakilerden hangisidir?"
   ]
  },
  {
   "cell_type": "code",
   "execution_count": 99,
   "id": "de510e2a-33ee-412a-8304-9d224bd15140",
   "metadata": {},
   "outputs": [
    {
     "data": {
      "text/plain": [
       "' uz'"
      ]
     },
     "execution_count": 99,
     "metadata": {},
     "output_type": "execute_result"
    }
   ],
   "source": [
    "a = \"bu uzun bir metindir\"\n",
    "a[2:5]"
   ]
  },
  {
   "cell_type": "markdown",
   "id": "8dd19c82-d781-49d9-a041-6a6875d0b46f",
   "metadata": {},
   "source": [
    "##### Soru 8:\n",
    "##### Verilen örnek kodun çıktısı aşağıdakilerden hangisidir?"
   ]
  },
  {
   "cell_type": "code",
   "execution_count": 100,
   "id": "6348c336-f5ff-4969-adb0-7e2d693ba533",
   "metadata": {},
   "outputs": [
    {
     "data": {
      "text/plain": [
       "'b'"
      ]
     },
     "execution_count": 100,
     "metadata": {},
     "output_type": "execute_result"
    }
   ],
   "source": [
    "a = \"bu uzun bir metindir\"\n",
    "a[8]"
   ]
  },
  {
   "cell_type": "markdown",
   "id": "04edd252-6aa1-4199-b46b-0110fbce2848",
   "metadata": {},
   "source": [
    "##### Sor \"9\" + 1  kodunun çıktısı aşağıdaki hatalardan hangisini üretir?"
   ]
  },
  {
   "cell_type": "code",
   "execution_count": 101,
   "id": "6b7fb1f3-ea5e-40f8-ae12-c0f2d8f7f89d",
   "metadata": {},
   "outputs": [
    {
     "ename": "TypeError",
     "evalue": "can only concatenate str (not \"int\") to str",
     "output_type": "error",
     "traceback": [
      "\u001b[1;31m---------------------------------------------------------------------------\u001b[0m",
      "\u001b[1;31mTypeError\u001b[0m                                 Traceback (most recent call last)",
      "\u001b[1;32m~\\AppData\\Local\\Temp\\ipykernel_3340\\1994075352.py\u001b[0m in \u001b[0;36m<module>\u001b[1;34m\u001b[0m\n\u001b[1;32m----> 1\u001b[1;33m \u001b[1;34m\"9\"\u001b[0m \u001b[1;33m+\u001b[0m \u001b[1;36m1\u001b[0m\u001b[1;33m\u001b[0m\u001b[1;33m\u001b[0m\u001b[0m\n\u001b[0m",
      "\u001b[1;31mTypeError\u001b[0m: can only concatenate str (not \"int\") to str"
     ]
    }
   ],
   "source": [
    "\"9\" + 1"
   ]
  },
  {
   "cell_type": "markdown",
   "id": "1fb5413a-7444-4ce9-9e69-c5f399161903",
   "metadata": {},
   "source": [
    "###### -TypeError"
   ]
  },
  {
   "cell_type": "markdown",
   "id": "09d5a1f0-47e9-4ecd-b43a-98da9a5b969b",
   "metadata": {},
   "source": [
    " "
   ]
  },
  {
   "cell_type": "markdown",
   "id": "b3337564-4727-4ff1-9d60-daeba2c3f943",
   "metadata": {},
   "source": [
    "##### Soru 10:\n",
    "##### Aşağıdakilerden hangisi bir karakter dizisinin eleman sayısını verir?"
   ]
  },
  {
   "cell_type": "markdown",
   "id": "75df561f-a897-483a-91f4-da558106da8d",
   "metadata": {},
   "source": [
    "###### -len()"
   ]
  },
  {
   "cell_type": "markdown",
   "id": "26867f33-380c-4e56-ad64-7087966e47f5",
   "metadata": {},
   "source": [
    "## Python Programlama Alıştırmalar - 3"
   ]
  },
  {
   "cell_type": "markdown",
   "id": "176b4295-0f72-4780-904b-1720109bbb86",
   "metadata": {},
   "source": [
    "##### Soru 1:\n",
    "##### Aşağıdakilerden hangisi bir karakter dizisinin tüm karakterlerini büyütmek için kullanılır?"
   ]
  },
  {
   "cell_type": "markdown",
   "id": "4debf971-a374-49b6-bf17-4f57481c4336",
   "metadata": {},
   "source": [
    "###### upper()"
   ]
  },
  {
   "cell_type": "markdown",
   "id": "2ff7326a-8d25-4e07-9e1a-2955b7c6368e",
   "metadata": {},
   "source": [
    "##### Soru 2:\n",
    "##### Bir karakter dizisi içerisinde yer alan karakterleri değiştirmek için aşağıdakilerden hangisi kullanılır?"
   ]
  },
  {
   "cell_type": "markdown",
   "id": "0e7f0b36-e6ac-4d57-abb3-c79e07db1bd6",
   "metadata": {},
   "source": [
    "###### replace()"
   ]
  },
  {
   "cell_type": "markdown",
   "id": "c85077c0-d543-4373-9f08-70fa3149bcdb",
   "metadata": {},
   "source": [
    "##### Soru 3:\n",
    "##### Verilen örnek kod parçasının çıktısı aşağıdakilerden hangisidir?"
   ]
  },
  {
   "cell_type": "code",
   "execution_count": 102,
   "id": "c860ede4-bd7d-4af7-8e3d-3aac00229a6a",
   "metadata": {},
   "outputs": [
    {
     "data": {
      "text/plain": [
       "'gelecek_geldı'"
      ]
     },
     "execution_count": 102,
     "metadata": {},
     "output_type": "execute_result"
    }
   ],
   "source": [
    "ifade = \"gelecek_geldi\"\n",
    "ifade.replace(\"i\", \"ı\")"
   ]
  },
  {
   "cell_type": "markdown",
   "id": "784d6d51-5ec8-4a46-9f2e-c79eb8ec5b03",
   "metadata": {},
   "source": [
    "##### Soru 4:\n",
    "##### Verilen örnek kod parçasının çıktısı aşağıdakilerden hangisidir?"
   ]
  },
  {
   "cell_type": "code",
   "execution_count": 103,
   "id": "6eb1f74b-0350-4b4f-9f17-a6ba138eb17a",
   "metadata": {},
   "outputs": [
    {
     "data": {
      "text/plain": [
       "'merhaba'"
      ]
     },
     "execution_count": 103,
     "metadata": {},
     "output_type": "execute_result"
    }
   ],
   "source": [
    "ifade = \"Merhaba!\"\n",
    "ifade = ifade.lower()\n",
    "ifade = ifade.replace(\"!\",\"\")\n",
    "ifade"
   ]
  },
  {
   "cell_type": "markdown",
   "id": "3540e858-fcff-4c10-a2ae-f2eda7028c54",
   "metadata": {},
   "source": [
    "##### Soru 5:\n",
    "##### Verilen örnek kod parçasının çıktısı aşağıdakilerden hangisidir?"
   ]
  },
  {
   "cell_type": "code",
   "execution_count": 104,
   "id": "a8a88092-bcc2-435e-92fb-0dc03ab9bf84",
   "metadata": {},
   "outputs": [
    {
     "data": {
      "text/plain": [
       "'Python'"
      ]
     },
     "execution_count": 104,
     "metadata": {},
     "output_type": "execute_result"
    }
   ],
   "source": [
    "\"_Python_\".strip(\"_\")"
   ]
  },
  {
   "cell_type": "markdown",
   "id": "33d43941-d53e-464a-b7e6-ff49269505ef",
   "metadata": {},
   "source": [
    "##### Soru 6:\n",
    "##### Karakter dizilerinde sağ ve soldan \"kırpma\" işlemi yapmak için aşağıdakilerden hangisi kullanılır?"
   ]
  },
  {
   "cell_type": "markdown",
   "id": "dfab8be4-5944-4321-9b55-fe0981f60f16",
   "metadata": {},
   "source": [
    "###### strip()"
   ]
  },
  {
   "cell_type": "markdown",
   "id": "519a7f20-405c-4f32-a3c7-53373e70ab81",
   "metadata": {},
   "source": [
    "##### Soru 7:\n",
    "##### Verilen örnek kod parçasının çıktısı aşağıdakilerden hangisidir?"
   ]
  },
  {
   "cell_type": "code",
   "execution_count": 105,
   "id": "da20597d-3483-4f97-a46e-9b203ef89092",
   "metadata": {},
   "outputs": [
    {
     "data": {
      "text/plain": [
       "'Merhaba! '"
      ]
     },
     "execution_count": 105,
     "metadata": {},
     "output_type": "execute_result"
    }
   ],
   "source": [
    "ifade = \"Merhaba! \"\n",
    "ifade.strip(\"\")"
   ]
  },
  {
   "cell_type": "markdown",
   "id": "45488d51-e86b-4e56-8bcb-77a31e470d29",
   "metadata": {},
   "source": [
    "##### Soru 8:\n",
    "##### Veri yapılarına ilişkin metodlara erişmek için aşağıdakilerden hangisi kullanılır?"
   ]
  },
  {
   "cell_type": "markdown",
   "id": "0d89a1f7-d653-4a22-ab84-dbcc0d573c72",
   "metadata": {},
   "source": [
    "###### dir()"
   ]
  },
  {
   "cell_type": "markdown",
   "id": "de40ef1c-00da-4f0d-9804-0f7327cf9ad5",
   "metadata": {},
   "source": [
    "##### Soru 9:\n",
    "##### Verilen örnek kod parçasının çıktısı aşağıdakilerden hangisidir?"
   ]
  },
  {
   "cell_type": "code",
   "execution_count": 106,
   "id": "8f1570a3-9475-46ef-b1f9-0c6c9f96e44c",
   "metadata": {},
   "outputs": [
    {
     "data": {
      "text/plain": [
       "'012340'"
      ]
     },
     "execution_count": 106,
     "metadata": {},
     "output_type": "execute_result"
    }
   ],
   "source": [
    "ifade = \"1012340\"\n",
    "ifade = ifade + \"1\"\n",
    "ifade.strip(\"1\")"
   ]
  },
  {
   "cell_type": "markdown",
   "id": "cfc91202-c395-4830-bba4-ca4382bd42d2",
   "metadata": {},
   "source": [
    "##### Soru 10:\n",
    "##### Aşağıdakilerden hangisi kullanıcıdan bilgi almak için kullanılır?"
   ]
  },
  {
   "cell_type": "markdown",
   "id": "605ce6a6-4d97-493a-9b12-d7caefb83def",
   "metadata": {},
   "source": [
    "###### input()"
   ]
  },
  {
   "cell_type": "markdown",
   "id": "4087e142-e6d2-4d72-94c2-82082641ede7",
   "metadata": {},
   "source": [
    " "
   ]
  },
  {
   "cell_type": "markdown",
   "id": "5c2c0c98-3b79-44ab-abe4-83730c782525",
   "metadata": {},
   "source": [
    "# VERI YAPILARI"
   ]
  },
  {
   "cell_type": "markdown",
   "id": "47c73800-5eef-4f20-8b1d-67ab6ba4af31",
   "metadata": {},
   "source": [
    "## Veri Yapıları - Listeler"
   ]
  },
  {
   "cell_type": "markdown",
   "id": "db15d4e2-d90d-433d-85fc-9ccc193c064c",
   "metadata": {},
   "source": [
    "###### -Değiştirilebilirdir.\n",
    "###### -Kapsayıcıdır (farklı tipte verileri tutabilir). -> string, int, list ifade olabilir\n",
    "###### -Sıralıdır."
   ]
  },
  {
   "cell_type": "code",
   "execution_count": 107,
   "id": "fb06c008-a5a6-4956-af0c-be4f9da7c16a",
   "metadata": {},
   "outputs": [
    {
     "data": {
      "text/plain": [
       "[]"
      ]
     },
     "execution_count": 107,
     "metadata": {},
     "output_type": "execute_result"
    }
   ],
   "source": [
    "[]"
   ]
  },
  {
   "cell_type": "code",
   "execution_count": 108,
   "id": "e0d50548-d06f-4c4f-94f5-ea4309900237",
   "metadata": {},
   "outputs": [
    {
     "data": {
      "text/plain": [
       "[]"
      ]
     },
     "execution_count": 108,
     "metadata": {},
     "output_type": "execute_result"
    }
   ],
   "source": [
    "list()"
   ]
  },
  {
   "cell_type": "code",
   "execution_count": 109,
   "id": "f0180f95-4221-4573-9a6d-ed3a16304d56",
   "metadata": {},
   "outputs": [],
   "source": [
    "notlar = [90,80,70,50]"
   ]
  },
  {
   "cell_type": "markdown",
   "id": "199911c0-2aec-4aee-a0f3-37b203c55629",
   "metadata": {},
   "source": [
    "###### -Nesnemizin tipi listedir\n",
    "###### -liste bir üst tiptir\n",
    "###### -bir veri yapısıdır (string, numeric: int,float olabilir)\n",
    "###### -sağ taraf nesnedir"
   ]
  },
  {
   "cell_type": "code",
   "execution_count": 110,
   "id": "231c4f34-2024-47ba-bafc-09b7af3436c7",
   "metadata": {},
   "outputs": [
    {
     "data": {
      "text/plain": [
       "list"
      ]
     },
     "execution_count": 110,
     "metadata": {},
     "output_type": "execute_result"
    }
   ],
   "source": [
    "type(notlar)"
   ]
  },
  {
   "cell_type": "markdown",
   "id": "a44c53e2-0ed9-46f3-8b86-a4c731e90729",
   "metadata": {},
   "source": [
    "###### Farklı değerlerde liste oluşturma: birbirinden farklı tipleri bulundurabilir"
   ]
  },
  {
   "cell_type": "code",
   "execution_count": 111,
   "id": "9d50d996-f738-4f71-a6ca-9e41ebd7735a",
   "metadata": {},
   "outputs": [],
   "source": [
    "liste = [\"a\",19.3,90]"
   ]
  },
  {
   "cell_type": "code",
   "execution_count": 112,
   "id": "3737ece0-1f30-4d1f-a8c1-74ed5bd057d7",
   "metadata": {},
   "outputs": [
    {
     "data": {
      "text/plain": [
       "['a', 19.3, 90]"
      ]
     },
     "execution_count": 112,
     "metadata": {},
     "output_type": "execute_result"
    }
   ],
   "source": [
    "liste"
   ]
  },
  {
   "cell_type": "code",
   "execution_count": 113,
   "id": "14f58b50-1756-44e1-92b5-222c056d532d",
   "metadata": {},
   "outputs": [],
   "source": [
    "list_genis = [\"a\",19.3,90, notlar]"
   ]
  },
  {
   "cell_type": "code",
   "execution_count": 114,
   "id": "0cf79d21-b105-4057-9a32-54cf80bf7e64",
   "metadata": {},
   "outputs": [
    {
     "data": {
      "text/plain": [
       "['a', 19.3, 90, [90, 80, 70, 50]]"
      ]
     },
     "execution_count": 114,
     "metadata": {},
     "output_type": "execute_result"
    }
   ],
   "source": [
    "list_genis"
   ]
  },
  {
   "cell_type": "code",
   "execution_count": 115,
   "id": "46900d11-1648-47ce-91e4-f24b89c82867",
   "metadata": {},
   "outputs": [
    {
     "data": {
      "text/plain": [
       "4"
      ]
     },
     "execution_count": 115,
     "metadata": {},
     "output_type": "execute_result"
    }
   ],
   "source": [
    "len(list_genis)"
   ]
  },
  {
   "cell_type": "markdown",
   "id": "787fa7e3-1ddc-4c95-b650-5728a0aff325",
   "metadata": {},
   "source": [
    "### Liste İçi Tip Sorgulama"
   ]
  },
  {
   "cell_type": "code",
   "execution_count": 116,
   "id": "cea1296d-698a-492b-bf7d-0a501f38261d",
   "metadata": {},
   "outputs": [
    {
     "data": {
      "text/plain": [
       "list"
      ]
     },
     "execution_count": 116,
     "metadata": {},
     "output_type": "execute_result"
    }
   ],
   "source": [
    "type(list_genis)"
   ]
  },
  {
   "cell_type": "code",
   "execution_count": 117,
   "id": "c00e4177-a7ba-4dc2-ae90-32690d7b25f0",
   "metadata": {},
   "outputs": [
    {
     "data": {
      "text/plain": [
       "'a'"
      ]
     },
     "execution_count": 117,
     "metadata": {},
     "output_type": "execute_result"
    }
   ],
   "source": [
    "list_genis[0]"
   ]
  },
  {
   "cell_type": "code",
   "execution_count": 118,
   "id": "804771cc-4604-4868-adbc-205c9449c4d8",
   "metadata": {},
   "outputs": [
    {
     "data": {
      "text/plain": [
       "19.3"
      ]
     },
     "execution_count": 118,
     "metadata": {},
     "output_type": "execute_result"
    }
   ],
   "source": [
    "list_genis[1]"
   ]
  },
  {
   "cell_type": "code",
   "execution_count": 119,
   "id": "0e9b715f-dbeb-4c35-abfa-ed462f994922",
   "metadata": {},
   "outputs": [
    {
     "data": {
      "text/plain": [
       "[90, 80, 70, 50]"
      ]
     },
     "execution_count": 119,
     "metadata": {},
     "output_type": "execute_result"
    }
   ],
   "source": [
    "list_genis[3]"
   ]
  },
  {
   "cell_type": "code",
   "execution_count": 120,
   "id": "a60521e5-230f-40ca-82ea-6699418d8e03",
   "metadata": {},
   "outputs": [
    {
     "data": {
      "text/plain": [
       "str"
      ]
     },
     "execution_count": 120,
     "metadata": {},
     "output_type": "execute_result"
    }
   ],
   "source": [
    "type(list_genis[0])"
   ]
  },
  {
   "cell_type": "code",
   "execution_count": 121,
   "id": "046349a7-96d8-4df9-be00-b00ea03cec4f",
   "metadata": {},
   "outputs": [
    {
     "data": {
      "text/plain": [
       "float"
      ]
     },
     "execution_count": 121,
     "metadata": {},
     "output_type": "execute_result"
    }
   ],
   "source": [
    "type(list_genis[1])"
   ]
  },
  {
   "cell_type": "code",
   "execution_count": 122,
   "id": "9f2fb87f-84e9-4204-8191-b0e8d04c4257",
   "metadata": {},
   "outputs": [
    {
     "data": {
      "text/plain": [
       "list"
      ]
     },
     "execution_count": 122,
     "metadata": {},
     "output_type": "execute_result"
    }
   ],
   "source": [
    "type(list_genis[3])"
   ]
  },
  {
   "cell_type": "code",
   "execution_count": 123,
   "id": "a3abc2cf-595c-4cd0-a300-680818e70b23",
   "metadata": {},
   "outputs": [],
   "source": [
    "tum_liste = [liste, list_genis]"
   ]
  },
  {
   "cell_type": "code",
   "execution_count": 124,
   "id": "7d8271d5-c890-4d13-b654-5a21ff573a76",
   "metadata": {},
   "outputs": [
    {
     "data": {
      "text/plain": [
       "[['a', 19.3, 90], ['a', 19.3, 90, [90, 80, 70, 50]]]"
      ]
     },
     "execution_count": 124,
     "metadata": {},
     "output_type": "execute_result"
    }
   ],
   "source": [
    "tum_liste"
   ]
  },
  {
   "cell_type": "code",
   "execution_count": 125,
   "id": "2f3be640-4832-49e1-8f2d-3eb45d297325",
   "metadata": {},
   "outputs": [],
   "source": [
    "del tum_liste"
   ]
  },
  {
   "cell_type": "markdown",
   "id": "4edf3bc5-14f1-4b8e-b9a1-ba2c81e313f8",
   "metadata": {},
   "source": [
    "###### tum_liste silindi"
   ]
  },
  {
   "cell_type": "markdown",
   "id": "2b68b288-31ab-460e-9554-9f33887eb525",
   "metadata": {},
   "source": [
    "### Listeler - Eleman Islemleri"
   ]
  },
  {
   "cell_type": "code",
   "execution_count": 126,
   "id": "22853b20-fe3b-4fc3-b487-358013846620",
   "metadata": {},
   "outputs": [],
   "source": [
    "liste = [10,20,30,40,50]"
   ]
  },
  {
   "cell_type": "code",
   "execution_count": 127,
   "id": "790481e8-e471-46a5-9f1f-ee3a85aab235",
   "metadata": {},
   "outputs": [
    {
     "data": {
      "text/plain": [
       "10"
      ]
     },
     "execution_count": 127,
     "metadata": {},
     "output_type": "execute_result"
    }
   ],
   "source": [
    "liste[0]"
   ]
  },
  {
   "cell_type": "code",
   "execution_count": 128,
   "id": "b1918fcf-06ae-4598-a317-737d6ad3f1b6",
   "metadata": {},
   "outputs": [
    {
     "data": {
      "text/plain": [
       "20"
      ]
     },
     "execution_count": 128,
     "metadata": {},
     "output_type": "execute_result"
    }
   ],
   "source": [
    "liste[1]"
   ]
  },
  {
   "cell_type": "code",
   "execution_count": 129,
   "id": "7dcc43e9-a150-4b65-b962-f0d43d30e8fe",
   "metadata": {},
   "outputs": [
    {
     "ename": "IndexError",
     "evalue": "list index out of range",
     "output_type": "error",
     "traceback": [
      "\u001b[1;31m---------------------------------------------------------------------------\u001b[0m",
      "\u001b[1;31mIndexError\u001b[0m                                Traceback (most recent call last)",
      "\u001b[1;32m~\\AppData\\Local\\Temp\\ipykernel_3340\\3274436220.py\u001b[0m in \u001b[0;36m<module>\u001b[1;34m\u001b[0m\n\u001b[1;32m----> 1\u001b[1;33m \u001b[0mliste\u001b[0m\u001b[1;33m[\u001b[0m\u001b[1;36m6\u001b[0m\u001b[1;33m]\u001b[0m\u001b[1;33m\u001b[0m\u001b[1;33m\u001b[0m\u001b[0m\n\u001b[0m\u001b[0;32m      2\u001b[0m \u001b[1;31m# IndexError\u001b[0m\u001b[1;33m\u001b[0m\u001b[1;33m\u001b[0m\u001b[0m\n",
      "\u001b[1;31mIndexError\u001b[0m: list index out of range"
     ]
    }
   ],
   "source": [
    "liste[6]\n",
    "# IndexError"
   ]
  },
  {
   "cell_type": "code",
   "execution_count": 130,
   "id": "2427d5e9-81cc-4982-92df-42722d76940b",
   "metadata": {},
   "outputs": [
    {
     "data": {
      "text/plain": [
       "[10, 20]"
      ]
     },
     "execution_count": 130,
     "metadata": {},
     "output_type": "execute_result"
    }
   ],
   "source": [
    "liste[0:2]\n",
    "# 0'dan 2 ye kadar [10, 20]"
   ]
  },
  {
   "cell_type": "code",
   "execution_count": 131,
   "id": "4d99372c-c079-45b1-af65-d6bb65eb6952",
   "metadata": {},
   "outputs": [
    {
     "data": {
      "text/plain": [
       "[10, 20]"
      ]
     },
     "execution_count": 131,
     "metadata": {},
     "output_type": "execute_result"
    }
   ],
   "source": [
    "liste[:2]\n",
    "# ilk indexten 2'ye kadar"
   ]
  },
  {
   "cell_type": "code",
   "execution_count": 132,
   "id": "3e695352-281d-468a-9376-4dc2ecc44944",
   "metadata": {},
   "outputs": [
    {
     "data": {
      "text/plain": [
       "[30, 40, 50]"
      ]
     },
     "execution_count": 132,
     "metadata": {},
     "output_type": "execute_result"
    }
   ],
   "source": [
    "liste[2:]\n",
    "# 2'den sona kadar"
   ]
  },
  {
   "cell_type": "markdown",
   "id": "cfd29c96-49b7-494e-bfcf-b38bcfc63f33",
   "metadata": {},
   "source": [
    "###### Birbirinden farklı tipte değerleri barındıran liste:"
   ]
  },
  {
   "cell_type": "code",
   "execution_count": 133,
   "id": "e5c7002e-a416-410b-8848-2942ff2dbd33",
   "metadata": {},
   "outputs": [
    {
     "data": {
      "text/plain": [
       "['a', 10, [20, 30, 40, 50]]"
      ]
     },
     "execution_count": 133,
     "metadata": {},
     "output_type": "execute_result"
    }
   ],
   "source": [
    "yeni_liste = [\"a\",10,[20,30,40,50]]\n",
    "yeni_liste"
   ]
  },
  {
   "cell_type": "code",
   "execution_count": 134,
   "id": "1dcfb891-276e-45e7-948c-64896bbb6afd",
   "metadata": {},
   "outputs": [
    {
     "ename": "IndexError",
     "evalue": "list index out of range",
     "output_type": "error",
     "traceback": [
      "\u001b[1;31m---------------------------------------------------------------------------\u001b[0m",
      "\u001b[1;31mIndexError\u001b[0m                                Traceback (most recent call last)",
      "\u001b[1;32m~\\AppData\\Local\\Temp\\ipykernel_3340\\861551144.py\u001b[0m in \u001b[0;36m<module>\u001b[1;34m\u001b[0m\n\u001b[1;32m----> 1\u001b[1;33m \u001b[0myeni_liste\u001b[0m\u001b[1;33m[\u001b[0m\u001b[1;36m3\u001b[0m\u001b[1;33m]\u001b[0m\u001b[1;33m\u001b[0m\u001b[1;33m\u001b[0m\u001b[0m\n\u001b[0m\u001b[0;32m      2\u001b[0m \u001b[1;31m# IndexError\u001b[0m\u001b[1;33m\u001b[0m\u001b[1;33m\u001b[0m\u001b[0m\n",
      "\u001b[1;31mIndexError\u001b[0m: list index out of range"
     ]
    }
   ],
   "source": [
    "yeni_liste[3]\n",
    "# IndexError"
   ]
  },
  {
   "cell_type": "code",
   "execution_count": 135,
   "id": "c169e9ce-9146-46d9-842d-5bb7e2c2bdc6",
   "metadata": {},
   "outputs": [
    {
     "data": {
      "text/plain": [
       "[20, 30, 40, 50]"
      ]
     },
     "execution_count": 135,
     "metadata": {},
     "output_type": "execute_result"
    }
   ],
   "source": [
    "yeni_liste[2]"
   ]
  },
  {
   "cell_type": "code",
   "execution_count": 136,
   "id": "80a811f4-237d-4ded-afb0-96b19059d1f2",
   "metadata": {},
   "outputs": [
    {
     "data": {
      "text/plain": [
       "['a', 10]"
      ]
     },
     "execution_count": 136,
     "metadata": {},
     "output_type": "execute_result"
    }
   ],
   "source": [
    "yeni_liste[0:2]"
   ]
  },
  {
   "cell_type": "code",
   "execution_count": 137,
   "id": "3fe7bc99-d057-4fcc-834e-a30ee8dbb365",
   "metadata": {},
   "outputs": [
    {
     "data": {
      "text/plain": [
       "30"
      ]
     },
     "execution_count": 137,
     "metadata": {},
     "output_type": "execute_result"
    }
   ],
   "source": [
    "#listenin içindeki listenin elemanına erişme\n",
    "yeni_liste[2][1]"
   ]
  },
  {
   "cell_type": "markdown",
   "id": "ad383575-f797-4656-9bfc-1f3b960bf8a6",
   "metadata": {},
   "source": [
    "### Listeler - Eleman Ekleme & Degistirme & Silme"
   ]
  },
  {
   "cell_type": "markdown",
   "id": "37a180a6-0af3-4151-9032-aaaeabc0df6a",
   "metadata": {},
   "source": [
    "#### Listeler - Eleman Degistirme"
   ]
  },
  {
   "cell_type": "code",
   "execution_count": 138,
   "id": "ec980ae2-9842-4eff-8b9c-07bcb9da6e4f",
   "metadata": {},
   "outputs": [
    {
     "data": {
      "text/plain": [
       "['ali', 'veli', 'berkcan', 'ayse']"
      ]
     },
     "execution_count": 138,
     "metadata": {},
     "output_type": "execute_result"
    }
   ],
   "source": [
    "liste = [\"ali\",\"veli\",\"berkcan\",\"ayse\"]\n",
    "liste"
   ]
  },
  {
   "cell_type": "code",
   "execution_count": 139,
   "id": "bf1a8a5c-27a8-4e0c-8d74-d2f5ff19abbf",
   "metadata": {},
   "outputs": [
    {
     "data": {
      "text/plain": [
       "'veli'"
      ]
     },
     "execution_count": 139,
     "metadata": {},
     "output_type": "execute_result"
    }
   ],
   "source": [
    "liste[1]"
   ]
  },
  {
   "cell_type": "code",
   "execution_count": 140,
   "id": "08196a0b-4906-4de7-a19f-c61135a19a59",
   "metadata": {},
   "outputs": [],
   "source": [
    "liste[1] = \"velinin_babasi\""
   ]
  },
  {
   "cell_type": "code",
   "execution_count": 141,
   "id": "a6853d79-419d-4791-b75a-41aaec2e4bcc",
   "metadata": {},
   "outputs": [
    {
     "data": {
      "text/plain": [
       "['ali', 'velinin_babasi', 'berkcan', 'ayse']"
      ]
     },
     "execution_count": 141,
     "metadata": {},
     "output_type": "execute_result"
    }
   ],
   "source": [
    "liste"
   ]
  },
  {
   "cell_type": "code",
   "execution_count": 142,
   "id": "9daacd84-a0b4-4aee-838c-132449d2baa8",
   "metadata": {},
   "outputs": [],
   "source": [
    "liste[1] = \"veli\""
   ]
  },
  {
   "cell_type": "code",
   "execution_count": 143,
   "id": "016794ab-e759-42c0-b9e6-0277f92f3da1",
   "metadata": {},
   "outputs": [
    {
     "data": {
      "text/plain": [
       "['ali', 'veli', 'berkcan', 'ayse']"
      ]
     },
     "execution_count": 143,
     "metadata": {},
     "output_type": "execute_result"
    }
   ],
   "source": [
    "liste"
   ]
  },
  {
   "cell_type": "code",
   "execution_count": 144,
   "id": "cda73224-e6a7-46e2-bb21-a0966cb229cf",
   "metadata": {},
   "outputs": [
    {
     "data": {
      "text/plain": [
       "['ali', 'veli', 'berkcan']"
      ]
     },
     "execution_count": 144,
     "metadata": {},
     "output_type": "execute_result"
    }
   ],
   "source": [
    "liste[0:3]"
   ]
  },
  {
   "cell_type": "code",
   "execution_count": 145,
   "id": "5398eddb-763a-4409-a8e2-2f1d3feb54fd",
   "metadata": {},
   "outputs": [],
   "source": [
    "liste[0:3] = \"alinin_babasi\",\"velinin_babasi\",\"berkcanin_babasi\""
   ]
  },
  {
   "cell_type": "code",
   "execution_count": 146,
   "id": "edd6b398-7252-4e8a-8e96-78d2d2fb5dba",
   "metadata": {},
   "outputs": [
    {
     "data": {
      "text/plain": [
       "['alinin_babasi', 'velinin_babasi', 'berkcanin_babasi', 'ayse']"
      ]
     },
     "execution_count": 146,
     "metadata": {},
     "output_type": "execute_result"
    }
   ],
   "source": [
    "liste"
   ]
  },
  {
   "cell_type": "markdown",
   "id": "bf28aef0-d632-410f-8f87-bdc3fbcb199a",
   "metadata": {},
   "source": [
    "###### Yeniden eski listeye dönelim"
   ]
  },
  {
   "cell_type": "code",
   "execution_count": 147,
   "id": "bd592d99-d376-4d9f-b957-848f1b08eb6f",
   "metadata": {},
   "outputs": [],
   "source": [
    "liste = [\"ali\",\"veli\",\"berkcan\",\"ayse\"]"
   ]
  },
  {
   "cell_type": "code",
   "execution_count": 148,
   "id": "47671a31-92e1-4e5f-82aa-46d329ad2c47",
   "metadata": {},
   "outputs": [
    {
     "data": {
      "text/plain": [
       "['ali', 'veli', 'berkcan', 'ayse']"
      ]
     },
     "execution_count": 148,
     "metadata": {},
     "output_type": "execute_result"
    }
   ],
   "source": [
    "liste"
   ]
  },
  {
   "cell_type": "markdown",
   "id": "3ff88b4c-cf0f-416a-b1ae-0b0d234b91af",
   "metadata": {},
   "source": [
    "#### listeye eleman ekleme"
   ]
  },
  {
   "cell_type": "code",
   "execution_count": 149,
   "id": "e24294a8-7acc-4d6f-8be0-dc7a2c3736cd",
   "metadata": {},
   "outputs": [
    {
     "data": {
      "text/plain": [
       "['ali', 'veli', 'berkcan', 'ayse', 'kemal']"
      ]
     },
     "execution_count": 149,
     "metadata": {},
     "output_type": "execute_result"
    }
   ],
   "source": [
    "liste + [\"kemal\"]"
   ]
  },
  {
   "cell_type": "markdown",
   "id": "fdccabb7-d710-4288-93e2-4c53b3e58c1f",
   "metadata": {},
   "source": [
    "###### 'kemal' listeye eklendi ama kalıcı olarak değil"
   ]
  },
  {
   "cell_type": "code",
   "execution_count": 150,
   "id": "aa541f9c-0888-4f90-a06c-43d7df0257e3",
   "metadata": {},
   "outputs": [
    {
     "data": {
      "text/plain": [
       "['ali', 'veli', 'berkcan', 'ayse']"
      ]
     },
     "execution_count": 150,
     "metadata": {},
     "output_type": "execute_result"
    }
   ],
   "source": [
    "liste"
   ]
  },
  {
   "cell_type": "code",
   "execution_count": 151,
   "id": "29740b9b-b3fc-4153-acff-a41159227277",
   "metadata": {},
   "outputs": [],
   "source": [
    "liste = liste +[\"kemal\"]"
   ]
  },
  {
   "cell_type": "code",
   "execution_count": 152,
   "id": "c6df546d-7a29-4d5d-8be7-0334012a5e34",
   "metadata": {},
   "outputs": [
    {
     "data": {
      "text/plain": [
       "['ali', 'veli', 'berkcan', 'ayse', 'kemal']"
      ]
     },
     "execution_count": 152,
     "metadata": {},
     "output_type": "execute_result"
    }
   ],
   "source": [
    "liste"
   ]
  },
  {
   "cell_type": "markdown",
   "id": "a08f02b0-f7ac-4fcf-9994-b96c4794f186",
   "metadata": {},
   "source": [
    "#### listeden eleman silme"
   ]
  },
  {
   "cell_type": "code",
   "execution_count": 153,
   "id": "f5fbd948-4ccd-4cb4-bfe6-b206854b8e49",
   "metadata": {},
   "outputs": [
    {
     "data": {
      "text/plain": [
       "'berkcan'"
      ]
     },
     "execution_count": 153,
     "metadata": {},
     "output_type": "execute_result"
    }
   ],
   "source": [
    "liste[2]"
   ]
  },
  {
   "cell_type": "code",
   "execution_count": 154,
   "id": "cec6a8bc-ef60-404a-85cd-20967f278aec",
   "metadata": {},
   "outputs": [],
   "source": [
    "del liste[2] # seçilen indexteki değeri sil"
   ]
  },
  {
   "cell_type": "code",
   "execution_count": 155,
   "id": "9c96ec6a-e2c0-4e37-9e64-98984337950e",
   "metadata": {},
   "outputs": [
    {
     "data": {
      "text/plain": [
       "['ali', 'veli', 'ayse', 'kemal']"
      ]
     },
     "execution_count": 155,
     "metadata": {},
     "output_type": "execute_result"
    }
   ],
   "source": [
    "liste"
   ]
  },
  {
   "cell_type": "markdown",
   "id": "f958114d-321c-4175-b65e-d3fafd5e0961",
   "metadata": {},
   "source": [
    "## Metodlar ile Eleman Ekleme & Silme: append & remove"
   ]
  },
  {
   "cell_type": "markdown",
   "id": "fd75c630-9a05-441e-830a-a420039fafcc",
   "metadata": {},
   "source": [
    "### Listeler - Liste Metodları"
   ]
  },
  {
   "cell_type": "code",
   "execution_count": 156,
   "id": "0609aab7-cb23-4331-872d-f975b636fb60",
   "metadata": {},
   "outputs": [],
   "source": [
    "liste = [\"ali\",\"veli\",\"isik\"]"
   ]
  },
  {
   "cell_type": "code",
   "execution_count": 157,
   "id": "57229f2b-00d2-4555-9bcd-eff56786df84",
   "metadata": {},
   "outputs": [],
   "source": [
    "#dir(liste)"
   ]
  },
  {
   "cell_type": "code",
   "execution_count": 158,
   "id": "b183a3f0-19f2-4e30-9220-60e3985f0e6e",
   "metadata": {},
   "outputs": [
    {
     "data": {
      "text/plain": [
       "['ali', 'veli', 'isik']"
      ]
     },
     "execution_count": 158,
     "metadata": {},
     "output_type": "execute_result"
    }
   ],
   "source": [
    "liste"
   ]
  },
  {
   "cell_type": "markdown",
   "id": "e6e32170-35f0-4207-85ad-ad0720893771",
   "metadata": {},
   "source": [
    "###### Liste değiştirilebilir olduğu için append ile listenin sonuna ekleme yapılır. Yeniden atama işlemi yapmadan kalıcı değişiklik yaptık."
   ]
  },
  {
   "cell_type": "markdown",
   "id": "27079f8b-cf17-4d57-a78c-d25116e48504",
   "metadata": {},
   "source": [
    "#### append"
   ]
  },
  {
   "cell_type": "code",
   "execution_count": 159,
   "id": "19d32904-88d0-48c3-9a11-281e3d06164b",
   "metadata": {},
   "outputs": [
    {
     "data": {
      "text/plain": [
       "['ali', 'veli', 'isik', 'berkcan']"
      ]
     },
     "execution_count": 159,
     "metadata": {},
     "output_type": "execute_result"
    }
   ],
   "source": [
    "liste.append(\"berkcan\")\n",
    "liste"
   ]
  },
  {
   "cell_type": "markdown",
   "id": "5994ea7f-bc34-44e2-9222-3154cad68115",
   "metadata": {},
   "source": [
    "#### remove"
   ]
  },
  {
   "cell_type": "code",
   "execution_count": 160,
   "id": "db97fec0-5459-4dd5-85a5-5aa742a8bb83",
   "metadata": {},
   "outputs": [
    {
     "data": {
      "text/plain": [
       "['ali', 'veli', 'isik']"
      ]
     },
     "execution_count": 160,
     "metadata": {},
     "output_type": "execute_result"
    }
   ],
   "source": [
    "liste.remove(\"berkcan\")\n",
    "liste"
   ]
  },
  {
   "cell_type": "markdown",
   "id": "9b947481-cf07-4104-8f30-7a7a3e47dc5a",
   "metadata": {},
   "source": [
    "###### Listeler Değiştirilebilirdir ve Kalıcıdırlar."
   ]
  },
  {
   "cell_type": "markdown",
   "id": "fe91cd6a-fba0-4f16-bcec-98b48e8b37ff",
   "metadata": {},
   "source": [
    "#### insert"
   ]
  },
  {
   "cell_type": "markdown",
   "id": "de536ae2-2afa-4b46-805a-dac42924a715",
   "metadata": {},
   "source": [
    "##### Bir listeye index sırasına göre eleman eklemek için kullanılır."
   ]
  },
  {
   "cell_type": "code",
   "execution_count": 161,
   "id": "8c430951-c72a-41d8-baa4-7b37bb6d53f7",
   "metadata": {},
   "outputs": [
    {
     "data": {
      "text/plain": [
       "['ali', 'veli', 'isik']"
      ]
     },
     "execution_count": 161,
     "metadata": {},
     "output_type": "execute_result"
    }
   ],
   "source": [
    "liste = [\"ali\",\"veli\",\"isik\"]\n",
    "liste"
   ]
  },
  {
   "cell_type": "code",
   "execution_count": 162,
   "id": "d4f9af71-2c90-44f1-9520-560f6c65de47",
   "metadata": {},
   "outputs": [
    {
     "data": {
      "text/plain": [
       "['ayse', 'ali', 'veli', 'isik']"
      ]
     },
     "execution_count": 162,
     "metadata": {},
     "output_type": "execute_result"
    }
   ],
   "source": [
    "liste.insert(0, \"ayse\")  # Hangi index e eleman eklemek istediğini belirt\n",
    "liste"
   ]
  },
  {
   "cell_type": "code",
   "execution_count": 163,
   "id": "459a5fe9-0ea9-4cc8-a5a8-66e97d6301be",
   "metadata": {},
   "outputs": [
    {
     "data": {
      "text/plain": [
       "['ayse', 'veli', 'isik']"
      ]
     },
     "execution_count": 163,
     "metadata": {},
     "output_type": "execute_result"
    }
   ],
   "source": [
    "liste = [\"ali\",\"veli\",\"isik\"]\n",
    "liste[0] = \"ayse\"\n",
    "liste"
   ]
  },
  {
   "cell_type": "markdown",
   "id": "294f6be1-3573-448b-95d8-246ec7f3c4d4",
   "metadata": {},
   "source": [
    "#### Listenin başına eleman ekleme"
   ]
  },
  {
   "cell_type": "code",
   "execution_count": 164,
   "id": "fcb9161f-860d-4cc8-bd59-1fea2edd2b9f",
   "metadata": {},
   "outputs": [
    {
     "data": {
      "text/plain": [
       "['ayse', 'ayse', 'veli', 'isik']"
      ]
     },
     "execution_count": 164,
     "metadata": {},
     "output_type": "execute_result"
    }
   ],
   "source": [
    "liste.insert(0, \"ayse\")\n",
    "liste"
   ]
  },
  {
   "cell_type": "code",
   "execution_count": 165,
   "id": "304bb8cc-09c5-4362-bc08-d19b7b31ceca",
   "metadata": {},
   "outputs": [
    {
     "data": {
      "text/plain": [
       "['ayse', 'ali', 'veli', 'isik']"
      ]
     },
     "execution_count": 165,
     "metadata": {},
     "output_type": "execute_result"
    }
   ],
   "source": [
    "liste[1] = \"ali\"\n",
    "liste"
   ]
  },
  {
   "cell_type": "code",
   "execution_count": 166,
   "id": "d206ce01-f01b-4e67-9853-c659e8c75083",
   "metadata": {},
   "outputs": [
    {
     "data": {
      "text/plain": [
       "['ayse', 'ali', 'mehmet', 'veli', 'isik']"
      ]
     },
     "execution_count": 166,
     "metadata": {},
     "output_type": "execute_result"
    }
   ],
   "source": [
    "liste.insert(2, \"mehmet\")\n",
    "liste"
   ]
  },
  {
   "cell_type": "code",
   "execution_count": 167,
   "id": "4375b6c3-ce91-4fbc-aa3a-bc7ff31c0259",
   "metadata": {},
   "outputs": [
    {
     "data": {
      "text/plain": [
       "['ayse', 'ali', 'mehmet', 'veli', 'isik', 'berk']"
      ]
     },
     "execution_count": 167,
     "metadata": {},
     "output_type": "execute_result"
    }
   ],
   "source": [
    "liste.insert(5,\"berk\") # Elimdeki verinin son elemanının indexi ile ekleme\n",
    "liste # Her zaman böyle sayamayız"
   ]
  },
  {
   "cell_type": "markdown",
   "id": "d98c0cdc-ba11-4a2f-9f17-9ec09dd39f98",
   "metadata": {},
   "source": [
    "#### Listenin sonuna eleman ekleme"
   ]
  },
  {
   "cell_type": "code",
   "execution_count": 168,
   "id": "2b33c230-266d-46ce-9ce8-75f243755292",
   "metadata": {},
   "outputs": [
    {
     "data": {
      "text/plain": [
       "6"
      ]
     },
     "execution_count": 168,
     "metadata": {},
     "output_type": "execute_result"
    }
   ],
   "source": [
    "len(liste)"
   ]
  },
  {
   "cell_type": "code",
   "execution_count": 169,
   "id": "a36ee543-ec26-4464-b007-311d9d2464ce",
   "metadata": {},
   "outputs": [
    {
     "data": {
      "text/plain": [
       "['ayse', 'ali', 'mehmet', 'veli', 'isik', 'berk', 'beren']"
      ]
     },
     "execution_count": 169,
     "metadata": {},
     "output_type": "execute_result"
    }
   ],
   "source": [
    "liste.insert(len(liste), \"beren\")\n",
    "liste"
   ]
  },
  {
   "cell_type": "markdown",
   "id": "ef299aa3-8148-45c4-956e-73f2f9caa61e",
   "metadata": {},
   "source": [
    "#### pop"
   ]
  },
  {
   "cell_type": "markdown",
   "id": "e7d06344-a95f-43f3-8f44-dc2a9728015d",
   "metadata": {},
   "source": [
    "##### Bir listeden index sırasına göre eleman silmek için kullanılır."
   ]
  },
  {
   "cell_type": "code",
   "execution_count": 170,
   "id": "506197f9-5734-47c8-b6bd-3b827f5e0f23",
   "metadata": {},
   "outputs": [
    {
     "data": {
      "text/plain": [
       "'ayse'"
      ]
     },
     "execution_count": 170,
     "metadata": {},
     "output_type": "execute_result"
    }
   ],
   "source": [
    "liste.pop(0) "
   ]
  },
  {
   "cell_type": "code",
   "execution_count": 171,
   "id": "6c3683f9-ecd7-4bed-91a8-f02008c3243b",
   "metadata": {},
   "outputs": [
    {
     "data": {
      "text/plain": [
       "['ali', 'mehmet', 'veli', 'isik', 'berk', 'beren']"
      ]
     },
     "execution_count": 171,
     "metadata": {},
     "output_type": "execute_result"
    }
   ],
   "source": [
    "liste"
   ]
  },
  {
   "cell_type": "code",
   "execution_count": 172,
   "id": "7b7a1bef-c12b-4a43-834b-2f6f31901393",
   "metadata": {},
   "outputs": [
    {
     "data": {
      "text/plain": [
       "'berk'"
      ]
     },
     "execution_count": 172,
     "metadata": {},
     "output_type": "execute_result"
    }
   ],
   "source": [
    "liste.pop(4)"
   ]
  },
  {
   "cell_type": "code",
   "execution_count": 173,
   "id": "5cc80b89-dcbc-43cb-86fa-b907e4f32039",
   "metadata": {},
   "outputs": [
    {
     "data": {
      "text/plain": [
       "['ali', 'mehmet', 'veli', 'isik', 'beren']"
      ]
     },
     "execution_count": 173,
     "metadata": {},
     "output_type": "execute_result"
    }
   ],
   "source": [
    "liste"
   ]
  },
  {
   "cell_type": "markdown",
   "id": "4da4d995-4449-4744-a816-45c3f6d5fdba",
   "metadata": {},
   "source": [
    "###  Diğer Liste Metotları"
   ]
  },
  {
   "cell_type": "markdown",
   "id": "6ab2dcc7-9d34-4ac4-a8d2-065ecc7315d8",
   "metadata": {},
   "source": [
    "#### count()"
   ]
  },
  {
   "cell_type": "code",
   "execution_count": 174,
   "id": "f26e64e3-1d56-4341-b1e1-18c7f98f8aa7",
   "metadata": {},
   "outputs": [],
   "source": [
    "liste = [\"ali\",\"veli\",\"isik\",\"ali\",\"veli\"]"
   ]
  },
  {
   "cell_type": "code",
   "execution_count": 175,
   "id": "f397be1c-8ab2-4ea4-abaa-078067e43d72",
   "metadata": {},
   "outputs": [
    {
     "data": {
      "text/plain": [
       "2"
      ]
     },
     "execution_count": 175,
     "metadata": {},
     "output_type": "execute_result"
    }
   ],
   "source": [
    "liste.count(\"ali\")"
   ]
  },
  {
   "cell_type": "code",
   "execution_count": 176,
   "id": "b120a7ab-7b21-4319-b282-abd428c0adfc",
   "metadata": {},
   "outputs": [
    {
     "data": {
      "text/plain": [
       "2"
      ]
     },
     "execution_count": 176,
     "metadata": {},
     "output_type": "execute_result"
    }
   ],
   "source": [
    "liste.count(\"veli\")"
   ]
  },
  {
   "cell_type": "code",
   "execution_count": 177,
   "id": "a577df12-61a6-4b95-9ac9-f56fcdc11973",
   "metadata": {},
   "outputs": [
    {
     "data": {
      "text/plain": [
       "1"
      ]
     },
     "execution_count": 177,
     "metadata": {},
     "output_type": "execute_result"
    }
   ],
   "source": [
    "liste.count(\"isik\")"
   ]
  },
  {
   "cell_type": "markdown",
   "id": "1f87661e-2fcb-497d-803f-121a3a95d455",
   "metadata": {},
   "source": [
    "#### copy()"
   ]
  },
  {
   "cell_type": "markdown",
   "id": "6841f823-1e5c-4e3a-8753-ff59a7e5c132",
   "metadata": {},
   "source": [
    "###### Liste veya array lerde mevcut listenin ilk halini kopyalayabilme"
   ]
  },
  {
   "cell_type": "code",
   "execution_count": 178,
   "id": "d262ce8a-67c7-400a-813a-18db85cf4dc0",
   "metadata": {},
   "outputs": [
    {
     "data": {
      "text/plain": [
       "['ali', 'veli', 'isik', 'ali', 'veli']"
      ]
     },
     "execution_count": 178,
     "metadata": {},
     "output_type": "execute_result"
    }
   ],
   "source": [
    "liste_yedek = liste.copy()\n",
    "liste_yedek"
   ]
  },
  {
   "cell_type": "markdown",
   "id": "f0016fa3-acda-4cfe-9615-2f9477b3f5af",
   "metadata": {},
   "source": [
    "#### extend()"
   ]
  },
  {
   "cell_type": "markdown",
   "id": "671ea978-7d17-4192-8afe-8f7544329c68",
   "metadata": {},
   "source": [
    "###### Listenin üzerinde kalıcı bir değişiklik yapar, değiştirerek birleştirir\n",
    "###### Başka yeni bir liste daha oluşturur gibi iki listeyi birleştirme yapar"
   ]
  },
  {
   "cell_type": "code",
   "execution_count": 179,
   "id": "6f1443d0-d47c-400c-8ecc-d5b8920bc694",
   "metadata": {},
   "outputs": [
    {
     "data": {
      "text/plain": [
       "['ali', 'veli', 'isik', 'ali', 'veli']"
      ]
     },
     "execution_count": 179,
     "metadata": {},
     "output_type": "execute_result"
    }
   ],
   "source": [
    "liste"
   ]
  },
  {
   "cell_type": "code",
   "execution_count": 180,
   "id": "67852a65-b5d9-4000-9dbc-d1d862a1fada",
   "metadata": {},
   "outputs": [
    {
     "data": {
      "text/plain": [
       "['ali', 'veli', 'isik', 'ali', 'veli', 'a', 'b', 10]"
      ]
     },
     "execution_count": 180,
     "metadata": {},
     "output_type": "execute_result"
    }
   ],
   "source": [
    "liste.extend([\"a\",\"b\",10]) # Sonuna ekleyerek birleştirir\n",
    "liste"
   ]
  },
  {
   "cell_type": "markdown",
   "id": "81e92161-f77c-492e-b669-b76673c58d91",
   "metadata": {},
   "source": [
    "#### index()"
   ]
  },
  {
   "cell_type": "code",
   "execution_count": 181,
   "id": "d6f5edc3-daf8-4a94-aa15-75b2de05b0d0",
   "metadata": {},
   "outputs": [
    {
     "data": {
      "text/plain": [
       "0"
      ]
     },
     "execution_count": 181,
     "metadata": {},
     "output_type": "execute_result"
    }
   ],
   "source": [
    "liste.index(\"ali\")"
   ]
  },
  {
   "cell_type": "markdown",
   "id": "7e690f82-d215-4c76-844c-1951fd7e2062",
   "metadata": {},
   "source": [
    "#### reverse()"
   ]
  },
  {
   "cell_type": "code",
   "execution_count": 182,
   "id": "e76d25ad-7f66-4220-b3ed-7a2d4c4ab238",
   "metadata": {},
   "outputs": [
    {
     "data": {
      "text/plain": [
       "[10, 'b', 'a', 'veli', 'ali', 'isik', 'veli', 'ali']"
      ]
     },
     "execution_count": 182,
     "metadata": {},
     "output_type": "execute_result"
    }
   ],
   "source": [
    "liste.reverse() # Listenin elemanlarını terse çevirir\n",
    "liste"
   ]
  },
  {
   "cell_type": "markdown",
   "id": "cb5a6657-9ba5-4b04-b72a-81d1ca2c3b9b",
   "metadata": {},
   "source": [
    "#### sort()"
   ]
  },
  {
   "cell_type": "code",
   "execution_count": 183,
   "id": "74c0fbd1-fbcb-4c04-a417-0d2d9734c169",
   "metadata": {},
   "outputs": [
    {
     "ename": "TypeError",
     "evalue": "'<' not supported between instances of 'str' and 'int'",
     "output_type": "error",
     "traceback": [
      "\u001b[1;31m---------------------------------------------------------------------------\u001b[0m",
      "\u001b[1;31mTypeError\u001b[0m                                 Traceback (most recent call last)",
      "\u001b[1;32m~\\AppData\\Local\\Temp\\ipykernel_3340\\593181880.py\u001b[0m in \u001b[0;36m<module>\u001b[1;34m\u001b[0m\n\u001b[1;32m----> 1\u001b[1;33m \u001b[0mliste\u001b[0m\u001b[1;33m.\u001b[0m\u001b[0msort\u001b[0m\u001b[1;33m(\u001b[0m\u001b[1;33m)\u001b[0m\u001b[1;33m\u001b[0m\u001b[1;33m\u001b[0m\u001b[0m\n\u001b[0m",
      "\u001b[1;31mTypeError\u001b[0m: '<' not supported between instances of 'str' and 'int'"
     ]
    }
   ],
   "source": [
    "liste.sort()"
   ]
  },
  {
   "cell_type": "markdown",
   "id": "9d68e0f6-e395-4597-92f2-8a076c04bef7",
   "metadata": {},
   "source": [
    "###### TypeError: Girmiş olduğumuz listenin içerisindeki elemanlarda hem string hem integer değerler olduğundan hata verir"
   ]
  },
  {
   "cell_type": "code",
   "execution_count": 184,
   "id": "18d3ec56-36a7-4a1c-8886-3b0ad87291e6",
   "metadata": {},
   "outputs": [],
   "source": [
    "liste = [10,40,5,90]\n",
    "liste.sort()"
   ]
  },
  {
   "cell_type": "code",
   "execution_count": 185,
   "id": "3ca86666-eacc-4ed4-bdb0-0ec7f16623c5",
   "metadata": {},
   "outputs": [
    {
     "data": {
      "text/plain": [
       "[5, 10, 40, 90]"
      ]
     },
     "execution_count": 185,
     "metadata": {},
     "output_type": "execute_result"
    }
   ],
   "source": [
    "liste"
   ]
  },
  {
   "cell_type": "markdown",
   "id": "eab5a3c8-ce9c-4028-b8d2-6f05791a5366",
   "metadata": {},
   "source": [
    "#### clear()"
   ]
  },
  {
   "cell_type": "code",
   "execution_count": 186,
   "id": "924a398c-8407-448e-9502-3b515951dcc9",
   "metadata": {},
   "outputs": [
    {
     "data": {
      "text/plain": [
       "[]"
      ]
     },
     "execution_count": 186,
     "metadata": {},
     "output_type": "execute_result"
    }
   ],
   "source": [
    "liste.clear()\n",
    "liste"
   ]
  },
  {
   "cell_type": "markdown",
   "id": "7444d6e3-3aeb-4c08-b385-ef9c75204c96",
   "metadata": {},
   "source": [
    "## Veri Yapıları - Tuple"
   ]
  },
  {
   "cell_type": "markdown",
   "id": "4956fcfc-5ff0-4fbc-8528-e281c364bef7",
   "metadata": {},
   "source": [
    "###### -Değiştirilemez (listelerden en önemli farkları) -> Dokunulmaz !!!\n",
    "###### -Kapsayıcıdır (farklı tipte verileri tutabilir). -> string, int, list ifade olabilir\n",
    "###### -Sıralıdır (index işlemler 0.index, 1.index)"
   ]
  },
  {
   "cell_type": "markdown",
   "id": "ae31a47d-09bc-44f2-970e-aae9535bca20",
   "metadata": {},
   "source": [
    "##### Tuple Oluşturma\n",
    "###### 3 farklı yöntemle tuple oluşturulabilir"
   ]
  },
  {
   "cell_type": "markdown",
   "id": "ea42d844-373c-4bc0-a596-a1ca4940ed2e",
   "metadata": {},
   "source": [
    "##### 1. yöntem"
   ]
  },
  {
   "cell_type": "code",
   "execution_count": 187,
   "id": "c01559cc-3f82-4716-ad87-2740ed240eba",
   "metadata": {},
   "outputs": [],
   "source": [
    "t = (\"ali\",\"veli\",1,2,3.2,2,[1,2,3,4])"
   ]
  },
  {
   "cell_type": "code",
   "execution_count": 188,
   "id": "2bb75138-906a-4eae-8e08-36dc576276d4",
   "metadata": {},
   "outputs": [
    {
     "data": {
      "text/plain": [
       "('ali', 'veli', 1, 2, 3.2, 2, [1, 2, 3, 4])"
      ]
     },
     "execution_count": 188,
     "metadata": {},
     "output_type": "execute_result"
    }
   ],
   "source": [
    "t"
   ]
  },
  {
   "cell_type": "markdown",
   "id": "4896f136-382d-4220-8223-bd342b878467",
   "metadata": {},
   "source": [
    "##### 2. yöntem"
   ]
  },
  {
   "cell_type": "code",
   "execution_count": 189,
   "id": "ceba8fa9-5a3a-4108-b9da-c322f1842cc1",
   "metadata": {},
   "outputs": [],
   "source": [
    "t = \"ali\",\"veli\",1,2,3.2, [1,2,3,4]"
   ]
  },
  {
   "cell_type": "code",
   "execution_count": 190,
   "id": "643ddb8c-66c8-4bb4-8f39-29711ffbb8c2",
   "metadata": {},
   "outputs": [
    {
     "data": {
      "text/plain": [
       "('ali', 'veli', 1, 2, 3.2, [1, 2, 3, 4])"
      ]
     },
     "execution_count": 190,
     "metadata": {},
     "output_type": "execute_result"
    }
   ],
   "source": [
    "t"
   ]
  },
  {
   "cell_type": "markdown",
   "id": "0b2e2580-6aa9-4cdd-9d8a-b879dcf7aa14",
   "metadata": {},
   "source": [
    "##### 3. yöntem"
   ]
  },
  {
   "cell_type": "code",
   "execution_count": 191,
   "id": "95538950-77a4-4931-bfe6-f353aa54c40a",
   "metadata": {},
   "outputs": [
    {
     "data": {
      "text/plain": [
       "str"
      ]
     },
     "execution_count": 191,
     "metadata": {},
     "output_type": "execute_result"
    }
   ],
   "source": [
    "t = (\"eleman\")\n",
    "type(t)"
   ]
  },
  {
   "cell_type": "markdown",
   "id": "1b60cb22-a8d8-4a4f-8d48-b9c39623b4b7",
   "metadata": {},
   "source": [
    "###### tuple()\n",
    "###### Tek elemanlı tuple oluştururken sonuna virgül koymak zorundayız"
   ]
  },
  {
   "cell_type": "code",
   "execution_count": 192,
   "id": "84e66482-7ac4-41d9-b713-89acee293681",
   "metadata": {},
   "outputs": [],
   "source": [
    "t = (\"eleman\",)"
   ]
  },
  {
   "cell_type": "code",
   "execution_count": 193,
   "id": "2360df2e-166c-484b-8256-265c9cfe885a",
   "metadata": {},
   "outputs": [
    {
     "data": {
      "text/plain": [
       "('eleman',)"
      ]
     },
     "execution_count": 193,
     "metadata": {},
     "output_type": "execute_result"
    }
   ],
   "source": [
    "t"
   ]
  },
  {
   "cell_type": "code",
   "execution_count": 194,
   "id": "741c9712-c117-4f39-9382-0501d6763a73",
   "metadata": {},
   "outputs": [
    {
     "data": {
      "text/plain": [
       "tuple"
      ]
     },
     "execution_count": 194,
     "metadata": {},
     "output_type": "execute_result"
    }
   ],
   "source": [
    "type(t)"
   ]
  },
  {
   "cell_type": "markdown",
   "id": "43835e99-a062-4364-a2a3-37e077421053",
   "metadata": {},
   "source": [
    "### Tuple Eleman Islemleri"
   ]
  },
  {
   "cell_type": "code",
   "execution_count": 195,
   "id": "fc066256-c92a-406d-be92-3b63ca262b99",
   "metadata": {},
   "outputs": [
    {
     "data": {
      "text/plain": [
       "('ali', 'veli', 1, 2, 3, [1, 2, 3, 4])"
      ]
     },
     "execution_count": 195,
     "metadata": {},
     "output_type": "execute_result"
    }
   ],
   "source": [
    "t = (\"ali\",\"veli\",1,2,3,[1,2,3,4])\n",
    "t"
   ]
  },
  {
   "cell_type": "markdown",
   "id": "13381e3a-420a-4f7d-8831-53b462b688c8",
   "metadata": {},
   "source": [
    "###### Listedeki eleman işlemlerine erişme işlemleri listedekiyle aynıdır"
   ]
  },
  {
   "cell_type": "code",
   "execution_count": 196,
   "id": "c9487c61-18af-4b43-8a22-0a74e90247cb",
   "metadata": {},
   "outputs": [
    {
     "data": {
      "text/plain": [
       "'veli'"
      ]
     },
     "execution_count": 196,
     "metadata": {},
     "output_type": "execute_result"
    }
   ],
   "source": [
    "t[1]"
   ]
  },
  {
   "cell_type": "code",
   "execution_count": 197,
   "id": "82e871be-d8a1-4403-b1fb-49d0053d1b2e",
   "metadata": {},
   "outputs": [
    {
     "data": {
      "text/plain": [
       "('ali', 'veli', 1)"
      ]
     },
     "execution_count": 197,
     "metadata": {},
     "output_type": "execute_result"
    }
   ],
   "source": [
    "t[0:3]"
   ]
  },
  {
   "cell_type": "code",
   "execution_count": 198,
   "id": "6497661e-b67b-4c5a-8752-00cbb542f030",
   "metadata": {},
   "outputs": [
    {
     "ename": "TypeError",
     "evalue": "'tuple' object does not support item assignment",
     "output_type": "error",
     "traceback": [
      "\u001b[1;31m---------------------------------------------------------------------------\u001b[0m",
      "\u001b[1;31mTypeError\u001b[0m                                 Traceback (most recent call last)",
      "\u001b[1;32m~\\AppData\\Local\\Temp\\ipykernel_3340\\915490880.py\u001b[0m in \u001b[0;36m<module>\u001b[1;34m\u001b[0m\n\u001b[0;32m      1\u001b[0m \u001b[1;31m# 2.indexteki değere 99 değerini atama\u001b[0m\u001b[1;33m\u001b[0m\u001b[1;33m\u001b[0m\u001b[0m\n\u001b[1;32m----> 2\u001b[1;33m \u001b[0mt\u001b[0m\u001b[1;33m[\u001b[0m\u001b[1;36m2\u001b[0m\u001b[1;33m]\u001b[0m \u001b[1;33m=\u001b[0m \u001b[1;36m99\u001b[0m\u001b[1;33m\u001b[0m\u001b[1;33m\u001b[0m\u001b[0m\n\u001b[0m",
      "\u001b[1;31mTypeError\u001b[0m: 'tuple' object does not support item assignment"
     ]
    }
   ],
   "source": [
    "# 2.indexteki değere 99 değerini atama\n",
    "t[2] = 99"
   ]
  },
  {
   "cell_type": "markdown",
   "id": "eb6d4043-f51e-4a41-bf69-883612d66c49",
   "metadata": {},
   "source": [
    "###### -TypeError: tuple nesnesi değişikliğe izin vermez ve atama işlemi yapılamaz"
   ]
  },
  {
   "cell_type": "markdown",
   "id": "6d1d19f3-badf-43e1-8c4e-c7177e323eb7",
   "metadata": {},
   "source": [
    "###### Bazı durumlarda veri yapıları sabit dursun ve referans listesi oluşturmak için tuple kullan!!\n",
    "\n",
    "###### Listenin sonuna bir method bağlayarak orjinal yapılarında kalıcı değişiklik yapmıştık"
   ]
  },
  {
   "cell_type": "markdown",
   "id": "4d0b0d2a-7e68-44a7-95ab-48a225b03d65",
   "metadata": {},
   "source": [
    "## Veri Yapıları - Dictionary (Sözlük)"
   ]
  },
  {
   "cell_type": "markdown",
   "id": "0e31d00e-9c0b-4503-8775-7243e8012344",
   "metadata": {},
   "source": [
    "###### -Kapsayıcıdır (farklı tipte verileri tutabilir). -> string, int, list ifade olabilir\n",
    "###### -Sırasızdır (diğer veri tiplerinden farklı olarak)\n",
    "###### -Değiştirilebilirdir"
   ]
  },
  {
   "cell_type": "markdown",
   "id": "6e76ce21-e421-4aa3-91a3-bc006ff8df44",
   "metadata": {},
   "source": [
    "##### Anahtar (key) ifadelerin karşılıklarının birarada tutulduğu referanslı bir veri yapısıdır\n",
    "##### Listelerde olduğu gibi index işlemleri yapılamaz."
   ]
  },
  {
   "cell_type": "markdown",
   "id": "0c3e5da9-cb63-4b5a-bdee-5e6196ab4e61",
   "metadata": {},
   "source": [
    "#### Sozluk Olusturma\n",
    "#### Makine Öğrenmesi Bölümündeki Modelleme Tekniklerinin İsimleri"
   ]
  },
  {
   "cell_type": "code",
   "execution_count": 199,
   "id": "e23ba45b-bb5d-441d-bebf-5358209f7c28",
   "metadata": {},
   "outputs": [],
   "source": [
    "sozluk = {\"REG\" : \"Regresyon Modeli\",\n",
    "          \"LOJ\" : \"Lojistik Regresyon\",\n",
    "          \"CART\" : \"Classification and Reg\"}"
   ]
  },
  {
   "cell_type": "markdown",
   "id": "cd9b8946-e633-48da-8c88-f00ab8021527",
   "metadata": {},
   "source": [
    "###### SyntaxError: Python kodları satır satır okuma işlemi gerçekleştirir\n",
    "###### Hepsini seçerek çalıştırmak gerekir, key lerin nereye ait olduğunu bulmak için seçilir"
   ]
  },
  {
   "cell_type": "code",
   "execution_count": 200,
   "id": "3e64d295-f0a0-431d-84fb-df72dfec0835",
   "metadata": {},
   "outputs": [
    {
     "data": {
      "text/plain": [
       "{'REG': 'Regresyon Modeli',\n",
       " 'LOJ': 'Lojistik Regresyon',\n",
       " 'CART': 'Classification and Reg'}"
      ]
     },
     "execution_count": 200,
     "metadata": {},
     "output_type": "execute_result"
    }
   ],
   "source": [
    "sozluk"
   ]
  },
  {
   "cell_type": "code",
   "execution_count": 201,
   "id": "0cb87042-db62-4822-a4f7-83ea150e3486",
   "metadata": {},
   "outputs": [
    {
     "data": {
      "text/plain": [
       "3"
      ]
     },
     "execution_count": 201,
     "metadata": {},
     "output_type": "execute_result"
    }
   ],
   "source": [
    "len(sozluk)"
   ]
  },
  {
   "cell_type": "code",
   "execution_count": 202,
   "id": "00bca745-70a8-433a-9faf-f8cf03b078fb",
   "metadata": {},
   "outputs": [
    {
     "data": {
      "text/plain": [
       "{'REG': 10, 'LOJ': 20, 'CART': 30}"
      ]
     },
     "execution_count": 202,
     "metadata": {},
     "output_type": "execute_result"
    }
   ],
   "source": [
    "sozluk = {\"REG\" : 10,\n",
    "          \"LOJ\" : 20,\n",
    "          \"CART\" : 30}\n",
    "sozluk # integer değerler de verilebilir"
   ]
  },
  {
   "cell_type": "markdown",
   "id": "84225d15-1052-4b75-a557-2146dbfaa186",
   "metadata": {},
   "source": [
    "###### shift + ♠(yukarı ok) ile giderek seçerek kopyalayabilirsin"
   ]
  },
  {
   "cell_type": "code",
   "execution_count": 203,
   "id": "f54909ba-7e69-4c25-b430-6468be7c5a17",
   "metadata": {},
   "outputs": [],
   "source": [
    "# Birden fazla değerler atanabiir. Liste içerisine iki değer ekle"
   ]
  },
  {
   "cell_type": "code",
   "execution_count": 204,
   "id": "01e7b29d-4b20-43a8-85fc-f1ba8fe0ac21",
   "metadata": {},
   "outputs": [],
   "source": [
    "sozluk = {\"REG\" : [\"RMSE\",10],\n",
    "          \"LOJ\" : [\"MSE\", 20],\n",
    "          \"CART\" : [\"SSE\",30]}"
   ]
  },
  {
   "cell_type": "code",
   "execution_count": 205,
   "id": "3bf55388-32ac-423c-b4d2-8e8b6490221f",
   "metadata": {},
   "outputs": [
    {
     "data": {
      "text/plain": [
       "{'REG': ['RMSE', 10], 'LOJ': ['MSE', 20], 'CART': ['SSE', 30]}"
      ]
     },
     "execution_count": 205,
     "metadata": {},
     "output_type": "execute_result"
    }
   ],
   "source": [
    "sozluk"
   ]
  },
  {
   "cell_type": "markdown",
   "id": "7588578f-a94f-4177-99c9-d3f5a387b28b",
   "metadata": {},
   "source": [
    "#### Sozluk Eleman Islemleri"
   ]
  },
  {
   "cell_type": "code",
   "execution_count": 206,
   "id": "01207bdf-eefd-4d91-be06-155f6efb722a",
   "metadata": {},
   "outputs": [
    {
     "ename": "KeyError",
     "evalue": "0",
     "output_type": "error",
     "traceback": [
      "\u001b[1;31m---------------------------------------------------------------------------\u001b[0m",
      "\u001b[1;31mKeyError\u001b[0m                                  Traceback (most recent call last)",
      "\u001b[1;32m~\\AppData\\Local\\Temp\\ipykernel_3340\\2547870601.py\u001b[0m in \u001b[0;36m<module>\u001b[1;34m\u001b[0m\n\u001b[0;32m      3\u001b[0m           \"CART\" : \"Classification and Reg\"}\n\u001b[0;32m      4\u001b[0m \u001b[1;33m\u001b[0m\u001b[0m\n\u001b[1;32m----> 5\u001b[1;33m \u001b[0msozluk\u001b[0m\u001b[1;33m[\u001b[0m\u001b[1;36m0\u001b[0m\u001b[1;33m]\u001b[0m\u001b[1;33m\u001b[0m\u001b[1;33m\u001b[0m\u001b[0m\n\u001b[0m",
      "\u001b[1;31mKeyError\u001b[0m: 0"
     ]
    }
   ],
   "source": [
    "sozluk = {\"REG\" : \"Regresyon Modeli\",\n",
    "          \"LOJ\" : \"Lojistik Regresyon\",\n",
    "          \"CART\" : \"Classification and Reg\"}\n",
    "\n",
    "sozluk[0]"
   ]
  },
  {
   "cell_type": "markdown",
   "id": "d7e720fc-a2c3-4023-904a-e16f9937a684",
   "metadata": {},
   "source": [
    "###### KeyError: Sözlük tiplerinde sırasız olduğundan dolayı indexleme mantığıyla eleman seçemeyiz"
   ]
  },
  {
   "cell_type": "code",
   "execution_count": 207,
   "id": "4fc214db-53a3-43e7-a588-ec8717fe16dc",
   "metadata": {},
   "outputs": [
    {
     "data": {
      "text/plain": [
       "'Regresyon Modeli'"
      ]
     },
     "execution_count": 207,
     "metadata": {},
     "output_type": "execute_result"
    }
   ],
   "source": [
    "sozluk[\"REG\"]"
   ]
  },
  {
   "cell_type": "code",
   "execution_count": 208,
   "id": "d30db124-9219-45e6-9981-5544d098f657",
   "metadata": {},
   "outputs": [
    {
     "data": {
      "text/plain": [
       "'Lojistik Regresyon'"
      ]
     },
     "execution_count": 208,
     "metadata": {},
     "output_type": "execute_result"
    }
   ],
   "source": [
    "sozluk[\"LOJ\"]"
   ]
  },
  {
   "cell_type": "code",
   "execution_count": 209,
   "id": "18e32ddb-c613-4962-a9a2-2236f550c0dd",
   "metadata": {},
   "outputs": [],
   "source": [
    "sozluk = {\"REG\" : [\"RMSE\",10],\n",
    "          \"LOJ\" : [\"MSE\", 20],\n",
    "          \"CART\" : [\"SSE\",30]}"
   ]
  },
  {
   "cell_type": "code",
   "execution_count": 210,
   "id": "9c77e7d8-b75b-48b4-9adc-0354f9afe1e3",
   "metadata": {},
   "outputs": [
    {
     "data": {
      "text/plain": [
       "['RMSE', 10]"
      ]
     },
     "execution_count": 210,
     "metadata": {},
     "output_type": "execute_result"
    }
   ],
   "source": [
    "sozluk[\"REG\"] # \"REG key değerinin karşılığındaki değeri"
   ]
  },
  {
   "cell_type": "code",
   "execution_count": 211,
   "id": "6eacd622-2ca7-4a40-8120-84db9d876ec9",
   "metadata": {},
   "outputs": [],
   "source": [
    "# Key value içinde key value (sözlük içinde sözlük)"
   ]
  },
  {
   "cell_type": "code",
   "execution_count": 212,
   "id": "c3c83bc7-63fd-496d-b51c-8a46e91ad1e3",
   "metadata": {},
   "outputs": [],
   "source": [
    "sozluk = {\"REG\" : {\"RMSE\": 10,\n",
    "                  \"MSE\": 20,\n",
    "                  \"SSE\": 30} ,\n",
    "          \n",
    "          \"LOJ\" : {\"RMSE\": 10,\n",
    "                   \"MSE\": 20,\n",
    "                   \"SSE\": 30} ,\n",
    "          \n",
    "          \"CART\" : {\"RMSE\": 10,\n",
    "                    \"MSE\": 20,\n",
    "                    \"SSE\": 30}}"
   ]
  },
  {
   "cell_type": "code",
   "execution_count": 213,
   "id": "d14417f2-1d87-4daf-aa27-5380aaaf06a4",
   "metadata": {},
   "outputs": [
    {
     "data": {
      "text/plain": [
       "{'REG': {'RMSE': 10, 'MSE': 20, 'SSE': 30},\n",
       " 'LOJ': {'RMSE': 10, 'MSE': 20, 'SSE': 30},\n",
       " 'CART': {'RMSE': 10, 'MSE': 20, 'SSE': 30}}"
      ]
     },
     "execution_count": 213,
     "metadata": {},
     "output_type": "execute_result"
    }
   ],
   "source": [
    "sozluk"
   ]
  },
  {
   "cell_type": "code",
   "execution_count": 214,
   "id": "dc597637-aa6a-4ea4-bed1-188519e7cf5c",
   "metadata": {},
   "outputs": [
    {
     "data": {
      "text/plain": [
       "{'RMSE': 10, 'MSE': 20, 'SSE': 30}"
      ]
     },
     "execution_count": 214,
     "metadata": {},
     "output_type": "execute_result"
    }
   ],
   "source": [
    "sozluk[\"REG\"] # Reg keyini sorgula"
   ]
  },
  {
   "cell_type": "code",
   "execution_count": 215,
   "id": "8ea87a08-d2a5-4afa-b95e-3757b2869736",
   "metadata": {},
   "outputs": [
    {
     "data": {
      "text/plain": [
       "30"
      ]
     },
     "execution_count": 215,
     "metadata": {},
     "output_type": "execute_result"
    }
   ],
   "source": [
    "sozluk[\"REG\"][\"SSE\"]"
   ]
  },
  {
   "cell_type": "markdown",
   "id": "9a190b9d-3fff-456b-9590-e251d6e3c3b3",
   "metadata": {},
   "source": [
    "### Sozluk - Eleman Eklemek & Degistirmek"
   ]
  },
  {
   "cell_type": "code",
   "execution_count": 216,
   "id": "7cc08974-3698-44c4-ba0b-d7978a98d8d2",
   "metadata": {},
   "outputs": [],
   "source": [
    "sozluk = {\"REG\" : \"Regresyon Modeli\",\n",
    "          \"LOJ\" : \"Lojistik Regresyon\",\n",
    "          \"CART\" : \"Classification and Reg\"}"
   ]
  },
  {
   "cell_type": "markdown",
   "id": "a685b3fd-c188-4fce-ac5f-261753503815",
   "metadata": {},
   "source": [
    "###### Eğer sözlüğün içine daha önce olmayan bir şey yazarsak bu değer yok baştan oluştur denir :"
   ]
  },
  {
   "cell_type": "code",
   "execution_count": 217,
   "id": "5c73ea90-1b71-496f-9af4-91406cac4b61",
   "metadata": {},
   "outputs": [
    {
     "data": {
      "text/plain": [
       "{'REG': 'Regresyon Modeli',\n",
       " 'LOJ': 'Lojistik Regresyon',\n",
       " 'CART': 'Classification and Reg',\n",
       " 'GBM': 'Gradient Boosting Mac'}"
      ]
     },
     "execution_count": 217,
     "metadata": {},
     "output_type": "execute_result"
    }
   ],
   "source": [
    "sozluk[\"GBM\"] = \"Gradient Boosting Mac\"\n",
    "sozluk"
   ]
  },
  {
   "cell_type": "markdown",
   "id": "cefc56ce-e2ea-4a35-bc17-1876a454a990",
   "metadata": {},
   "source": [
    "###### Eğer sözlüğün içine daha önce olan bir değer yazarsak bu değer var onun değerini baştan oluştur:"
   ]
  },
  {
   "cell_type": "code",
   "execution_count": 218,
   "id": "fe6de46e-7d0d-4680-87e1-64d7d7aa8a56",
   "metadata": {},
   "outputs": [
    {
     "data": {
      "text/plain": [
       "{'REG': 'Coklu Dogrusal Regresyon',\n",
       " 'LOJ': 'Lojistik Regresyon',\n",
       " 'CART': 'Classification and Reg',\n",
       " 'GBM': 'Gradient Boosting Mac'}"
      ]
     },
     "execution_count": 218,
     "metadata": {},
     "output_type": "execute_result"
    }
   ],
   "source": [
    "sozluk[\"REG\"] = \"Coklu Dogrusal Regresyon\"\n",
    "sozluk"
   ]
  },
  {
   "cell_type": "code",
   "execution_count": 219,
   "id": "dd52f616-9833-4ede-b1bb-ff1f49864992",
   "metadata": {},
   "outputs": [
    {
     "ename": "KeyError",
     "evalue": "1",
     "output_type": "error",
     "traceback": [
      "\u001b[1;31m---------------------------------------------------------------------------\u001b[0m",
      "\u001b[1;31mKeyError\u001b[0m                                  Traceback (most recent call last)",
      "\u001b[1;32m~\\AppData\\Local\\Temp\\ipykernel_3340\\686092651.py\u001b[0m in \u001b[0;36m<module>\u001b[1;34m\u001b[0m\n\u001b[1;32m----> 1\u001b[1;33m \u001b[0msozluk\u001b[0m\u001b[1;33m[\u001b[0m\u001b[1;36m1\u001b[0m\u001b[1;33m]\u001b[0m\u001b[1;33m\u001b[0m\u001b[1;33m\u001b[0m\u001b[0m\n\u001b[0m",
      "\u001b[1;31mKeyError\u001b[0m: 1"
     ]
    }
   ],
   "source": [
    "sozluk[1]"
   ]
  },
  {
   "cell_type": "markdown",
   "id": "d2c6a169-de43-435a-8ed5-09e3b8b76431",
   "metadata": {},
   "source": [
    "###### KeyError: Böyle bir ifade yok"
   ]
  },
  {
   "cell_type": "code",
   "execution_count": 220,
   "id": "d68cc5da-6d60-4088-a1f3-37b2d05cd579",
   "metadata": {},
   "outputs": [],
   "source": [
    "sozluk[1] = \"Yapay Sinir Aglari\""
   ]
  },
  {
   "cell_type": "code",
   "execution_count": 221,
   "id": "690cdb39-65b0-4a14-ae8c-a85208f64edc",
   "metadata": {},
   "outputs": [
    {
     "data": {
      "text/plain": [
       "{'REG': 'Coklu Dogrusal Regresyon',\n",
       " 'LOJ': 'Lojistik Regresyon',\n",
       " 'CART': 'Classification and Reg',\n",
       " 'GBM': 'Gradient Boosting Mac',\n",
       " 1: 'Yapay Sinir Aglari'}"
      ]
     },
     "execution_count": 221,
     "metadata": {},
     "output_type": "execute_result"
    }
   ],
   "source": [
    "sozluk # integer bir key ekleme"
   ]
  },
  {
   "cell_type": "markdown",
   "id": "77cc8e66-cd62-46ce-b072-e41dec5aa3df",
   "metadata": {},
   "source": [
    "##### key değerimiz int veya string dışında bir değer olmasını istersek\n",
    "##### key bir liste olabilir mi?"
   ]
  },
  {
   "cell_type": "code",
   "execution_count": 222,
   "id": "e07fb79c-d40d-42a2-bd18-02f0d0a3399f",
   "metadata": {},
   "outputs": [],
   "source": [
    "l = [1]"
   ]
  },
  {
   "cell_type": "code",
   "execution_count": 223,
   "id": "a221e460-7186-42ee-86bc-4ae41a0a60f6",
   "metadata": {},
   "outputs": [
    {
     "data": {
      "text/plain": [
       "[1]"
      ]
     },
     "execution_count": 223,
     "metadata": {},
     "output_type": "execute_result"
    }
   ],
   "source": [
    "l"
   ]
  },
  {
   "cell_type": "code",
   "execution_count": 224,
   "id": "ec9afede-a462-498a-8265-878d98941f9b",
   "metadata": {},
   "outputs": [
    {
     "ename": "TypeError",
     "evalue": "unhashable type: 'list'",
     "output_type": "error",
     "traceback": [
      "\u001b[1;31m---------------------------------------------------------------------------\u001b[0m",
      "\u001b[1;31mTypeError\u001b[0m                                 Traceback (most recent call last)",
      "\u001b[1;32m~\\AppData\\Local\\Temp\\ipykernel_3340\\1469005326.py\u001b[0m in \u001b[0;36m<module>\u001b[1;34m\u001b[0m\n\u001b[1;32m----> 1\u001b[1;33m \u001b[0msozluk\u001b[0m\u001b[1;33m[\u001b[0m\u001b[0ml\u001b[0m\u001b[1;33m]\u001b[0m \u001b[1;33m=\u001b[0m \u001b[1;34m\"yeni bir şey\"\u001b[0m\u001b[1;33m\u001b[0m\u001b[1;33m\u001b[0m\u001b[0m\n\u001b[0m",
      "\u001b[1;31mTypeError\u001b[0m: unhashable type: 'list'"
     ]
    }
   ],
   "source": [
    "sozluk[l] = \"yeni bir şey\""
   ]
  },
  {
   "cell_type": "markdown",
   "id": "4932a819-6b36-4f5a-972b-3376656d4d27",
   "metadata": {},
   "source": [
    "###### Key olarak liste atanamaz, liste değiştirilebilir\n",
    "###### TypeError: unhashable type: 'list' Sözlüklerde key değerleri ancak sabit veri yapılarıyla oluşturulabilir\n",
    "###### String ve int sabit veri yapılarıdır\n",
    "###### Key bir defa oluşturulur, değişmeden sabit kalır. Sabit bir tuple ile yapılabilir."
   ]
  },
  {
   "cell_type": "markdown",
   "id": "2f5aabf2-ab82-4608-b250-df7a626200fa",
   "metadata": {},
   "source": [
    "##### Sabit veri yapısı tuple ile key atanabilir"
   ]
  },
  {
   "cell_type": "code",
   "execution_count": 225,
   "id": "5b28756d-e00a-42a5-b1db-c20eb222034f",
   "metadata": {},
   "outputs": [
    {
     "data": {
      "text/plain": [
       "('tuple',)"
      ]
     },
     "execution_count": 225,
     "metadata": {},
     "output_type": "execute_result"
    }
   ],
   "source": [
    "t = (\"tuple\",)\n",
    "t"
   ]
  },
  {
   "cell_type": "code",
   "execution_count": 226,
   "id": "18e60af5-8aa0-4871-9711-c2dd86069dba",
   "metadata": {},
   "outputs": [
    {
     "data": {
      "text/plain": [
       "{'REG': 'Coklu Dogrusal Regresyon',\n",
       " 'LOJ': 'Lojistik Regresyon',\n",
       " 'CART': 'Classification and Reg',\n",
       " 'GBM': 'Gradient Boosting Mac',\n",
       " 1: 'Yapay Sinir Aglari',\n",
       " ('tuple',): 'yeni bir şey'}"
      ]
     },
     "execution_count": 226,
     "metadata": {},
     "output_type": "execute_result"
    }
   ],
   "source": [
    "sozluk[t] = \"yeni bir şey\"\n",
    "sozluk"
   ]
  },
  {
   "cell_type": "markdown",
   "id": "d8b9fba2-ed27-4d1e-af23-3e288277f87f",
   "metadata": {},
   "source": [
    "## Veri Yapilari - Setler"
   ]
  },
  {
   "cell_type": "markdown",
   "id": "4000d216-5020-4926-a518-a9d7e0412f46",
   "metadata": {},
   "source": [
    "###### -Sırasızdırlar\n",
    "###### -Değerleri eşsizdir\n",
    "###### -Değiştirilebilirdir\n",
    "###### -Farklı tipleri barındırabilir"
   ]
  },
  {
   "cell_type": "markdown",
   "id": "4dc69bcb-9b5b-48e4-8fbd-5184950e169f",
   "metadata": {},
   "source": [
    "### Set olusturmak"
   ]
  },
  {
   "cell_type": "markdown",
   "id": "80992f8e-00e8-49fd-b40e-e18457900f6c",
   "metadata": {},
   "source": [
    "##### Tekrar eden değerlerden oluşmaz, unique veri yapılardır. Matematikteki kümelere benzerdir."
   ]
  },
  {
   "cell_type": "code",
   "execution_count": 227,
   "id": "63444541-1942-4fdf-b653-18d9c653bcb3",
   "metadata": {},
   "outputs": [
    {
     "data": {
      "text/plain": [
       "set()"
      ]
     },
     "execution_count": 227,
     "metadata": {},
     "output_type": "execute_result"
    }
   ],
   "source": [
    "s = set()\n",
    "s"
   ]
  },
  {
   "cell_type": "markdown",
   "id": "72cd74aa-26ba-4304-a7f5-ac80b931b2a5",
   "metadata": {},
   "source": [
    "#### liste ile"
   ]
  },
  {
   "cell_type": "code",
   "execution_count": 228,
   "id": "40e0e930-55ac-4d6b-a76c-55374eea1959",
   "metadata": {},
   "outputs": [
    {
     "data": {
      "text/plain": [
       "[1, 'a', 'ali', 123]"
      ]
     },
     "execution_count": 228,
     "metadata": {},
     "output_type": "execute_result"
    }
   ],
   "source": [
    "l = [1,\"a\",\"ali\", 123]\n",
    "l"
   ]
  },
  {
   "cell_type": "code",
   "execution_count": 229,
   "id": "ac062538-5724-4c32-a242-31c397d3e630",
   "metadata": {},
   "outputs": [
    {
     "data": {
      "text/plain": [
       "{1, 123, 'a', 'ali'}"
      ]
     },
     "execution_count": 229,
     "metadata": {},
     "output_type": "execute_result"
    }
   ],
   "source": [
    "s = set(l)\n",
    "s"
   ]
  },
  {
   "cell_type": "markdown",
   "id": "9d9eceb7-8f6f-4532-b81b-e5f03b556025",
   "metadata": {},
   "source": [
    "#### tuple ile"
   ]
  },
  {
   "cell_type": "code",
   "execution_count": 230,
   "id": "4011101a-eca3-4d8f-ab71-0579281fe2f7",
   "metadata": {},
   "outputs": [
    {
     "data": {
      "text/plain": [
       "('a', 'ali')"
      ]
     },
     "execution_count": 230,
     "metadata": {},
     "output_type": "execute_result"
    }
   ],
   "source": [
    "t = (\"a\",\"ali\")\n",
    "t"
   ]
  },
  {
   "cell_type": "code",
   "execution_count": 231,
   "id": "feb385e9-5bd6-4993-aa88-e5b767963a02",
   "metadata": {},
   "outputs": [
    {
     "data": {
      "text/plain": [
       "{'a', 'ali'}"
      ]
     },
     "execution_count": 231,
     "metadata": {},
     "output_type": "execute_result"
    }
   ],
   "source": [
    "s = set(t)\n",
    "s"
   ]
  },
  {
   "cell_type": "code",
   "execution_count": 232,
   "id": "e69e32cc-5a5d-4630-86f1-90ed02be86d5",
   "metadata": {},
   "outputs": [
    {
     "data": {
      "text/plain": [
       "str"
      ]
     },
     "execution_count": 232,
     "metadata": {},
     "output_type": "execute_result"
    }
   ],
   "source": [
    "ali = \"lutfen_ata_bak ma_uza ya_git\"\n",
    "type(ali)"
   ]
  },
  {
   "cell_type": "markdown",
   "id": "3849c068-1382-4a3f-b91d-2ce04f29f1cc",
   "metadata": {},
   "source": [
    "##### Tek bir elemandan oluşan set ler için her bir karakter eleman olarak ele alınır."
   ]
  },
  {
   "cell_type": "code",
   "execution_count": 233,
   "id": "040b8909-1743-4fb4-9dfc-74f729d66308",
   "metadata": {},
   "outputs": [
    {
     "data": {
      "text/plain": [
       "{' ',\n",
       " '_',\n",
       " 'a',\n",
       " 'b',\n",
       " 'e',\n",
       " 'f',\n",
       " 'g',\n",
       " 'i',\n",
       " 'k',\n",
       " 'l',\n",
       " 'm',\n",
       " 'n',\n",
       " 't',\n",
       " 'u',\n",
       " 'y',\n",
       " 'z'}"
      ]
     },
     "execution_count": 233,
     "metadata": {},
     "output_type": "execute_result"
    }
   ],
   "source": [
    "s = set(ali)\n",
    "s"
   ]
  },
  {
   "cell_type": "code",
   "execution_count": 234,
   "id": "918a3dae-2b02-4325-93d7-64cd7380e4ad",
   "metadata": {},
   "outputs": [
    {
     "data": {
      "text/plain": [
       "['ali', 'lutfen', 'ata', 'bakma', 'uzaya', 'git', 'git', 'ali', 'git']"
      ]
     },
     "execution_count": 234,
     "metadata": {},
     "output_type": "execute_result"
    }
   ],
   "source": [
    "l = [\"ali\", \"lutfen\", \"ata\", \"bakma\", \"uzaya\",\n",
    "     \"git\", \"git\", \"ali\", \"git\"]\n",
    "l"
   ]
  },
  {
   "cell_type": "code",
   "execution_count": 235,
   "id": "a38a810f-a598-48b3-9aeb-02bc764aab2d",
   "metadata": {},
   "outputs": [
    {
     "data": {
      "text/plain": [
       "{'ali', 'ata', 'bakma', 'git', 'lutfen', 'uzaya'}"
      ]
     },
     "execution_count": 235,
     "metadata": {},
     "output_type": "execute_result"
    }
   ],
   "source": [
    "s = set(l)\n",
    "s # Tekrar eden elemanlar bir tane olacak şekilde gösterilir."
   ]
  },
  {
   "cell_type": "markdown",
   "id": "c5a8f687-7a9b-4583-9268-bd2b5d34e8a2",
   "metadata": {},
   "source": [
    "##### Oluşan set içinde sadece 1 tane 'ali', 'git' oluştu"
   ]
  },
  {
   "cell_type": "code",
   "execution_count": 236,
   "id": "8f4a10f0-e2ed-40b6-855d-a66758848350",
   "metadata": {},
   "outputs": [
    {
     "data": {
      "text/plain": [
       "6"
      ]
     },
     "execution_count": 236,
     "metadata": {},
     "output_type": "execute_result"
    }
   ],
   "source": [
    "len(s) # Tekrar eden elemanlar tek olarak ele alınır."
   ]
  },
  {
   "cell_type": "code",
   "execution_count": 237,
   "id": "d4ad0bb1-164e-474c-b2d3-de85eef3045c",
   "metadata": {},
   "outputs": [
    {
     "data": {
      "text/plain": [
       "'ali'"
      ]
     },
     "execution_count": 237,
     "metadata": {},
     "output_type": "execute_result"
    }
   ],
   "source": [
    "l[0]"
   ]
  },
  {
   "cell_type": "code",
   "execution_count": 238,
   "id": "6e6f4b6b-6af9-4321-8bee-0f6dd3e0b104",
   "metadata": {},
   "outputs": [
    {
     "ename": "TypeError",
     "evalue": "'set' object is not subscriptable",
     "output_type": "error",
     "traceback": [
      "\u001b[1;31m---------------------------------------------------------------------------\u001b[0m",
      "\u001b[1;31mTypeError\u001b[0m                                 Traceback (most recent call last)",
      "\u001b[1;32m~\\AppData\\Local\\Temp\\ipykernel_3340\\243613605.py\u001b[0m in \u001b[0;36m<module>\u001b[1;34m\u001b[0m\n\u001b[1;32m----> 1\u001b[1;33m \u001b[0ms\u001b[0m\u001b[1;33m[\u001b[0m\u001b[1;36m0\u001b[0m\u001b[1;33m]\u001b[0m\u001b[1;33m\u001b[0m\u001b[1;33m\u001b[0m\u001b[0m\n\u001b[0m",
      "\u001b[1;31mTypeError\u001b[0m: 'set' object is not subscriptable"
     ]
    }
   ],
   "source": [
    "s[0]"
   ]
  },
  {
   "cell_type": "markdown",
   "id": "f77cf380-317b-4d73-af34-c8ca01cc3a3a",
   "metadata": {},
   "source": [
    "###### TypeError: set nesnesi index işlemini desteklemiyor\n",
    "###### Sırasız(indexsiz) ve eşsizdir\n",
    "###### Değerler tekildir"
   ]
  },
  {
   "cell_type": "markdown",
   "id": "de074387-01d9-481e-be3a-a30f5a70cd81",
   "metadata": {},
   "source": [
    "### Setler - Eleman Ekleme & Cikarma"
   ]
  },
  {
   "cell_type": "code",
   "execution_count": 239,
   "id": "be59464a-0a83-4daf-8d8b-304704b4f857",
   "metadata": {},
   "outputs": [],
   "source": [
    "l = [\"gelecegi\",\"yazanlar\"] # iki eleman var"
   ]
  },
  {
   "cell_type": "code",
   "execution_count": 240,
   "id": "f679d287-9e4a-40b6-91d9-7132f7d0c813",
   "metadata": {},
   "outputs": [
    {
     "data": {
      "text/plain": [
       "{'gelecegi', 'yazanlar'}"
      ]
     },
     "execution_count": 240,
     "metadata": {},
     "output_type": "execute_result"
    }
   ],
   "source": [
    "# listeyi sete çevir\n",
    "s = set(l)\n",
    "s"
   ]
  },
  {
   "cell_type": "code",
   "execution_count": 241,
   "id": "f10d8839-b454-4d5c-b232-4c44bc166622",
   "metadata": {},
   "outputs": [
    {
     "data": {
      "text/plain": [
       "['__and__',\n",
       " '__class__',\n",
       " '__class_getitem__',\n",
       " '__contains__',\n",
       " '__delattr__',\n",
       " '__dir__',\n",
       " '__doc__',\n",
       " '__eq__',\n",
       " '__format__',\n",
       " '__ge__',\n",
       " '__getattribute__',\n",
       " '__gt__',\n",
       " '__hash__',\n",
       " '__iand__',\n",
       " '__init__',\n",
       " '__init_subclass__',\n",
       " '__ior__',\n",
       " '__isub__',\n",
       " '__iter__',\n",
       " '__ixor__',\n",
       " '__le__',\n",
       " '__len__',\n",
       " '__lt__',\n",
       " '__ne__',\n",
       " '__new__',\n",
       " '__or__',\n",
       " '__rand__',\n",
       " '__reduce__',\n",
       " '__reduce_ex__',\n",
       " '__repr__',\n",
       " '__ror__',\n",
       " '__rsub__',\n",
       " '__rxor__',\n",
       " '__setattr__',\n",
       " '__sizeof__',\n",
       " '__str__',\n",
       " '__sub__',\n",
       " '__subclasshook__',\n",
       " '__xor__',\n",
       " 'add',\n",
       " 'clear',\n",
       " 'copy',\n",
       " 'difference',\n",
       " 'difference_update',\n",
       " 'discard',\n",
       " 'intersection',\n",
       " 'intersection_update',\n",
       " 'isdisjoint',\n",
       " 'issubset',\n",
       " 'issuperset',\n",
       " 'pop',\n",
       " 'remove',\n",
       " 'symmetric_difference',\n",
       " 'symmetric_difference_update',\n",
       " 'union',\n",
       " 'update']"
      ]
     },
     "execution_count": 241,
     "metadata": {},
     "output_type": "execute_result"
    }
   ],
   "source": [
    "#  methodlara erişmek için dir() kullan\n",
    "dir(s)"
   ]
  },
  {
   "cell_type": "code",
   "execution_count": 242,
   "id": "8e69dfb0-4026-43d8-9d1e-77a07e5c2463",
   "metadata": {},
   "outputs": [
    {
     "data": {
      "text/plain": [
       "{'gelecegi', 'ile', 'yazanlar'}"
      ]
     },
     "execution_count": 242,
     "metadata": {},
     "output_type": "execute_result"
    }
   ],
   "source": [
    "s.add(\"ile\")\n",
    "s"
   ]
  },
  {
   "cell_type": "code",
   "execution_count": 243,
   "id": "d3fb7259-5fb2-4fd0-b8f9-db73fc702432",
   "metadata": {},
   "outputs": [
    {
     "data": {
      "text/plain": [
       "{'gelecege_git', 'gelecegi', 'ile', 'yazanlar'}"
      ]
     },
     "execution_count": 243,
     "metadata": {},
     "output_type": "execute_result"
    }
   ],
   "source": [
    "s.add(\"gelecege_git\")\n",
    "s"
   ]
  },
  {
   "cell_type": "markdown",
   "id": "4d18c294-15a1-4dcd-bd04-091f20412e9d",
   "metadata": {},
   "source": [
    "###### -Eklediğimiz sıradan bağımsız bir şekilde burada gösterdik\n",
    "###### -Sırasızlığını ifade ettik"
   ]
  },
  {
   "cell_type": "code",
   "execution_count": 244,
   "id": "e1870b65-8f4e-4cdd-a231-4fc13d97f68a",
   "metadata": {},
   "outputs": [
    {
     "data": {
      "text/plain": [
       "{'gelecege_git', 'gelecegi', 'ile', 'yazanlar'}"
      ]
     },
     "execution_count": 244,
     "metadata": {},
     "output_type": "execute_result"
    }
   ],
   "source": [
    "s.add(\"ile\")\n",
    "s"
   ]
  },
  {
   "cell_type": "markdown",
   "id": "d45f89c3-18a2-4c50-92a5-9e1f41235932",
   "metadata": {},
   "source": [
    "###### ile ifadesini tekrar gözlemleyemeyiz\n",
    "###### var olan elemanı tekrar bir ekleme işlemi olarak eklemek istesek dahi bu eleman orda olduğundan tekrar bir ekleme işlemi yapmaz"
   ]
  },
  {
   "cell_type": "code",
   "execution_count": 245,
   "id": "c401b724-87ed-4cff-9410-6c0874bfae0c",
   "metadata": {},
   "outputs": [
    {
     "data": {
      "text/plain": [
       "{'ali', 'gelecege_git', 'gelecegi', 'ile', 'yazanlar'}"
      ]
     },
     "execution_count": 245,
     "metadata": {},
     "output_type": "execute_result"
    }
   ],
   "source": [
    "s.add(\"ali\")\n",
    "s"
   ]
  },
  {
   "cell_type": "code",
   "execution_count": 246,
   "id": "3c431b70-630e-4635-a459-d60c9e0b8cf7",
   "metadata": {},
   "outputs": [
    {
     "data": {
      "text/plain": [
       "{'gelecege_git', 'gelecegi', 'ile', 'yazanlar'}"
      ]
     },
     "execution_count": 246,
     "metadata": {},
     "output_type": "execute_result"
    }
   ],
   "source": [
    "s.remove(\"ali\")\n",
    "s"
   ]
  },
  {
   "cell_type": "code",
   "execution_count": 247,
   "id": "905c23f9-36f0-4943-8570-fd866cb148c8",
   "metadata": {},
   "outputs": [
    {
     "ename": "KeyError",
     "evalue": "'ali'",
     "output_type": "error",
     "traceback": [
      "\u001b[1;31m---------------------------------------------------------------------------\u001b[0m",
      "\u001b[1;31mKeyError\u001b[0m                                  Traceback (most recent call last)",
      "\u001b[1;32m~\\AppData\\Local\\Temp\\ipykernel_3340\\2371948.py\u001b[0m in \u001b[0;36m<module>\u001b[1;34m\u001b[0m\n\u001b[1;32m----> 1\u001b[1;33m \u001b[0ms\u001b[0m\u001b[1;33m.\u001b[0m\u001b[0mremove\u001b[0m\u001b[1;33m(\u001b[0m\u001b[1;34m\"ali\"\u001b[0m\u001b[1;33m)\u001b[0m\u001b[1;33m\u001b[0m\u001b[1;33m\u001b[0m\u001b[0m\n\u001b[0m",
      "\u001b[1;31mKeyError\u001b[0m: 'ali'"
     ]
    }
   ],
   "source": [
    "s.remove(\"ali\")"
   ]
  },
  {
   "cell_type": "markdown",
   "id": "63630c70-f9e1-400a-a1e0-daf05a3c2c82",
   "metadata": {},
   "source": [
    "###### KeyError: 'ali' \n",
    "###### -Artık bir 'ali' yok"
   ]
  },
  {
   "cell_type": "code",
   "execution_count": 248,
   "id": "cd28ecc3-6b8f-4122-86c4-970e0a2334de",
   "metadata": {},
   "outputs": [
    {
     "data": {
      "text/plain": [
       "{'gelecege_git', 'gelecegi', 'ile', 'yazanlar'}"
      ]
     },
     "execution_count": 248,
     "metadata": {},
     "output_type": "execute_result"
    }
   ],
   "source": [
    "# Hata üretmeden kod devam etsin istersek\n",
    "s.discard(\"ali\")\n",
    "s"
   ]
  },
  {
   "cell_type": "markdown",
   "id": "0f5fcc37-55ab-407e-80a3-7f08cdf7e610",
   "metadata": {},
   "source": [
    "### Setler - Klasik Kume Islemleri"
   ]
  },
  {
   "cell_type": "markdown",
   "id": "9ca0b590-82c2-43f6-9cdd-3a95c0a94080",
   "metadata": {},
   "source": [
    "===============\n",
    "\n",
    "difference() ile iki kumenin farkini ya da \"_\" ifadesi\n",
    "\n",
    "intersection() ile iki kume kesisimi ya da \"&\" ifadesi\n",
    "\n",
    "union() ile iki kumenin birlesimi\n",
    "\n",
    "symetric_difference() ile ikisinde de olmayanlari\n",
    "\n",
    "==============="
   ]
  },
  {
   "cell_type": "markdown",
   "id": "970b43a4-c174-42ad-9480-ad71708f61fb",
   "metadata": {},
   "source": [
    "#### difference"
   ]
  },
  {
   "cell_type": "code",
   "execution_count": 249,
   "id": "5abf915d-a078-42b5-9268-e99ac7a84deb",
   "metadata": {},
   "outputs": [],
   "source": [
    "set1 = set([1,3,5])\n",
    "set2 = set([1,2,3])"
   ]
  },
  {
   "cell_type": "code",
   "execution_count": 250,
   "id": "e5cddcbe-22bd-440f-a35d-36c261272c6a",
   "metadata": {},
   "outputs": [
    {
     "data": {
      "text/plain": [
       "{5}"
      ]
     },
     "execution_count": 250,
     "metadata": {},
     "output_type": "execute_result"
    }
   ],
   "source": [
    "# set1 de olup set2 de olmayan değerler\n",
    "set1.difference(set2)"
   ]
  },
  {
   "cell_type": "code",
   "execution_count": 251,
   "id": "755abaa9-dbf1-4be3-ba18-76b5f08bc49b",
   "metadata": {},
   "outputs": [
    {
     "data": {
      "text/plain": [
       "{2}"
      ]
     },
     "execution_count": 251,
     "metadata": {},
     "output_type": "execute_result"
    }
   ],
   "source": [
    "# set1 de olmayıp set2 de olanlar\n",
    "set2.difference(set1)"
   ]
  },
  {
   "cell_type": "code",
   "execution_count": 252,
   "id": "1d9a4397-0cfe-437d-adef-ddfe3aac154f",
   "metadata": {},
   "outputs": [
    {
     "data": {
      "text/plain": [
       "{2, 5}"
      ]
     },
     "execution_count": 252,
     "metadata": {},
     "output_type": "execute_result"
    }
   ],
   "source": [
    "# İkisine aynı anda bakmak istersek symmetric_difference\n",
    "# İkisinde de birbirinde olmayanlar\n",
    "set1.symmetric_difference(set2)"
   ]
  },
  {
   "cell_type": "code",
   "execution_count": 253,
   "id": "d0cadbc6-5eef-491b-bdbd-b94f0fd60d4f",
   "metadata": {},
   "outputs": [
    {
     "data": {
      "text/plain": [
       "{5}"
      ]
     },
     "execution_count": 253,
     "metadata": {},
     "output_type": "execute_result"
    }
   ],
   "source": [
    "set1 - set2"
   ]
  },
  {
   "cell_type": "code",
   "execution_count": 254,
   "id": "e3e02db3-f6b5-428b-b251-c2893809b0ed",
   "metadata": {},
   "outputs": [
    {
     "data": {
      "text/plain": [
       "{2}"
      ]
     },
     "execution_count": 254,
     "metadata": {},
     "output_type": "execute_result"
    }
   ],
   "source": [
    "set2 - set1"
   ]
  },
  {
   "cell_type": "markdown",
   "id": "6bd0e29d-3263-4ce1-bb5e-f59777cad4f6",
   "metadata": {},
   "source": [
    "##### Toplama islemi yapmak isterseniz hata alırsınız"
   ]
  },
  {
   "cell_type": "markdown",
   "id": "4a878fe3-ab3e-4910-a0dc-df8e4055af7f",
   "metadata": {},
   "source": [
    "#### intersection & union"
   ]
  },
  {
   "cell_type": "code",
   "execution_count": 255,
   "id": "71b211dd-e559-471d-9825-bde32fceec8d",
   "metadata": {},
   "outputs": [],
   "source": [
    "set1 = set([1,3,5])\n",
    "set2 = set([1,2,3])"
   ]
  },
  {
   "cell_type": "markdown",
   "id": "9148041f-ce39-4e23-9a95-f2ab0feb6df6",
   "metadata": {},
   "source": [
    "#### Kesişim"
   ]
  },
  {
   "cell_type": "code",
   "execution_count": 256,
   "id": "3d5768f3-5af9-4556-946c-1775419da354",
   "metadata": {},
   "outputs": [
    {
     "data": {
      "text/plain": [
       "{1, 3}"
      ]
     },
     "execution_count": 256,
     "metadata": {},
     "output_type": "execute_result"
    }
   ],
   "source": [
    "set1.intersection(set2)"
   ]
  },
  {
   "cell_type": "code",
   "execution_count": 257,
   "id": "423c798a-10c7-4f47-9778-5aa6671be440",
   "metadata": {},
   "outputs": [
    {
     "data": {
      "text/plain": [
       "{1, 3}"
      ]
     },
     "execution_count": 257,
     "metadata": {},
     "output_type": "execute_result"
    }
   ],
   "source": [
    "set2.intersection(set1)"
   ]
  },
  {
   "cell_type": "markdown",
   "id": "05a8c8a6-464b-4625-9708-4989f4031a02",
   "metadata": {},
   "source": [
    "##### Bazı degerlere ulaşıyoruz ama saklamıyoruz sadece çıktısına ulaştık"
   ]
  },
  {
   "cell_type": "markdown",
   "id": "bbeb3608-de12-422b-83df-61d803931476",
   "metadata": {},
   "source": [
    "##### Kesişim elemanlarını özel bir şekilde saklamak için"
   ]
  },
  {
   "cell_type": "code",
   "execution_count": 258,
   "id": "db22aa09-65a9-425d-bde1-2b7465423d10",
   "metadata": {},
   "outputs": [
    {
     "data": {
      "text/plain": [
       "{1, 3}"
      ]
     },
     "execution_count": 258,
     "metadata": {},
     "output_type": "execute_result"
    }
   ],
   "source": [
    "kesisim = set1 & set2\n",
    "kesisim"
   ]
  },
  {
   "cell_type": "markdown",
   "id": "a29ff8f2-319b-4595-b419-21f0a1200d86",
   "metadata": {},
   "source": [
    "#### Birleşim"
   ]
  },
  {
   "cell_type": "markdown",
   "id": "ae9cf61c-a411-42e0-99e7-2058885502f3",
   "metadata": {},
   "source": [
    "##### Her bir elemanı birer tane olacak şekilde birleşme işlemi gerçekleşmiş olacak"
   ]
  },
  {
   "cell_type": "code",
   "execution_count": 259,
   "id": "9e313861-9179-46d0-ae08-4b4b63e7ca33",
   "metadata": {},
   "outputs": [
    {
     "data": {
      "text/plain": [
       "{1, 2, 3, 5}"
      ]
     },
     "execution_count": 259,
     "metadata": {},
     "output_type": "execute_result"
    }
   ],
   "source": [
    "birlesim = set1.union(set2)\n",
    "birlesim"
   ]
  },
  {
   "cell_type": "markdown",
   "id": "3673bae5-93cb-4f7b-92be-7c3c74b08a13",
   "metadata": {},
   "source": [
    "###### Birlesim diyerek başka bir yere atamak yerine setlerin herhangi birisini güncelleyecek şekilde olması için:"
   ]
  },
  {
   "cell_type": "code",
   "execution_count": 260,
   "id": "4b6f46c7-4940-4961-9bf7-7bca3372fb05",
   "metadata": {},
   "outputs": [],
   "source": [
    "set1.intersection_update(set2)"
   ]
  },
  {
   "cell_type": "code",
   "execution_count": 261,
   "id": "e9cdbf12-69ed-4b93-92e8-35a856697158",
   "metadata": {},
   "outputs": [
    {
     "data": {
      "text/plain": [
       "{1, 3}"
      ]
     },
     "execution_count": 261,
     "metadata": {},
     "output_type": "execute_result"
    }
   ],
   "source": [
    "set1"
   ]
  },
  {
   "cell_type": "code",
   "execution_count": 262,
   "id": "36918320-06c2-421e-a2b7-0ceb0ec4ed08",
   "metadata": {},
   "outputs": [
    {
     "data": {
      "text/plain": [
       "{1, 2, 3}"
      ]
     },
     "execution_count": 262,
     "metadata": {},
     "output_type": "execute_result"
    }
   ],
   "source": [
    "set2"
   ]
  },
  {
   "cell_type": "code",
   "execution_count": 263,
   "id": "af6023f4-e28e-40cb-b28c-060870db5492",
   "metadata": {},
   "outputs": [
    {
     "data": {
      "text/plain": [
       "{1, 3}"
      ]
     },
     "execution_count": 263,
     "metadata": {},
     "output_type": "execute_result"
    }
   ],
   "source": [
    "kesisim"
   ]
  },
  {
   "cell_type": "markdown",
   "id": "67f9a5d6-33e2-4e08-828b-ee5203afadee",
   "metadata": {},
   "source": [
    "###### intersection: kesişim elemanlarını alır"
   ]
  },
  {
   "cell_type": "markdown",
   "id": "be3dcff4-0772-4d20-a02c-54d69b3362ab",
   "metadata": {},
   "source": [
    "### Setler - Sorgu Islemleri"
   ]
  },
  {
   "cell_type": "code",
   "execution_count": 264,
   "id": "77bdde0b-5403-4c37-a6a7-c0ca80ab18a2",
   "metadata": {},
   "outputs": [],
   "source": [
    "set1 = set([7,8,9])\n",
    "set2 = set([5,6,7,8,9,10])"
   ]
  },
  {
   "cell_type": "markdown",
   "id": "eb598f2d-1ea4-4b55-9df8-ac0ad91d48fa",
   "metadata": {},
   "source": [
    "===============\n",
    "###### Kod akışı içerisinde kümülatif bazı işlemler gerçekleşirken kesişimin boş olup olmadığı sorgulamak gibi bir set diğer seti kapsar mı? vs gibi sorgulamaların fonksiyonel anlamda yapıldığı işlemler demek\n",
    "==============="
   ]
  },
  {
   "cell_type": "markdown",
   "id": "61316a53-5a4c-4898-82a0-cf9e4fbf70fc",
   "metadata": {},
   "source": [
    "#### İki kümenin kesişiminin bos olup olmadığının sorgulanması:"
   ]
  },
  {
   "cell_type": "code",
   "execution_count": 265,
   "id": "cdbfab1d-53ca-4e76-be00-8a8f2a66c5ce",
   "metadata": {},
   "outputs": [
    {
     "data": {
      "text/plain": [
       "False"
      ]
     },
     "execution_count": 265,
     "metadata": {},
     "output_type": "execute_result"
    }
   ],
   "source": [
    "set1.isdisjoint(set2)"
   ]
  },
  {
   "cell_type": "markdown",
   "id": "814b7bd6-653c-48ac-a5bd-be494ada462e",
   "metadata": {},
   "source": [
    "###### Hayır bu iki kümenin kesişimi boş değildir [7,8,9] iki kümede de var"
   ]
  },
  {
   "cell_type": "code",
   "execution_count": 266,
   "id": "20e3a847-9c76-45cc-b0b1-2d649630b7a7",
   "metadata": {},
   "outputs": [
    {
     "data": {
      "text/plain": [
       "{7, 8, 9}"
      ]
     },
     "execution_count": 266,
     "metadata": {},
     "output_type": "execute_result"
    }
   ],
   "source": [
    "set1.intersection(set2)"
   ]
  },
  {
   "cell_type": "markdown",
   "id": "047829e6-b50b-40f2-a7c0-98516c42a7f6",
   "metadata": {},
   "source": [
    "#### Bir kümenin bütün elemanlarının başka bir küme içerisinde yer alıp almadığı:"
   ]
  },
  {
   "cell_type": "code",
   "execution_count": 267,
   "id": "eca58770-b562-4a10-baf3-e0882b2730d4",
   "metadata": {},
   "outputs": [
    {
     "data": {
      "text/plain": [
       "True"
      ]
     },
     "execution_count": 267,
     "metadata": {},
     "output_type": "execute_result"
    }
   ],
   "source": [
    "set1.issubset(set2) # set1 in bütün elemanları set2 de var [7,8,9]"
   ]
  },
  {
   "cell_type": "markdown",
   "id": "aaaf34bb-056d-4290-ab44-51ad833b7ac9",
   "metadata": {},
   "source": [
    "#### Bir kümenin bir diğer kümeyi kapsayıp kapsamadığı"
   ]
  },
  {
   "cell_type": "code",
   "execution_count": 268,
   "id": "120f7b4b-05bf-40fe-bfaf-45d0f1a8c61b",
   "metadata": {},
   "outputs": [
    {
     "data": {
      "text/plain": [
       "True"
      ]
     },
     "execution_count": 268,
     "metadata": {},
     "output_type": "execute_result"
    }
   ],
   "source": [
    "set2.issuperset(set1) # set2 , set1'i kapsıyor mu"
   ]
  },
  {
   "attachments": {
    "30f7045b-38f1-465b-9d69-999c8118ff48.png": {
     "image/png": "[encoded data removed]"
    }
   },
   "cell_type": "markdown",
   "id": "c42d9146-79b9-4c3f-bfcc-1ba130951112",
   "metadata": {},
   "source": [
    "![image.png](attachment:30f7045b-38f1-465b-9d69-999c8118ff48.png)"
   ]
  },
  {
   "cell_type": "markdown",
   "id": "7ec60dc8-dc36-4ffe-adc9-273aeb22e541",
   "metadata": {},
   "source": [
    " "
   ]
  },
  {
   "cell_type": "markdown",
   "id": "4c212881-f93e-405f-9e1d-416f5e1e4aff",
   "metadata": {},
   "source": [
    "## Python Programlama Alıştırmalar - 4"
   ]
  },
  {
   "cell_type": "markdown",
   "id": "58101766-6306-4602-bf83-4b33b1d61673",
   "metadata": {},
   "source": [
    "##### Soru 1:\n",
    "##### Aşağıdakilerden hangisi listelerin özelliklerinden değildir?"
   ]
  },
  {
   "cell_type": "markdown",
   "id": "4a04c176-dcad-4da7-9344-92895373b948",
   "metadata": {},
   "source": [
    "###### -Değiştirilemez"
   ]
  },
  {
   "cell_type": "markdown",
   "id": "171ca2ee-319f-4bfb-be13-dc4acea7621d",
   "metadata": {},
   "source": [
    "##### Soru 2:\n",
    "##### Aşağıdakilerden hangisi tupleların özelliklerinden değildir?"
   ]
  },
  {
   "cell_type": "markdown",
   "id": "d8d013a7-92bc-4d1b-9d70-092d6ad199be",
   "metadata": {},
   "source": [
    "###### -Değiştirilebilir"
   ]
  },
  {
   "cell_type": "markdown",
   "id": "e203c2b4-49ec-4dce-808e-1a77af96b8e6",
   "metadata": {},
   "source": [
    "##### Soru 3:\n",
    "##### Aşağıdakilerden hangisi sözlük özelliklerinden değildir?"
   ]
  },
  {
   "cell_type": "markdown",
   "id": "bf6b65fa-73e1-44bf-8be6-a2ea8e56d0af",
   "metadata": {},
   "source": [
    "###### -Sıralıdır"
   ]
  },
  {
   "cell_type": "markdown",
   "id": "199937d6-b8fd-4239-8b75-6c02a8ed73f1",
   "metadata": {},
   "source": [
    "##### Soru 4:\n",
    "##### Aşağıdakilerden hangisi setlerin özelliklerinden değildir?"
   ]
  },
  {
   "cell_type": "markdown",
   "id": "72ca2248-875e-4267-adbd-d093f8efdcf3",
   "metadata": {},
   "source": [
    "###### -Değiştirilemezdir"
   ]
  },
  {
   "cell_type": "markdown",
   "id": "df920c2c-c7fe-4abf-9845-1ed90d410c84",
   "metadata": {},
   "source": [
    "##### Soru 5:\n",
    "##### Bir liste tanımlanmak istendiğinde aşağıdakilerden hangisini kullanılır?"
   ]
  },
  {
   "cell_type": "markdown",
   "id": "d5fe4929-7111-4f21-b5d6-9663e3ae5758",
   "metadata": {},
   "source": [
    "###### []"
   ]
  },
  {
   "cell_type": "markdown",
   "id": "3aa613c8-542e-4d43-a9a8-576e1cfe6417",
   "metadata": {},
   "source": [
    "##### Soru 6:\n",
    "##### \"()\" ifadesi ile tanımlanan veri yapısı aşağıdakilerden hangisidir?"
   ]
  },
  {
   "cell_type": "markdown",
   "id": "5a5b0e16-4432-4735-b8bf-48406306cd9f",
   "metadata": {},
   "source": [
    "###### -Tuple"
   ]
  },
  {
   "cell_type": "markdown",
   "id": "ac905981-9861-40de-8807-e4d5e28e6d8b",
   "metadata": {},
   "source": [
    "##### Soru 7:\n",
    "##### \"{}\" ifadesi ile tanımlanan veri yapısı aşağıdakilerden hangisidir?"
   ]
  },
  {
   "cell_type": "markdown",
   "id": "753d2c87-fd20-4ace-b532-c229e040f39f",
   "metadata": {},
   "source": [
    "###### -Sözlük(dictionary)"
   ]
  },
  {
   "cell_type": "markdown",
   "id": "995c523d-7115-4c9a-9af9-b5ee8146a15a",
   "metadata": {},
   "source": [
    "##### Soru 8:\n",
    "##### liste = [\"A\",\"B\",\"C\"]\n",
    "\n",
    "##### Yukarıdaki listeye \"D\" ifadesini eklemek için aşağıdakilerden kodlardan hangisini yazmak gerekir?"
   ]
  },
  {
   "cell_type": "code",
   "execution_count": 269,
   "id": "b0cbdf63-baab-4c8d-9e6b-c89459b511f2",
   "metadata": {},
   "outputs": [],
   "source": [
    "liste = [\"A\",\"B\",\"C\"]"
   ]
  },
  {
   "cell_type": "code",
   "execution_count": 270,
   "id": "aa6365fd-5797-4a51-b460-94feb4003038",
   "metadata": {},
   "outputs": [],
   "source": [
    "liste.append(\"D\")"
   ]
  },
  {
   "cell_type": "code",
   "execution_count": 271,
   "id": "4b3b3b46-c89c-4f33-b515-4fcd26c8c7ea",
   "metadata": {},
   "outputs": [
    {
     "data": {
      "text/plain": [
       "['A', 'B', 'C', 'D']"
      ]
     },
     "execution_count": 271,
     "metadata": {},
     "output_type": "execute_result"
    }
   ],
   "source": [
    "liste"
   ]
  },
  {
   "cell_type": "markdown",
   "id": "e610addc-f706-4469-a8c8-1d81b240997b",
   "metadata": {},
   "source": [
    "##### Soru 9:\n",
    "##### liste = [\"A\",\"B\",\"C\"]\n",
    "\n",
    "##### Yukarıdaki listeye \"D\" ifadesini 0. indekse eklemek için aşağıdaki kodlardan hangisini yazmak gerekir?"
   ]
  },
  {
   "cell_type": "code",
   "execution_count": 272,
   "id": "fee5b7f8-d03c-4355-b1fc-c95de761c2cf",
   "metadata": {},
   "outputs": [],
   "source": [
    "liste = [\"A\",\"B\",\"C\"]"
   ]
  },
  {
   "cell_type": "code",
   "execution_count": 273,
   "id": "c2e88569-1466-4e4e-8071-8e1542ab042c",
   "metadata": {},
   "outputs": [],
   "source": [
    "liste.insert(0, \"D\")"
   ]
  },
  {
   "cell_type": "code",
   "execution_count": 274,
   "id": "bfaf4295-238b-4855-9d01-3176d4566e41",
   "metadata": {},
   "outputs": [
    {
     "data": {
      "text/plain": [
       "['D', 'A', 'B', 'C']"
      ]
     },
     "execution_count": 274,
     "metadata": {},
     "output_type": "execute_result"
    }
   ],
   "source": [
    "liste"
   ]
  },
  {
   "cell_type": "markdown",
   "id": "c08bff59-8d1a-4270-9eb4-8c0e46907b0f",
   "metadata": {},
   "source": [
    "##### Soru 10:\n",
    "##### Verilen “sozluk” ismindeki veri yapısının içerisine key ve ##### value değerleri ile birlikte yeni bir eleman nasıl eklenir?"
   ]
  },
  {
   "cell_type": "code",
   "execution_count": 275,
   "id": "7261a615-1afc-4b92-8ee8-c1eb8501bddd",
   "metadata": {},
   "outputs": [],
   "source": [
    "sozluk = {\"reg\" : \"regresyon modeli\",\n",
    "\"loj\" : \"lojistik regresyon\",\n",
    "\"cart\" : \"classification and regression trees\"}"
   ]
  },
  {
   "cell_type": "code",
   "execution_count": 276,
   "id": "8df6c083-21fd-4af4-bd6b-17d3703f68a0",
   "metadata": {},
   "outputs": [],
   "source": [
    "sozluk[\"gbm\"]=\"gradient boosting machines\""
   ]
  },
  {
   "cell_type": "code",
   "execution_count": 277,
   "id": "c1ec624a-d368-4209-8767-de0f6e6d4ecd",
   "metadata": {},
   "outputs": [
    {
     "data": {
      "text/plain": [
       "{'reg': 'regresyon modeli',\n",
       " 'loj': 'lojistik regresyon',\n",
       " 'cart': 'classification and regression trees',\n",
       " 'gbm': 'gradient boosting machines'}"
      ]
     },
     "execution_count": 277,
     "metadata": {},
     "output_type": "execute_result"
    }
   ],
   "source": [
    "sozluk"
   ]
  },
  {
   "cell_type": "markdown",
   "id": "7a14d9f8-07b3-45ce-b413-ae846ee8c09f",
   "metadata": {},
   "source": [
    "## Python Programlama Alıştırmalar - 5"
   ]
  },
  {
   "cell_type": "markdown",
   "id": "6fcbf58b-191b-49e9-892f-92b70e2ff59f",
   "metadata": {},
   "source": [
    "##### Soru 1:\n",
    "##### Verilen “sozluk” ismindeki nesne içerisinden LOJ ifadesinin MSE değerine nasıl ulaşılır?"
   ]
  },
  {
   "cell_type": "code",
   "execution_count": 278,
   "id": "9832cadf-a8b0-4d04-b40a-22d4c74be068",
   "metadata": {},
   "outputs": [],
   "source": [
    "sozluk = {\n",
    " \n",
    "\"REG\" : {\"RMSE\": 10,\n",
    "\"MSE\": 11,\n",
    "\"SSE\": 12},\n",
    " \n",
    "\"LOJ\" : {\"RMSE\": 111,\n",
    "\"MSE\": 2222,\n",
    "\"SSE\": 333},\n",
    " \n",
    "\"CART\" : {\"RMSE\": 99,\n",
    "\"MSE\": 00,\n",
    "\"SSE\": 66}}"
   ]
  },
  {
   "cell_type": "code",
   "execution_count": 279,
   "id": "062852e8-2f8d-4283-a24b-32481b00e6f9",
   "metadata": {},
   "outputs": [
    {
     "data": {
      "text/plain": [
       "2222"
      ]
     },
     "execution_count": 279,
     "metadata": {},
     "output_type": "execute_result"
    }
   ],
   "source": [
    "sozluk[\"LOJ\"][\"MSE\"]"
   ]
  },
  {
   "cell_type": "markdown",
   "id": "6966d1e4-ad3c-49eb-be7b-ed0fea6b77f0",
   "metadata": {},
   "source": [
    "##### Soru 2:\n",
    "##### Verilen örnek kodun çıktısı nedir?"
   ]
  },
  {
   "cell_type": "code",
   "execution_count": 280,
   "id": "87d51f0d-724c-41b2-ab63-267cece00b85",
   "metadata": {},
   "outputs": [
    {
     "data": {
      "text/plain": [
       "66"
      ]
     },
     "execution_count": 280,
     "metadata": {},
     "output_type": "execute_result"
    }
   ],
   "source": [
    "sozluk = {\"REG\" : {\"RMSE\": 10,\n",
    "\"MSE\": 11,\n",
    "\"SSE\": 12},\n",
    " \n",
    "\"LOJ\" : {\"RMSE\": 111,\n",
    "\"MSE\": 2222,\n",
    "\"SSE\": 333},\n",
    " \n",
    "\"CART\" : {\"RMSE\": 99,\n",
    "\"MSE\": 00,\n",
    "\"SSE\": 66}}\n",
    " \n",
    " \n",
    "sozluk[\"CART\"][\"SSE\"]"
   ]
  },
  {
   "cell_type": "markdown",
   "id": "717f3d26-d0cf-4449-9132-8a00c7a9a055",
   "metadata": {},
   "source": [
    "##### Soru 3:\n",
    "##### Verilen örnek kod ile yapılan işlem nedir?"
   ]
  },
  {
   "cell_type": "code",
   "execution_count": 281,
   "id": "725f5fc7-0845-4fb4-9dc9-76b449187cfe",
   "metadata": {},
   "outputs": [
    {
     "data": {
      "text/plain": [
       "{1, 3, 6, 19}"
      ]
     },
     "execution_count": 281,
     "metadata": {},
     "output_type": "execute_result"
    }
   ],
   "source": [
    "set([1,3,6,19])"
   ]
  },
  {
   "cell_type": "markdown",
   "id": "b2baa341-8771-4ab5-9586-f4d970eca1a2",
   "metadata": {},
   "source": [
    "###### - liste üzerinden set oluşturulmuştur"
   ]
  },
  {
   "cell_type": "markdown",
   "id": "47357299-7029-4fd9-86fe-7e69186faffb",
   "metadata": {},
   "source": [
    "##### Soru 4:\n",
    "##### Verilen kodun çıktısı nedir?"
   ]
  },
  {
   "cell_type": "code",
   "execution_count": 282,
   "id": "b9d8e16b-44d2-4086-afed-78ab0ab1bf8c",
   "metadata": {},
   "outputs": [
    {
     "data": {
      "text/plain": [
       "{6}"
      ]
     },
     "execution_count": 282,
     "metadata": {},
     "output_type": "execute_result"
    }
   ],
   "source": [
    "set1 = set([5,7,9])\n",
    "set2 = set([5,6,7])\n",
    "set2.difference(set1)"
   ]
  },
  {
   "cell_type": "markdown",
   "id": "0658bd1a-8bfd-4ebe-a3b9-221cbb51067b",
   "metadata": {},
   "source": [
    "##### Soru 5:\n",
    "##### Verilen kodun çıktısı nedir?"
   ]
  },
  {
   "cell_type": "code",
   "execution_count": 283,
   "id": "b9b6215e-a212-47c3-bcff-c23acd413a4a",
   "metadata": {},
   "outputs": [
    {
     "data": {
      "text/plain": [
       "{9}"
      ]
     },
     "execution_count": 283,
     "metadata": {},
     "output_type": "execute_result"
    }
   ],
   "source": [
    "set1 = set([5,7,9])\n",
    "set2 = set([5,6,7])\n",
    "set1.difference(set2)"
   ]
  },
  {
   "cell_type": "markdown",
   "id": "5ec8b680-3921-40db-95f0-8d4c12704d3e",
   "metadata": {},
   "source": [
    "##### Soru 6:\n",
    "##### Verilen örnek kodun çıktısı nedir?"
   ]
  },
  {
   "cell_type": "code",
   "execution_count": 284,
   "id": "9903cbed-0c65-4cf5-8472-787f43f2a99f",
   "metadata": {},
   "outputs": [
    {
     "data": {
      "text/plain": [
       "{6, 9}"
      ]
     },
     "execution_count": 284,
     "metadata": {},
     "output_type": "execute_result"
    }
   ],
   "source": [
    "set1 = set([5,7,9])\n",
    "set2 = set([5,6,7])\n",
    "set1.symmetric_difference(set2)"
   ]
  },
  {
   "cell_type": "markdown",
   "id": "9fb0b312-fb62-4824-b060-f89039c19a0b",
   "metadata": {},
   "source": [
    "##### Soru 7:\n",
    "##### Verilen örnek kodun çıktısı nedir?"
   ]
  },
  {
   "cell_type": "code",
   "execution_count": 285,
   "id": "2f33c642-6bf1-48f3-a7c4-e16340f19ea9",
   "metadata": {},
   "outputs": [
    {
     "data": {
      "text/plain": [
       "{5, 6, 7, 9}"
      ]
     },
     "execution_count": 285,
     "metadata": {},
     "output_type": "execute_result"
    }
   ],
   "source": [
    "set1 = set([5,7,9])\n",
    "set2 = set([5,6,7])\n",
    "set1.union(set2)"
   ]
  },
  {
   "cell_type": "markdown",
   "id": "19460da5-83ce-4985-8af4-557bf140ab90",
   "metadata": {},
   "source": [
    "###### - iki küme birleştirilmiştir"
   ]
  },
  {
   "cell_type": "markdown",
   "id": "77cdaa69-eadb-4445-a6da-eed811934189",
   "metadata": {},
   "source": [
    "##### Soru 8:\n",
    "##### Verilen örnek kodun çıktısı nedir?"
   ]
  },
  {
   "cell_type": "code",
   "execution_count": 286,
   "id": "09500b19-dfa3-4845-8b81-3f8a738a2df6",
   "metadata": {},
   "outputs": [
    {
     "data": {
      "text/plain": [
       "4"
      ]
     },
     "execution_count": 286,
     "metadata": {},
     "output_type": "execute_result"
    }
   ],
   "source": [
    "liste = [1,1,2,3,4,5,1,2,1]\n",
    "liste.count(1)"
   ]
  },
  {
   "cell_type": "markdown",
   "id": "a4cd36e7-a4b0-4b59-a47d-8aea330081a3",
   "metadata": {},
   "source": [
    "##### Soru 9:\n",
    "##### Bir listeye index sırasına göre eleman eklemek için hangi metod kullanılır."
   ]
  },
  {
   "cell_type": "markdown",
   "id": "4960ae57-6f58-4017-8089-e8de6d05e9a5",
   "metadata": {},
   "source": [
    "###### -insert()"
   ]
  },
  {
   "cell_type": "markdown",
   "id": "61fda8a1-d8c7-4c61-aef5-1b2a039e2a18",
   "metadata": {},
   "source": [
    "##### Soru 10:\n",
    "##### Verilen örnek kodun çıktısı nedir?"
   ]
  },
  {
   "cell_type": "code",
   "execution_count": 287,
   "id": "069b5f4e-1875-4ef3-b2a4-69e8934e0ecf",
   "metadata": {},
   "outputs": [
    {
     "data": {
      "text/plain": [
       "[10, 30, 40]"
      ]
     },
     "execution_count": 287,
     "metadata": {},
     "output_type": "execute_result"
    }
   ],
   "source": [
    "liste = [10,20,30,40]\n",
    "liste.pop(1)\n",
    "liste"
   ]
  },
  {
   "cell_type": "markdown",
   "id": "b769e9aa-7c81-4ba4-ac50-1d670b8f67a9",
   "metadata": {},
   "source": [
    "## Python Programlama Alıştırmalar - 6"
   ]
  },
  {
   "cell_type": "markdown",
   "id": "4d48eee4-f455-42e5-8d1d-da908056c37c",
   "metadata": {},
   "source": [
    "##### Soru 1:\n",
    "##### Verilen örnek kodun çıktısı nedir?"
   ]
  },
  {
   "cell_type": "code",
   "execution_count": 288,
   "id": "6815c3c1-caa5-4079-b854-5ef828565cd7",
   "metadata": {},
   "outputs": [
    {
     "data": {
      "text/plain": [
       "['a', 'b', 'c', 'a', 'b', 'c']"
      ]
     },
     "execution_count": 288,
     "metadata": {},
     "output_type": "execute_result"
    }
   ],
   "source": [
    "liste = [\"a\",\"b\",\"c\"]\n",
    "liste.extend(liste)\n",
    "liste"
   ]
  },
  {
   "cell_type": "markdown",
   "id": "281d8a5a-5f67-49f2-9765-532ebb31d23c",
   "metadata": {},
   "source": [
    "##### Soru 2:\n",
    "##### Bir listeden index sırasına göre eleman silmek için hangi metod kullanılır."
   ]
  },
  {
   "cell_type": "markdown",
   "id": "b11b4c2b-f775-4097-82ca-c90ef1366758",
   "metadata": {},
   "source": [
    "###### -pop()"
   ]
  },
  {
   "cell_type": "markdown",
   "id": "4e08e62e-17c8-4fc9-a71f-12f7217d067e",
   "metadata": {},
   "source": [
    "##### Soru 3:\n",
    "##### Verilen örnek kodun çıktısı nedir?"
   ]
  },
  {
   "cell_type": "code",
   "execution_count": 289,
   "id": "c53415be-d4f2-4424-a13e-df2e31b16b2a",
   "metadata": {},
   "outputs": [
    {
     "data": {
      "text/plain": [
       "['c', 'b', 'a']"
      ]
     },
     "execution_count": 289,
     "metadata": {},
     "output_type": "execute_result"
    }
   ],
   "source": [
    "liste = [\"a\",\"b\",\"c\"]\n",
    "liste.reverse()\n",
    "liste"
   ]
  },
  {
   "cell_type": "markdown",
   "id": "79b67dfa-040a-4eae-894c-70d83012c363",
   "metadata": {},
   "source": [
    "##### Soru 4:\n",
    "##### Verilen örnek kod parçasının çıktısı nedir?"
   ]
  },
  {
   "cell_type": "code",
   "execution_count": 290,
   "id": "4e0f8701-e5f9-474f-be50-b270b3c9d5dc",
   "metadata": {},
   "outputs": [
    {
     "ename": "TypeError",
     "evalue": "'tuple' object does not support item assignment",
     "output_type": "error",
     "traceback": [
      "\u001b[1;31m---------------------------------------------------------------------------\u001b[0m",
      "\u001b[1;31mTypeError\u001b[0m                                 Traceback (most recent call last)",
      "\u001b[1;32m~\\AppData\\Local\\Temp\\ipykernel_3340\\3556396506.py\u001b[0m in \u001b[0;36m<module>\u001b[1;34m\u001b[0m\n\u001b[0;32m      1\u001b[0m \u001b[0mt\u001b[0m \u001b[1;33m=\u001b[0m \u001b[1;33m(\u001b[0m\u001b[1;34m\"a\"\u001b[0m\u001b[1;33m,\u001b[0m\u001b[1;36m10\u001b[0m\u001b[1;33m,\u001b[0m\u001b[1;34m\"b\"\u001b[0m\u001b[1;33m)\u001b[0m\u001b[1;33m\u001b[0m\u001b[1;33m\u001b[0m\u001b[0m\n\u001b[1;32m----> 2\u001b[1;33m \u001b[0mt\u001b[0m\u001b[1;33m[\u001b[0m\u001b[1;36m0\u001b[0m\u001b[1;33m]\u001b[0m \u001b[1;33m=\u001b[0m \u001b[1;36m1\u001b[0m\u001b[1;33m\u001b[0m\u001b[1;33m\u001b[0m\u001b[0m\n\u001b[0m",
      "\u001b[1;31mTypeError\u001b[0m: 'tuple' object does not support item assignment"
     ]
    }
   ],
   "source": [
    "t = (\"a\",10,\"b\")\n",
    "t[0] = 1"
   ]
  },
  {
   "cell_type": "markdown",
   "id": "7e0290e2-6115-4cf1-89bc-c6f787da55b3",
   "metadata": {},
   "source": [
    "###### -Hata üretir. (Tuple lar değiştirilemezdir)"
   ]
  },
  {
   "cell_type": "markdown",
   "id": "40254508-8a7f-4269-930b-1f92640ef387",
   "metadata": {},
   "source": [
    "##### Soru 5:\n",
    "##### Verilen kod parçasının çıktısı nedir?"
   ]
  },
  {
   "cell_type": "code",
   "execution_count": 291,
   "id": "0fdf9eff-66f9-47b6-80ca-6a0cdc4429ca",
   "metadata": {},
   "outputs": [
    {
     "data": {
      "text/plain": [
       "1"
      ]
     },
     "execution_count": 291,
     "metadata": {},
     "output_type": "execute_result"
    }
   ],
   "source": [
    "liste = [\"a\",\"b\",\"c\"]\n",
    "liste.index(\"b\")"
   ]
  },
  {
   "cell_type": "markdown",
   "id": "3aedda06-3e69-40d9-9bce-17663005c61d",
   "metadata": {},
   "source": [
    "##### Soru 6:\n",
    "##### Verilen kod parçasının çıktısı nedir?"
   ]
  },
  {
   "cell_type": "code",
   "execution_count": 292,
   "id": "dd1239d0-619b-4487-95eb-82b8ef80cb1c",
   "metadata": {},
   "outputs": [
    {
     "data": {
      "text/plain": [
       "[10, 30, 40, 50]"
      ]
     },
     "execution_count": 292,
     "metadata": {},
     "output_type": "execute_result"
    }
   ],
   "source": [
    "liste = [50,10,30,40]\n",
    "liste.sort()\n",
    "liste"
   ]
  },
  {
   "cell_type": "markdown",
   "id": "d7a1f275-c1fb-4895-8da2-473bbf2b09c1",
   "metadata": {},
   "source": [
    "##### Soru 7:\n",
    "##### Verilen kod parçasının çıktısı nedir?"
   ]
  },
  {
   "cell_type": "code",
   "execution_count": 293,
   "id": "37c351b1-2915-4780-af2e-1fb329ea490d",
   "metadata": {},
   "outputs": [
    {
     "data": {
      "text/plain": [
       "[]"
      ]
     },
     "execution_count": 293,
     "metadata": {},
     "output_type": "execute_result"
    }
   ],
   "source": [
    "liste = [10,10,20,40]\n",
    "liste.clear()\n",
    "liste"
   ]
  },
  {
   "cell_type": "markdown",
   "id": "c54aed54-3cc9-4abf-b444-04543ff53c13",
   "metadata": {},
   "source": [
    "##### Soru 8:\n",
    "##### İki kümenin kesişiminin boş olup olmadığının sorgulanması için hangi metod kullanılır?"
   ]
  },
  {
   "cell_type": "markdown",
   "id": "a56328ff-3aa2-4586-a62e-293c9a9835ab",
   "metadata": {},
   "source": [
    "###### -idisjoint()"
   ]
  },
  {
   "cell_type": "markdown",
   "id": "660fd1cb-4a81-4400-9f1a-f6e0f9942b95",
   "metadata": {},
   "source": [
    "##### Soru 9:\n",
    "##### Bir kümenin tüm elemanlarının başka bir küme içerisinde yer alıp almadığı hangi metod ile kontrol edilir?"
   ]
  },
  {
   "cell_type": "markdown",
   "id": "ceffd8bb-64e2-46dd-8c1b-a096d4ccaca9",
   "metadata": {},
   "source": [
    "###### -issubset()"
   ]
  },
  {
   "cell_type": "markdown",
   "id": "976e1a90-c20a-4980-9105-1f9687ba4f36",
   "metadata": {},
   "source": [
    "##### Soru 10:\n",
    "##### Bir kümenin bir diğer kümeyi tamamen kapsayıp kapsamadığını kontrol etmek için hangi metod kullanılır."
   ]
  },
  {
   "cell_type": "markdown",
   "id": "91decae2-eb83-4d50-a61c-e8152c2ded1b",
   "metadata": {},
   "source": [
    "###### -issuperset()"
   ]
  },
  {
   "cell_type": "markdown",
   "id": "ccb00712-9151-4c9f-8619-0a4f1680022e",
   "metadata": {},
   "source": [
    "## FONKSIYONLARA GIRIS VE FONKSIYON OKURYAZARLIGI"
   ]
  },
  {
   "cell_type": "markdown",
   "id": "f089a602-f27f-4aa2-a0c3-1f6a4f495ea2",
   "metadata": {},
   "source": [
    "##### Bu programlama dilini ihtiyaçlara göre özelleştirerek kullanmak için hazır kütüphaneler ve fonksiyonlar var\n",
    "##### Implementasyon (entegre etmek) için kullanabilmeliyiz\n",
    "\n",
    "##### Karmaşık işlemlerde sık tekrar eden ve her seferinde tekrar yapmak istemediğimiz işlemler için fonksiyon kullanılır"
   ]
  },
  {
   "cell_type": "code",
   "execution_count": 294,
   "id": "a3645513-8de2-4070-abce-f726a4b8fd97",
   "metadata": {},
   "outputs": [
    {
     "name": "stdout",
     "output_type": "stream",
     "text": [
      "\n"
     ]
    }
   ],
   "source": [
    "print()"
   ]
  },
  {
   "cell_type": "code",
   "execution_count": 295,
   "id": "a933971b-aa5c-4156-94e6-b33b1218a52e",
   "metadata": {},
   "outputs": [
    {
     "data": {
      "text/plain": [
       "<function print>"
      ]
     },
     "execution_count": 295,
     "metadata": {},
     "output_type": "execute_result"
    }
   ],
   "source": [
    "print"
   ]
  },
  {
   "cell_type": "code",
   "execution_count": 296,
   "id": "073fa614-59e4-48b0-849f-9cf35d61353e",
   "metadata": {},
   "outputs": [
    {
     "data": {
      "text/plain": [
       "\u001b[1;31mDocstring:\u001b[0m\n",
       "print(value, ..., sep=' ', end='\\n', file=sys.stdout, flush=False)\n",
       "\n",
       "Prints the values to a stream, or to sys.stdout by default.\n",
       "Optional keyword arguments:\n",
       "file:  a file-like object (stream); defaults to the current sys.stdout.\n",
       "sep:   string inserted between values, default a space.\n",
       "end:   string appended after the last value, default a newline.\n",
       "flush: whether to forcibly flush the stream.\n",
       "\u001b[1;31mType:\u001b[0m      builtin_function_or_method\n"
      ]
     },
     "metadata": {},
     "output_type": "display_data"
    }
   ],
   "source": [
    "?print"
   ]
  },
  {
   "cell_type": "markdown",
   "id": "8e17255f-66f3-4625-936f-ca1bd182bdc5",
   "metadata": {},
   "source": [
    "##### Fonksiyonun dokumantasyonunu çağırır.\n",
    "##### file: Fonksiyonun argumanıdır. \n",
    "##### Argumanlar, fonksiyonların genel amaçlarını özelleştirip farklı şekillerde biçimlendirmeye yarayan görevcilerdir"
   ]
  },
  {
   "cell_type": "markdown",
   "id": "49015b86-75b5-4193-b0d7-7b7eee63b0bf",
   "metadata": {},
   "source": [
    "#### sep: iki değeri boşluk yerine _ ile getirmek istediğimizde kullanılabilir\n",
    "#### sep fonksiyonunu kullanılırken değerlerin arasına bir string yerleştirilmelidir."
   ]
  },
  {
   "cell_type": "code",
   "execution_count": 297,
   "id": "4162d4c4-6df5-4ae4-b86c-e478bd1b3ad4",
   "metadata": {},
   "outputs": [
    {
     "name": "stdout",
     "output_type": "stream",
     "text": [
      "a_b\n"
     ]
    }
   ],
   "source": [
    "print(\"a\",\"b\", sep =\"_\")"
   ]
  },
  {
   "cell_type": "code",
   "execution_count": 298,
   "id": "d2266ae4-2c9b-42cf-91bb-73e5ecb02045",
   "metadata": {},
   "outputs": [
    {
     "ename": "SyntaxError",
     "evalue": "invalid syntax (908149521.py, line 1)",
     "output_type": "error",
     "traceback": [
      "\u001b[1;36m  File \u001b[1;32m\"C:\\Users\\Seher\\AppData\\Local\\Temp\\ipykernel_3340\\908149521.py\"\u001b[1;36m, line \u001b[1;32m1\u001b[0m\n\u001b[1;33m    print(\"a\",\"b\", sep =\"_\", end = , )\u001b[0m\n\u001b[1;37m                                   ^\u001b[0m\n\u001b[1;31mSyntaxError\u001b[0m\u001b[1;31m:\u001b[0m invalid syntax\n"
     ]
    }
   ],
   "source": [
    "print(\"a\",\"b\", sep =\"_\", end = , )"
   ]
  },
  {
   "cell_type": "code",
   "execution_count": 299,
   "id": "3939770c-c636-4597-9e15-839ac1bcb47e",
   "metadata": {},
   "outputs": [
    {
     "name": "stdout",
     "output_type": "stream",
     "text": [
      "a_b,"
     ]
    }
   ],
   "source": [
    "print(\"a\",\"b\", sep =\"_\", end = \",\" )"
   ]
  },
  {
   "cell_type": "code",
   "execution_count": 300,
   "id": "aac62d48-f3c1-43f3-9697-687e7a09ec3d",
   "metadata": {},
   "outputs": [],
   "source": [
    "# print()\n",
    "#?print #help menüsünde detaylı bilgiye erişebiliriz"
   ]
  },
  {
   "cell_type": "markdown",
   "id": "4b52a96f-1d37-4752-8e8e-6a84df5bf25e",
   "metadata": {},
   "source": [
    "=========================\n",
    "##### print(değer, ..., sep=' ', bitiş='\\n', dosya=sys.stdout, flush=Yanlış)\n",
    "\n",
    "#### Değerleri bir akışa veya varsayılan olarak sys.stdout'a yazdırır.\n",
    "\n",
    "#### İsteğe bağlı anahtar kelime bağımsız değişkenleri: \n",
    "\n",
    "##### file: dosya benzeri bir nesne (akım); geçerli sys.stdout için varsayılandır.\n",
    "##### sep: değerler arasına eklenen dize, varsayılan olarak bir boşluk.\n",
    "##### end: son değerden sonra eklenen dize, varsayılan olarak yeni bir satır.\n",
    "##### flush: akışın zorla boşaltılıp yıkanmayacağı.\n",
    "##### Type: yerleşik_işlev_veya_yöntem\n",
    "========================="
   ]
  },
  {
   "cell_type": "code",
   "execution_count": 301,
   "id": "24b9a232-a9da-4ab8-9c74-7baac413c877",
   "metadata": {},
   "outputs": [
    {
     "ename": "TypeError",
     "evalue": "len() takes exactly one argument (0 given)",
     "output_type": "error",
     "traceback": [
      "\u001b[1;31m---------------------------------------------------------------------------\u001b[0m",
      "\u001b[1;31mTypeError\u001b[0m                                 Traceback (most recent call last)",
      "\u001b[1;32m~\\AppData\\Local\\Temp\\ipykernel_3340\\2561662683.py\u001b[0m in \u001b[0;36m<module>\u001b[1;34m\u001b[0m\n\u001b[1;32m----> 1\u001b[1;33m \u001b[0mlen\u001b[0m\u001b[1;33m(\u001b[0m\u001b[1;33m)\u001b[0m\u001b[1;33m\u001b[0m\u001b[1;33m\u001b[0m\u001b[0m\n\u001b[0m\u001b[0;32m      2\u001b[0m \u001b[1;31m#len fonksiyoununa hiç arguman vermedin\u001b[0m\u001b[1;33m\u001b[0m\u001b[1;33m\u001b[0m\u001b[0m\n",
      "\u001b[1;31mTypeError\u001b[0m: len() takes exactly one argument (0 given)"
     ]
    }
   ],
   "source": [
    "len()\n",
    "#len fonksiyoununa hiç arguman vermedin"
   ]
  },
  {
   "cell_type": "code",
   "execution_count": 302,
   "id": "1100fb23-5bb4-4b66-9c16-cacd0a934d5c",
   "metadata": {},
   "outputs": [
    {
     "data": {
      "text/plain": [
       "1"
      ]
     },
     "execution_count": 302,
     "metadata": {},
     "output_type": "execute_result"
    }
   ],
   "source": [
    "len(\"a\")\n",
    "#1"
   ]
  },
  {
   "cell_type": "code",
   "execution_count": 303,
   "id": "1105ea27-664e-447d-881a-1d8db2329cc8",
   "metadata": {},
   "outputs": [],
   "source": [
    "# print() fonksiyonunda en az bir arguman zorunda dememiş,bu yüzden çalışır"
   ]
  },
  {
   "cell_type": "markdown",
   "id": "125395ec-0dee-44c6-b673-c9c2cecc0269",
   "metadata": {},
   "source": [
    "### Fonksiyon Nasil Yazilir?"
   ]
  },
  {
   "cell_type": "code",
   "execution_count": 304,
   "id": "e083f63f-3e96-4dac-9323-ca8a1f3ad19b",
   "metadata": {},
   "outputs": [
    {
     "data": {
      "text/plain": [
       "16"
      ]
     },
     "execution_count": 304,
     "metadata": {},
     "output_type": "execute_result"
    }
   ],
   "source": [
    "4*4"
   ]
  },
  {
   "cell_type": "code",
   "execution_count": 305,
   "id": "2de1e279-e089-4111-a468-487873fd1121",
   "metadata": {},
   "outputs": [
    {
     "data": {
      "text/plain": [
       "1.0"
      ]
     },
     "execution_count": 305,
     "metadata": {},
     "output_type": "execute_result"
    }
   ],
   "source": [
    "4/4"
   ]
  },
  {
   "cell_type": "code",
   "execution_count": 306,
   "id": "09ee0cde-defb-49dd-8ee0-fc634ef474c4",
   "metadata": {},
   "outputs": [
    {
     "data": {
      "text/plain": [
       "4"
      ]
     },
     "execution_count": 306,
     "metadata": {},
     "output_type": "execute_result"
    }
   ],
   "source": [
    "5-1"
   ]
  },
  {
   "cell_type": "code",
   "execution_count": 307,
   "id": "a613371f-bb7c-432e-a7b0-80fa452ed2d6",
   "metadata": {},
   "outputs": [
    {
     "data": {
      "text/plain": [
       "9"
      ]
     },
     "execution_count": 307,
     "metadata": {},
     "output_type": "execute_result"
    }
   ],
   "source": [
    "6+3"
   ]
  },
  {
   "cell_type": "code",
   "execution_count": 308,
   "id": "0e27dbc6-29ae-48d8-84a7-caf5f45200bb",
   "metadata": {},
   "outputs": [
    {
     "data": {
      "text/plain": [
       "27"
      ]
     },
     "execution_count": 308,
     "metadata": {},
     "output_type": "execute_result"
    }
   ],
   "source": [
    "3**3"
   ]
  },
  {
   "cell_type": "code",
   "execution_count": 309,
   "id": "afe712b8-8922-4771-9ed9-b4500ce94372",
   "metadata": {},
   "outputs": [
    {
     "data": {
      "text/plain": [
       "16"
      ]
     },
     "execution_count": 309,
     "metadata": {},
     "output_type": "execute_result"
    }
   ],
   "source": [
    "4**2"
   ]
  },
  {
   "cell_type": "code",
   "execution_count": 310,
   "id": "9007d5c7-467a-4791-b505-25a49de795d7",
   "metadata": {},
   "outputs": [],
   "source": [
    "# sep() de ön tanımlı değeri 0 yani boşluk argümanıydı."
   ]
  },
  {
   "cell_type": "code",
   "execution_count": 311,
   "id": "f382624a-6b8f-47ce-957e-fa6d528e708d",
   "metadata": {},
   "outputs": [
    {
     "name": "stdout",
     "output_type": "stream",
     "text": [
      "25\n"
     ]
    }
   ],
   "source": [
    "def kare_al(x):\n",
    "    # (x): şu işi yapacak ..\n",
    "    # x**2 Spyder(variable explorer) da gözükmedi hatta unsupported tikini kaldırmamama rağmen\n",
    "    # fonksiyonu çağırmak için kare_al() çağır\n",
    "    print(x**2)\n",
    "    # def ile bir fonksiyon tanımlanır.\n",
    "    # kare_al() fonksiyonun ismidir. Bu fonksiyonda kullanılacak olan argumanlar nedir?\n",
    "    # x argumanını kullan ve şunu yapmak istiyorum :\n",
    "        # yapılması gereken işlem tanımlanır. Burda bu kare_al fonksiyonuna girilen değerin karesini al ve bunu ekrana yazdır.\n",
    "\n",
    "kare_al(5)"
   ]
  },
  {
   "cell_type": "markdown",
   "id": "cb0081ad-1836-45ab-9287-fbd70a7fe0e1",
   "metadata": {},
   "source": [
    "###### Eğer ekrana yazdırmak yerine çıkan sonuçla işlem yapmak istenirse \"print\" yerine \"return\" kullanılır."
   ]
  },
  {
   "cell_type": "markdown",
   "id": "9e91777d-c66a-4489-9b4d-a884067b1f4b",
   "metadata": {},
   "source": [
    "### Bilgi Notuyla Cikti Uretmek"
   ]
  },
  {
   "cell_type": "code",
   "execution_count": 312,
   "id": "13a3ca86-8e29-447e-90a3-a56e79fe66fa",
   "metadata": {},
   "outputs": [
    {
     "name": "stdout",
     "output_type": "stream",
     "text": [
      "25\n"
     ]
    }
   ],
   "source": [
    "def kare_al(x):\n",
    "    print(x**2)\n",
    "kare_al(5)\n",
    "# Verilen değerin karesi şudur açıklaması eklemek için String yazılır"
   ]
  },
  {
   "cell_type": "code",
   "execution_count": 313,
   "id": "3c63bfb2-d53d-4c82-8f04-a1a762fd2112",
   "metadata": {},
   "outputs": [
    {
     "ename": "TypeError",
     "evalue": "can only concatenate str (not \"int\") to str",
     "output_type": "error",
     "traceback": [
      "\u001b[1;31m---------------------------------------------------------------------------\u001b[0m",
      "\u001b[1;31mTypeError\u001b[0m                                 Traceback (most recent call last)",
      "\u001b[1;32m~\\AppData\\Local\\Temp\\ipykernel_3340\\663835451.py\u001b[0m in \u001b[0;36m<module>\u001b[1;34m\u001b[0m\n\u001b[0;32m      1\u001b[0m \u001b[1;32mdef\u001b[0m \u001b[0mkare_al\u001b[0m\u001b[1;33m(\u001b[0m\u001b[0mx\u001b[0m\u001b[1;33m)\u001b[0m\u001b[1;33m:\u001b[0m\u001b[1;33m\u001b[0m\u001b[1;33m\u001b[0m\u001b[0m\n\u001b[0;32m      2\u001b[0m     \u001b[0mprint\u001b[0m\u001b[1;33m(\u001b[0m\u001b[1;34m\"Girilen Sayinin Karesi:\"\u001b[0m \u001b[1;33m+\u001b[0m \u001b[0mx\u001b[0m\u001b[1;33m**\u001b[0m\u001b[1;36m2\u001b[0m\u001b[1;33m)\u001b[0m\u001b[1;33m\u001b[0m\u001b[1;33m\u001b[0m\u001b[0m\n\u001b[1;32m----> 3\u001b[1;33m \u001b[0mkare_al\u001b[0m\u001b[1;33m(\u001b[0m\u001b[1;36m3\u001b[0m\u001b[1;33m)\u001b[0m\u001b[1;33m\u001b[0m\u001b[1;33m\u001b[0m\u001b[0m\n\u001b[0m",
      "\u001b[1;32m~\\AppData\\Local\\Temp\\ipykernel_3340\\663835451.py\u001b[0m in \u001b[0;36mkare_al\u001b[1;34m(x)\u001b[0m\n\u001b[0;32m      1\u001b[0m \u001b[1;32mdef\u001b[0m \u001b[0mkare_al\u001b[0m\u001b[1;33m(\u001b[0m\u001b[0mx\u001b[0m\u001b[1;33m)\u001b[0m\u001b[1;33m:\u001b[0m\u001b[1;33m\u001b[0m\u001b[1;33m\u001b[0m\u001b[0m\n\u001b[1;32m----> 2\u001b[1;33m     \u001b[0mprint\u001b[0m\u001b[1;33m(\u001b[0m\u001b[1;34m\"Girilen Sayinin Karesi:\"\u001b[0m \u001b[1;33m+\u001b[0m \u001b[0mx\u001b[0m\u001b[1;33m**\u001b[0m\u001b[1;36m2\u001b[0m\u001b[1;33m)\u001b[0m\u001b[1;33m\u001b[0m\u001b[1;33m\u001b[0m\u001b[0m\n\u001b[0m\u001b[0;32m      3\u001b[0m \u001b[0mkare_al\u001b[0m\u001b[1;33m(\u001b[0m\u001b[1;36m3\u001b[0m\u001b[1;33m)\u001b[0m\u001b[1;33m\u001b[0m\u001b[1;33m\u001b[0m\u001b[0m\n",
      "\u001b[1;31mTypeError\u001b[0m: can only concatenate str (not \"int\") to str"
     ]
    }
   ],
   "source": [
    "def kare_al(x):\n",
    "    print(\"Girilen Sayinin Karesi:\" + x**2)\n",
    "kare_al(3)"
   ]
  },
  {
   "cell_type": "markdown",
   "id": "2e3f403c-2b24-4c09-acd0-63c0c4e30747",
   "metadata": {},
   "source": [
    "##### TypeError: String ifadeler sadece stringler ile birleştirilir. Sol taraf string iken sağ taraf integer dır."
   ]
  },
  {
   "cell_type": "code",
   "execution_count": 314,
   "id": "28be1ba0-3ba7-4616-a1f9-92d020f7201a",
   "metadata": {},
   "outputs": [
    {
     "name": "stdout",
     "output_type": "stream",
     "text": [
      "Girilen Sayinin Karesi: 9\n"
     ]
    }
   ],
   "source": [
    "def kare_al(x):\n",
    "    print(\"Girilen Sayinin Karesi: \" + str(x**2)) # int -> string yaptık\n",
    "kare_al(3)"
   ]
  },
  {
   "cell_type": "code",
   "execution_count": 315,
   "id": "12d6b52a-d715-4592-a2da-e2254c80e5ea",
   "metadata": {},
   "outputs": [
    {
     "name": "stdout",
     "output_type": "stream",
     "text": [
      "Girilen Sayinin Karesi:  9\n"
     ]
    }
   ],
   "source": [
    "def kare_al(x):\n",
    "    print(\"Girilen Sayinin Karesi: \" , x**2) # int -> string yapmadan çalıştırmada birleştirme\"+\" yapma\n",
    "kare_al(3)"
   ]
  },
  {
   "cell_type": "code",
   "execution_count": 316,
   "id": "50ba1fd3-6ad1-4a32-881e-b0e0f3536b81",
   "metadata": {},
   "outputs": [
    {
     "name": "stdout",
     "output_type": "stream",
     "text": [
      "Girilen Sayi: 3, Karesi: 9\n"
     ]
    }
   ],
   "source": [
    "def kare_al(x):\n",
    "    print(\"Girilen Sayi: \" +\n",
    "          str(x) + \n",
    "          \", Karesi: \" + \n",
    "          str(x**2))\n",
    "    \n",
    "kare_al(3)"
   ]
  },
  {
   "cell_type": "markdown",
   "id": "1ef06271-7334-4710-a84f-a45e047d1b4f",
   "metadata": {},
   "source": [
    "### İki Argümanlı Fonksiyon Tanımlamak"
   ]
  },
  {
   "cell_type": "code",
   "execution_count": 317,
   "id": "402b6abb-63b9-4944-bb30-94b1f0f78652",
   "metadata": {},
   "outputs": [],
   "source": [
    "def kare_al(x):\n",
    "    print(x**2) # Tek değişken"
   ]
  },
  {
   "cell_type": "code",
   "execution_count": 318,
   "id": "25c5ea6d-ee0e-4e28-987e-b06dc5a96cb8",
   "metadata": {},
   "outputs": [
    {
     "name": "stdout",
     "output_type": "stream",
     "text": [
      "4\n"
     ]
    }
   ],
   "source": [
    "kare_al(2)"
   ]
  },
  {
   "cell_type": "markdown",
   "id": "8a21ad48-dc02-46ec-a401-fa63709a1d8b",
   "metadata": {},
   "source": [
    "###### Spyder da ctrl + enter ile önceki fonksiyonun etkisinden kurtulur"
   ]
  },
  {
   "cell_type": "code",
   "execution_count": 319,
   "id": "07fe407a-b4dc-4dbd-a2f9-16af6a43f1f9",
   "metadata": {},
   "outputs": [],
   "source": [
    "# Çarpma işleminde tek arguman yerine birden fazla değişken kullanmak gerekir\n",
    "def carpma_yap(x, y):\n",
    "    print(x*y)"
   ]
  },
  {
   "cell_type": "code",
   "execution_count": 320,
   "id": "d0dd7fff-a6f4-4d96-b5b2-3eb672d1fc7d",
   "metadata": {},
   "outputs": [
    {
     "name": "stdout",
     "output_type": "stream",
     "text": [
      "6\n"
     ]
    }
   ],
   "source": [
    "carpma_yap(2,3)"
   ]
  },
  {
   "cell_type": "markdown",
   "id": "64ee2379-80e6-4ec5-8a19-b590b6b77f06",
   "metadata": {},
   "source": [
    "### On Tanimli Argumanlar"
   ]
  },
  {
   "cell_type": "markdown",
   "id": "aa4a58ca-2527-4900-8a69-f275c4a8c335",
   "metadata": {},
   "source": [
    "##### ?print\n",
    "\n",
    "\n",
    "###### print(value, ..., \n",
    "######        sep=' ', # ön tanımlı arguman'ı ' ' boşluktur\n",
    "######        end='\\n', \n",
    "######        file=sys.stdout, \n",
    "######        flush=False)"
   ]
  },
  {
   "cell_type": "code",
   "execution_count": 321,
   "id": "23066cbd-db7c-47b2-a098-997fa71967dd",
   "metadata": {},
   "outputs": [
    {
     "ename": "TypeError",
     "evalue": "carpma_yap() missing 1 required positional argument: 'y'",
     "output_type": "error",
     "traceback": [
      "\u001b[1;31m---------------------------------------------------------------------------\u001b[0m",
      "\u001b[1;31mTypeError\u001b[0m                                 Traceback (most recent call last)",
      "\u001b[1;32m~\\AppData\\Local\\Temp\\ipykernel_3340\\3485677842.py\u001b[0m in \u001b[0;36m<module>\u001b[1;34m\u001b[0m\n\u001b[0;32m      1\u001b[0m \u001b[1;32mdef\u001b[0m \u001b[0mcarpma_yap\u001b[0m\u001b[1;33m(\u001b[0m\u001b[0mx\u001b[0m\u001b[1;33m,\u001b[0m \u001b[0my\u001b[0m\u001b[1;33m)\u001b[0m\u001b[1;33m:\u001b[0m\u001b[1;33m\u001b[0m\u001b[1;33m\u001b[0m\u001b[0m\n\u001b[0;32m      2\u001b[0m     \u001b[0mprint\u001b[0m\u001b[1;33m(\u001b[0m\u001b[0mx\u001b[0m\u001b[1;33m*\u001b[0m\u001b[0my\u001b[0m\u001b[1;33m)\u001b[0m\u001b[1;33m\u001b[0m\u001b[1;33m\u001b[0m\u001b[0m\n\u001b[1;32m----> 3\u001b[1;33m \u001b[0mcarpma_yap\u001b[0m\u001b[1;33m(\u001b[0m\u001b[1;36m3\u001b[0m\u001b[1;33m)\u001b[0m \u001b[1;31m# İki değer yerine tek argüman giridiğiniz için type hatası verir\u001b[0m\u001b[1;33m\u001b[0m\u001b[1;33m\u001b[0m\u001b[0m\n\u001b[0m",
      "\u001b[1;31mTypeError\u001b[0m: carpma_yap() missing 1 required positional argument: 'y'"
     ]
    }
   ],
   "source": [
    "def carpma_yap(x, y):\n",
    "    print(x*y)\n",
    "carpma_yap(3) # İki değer yerine tek argüman giridiğiniz için type hatası verir"
   ]
  },
  {
   "cell_type": "markdown",
   "id": "97c97c56-597f-4c7b-bca7-b93cafb1a77c",
   "metadata": {},
   "source": [
    "###### TypeError: y argumanı eksik"
   ]
  },
  {
   "cell_type": "code",
   "execution_count": 322,
   "id": "984fa3f9-28cd-406f-b55e-c1089d0cebdd",
   "metadata": {},
   "outputs": [
    {
     "name": "stdout",
     "output_type": "stream",
     "text": [
      "3\n"
     ]
    }
   ],
   "source": [
    "def carpma_yap(x, y=1):\n",
    "    print(x*y)\n",
    "carpma_yap(3)"
   ]
  },
  {
   "cell_type": "code",
   "execution_count": 323,
   "id": "330ccfed-176c-4d96-96b6-8ad595e2c8e1",
   "metadata": {},
   "outputs": [
    {
     "name": "stdout",
     "output_type": "stream",
     "text": [
      "HELLO AI ERA "
     ]
    }
   ],
   "source": [
    "print(\"HELLO AI ERA\", sep = \" \", end = \" \") # Zorunlu argüman olmadıkları için hata vermez, ön tanımlıdırlar."
   ]
  },
  {
   "cell_type": "code",
   "execution_count": 324,
   "id": "52d58529-0b00-4241-8564-94e804e4a03e",
   "metadata": {},
   "outputs": [
    {
     "name": "stdout",
     "output_type": "stream",
     "text": [
      "HELLO AI ERA\n"
     ]
    }
   ],
   "source": [
    "print(\"HELLO AI ERA\")"
   ]
  },
  {
   "cell_type": "code",
   "execution_count": 325,
   "id": "1bea31fd-c6be-404d-b710-0e5880e6dbda",
   "metadata": {},
   "outputs": [],
   "source": [
    "def carpma_yap(x, y=1):\n",
    "    print(x*y)"
   ]
  },
  {
   "cell_type": "code",
   "execution_count": 326,
   "id": "5047a586-99a8-4330-b12e-c83a3dcf954d",
   "metadata": {},
   "outputs": [
    {
     "name": "stdout",
     "output_type": "stream",
     "text": [
      "12\n"
     ]
    }
   ],
   "source": [
    "carpma_yap(3,4)\n",
    "# 3 ün yanına Başka bir değer yazarsak ön tanımlı y=1 değerini gözardı eder"
   ]
  },
  {
   "cell_type": "markdown",
   "id": "734c8a2e-134a-41aa-a026-97426f453ab5",
   "metadata": {},
   "source": [
    "#### Argumanların Siralaması"
   ]
  },
  {
   "cell_type": "code",
   "execution_count": 327,
   "id": "fc697c85-c2ac-4b91-b5ae-b0d8b0c91110",
   "metadata": {},
   "outputs": [],
   "source": [
    "def carpma_yap(x, y = 1):\n",
    "    print(x*y)"
   ]
  },
  {
   "cell_type": "code",
   "execution_count": 328,
   "id": "b9e5241a-7272-48fc-815a-17925251abaa",
   "metadata": {},
   "outputs": [
    {
     "name": "stdout",
     "output_type": "stream",
     "text": [
      "6\n"
     ]
    }
   ],
   "source": [
    "carpma_yap(2,3)"
   ]
  },
  {
   "cell_type": "code",
   "execution_count": 329,
   "id": "78304c2f-b7f1-4477-8984-9c3240c1169e",
   "metadata": {},
   "outputs": [],
   "source": [
    "# Argümanların sırasını bilmiyorsak, t bir nümerik ifade yerine önem arz ediyorsa"
   ]
  },
  {
   "cell_type": "code",
   "execution_count": 330,
   "id": "9728bbed-aec1-43b9-b758-6be6b9703f9e",
   "metadata": {},
   "outputs": [
    {
     "name": "stdout",
     "output_type": "stream",
     "text": [
      "6\n"
     ]
    }
   ],
   "source": [
    "# map leyerek argumanı yazdık gibi düşün\n",
    "carpma_yap(y = 2, x = 3)\n",
    "# sıralamadan bağımsız olarak da argumanların isimlerini yazarak gerçekleştirilebilir"
   ]
  },
  {
   "cell_type": "code",
   "execution_count": 331,
   "id": "418ca580-2db0-4628-bce3-aeecb2a798a7",
   "metadata": {},
   "outputs": [
    {
     "name": "stdout",
     "output_type": "stream",
     "text": [
      "6\n"
     ]
    }
   ],
   "source": [
    "carpma_yap(2,3)"
   ]
  },
  {
   "cell_type": "markdown",
   "id": "711df537-533a-456e-87c2-863b54376773",
   "metadata": {},
   "source": [
    "### Ne zaman Fonksiyon Yazilir?"
   ]
  },
  {
   "cell_type": "markdown",
   "id": "2043798d-d825-4dcc-9346-79b3394f403a",
   "metadata": {},
   "source": [
    "###### Tekrar eden görevleri yerine getirmek ve var olan işleri daha programatik bir şekilde gerçekleştirmek için kullanılır."
   ]
  },
  {
   "cell_type": "markdown",
   "id": "fc206be2-80f9-4102-8946-8b0c9f775991",
   "metadata": {},
   "source": [
    "###### Daha programatik yöntem, ihtiyacınızı anlayın"
   ]
  },
  {
   "cell_type": "markdown",
   "id": "4a1a734b-b575-4585-a5af-db85171ac45a",
   "metadata": {},
   "source": [
    "##### Örnek:"
   ]
  },
  {
   "cell_type": "markdown",
   "id": "82d4885a-e53f-447e-9f8f-5546303899e8",
   "metadata": {},
   "source": [
    "###### Akıllı belediyenin akıllı sokak direkleri var. Her bir lamba kendi için ısı, nem, şarj bilgilerini tutsun.\n",
    "###### 100 lambadan bir tanesinde ısı=40, nem=25, şarj=90 olsun"
   ]
  },
  {
   "cell_type": "code",
   "execution_count": 332,
   "id": "61efa68e-423c-4b95-b6ab-1c2d2f3dfa8b",
   "metadata": {},
   "outputs": [
    {
     "data": {
      "text/plain": [
       "0.7222222222222222"
      ]
     },
     "execution_count": 332,
     "metadata": {},
     "output_type": "execute_result"
    }
   ],
   "source": [
    "(40+25)/90 # bir sokak lambası verisinin sonucu"
   ]
  },
  {
   "cell_type": "markdown",
   "id": "eaf5b729-14f0-49c5-a6cd-e83881d5519d",
   "metadata": {},
   "source": [
    "###### Fonksiyon oluşturarak ihtiyacımız olan tüm lamba verilerinde kullanılır ve uzun işlemlerden kurtulunur."
   ]
  },
  {
   "cell_type": "code",
   "execution_count": 333,
   "id": "a1a228a7-bd9c-489e-abbf-e61febf2cb87",
   "metadata": {},
   "outputs": [],
   "source": [
    "def direk_hesap(isi, nem, sarj): # ısı, nem, şarj şunları yapacak:\n",
    "    print((isi + nem)/sarj)"
   ]
  },
  {
   "cell_type": "code",
   "execution_count": 334,
   "id": "8916f615-6dd2-45a6-8628-47855b3a9102",
   "metadata": {},
   "outputs": [
    {
     "name": "stdout",
     "output_type": "stream",
     "text": [
      "0.9285714285714286\n"
     ]
    }
   ],
   "source": [
    "direk_hesap(25,40,70)"
   ]
  },
  {
   "cell_type": "markdown",
   "id": "3830dd97-c46e-484d-9e0f-0c64ade825d1",
   "metadata": {},
   "source": [
    "###### 10 değişkenli veri seti var, arit ort, standart sapma, gözlem sayısı vs işlemleri için fonksiyon yazılması gerekir."
   ]
  },
  {
   "cell_type": "markdown",
   "id": "ec82298c-3cec-4d97-9a8c-fb7b84583041",
   "metadata": {},
   "source": [
    "### Fonksiyon Çıktılarını Girdi Olarak Kullanmak: return"
   ]
  },
  {
   "cell_type": "markdown",
   "id": "cc5b68bc-ba0b-435e-b6ad-09fea0be6474",
   "metadata": {},
   "source": [
    "##### Amacımız fonksiyonun ürettiği çıktıyı kullanmak, karakökü vs başka bir işlemin girdisi olarak kullanmak için return kullanılır."
   ]
  },
  {
   "cell_type": "code",
   "execution_count": 335,
   "id": "62fbf0c7-c1a4-412f-b74d-ddf4473a6544",
   "metadata": {},
   "outputs": [],
   "source": [
    "def direk_hesap(isi, nem, sarj): # ısı, nem, şarj şunları yapacak:\n",
    "    print((isi + nem)/sarj)"
   ]
  },
  {
   "cell_type": "code",
   "execution_count": 336,
   "id": "0d49ccae-48bb-401f-8d79-c464ff2d5823",
   "metadata": {},
   "outputs": [
    {
     "name": "stdout",
     "output_type": "stream",
     "text": [
      "0.9285714285714286\n"
     ]
    }
   ],
   "source": [
    "cikti = direk_hesap(25,40,70)"
   ]
  },
  {
   "cell_type": "code",
   "execution_count": 337,
   "id": "64c53a5c-1261-495e-9a9b-f45f754ea67f",
   "metadata": {},
   "outputs": [],
   "source": [
    "cikti #cikti = direk_hesap(25,40,70) fonksiyonunun çıktısını işleyemedik"
   ]
  },
  {
   "cell_type": "code",
   "execution_count": 338,
   "id": "cb2aa773-f94c-4674-a596-cdc5bb5b9c05",
   "metadata": {},
   "outputs": [
    {
     "name": "stdout",
     "output_type": "stream",
     "text": [
      "None\n"
     ]
    }
   ],
   "source": [
    "print(cikti)"
   ]
  },
  {
   "cell_type": "code",
   "execution_count": 339,
   "id": "935127ef-ad4f-4711-a0ce-fd58ea23a88e",
   "metadata": {},
   "outputs": [
    {
     "name": "stdout",
     "output_type": "stream",
     "text": [
      "0.9285714285714286\n"
     ]
    },
    {
     "ename": "TypeError",
     "evalue": "unsupported operand type(s) for *: 'NoneType' and 'int'",
     "output_type": "error",
     "traceback": [
      "\u001b[1;31m---------------------------------------------------------------------------\u001b[0m",
      "\u001b[1;31mTypeError\u001b[0m                                 Traceback (most recent call last)",
      "\u001b[1;32m~\\AppData\\Local\\Temp\\ipykernel_3340\\781636286.py\u001b[0m in \u001b[0;36m<module>\u001b[1;34m\u001b[0m\n\u001b[1;32m----> 1\u001b[1;33m \u001b[0mdirek_hesap\u001b[0m\u001b[1;33m(\u001b[0m\u001b[1;36m25\u001b[0m\u001b[1;33m,\u001b[0m\u001b[1;36m40\u001b[0m\u001b[1;33m,\u001b[0m\u001b[1;36m70\u001b[0m\u001b[1;33m)\u001b[0m\u001b[1;33m*\u001b[0m\u001b[1;36m9\u001b[0m \u001b[1;31m# Type hatası verir, fonksiyonların çıktılarını direkt kullanamayız\u001b[0m\u001b[1;33m\u001b[0m\u001b[1;33m\u001b[0m\u001b[0m\n\u001b[0m",
      "\u001b[1;31mTypeError\u001b[0m: unsupported operand type(s) for *: 'NoneType' and 'int'"
     ]
    }
   ],
   "source": [
    "direk_hesap(25,40,70)*9 # Type hatası verir, fonksiyonların çıktılarını direkt kullanamayız"
   ]
  },
  {
   "cell_type": "markdown",
   "id": "c429d2ad-3669-4ea7-b1c6-f0f2016487d6",
   "metadata": {},
   "source": [
    "##### Return ifadesi kullan"
   ]
  },
  {
   "cell_type": "code",
   "execution_count": 340,
   "id": "dc9d8a39-5fac-4575-aad1-ede88784143e",
   "metadata": {},
   "outputs": [],
   "source": [
    "def direk_hesap(isi, nem, sarj): # ısı, nem, şarj şunları yapacak:\n",
    "    return (isi + nem)/sarj"
   ]
  },
  {
   "cell_type": "code",
   "execution_count": 341,
   "id": "33a44037-8b8c-40ba-96b6-34589d46e022",
   "metadata": {},
   "outputs": [
    {
     "data": {
      "text/plain": [
       "0.9285714285714286"
      ]
     },
     "execution_count": 341,
     "metadata": {},
     "output_type": "execute_result"
    }
   ],
   "source": [
    "direk_hesap(25,40,70) # Çıktı verir"
   ]
  },
  {
   "cell_type": "code",
   "execution_count": 342,
   "id": "ac479134-ce12-440f-9be3-a91426ad5cf2",
   "metadata": {},
   "outputs": [
    {
     "data": {
      "text/plain": [
       "8.357142857142858"
      ]
     },
     "execution_count": 342,
     "metadata": {},
     "output_type": "execute_result"
    }
   ],
   "source": [
    "direk_hesap(25,40,70)*9 # Artık çıktı girdi olarak kullanılabilir"
   ]
  },
  {
   "cell_type": "code",
   "execution_count": 343,
   "id": "93a2d4de-2b70-479f-bb61-6be4d34196ff",
   "metadata": {},
   "outputs": [],
   "source": [
    "cikti = direk_hesap(25,40,70)"
   ]
  },
  {
   "cell_type": "code",
   "execution_count": 344,
   "id": "179a33dc-f942-4836-bac7-6875358333b2",
   "metadata": {},
   "outputs": [
    {
     "data": {
      "text/plain": [
       "0.9285714285714286"
      ]
     },
     "execution_count": 344,
     "metadata": {},
     "output_type": "execute_result"
    }
   ],
   "source": [
    "cikti"
   ]
  },
  {
   "cell_type": "code",
   "execution_count": 345,
   "id": "a85b15ad-688c-4a31-bddf-7cbaf33c66bd",
   "metadata": {},
   "outputs": [
    {
     "name": "stdout",
     "output_type": "stream",
     "text": [
      "0.9285714285714286\n"
     ]
    }
   ],
   "source": [
    "print(cikti)"
   ]
  },
  {
   "cell_type": "code",
   "execution_count": 346,
   "id": "fa1b15d3-bc5a-4023-8e35-aada3104a4bc",
   "metadata": {},
   "outputs": [],
   "source": [
    "def direk_hesap(isi, nem, sarj):\n",
    "    return # işlemi return altına yaparsak\n",
    "    (isi + nem)/sarj"
   ]
  },
  {
   "cell_type": "code",
   "execution_count": 347,
   "id": "245766b2-c2b5-4d59-b096-951ee3f96d73",
   "metadata": {},
   "outputs": [],
   "source": [
    "direk_hesap(25,40,70) # İşlem gerçekleşmedi, Bunun sebebi fonksiyon return ifadesine geldiğinde durur."
   ]
  },
  {
   "cell_type": "markdown",
   "id": "e21008d7-31c3-49cf-8caf-37bf2bca20fb",
   "metadata": {},
   "source": [
    "### Local ve Global Degiskenler"
   ]
  },
  {
   "cell_type": "code",
   "execution_count": 348,
   "id": "ed14305e-27e3-4095-b8cd-f65677b46ee3",
   "metadata": {},
   "outputs": [],
   "source": [
    "# Global Degiskenler\n",
    "x = 10\n",
    "y = 20\n",
    "# Variable exploerer da kalıcı yer alırlar."
   ]
  },
  {
   "cell_type": "code",
   "execution_count": 349,
   "id": "3d3e3982-7e01-417b-b24c-7d7449c704da",
   "metadata": {},
   "outputs": [],
   "source": [
    "# Local Degiskenler\n",
    "# Fonksiyonların etki alanında tanımlamış olduğumuz değişkenlerdir\n",
    "# x ve y değerleri local değişkenlerdir. x,y değerleri bu fonksiyon veya döngü içinde etkilenir. \n",
    "# Main space alanındakiler ana etki alanı ile ilişkisizdir\n",
    "# Variable Explorer da kalıcı olarak yer almazlar.\n",
    "def carpma_yap(x,y):\n",
    "    return(x*y)"
   ]
  },
  {
   "cell_type": "code",
   "execution_count": 350,
   "id": "ff88da47-d22b-465a-a2a6-7197d065f4d2",
   "metadata": {},
   "outputs": [
    {
     "data": {
      "text/plain": [
       "6"
      ]
     },
     "execution_count": 350,
     "metadata": {},
     "output_type": "execute_result"
    }
   ],
   "source": [
    "carpma_yap(2,3)"
   ]
  },
  {
   "cell_type": "code",
   "execution_count": 351,
   "id": "4c738eed-5285-4cf2-945c-c8395dc033e0",
   "metadata": {},
   "outputs": [
    {
     "data": {
      "text/plain": [
       "6"
      ]
     },
     "execution_count": 351,
     "metadata": {},
     "output_type": "execute_result"
    }
   ],
   "source": [
    "def carpma_yap(x=2,y=1):\n",
    "    return(x*y)\n",
    "carpma_yap(2,3)\n",
    "# Normalde global etki alanında 10,20 tanımlamıştık.\n",
    "# Fakat local etki alanındaki değişikliker main space yani ana etki alanından ilişkisiz\n",
    "# Kalıcı olarak yer tutmazlar, ama global değişkenler tabloda kalıcıdır."
   ]
  },
  {
   "cell_type": "markdown",
   "id": "74dbcf6a-a510-40a8-bc8a-3c9118a10029",
   "metadata": {},
   "source": [
    "### Local Etki Alanindan Global Etki Alanini Degistirmek"
   ]
  },
  {
   "cell_type": "markdown",
   "id": "4c1a7516-3314-453c-86e7-898b8b529343",
   "metadata": {},
   "source": [
    "##### Local ve Global degiskenler arasında ilişki olmadığını ifade etmiştik\n",
    "##### Bir fonksiyon yada döngü içerisinde global alandaki değişkenlerin değerlerinde değişiklik yapmak için"
   ]
  },
  {
   "cell_type": "code",
   "execution_count": 352,
   "id": "ac8e16ad-d8c2-4613-845b-b4718d67552d",
   "metadata": {},
   "outputs": [],
   "source": [
    "x = [] # x adında boş bir liste oluştur"
   ]
  },
  {
   "cell_type": "code",
   "execution_count": 353,
   "id": "3f1033f4-48c3-4ce9-921c-a646ccd7f225",
   "metadata": {},
   "outputs": [],
   "source": [
    "del x # Çalışma sayfamızın ana dizininde yer alan ve bazı fonksiyon ya döngüyle birlikte olmayan değişken"
   ]
  },
  {
   "cell_type": "code",
   "execution_count": 354,
   "id": "28e3fda5-4886-4c51-8561-7a391584cc47",
   "metadata": {},
   "outputs": [
    {
     "ename": "NameError",
     "evalue": "name 'x' is not defined",
     "output_type": "error",
     "traceback": [
      "\u001b[1;31m---------------------------------------------------------------------------\u001b[0m",
      "\u001b[1;31mNameError\u001b[0m                                 Traceback (most recent call last)",
      "\u001b[1;32m~\\AppData\\Local\\Temp\\ipykernel_3340\\32546335.py\u001b[0m in \u001b[0;36m<module>\u001b[1;34m\u001b[0m\n\u001b[1;32m----> 1\u001b[1;33m \u001b[0mx\u001b[0m\u001b[1;33m\u001b[0m\u001b[1;33m\u001b[0m\u001b[0m\n\u001b[0m",
      "\u001b[1;31mNameError\u001b[0m: name 'x' is not defined"
     ]
    }
   ],
   "source": [
    "x"
   ]
  },
  {
   "cell_type": "code",
   "execution_count": 355,
   "id": "ad3ec14a-6deb-4eec-b61d-4d6223aa9dab",
   "metadata": {},
   "outputs": [],
   "source": [
    "x = [] # x global etki alanındadır"
   ]
  },
  {
   "cell_type": "code",
   "execution_count": 356,
   "id": "c68c8f4f-4f14-42cd-b50b-a4fca2ceb73e",
   "metadata": {},
   "outputs": [
    {
     "data": {
      "text/plain": [
       "[]"
      ]
     },
     "execution_count": 356,
     "metadata": {},
     "output_type": "execute_result"
    }
   ],
   "source": [
    "x"
   ]
  },
  {
   "cell_type": "markdown",
   "id": "77e816f3-e97a-4e12-ac45-7f5c3b62f8ec",
   "metadata": {},
   "source": [
    "##### Eleman ekleme add veya append methodunu kullanarak yapan bir fonksiyon yazalım"
   ]
  },
  {
   "cell_type": "code",
   "execution_count": 357,
   "id": "11c6b2d8-aa12-4f79-b574-b4c54ace005f",
   "metadata": {},
   "outputs": [],
   "source": [
    "x.append(1)"
   ]
  },
  {
   "cell_type": "code",
   "execution_count": 358,
   "id": "ea19b0e7-5044-43d6-9842-8cbc846ec78c",
   "metadata": {},
   "outputs": [
    {
     "data": {
      "text/plain": [
       "[1]"
      ]
     },
     "execution_count": 358,
     "metadata": {},
     "output_type": "execute_result"
    }
   ],
   "source": [
    "x"
   ]
  },
  {
   "cell_type": "code",
   "execution_count": 359,
   "id": "461b7acc-de52-4e8f-a536-55533db0d958",
   "metadata": {},
   "outputs": [],
   "source": [
    "x = [] # listeyi tekrar oluşturarak eskiyi sil"
   ]
  },
  {
   "cell_type": "code",
   "execution_count": 360,
   "id": "34bbee66-96c5-48e6-82c9-06f4f81bff8c",
   "metadata": {},
   "outputs": [],
   "source": [
    "def eleman_ekle(y): # eleman_ekle fonksiyonu içindeki değişkenler local etki alanındadır \n",
    "    # Fonksiyon kendisine giren elemanları toplasın, global etki alanı ile ilişkilendirilir\n",
    "    x.append(y) # x listesine girilen y değerini ekle"
   ]
  },
  {
   "cell_type": "code",
   "execution_count": 361,
   "id": "31a19659-3485-4fc1-9433-610c2200b192",
   "metadata": {},
   "outputs": [],
   "source": [
    "eleman_ekle(2)"
   ]
  },
  {
   "cell_type": "code",
   "execution_count": 362,
   "id": "ea2ac3db-db26-44f4-9a86-cc5efedd88c6",
   "metadata": {},
   "outputs": [
    {
     "data": {
      "text/plain": [
       "[2]"
      ]
     },
     "execution_count": 362,
     "metadata": {},
     "output_type": "execute_result"
    }
   ],
   "source": [
    "x"
   ]
  },
  {
   "cell_type": "code",
   "execution_count": 363,
   "id": "2ff3b8ec-4136-4e66-8e35-fd5f6e743ec4",
   "metadata": {},
   "outputs": [],
   "source": [
    "x = []"
   ]
  },
  {
   "cell_type": "code",
   "execution_count": 364,
   "id": "8db78fee-b4b2-4f54-bbf3-98e290440925",
   "metadata": {},
   "outputs": [],
   "source": [
    "def eleman_ekle(y): # x ifadesi global etki alanı ile ilişkilendirilecek \n",
    "    # ve y değeri global etki alanındaki değişkeni değiştirir\n",
    "    x.append(y) # x.append(y) local etki alanında\n",
    "    print(str(y) + \" ifadesi eklendi\") # Hangi değer eklendiğini göster"
   ]
  },
  {
   "cell_type": "markdown",
   "id": "84770464-62b1-4406-926c-fbaa8fd7acd7",
   "metadata": {},
   "source": [
    "###### x ifadesi ile x.append deki değer global etki alanındaki değeri değiştirecek\n",
    "###### Python önce local etki alanındaki değişkenleri arar tarar ve bulmaya çalışır\n",
    "###### Satır satır fonksiyonu okur ve local etki alanında x i bulamazsa global etki alanında bulmaya çıkar\n",
    "###### Append methoudunu bu listeye uygular\n"
   ]
  },
  {
   "cell_type": "markdown",
   "id": "1d3ca22e-14fd-4d41-8b47-ecb4d20ac12f",
   "metadata": {},
   "source": [
    "###### -Local etki alanından global etki alanını etkilemiş oluruz."
   ]
  },
  {
   "cell_type": "code",
   "execution_count": 365,
   "id": "93991bab-017e-47ac-9917-1bacb6722e55",
   "metadata": {},
   "outputs": [
    {
     "name": "stdout",
     "output_type": "stream",
     "text": [
      "ali ifadesi eklendi\n"
     ]
    }
   ],
   "source": [
    "eleman_ekle(\"ali\")"
   ]
  },
  {
   "cell_type": "code",
   "execution_count": 366,
   "id": "67f91b25-5bde-47f7-a5d7-573e2fbb7fcf",
   "metadata": {},
   "outputs": [
    {
     "name": "stdout",
     "output_type": "stream",
     "text": [
      "veli ifadesi eklendi\n"
     ]
    }
   ],
   "source": [
    "eleman_ekle(\"veli\")"
   ]
  },
  {
   "cell_type": "code",
   "execution_count": 367,
   "id": "3bd85bd3-e3e2-4b02-82e1-50f367241085",
   "metadata": {},
   "outputs": [
    {
     "data": {
      "text/plain": [
       "['ali', 'veli']"
      ]
     },
     "execution_count": 367,
     "metadata": {},
     "output_type": "execute_result"
    }
   ],
   "source": [
    "x"
   ]
  },
  {
   "cell_type": "code",
   "execution_count": 368,
   "id": "2f583e46-ec93-4c3e-a28b-fa6e0521ca20",
   "metadata": {},
   "outputs": [],
   "source": [
    "del x"
   ]
  },
  {
   "cell_type": "code",
   "execution_count": 369,
   "id": "8a67e486-e822-492e-b9fe-d92267914fa2",
   "metadata": {},
   "outputs": [],
   "source": [
    "def eleman_ekle(y):\n",
    "    x.append(y)\n",
    "    print(str(y) + \" ifadesi eklendi\")"
   ]
  },
  {
   "cell_type": "code",
   "execution_count": 370,
   "id": "8cc50849-a259-4e8c-8ded-b0bbde0b8794",
   "metadata": {},
   "outputs": [
    {
     "ename": "NameError",
     "evalue": "name 'x' is not defined",
     "output_type": "error",
     "traceback": [
      "\u001b[1;31m---------------------------------------------------------------------------\u001b[0m",
      "\u001b[1;31mNameError\u001b[0m                                 Traceback (most recent call last)",
      "\u001b[1;32m~\\AppData\\Local\\Temp\\ipykernel_3340\\144732627.py\u001b[0m in \u001b[0;36m<module>\u001b[1;34m\u001b[0m\n\u001b[1;32m----> 1\u001b[1;33m \u001b[0meleman_ekle\u001b[0m\u001b[1;33m(\u001b[0m\u001b[1;34m\"ali\"\u001b[0m\u001b[1;33m)\u001b[0m \u001b[1;31m# NameError: x tanımlanmadı hatası verir.\u001b[0m\u001b[1;33m\u001b[0m\u001b[1;33m\u001b[0m\u001b[0m\n\u001b[0m\u001b[0;32m      2\u001b[0m \u001b[1;31m#Fonksiyonda x tanımlanmadığı için ve global etki alanında da x bulamaz.\u001b[0m\u001b[1;33m\u001b[0m\u001b[1;33m\u001b[0m\u001b[0m\n",
      "\u001b[1;32m~\\AppData\\Local\\Temp\\ipykernel_3340\\3441834483.py\u001b[0m in \u001b[0;36meleman_ekle\u001b[1;34m(y)\u001b[0m\n\u001b[0;32m      1\u001b[0m \u001b[1;32mdef\u001b[0m \u001b[0meleman_ekle\u001b[0m\u001b[1;33m(\u001b[0m\u001b[0my\u001b[0m\u001b[1;33m)\u001b[0m\u001b[1;33m:\u001b[0m\u001b[1;33m\u001b[0m\u001b[1;33m\u001b[0m\u001b[0m\n\u001b[1;32m----> 2\u001b[1;33m     \u001b[0mx\u001b[0m\u001b[1;33m.\u001b[0m\u001b[0mappend\u001b[0m\u001b[1;33m(\u001b[0m\u001b[0my\u001b[0m\u001b[1;33m)\u001b[0m\u001b[1;33m\u001b[0m\u001b[1;33m\u001b[0m\u001b[0m\n\u001b[0m\u001b[0;32m      3\u001b[0m     \u001b[0mprint\u001b[0m\u001b[1;33m(\u001b[0m\u001b[0mstr\u001b[0m\u001b[1;33m(\u001b[0m\u001b[0my\u001b[0m\u001b[1;33m)\u001b[0m \u001b[1;33m+\u001b[0m \u001b[1;34m\" ifadesi eklendi\"\u001b[0m\u001b[1;33m)\u001b[0m\u001b[1;33m\u001b[0m\u001b[1;33m\u001b[0m\u001b[0m\n",
      "\u001b[1;31mNameError\u001b[0m: name 'x' is not defined"
     ]
    }
   ],
   "source": [
    "eleman_ekle(\"ali\") # NameError: x tanımlanmadı hatası verir. \n",
    "#Fonksiyonda x tanımlanmadığı için ve global etki alanında da x bulamaz."
   ]
  },
  {
   "cell_type": "code",
   "execution_count": 371,
   "id": "3ed6c4af-c470-497c-a18d-22d9bcee04e8",
   "metadata": {},
   "outputs": [],
   "source": [
    "x = [] # x oluşturarak x i yazdırmak istediğimizde sonuç verir"
   ]
  },
  {
   "cell_type": "code",
   "execution_count": 372,
   "id": "e4b40fd8-b29c-4f77-af1a-e7e2acf0eb7e",
   "metadata": {},
   "outputs": [
    {
     "name": "stdout",
     "output_type": "stream",
     "text": [
      "ali ifadesi eklendi\n"
     ]
    }
   ],
   "source": [
    "eleman_ekle(\"ali\")"
   ]
  },
  {
   "cell_type": "code",
   "execution_count": 373,
   "id": "fca06219-83ae-426c-88f3-504c94275e0b",
   "metadata": {},
   "outputs": [
    {
     "data": {
      "text/plain": [
       "['ali']"
      ]
     },
     "execution_count": 373,
     "metadata": {},
     "output_type": "execute_result"
    }
   ],
   "source": [
    "x"
   ]
  },
  {
   "cell_type": "markdown",
   "id": "7e777ee0-3259-4349-932c-9b8ed4d0c0a7",
   "metadata": {},
   "source": [
    "### KARAR & KONTROL YAPILARI"
   ]
  },
  {
   "cell_type": "markdown",
   "id": "ba7eb533-43f4-48ac-b762-828c41c0ee7c",
   "metadata": {},
   "source": [
    "#### True-False Sorgulamaları"
   ]
  },
  {
   "cell_type": "code",
   "execution_count": 374,
   "id": "a57cf0a4-d78b-457a-8193-dc8b60172b9c",
   "metadata": {},
   "outputs": [],
   "source": [
    "sinir = 5000"
   ]
  },
  {
   "cell_type": "code",
   "execution_count": 375,
   "id": "ab6d1401-5af7-432e-823e-79fa7f79c824",
   "metadata": {},
   "outputs": [
    {
     "data": {
      "text/plain": [
       "False"
      ]
     },
     "execution_count": 375,
     "metadata": {},
     "output_type": "execute_result"
    }
   ],
   "source": [
    "sinir == 4000 # sinir 4000 mi? \"==\" mantığını sorar"
   ]
  },
  {
   "cell_type": "code",
   "execution_count": 376,
   "id": "7244d6da-a18f-4266-933c-086a3e256452",
   "metadata": {},
   "outputs": [
    {
     "data": {
      "text/plain": [
       "True"
      ]
     },
     "execution_count": 376,
     "metadata": {},
     "output_type": "execute_result"
    }
   ],
   "source": [
    "sinir == 5000"
   ]
  },
  {
   "cell_type": "code",
   "execution_count": 377,
   "id": "2be60432-c500-4d55-a6a3-22646ecf9d07",
   "metadata": {},
   "outputs": [
    {
     "data": {
      "text/plain": [
       "False"
      ]
     },
     "execution_count": 377,
     "metadata": {},
     "output_type": "execute_result"
    }
   ],
   "source": [
    "5 == 4 # 5, 4'e denk midir?"
   ]
  },
  {
   "cell_type": "code",
   "execution_count": 378,
   "id": "55f4d0dd-2973-4f43-9b2a-474520c51876",
   "metadata": {},
   "outputs": [
    {
     "data": {
      "text/plain": [
       "True"
      ]
     },
     "execution_count": 378,
     "metadata": {},
     "output_type": "execute_result"
    }
   ],
   "source": [
    "5 == 5"
   ]
  },
  {
   "cell_type": "markdown",
   "id": "a7c71395-b030-4075-9ecc-3e0cd93a8a5d",
   "metadata": {},
   "source": [
    "#### if"
   ]
  },
  {
   "cell_type": "code",
   "execution_count": 379,
   "id": "776f688a-9cc1-4e6f-811e-e44e24ca2436",
   "metadata": {},
   "outputs": [],
   "source": [
    "sinir = 5000"
   ]
  },
  {
   "cell_type": "markdown",
   "id": "7fa7caf6-3214-428b-91bf-68648814cc1f",
   "metadata": {},
   "source": [
    "##### Örnek:\n",
    "###### Çeşitli şehirlerde belirli bir gelire göre mağazalardan aksiyon veya karar al\n",
    "###### Geliri 50000 den küçük olan mağazalar kapansın"
   ]
  },
  {
   "cell_type": "code",
   "execution_count": 380,
   "id": "9e2af229-2d8f-41b2-8c24-cdb2e6ee8fee",
   "metadata": {},
   "outputs": [],
   "source": [
    "sinir = 50000 # aylık ort gelir gibi düşün"
   ]
  },
  {
   "cell_type": "code",
   "execution_count": 381,
   "id": "b1eb150f-e4ef-4807-92ef-00bb171e6c40",
   "metadata": {},
   "outputs": [],
   "source": [
    "gelir = 40000 # mağazanın ort geliri"
   ]
  },
  {
   "cell_type": "code",
   "execution_count": 382,
   "id": "5ffba874-b5ad-4ecc-9d90-30939794fbfa",
   "metadata": {},
   "outputs": [
    {
     "data": {
      "text/plain": [
       "True"
      ]
     },
     "execution_count": 382,
     "metadata": {},
     "output_type": "execute_result"
    }
   ],
   "source": [
    "gelir < sinir"
   ]
  },
  {
   "cell_type": "code",
   "execution_count": 383,
   "id": "6d64d1cd-5aef-4fa7-b566-04ab6e1816da",
   "metadata": {},
   "outputs": [
    {
     "name": "stdout",
     "output_type": "stream",
     "text": [
      "Gelir sinirdan kucuk\n"
     ]
    }
   ],
   "source": [
    "if gelir < sinir: # gelir < sinir ise şunu yap:\n",
    "    print(\"Gelir sinirdan kucuk\") # koşul true old için yazdırır"
   ]
  },
  {
   "cell_type": "code",
   "execution_count": 384,
   "id": "14e02866-5d58-4686-b671-c9472f7d9d5c",
   "metadata": {},
   "outputs": [
    {
     "name": "stdout",
     "output_type": "stream",
     "text": [
      "Gelir sinirdan kucuk\n",
      "Gelirin karesi: 80000\n"
     ]
    }
   ],
   "source": [
    "if gelir < sinir:\n",
    "    print(\"Gelir sinirdan kucuk\")\n",
    "    print(\"Gelirin karesi:\", gelir*2) # gelir sinirdan küçükse gelirin karesini yazdır"
   ]
  },
  {
   "cell_type": "code",
   "execution_count": 385,
   "id": "22585ae9-45f7-4139-b5a3-af88fd15e688",
   "metadata": {},
   "outputs": [],
   "source": [
    "gelir = 60000"
   ]
  },
  {
   "cell_type": "code",
   "execution_count": 386,
   "id": "97b7915d-2d4a-4390-bdd1-d1acfd627db7",
   "metadata": {},
   "outputs": [],
   "source": [
    "if gelir < sinir:\n",
    "    print(\"Gelir sinirdan kucuk\") # gelir < sinir sonucu true olmadığı için işlem yapamaz, şart sağlanmadı"
   ]
  },
  {
   "cell_type": "code",
   "execution_count": 387,
   "id": "f6260cd9-8cc4-46eb-b2ab-a7190a727323",
   "metadata": {},
   "outputs": [
    {
     "name": "stdout",
     "output_type": "stream",
     "text": [
      "Gelir sinirdan buyuk\n"
     ]
    }
   ],
   "source": [
    "if gelir > sinir:\n",
    "    print(\"Gelir sinirdan buyuk\")"
   ]
  },
  {
   "cell_type": "markdown",
   "id": "69a76d80-7de7-44cd-b298-d71a39d1a922",
   "metadata": {},
   "source": [
    "#### else"
   ]
  },
  {
   "cell_type": "code",
   "execution_count": 388,
   "id": "0a21cf6b-acda-4f9e-8adf-d7b4675f6ecd",
   "metadata": {},
   "outputs": [],
   "source": [
    "sinir = 50000\n",
    "gelir = 60000"
   ]
  },
  {
   "cell_type": "code",
   "execution_count": 389,
   "id": "75d4d865-f712-4285-a500-eda2ba2086c6",
   "metadata": {},
   "outputs": [
    {
     "name": "stdout",
     "output_type": "stream",
     "text": [
      "Gelir sinirdan buyuk\n"
     ]
    }
   ],
   "source": [
    "if gelir > sinir:\n",
    "    print(\"Gelir sinirdan buyuk\")\n",
    "else:\n",
    "    print(\"Gelir sinirdan kucuk\")"
   ]
  },
  {
   "cell_type": "markdown",
   "id": "645c9c22-df1b-4344-8eb0-998777a08360",
   "metadata": {},
   "source": [
    "###### ctrl + enter ile bloktan kurtul"
   ]
  },
  {
   "cell_type": "code",
   "execution_count": 390,
   "id": "46c4978e-5c0d-4e4d-b8ea-f830d8a762f9",
   "metadata": {},
   "outputs": [],
   "source": [
    "sinir = 50000\n",
    "gelir = 35000"
   ]
  },
  {
   "cell_type": "code",
   "execution_count": 391,
   "id": "95670fad-0633-4469-ba97-2475757c408e",
   "metadata": {},
   "outputs": [
    {
     "name": "stdout",
     "output_type": "stream",
     "text": [
      "Gelir sinirdan kucuk\n"
     ]
    }
   ],
   "source": [
    "if gelir > sinir:\n",
    "    print(\"Gelir sinirdan buyuk\")\n",
    "else:\n",
    "    print(\"Gelir sinirdan kucuk\") # gelir > sinir false döndüğü için else bloğu döner"
   ]
  },
  {
   "cell_type": "markdown",
   "id": "1e2ec56c-f544-43b4-b158-01f79f624b36",
   "metadata": {},
   "source": [
    "##### Örnek: Gelir == Sinir"
   ]
  },
  {
   "cell_type": "code",
   "execution_count": 392,
   "id": "ed375ebe-2fcf-4f21-8ccd-2509941eb6ec",
   "metadata": {},
   "outputs": [],
   "source": [
    "sinir = 50000\n",
    "gelir = 51000"
   ]
  },
  {
   "cell_type": "code",
   "execution_count": 393,
   "id": "2ad8fb86-6bdb-4e06-82dd-9c071aa2dc77",
   "metadata": {},
   "outputs": [
    {
     "name": "stdout",
     "output_type": "stream",
     "text": [
      "Gelir sinira esit degildir\n"
     ]
    }
   ],
   "source": [
    "if gelir == sinir:\n",
    "    print(\"Gelir sinira esittir\")\n",
    "else:\n",
    "    print(\"Gelir sinira esit degildir\") # false döndüğü için ikinci bloğumuz çalışır"
   ]
  },
  {
   "cell_type": "code",
   "execution_count": 394,
   "id": "e739d4a5-2814-4592-91e1-09f3635fbc4b",
   "metadata": {},
   "outputs": [],
   "source": [
    "sinir = 50000\n",
    "gelir = 50000"
   ]
  },
  {
   "cell_type": "code",
   "execution_count": 395,
   "id": "8691839f-f4e5-485b-bf8f-f22f96fb066d",
   "metadata": {},
   "outputs": [
    {
     "name": "stdout",
     "output_type": "stream",
     "text": [
      "Gelir sinira esittir\n"
     ]
    }
   ],
   "source": [
    "if gelir == sinir:\n",
    "    print(\"Gelir sinira esittir\") # true\n",
    "else:\n",
    "    print(\"Gelir sinira esit degildir\")"
   ]
  },
  {
   "cell_type": "markdown",
   "id": "2f5fc98f-5abe-41ed-9d38-8281a7c62436",
   "metadata": {},
   "source": [
    "#### elif"
   ]
  },
  {
   "cell_type": "markdown",
   "id": "09e23830-cd64-469e-b56c-345112c57cae",
   "metadata": {},
   "source": [
    "###### -Birden fazla koşul kullanmak için kullanılır\n",
    "###### -Koşul sayısı 3 e çıkarsa elif kullanılır"
   ]
  },
  {
   "cell_type": "code",
   "execution_count": 396,
   "id": "00c7ce10-2c5a-4af1-a1b5-c0c4c3ce86bc",
   "metadata": {},
   "outputs": [],
   "source": [
    "sinir = 50000\n",
    "gelir1 = 60000\n",
    "gelir2 = 50000\n",
    "gelir3 = 35000"
   ]
  },
  {
   "cell_type": "code",
   "execution_count": 397,
   "id": "5e00262a-8513-4844-9965-4d9e252bddfd",
   "metadata": {},
   "outputs": [
    {
     "name": "stdout",
     "output_type": "stream",
     "text": [
      "Tebrikler, hediye kazandiniz\n"
     ]
    }
   ],
   "source": [
    "if gelir1 > sinir:\n",
    "    print(\"Tebrikler, hediye kazandiniz\") \n",
    "    # Çalışma burda bitti ve ekrana yazdırdı\n",
    "elif gelir1 < sinir:\n",
    "    print(\"Uyari!\")\n",
    "else:\n",
    "    print(\"Takibe devam\")"
   ]
  },
  {
   "cell_type": "code",
   "execution_count": 398,
   "id": "30ec2977-5a4a-4656-9a56-6a13c88d0cd3",
   "metadata": {},
   "outputs": [
    {
     "name": "stdout",
     "output_type": "stream",
     "text": [
      "Uyari!\n"
     ]
    }
   ],
   "source": [
    "if gelir3 > sinir:\n",
    "    print(\"Tebrikler, hediye kazandiniz\")\n",
    "elif gelir3 < sinir:\n",
    "    print(\"Uyari!\") # Burda true döndü\n",
    "else:\n",
    "    print(\"Takibe devam\")"
   ]
  },
  {
   "cell_type": "code",
   "execution_count": 399,
   "id": "d641921f-685c-45fd-a1cc-1c42409bd3e8",
   "metadata": {},
   "outputs": [
    {
     "name": "stdout",
     "output_type": "stream",
     "text": [
      "Takibe devam\n"
     ]
    }
   ],
   "source": [
    "if gelir2 > sinir:\n",
    "    print(\"Tebrikler, hediye kazandiniz\") #False\n",
    "elif gelir2 < sinir:\n",
    "    print(\"Uyari!\") #False\n",
    "else:\n",
    "    print(\"Takibe devam\") #True"
   ]
  },
  {
   "cell_type": "markdown",
   "id": "5e421b4e-f789-45da-bf1e-fbe6fc3850fb",
   "metadata": {},
   "source": [
    "### Uygulama: if ve input ile Kullanıcı Etkileşimli Program"
   ]
  },
  {
   "cell_type": "markdown",
   "id": "25963520-74e5-401c-9569-164ec4ed6c81",
   "metadata": {},
   "source": [
    "#### mini uygulama"
   ]
  },
  {
   "cell_type": "code",
   "execution_count": 400,
   "id": "bffef57b-bfc1-4f35-bc95-b43a1ddd366b",
   "metadata": {},
   "outputs": [
    {
     "name": "stdin",
     "output_type": "stream",
     "text": [
      "Magaza Adi Nedir? A_subesi\n",
      "Gelirinizi Giriniz:  60000\n"
     ]
    }
   ],
   "source": [
    "sinir = 50000\n",
    "magaza_adi = input(\"Magaza Adi Nedir?\")\n",
    "gelir = input(\"Gelirinizi Giriniz: \")\n",
    "#gelir = int(input(\"Gelirinizi Giriniz: \"))"
   ]
  },
  {
   "cell_type": "code",
   "execution_count": 401,
   "id": "0896f02e-1365-4440-8309-e836652c5b16",
   "metadata": {},
   "outputs": [
    {
     "ename": "TypeError",
     "evalue": "'>' not supported between instances of 'str' and 'int'",
     "output_type": "error",
     "traceback": [
      "\u001b[1;31m---------------------------------------------------------------------------\u001b[0m",
      "\u001b[1;31mTypeError\u001b[0m                                 Traceback (most recent call last)",
      "\u001b[1;32m~\\AppData\\Local\\Temp\\ipykernel_3340\\4182094201.py\u001b[0m in \u001b[0;36m<module>\u001b[1;34m\u001b[0m\n\u001b[1;32m----> 1\u001b[1;33m \u001b[1;32mif\u001b[0m \u001b[0mgelir\u001b[0m \u001b[1;33m>\u001b[0m \u001b[0msinir\u001b[0m\u001b[1;33m:\u001b[0m\u001b[1;33m\u001b[0m\u001b[1;33m\u001b[0m\u001b[0m\n\u001b[0m\u001b[0;32m      2\u001b[0m     \u001b[0mprint\u001b[0m\u001b[1;33m(\u001b[0m\u001b[1;34m\"Tebrikler, promosyon kazandiniz!\"\u001b[0m\u001b[1;33m)\u001b[0m\u001b[1;33m\u001b[0m\u001b[1;33m\u001b[0m\u001b[0m\n\u001b[0;32m      3\u001b[0m \u001b[1;32melif\u001b[0m \u001b[0mgelir\u001b[0m \u001b[1;33m<\u001b[0m  \u001b[0msinir\u001b[0m\u001b[1;33m:\u001b[0m\u001b[1;33m\u001b[0m\u001b[1;33m\u001b[0m\u001b[0m\n\u001b[0;32m      4\u001b[0m     \u001b[0mprint\u001b[0m\u001b[1;33m(\u001b[0m\u001b[1;34m\"Uyari!\"\u001b[0m\u001b[1;33m)\u001b[0m\u001b[1;33m\u001b[0m\u001b[1;33m\u001b[0m\u001b[0m\n\u001b[0;32m      5\u001b[0m \u001b[1;32melse\u001b[0m\u001b[1;33m:\u001b[0m\u001b[1;33m\u001b[0m\u001b[1;33m\u001b[0m\u001b[0m\n",
      "\u001b[1;31mTypeError\u001b[0m: '>' not supported between instances of 'str' and 'int'"
     ]
    }
   ],
   "source": [
    "if gelir > sinir:\n",
    "    print(\"Tebrikler, promosyon kazandiniz!\")\n",
    "elif gelir <  sinir:\n",
    "    print(\"Uyari!\")\n",
    "else:\n",
    "    print(\"Takibe devam\")"
   ]
  },
  {
   "cell_type": "markdown",
   "id": "edb7b7f4-f7c9-44e1-946f-ecd4a3ac5368",
   "metadata": {},
   "source": [
    "TypeError: str ve int degerler arasında karşılaştırma yapamaz.\n",
    "\n",
    "Bu yüzden input ifadesini integer a çevir"
   ]
  },
  {
   "cell_type": "code",
   "execution_count": 402,
   "id": "a4cffc7c-e10a-4e83-8ec7-49d7b716cd0d",
   "metadata": {},
   "outputs": [
    {
     "name": "stdin",
     "output_type": "stream",
     "text": [
      "Magaza Adi Nedir? A_subesi\n",
      "Gelirinizi Giriniz:  40000\n"
     ]
    },
    {
     "name": "stdout",
     "output_type": "stream",
     "text": [
      "Uyari!\n"
     ]
    }
   ],
   "source": [
    "sinir = 50000\n",
    "magaza_adi = input(\"Magaza Adi Nedir?\")\n",
    "# gelir = input(\"Gelirinizi Giriniz: \")\n",
    "gelir = int(input(\"Gelirinizi Giriniz: \"))\n",
    "\n",
    "if gelir > sinir:\n",
    "    print(\"Tebrikler, promosyon kazandiniz\")\n",
    "    #Değilse\n",
    "elif gelir < sinir:\n",
    "    print(\"Uyari!\")\n",
    "else:\n",
    "    print(\"Takibe devam\")"
   ]
  },
  {
   "cell_type": "code",
   "execution_count": 403,
   "id": "86d9466e-fabb-47c5-8582-8eabf9e74426",
   "metadata": {},
   "outputs": [
    {
     "name": "stdin",
     "output_type": "stream",
     "text": [
      "Magaza Adi Nedir? A_SUBESI\n",
      "Gelirinizi Giriniz:  55000\n"
     ]
    },
    {
     "name": "stdout",
     "output_type": "stream",
     "text": [
      "Tebrikler, A_SUBESI promosyon kazandiniz\n"
     ]
    }
   ],
   "source": [
    "sinir = 50000\n",
    "magaza_adi = input(\"Magaza Adi Nedir?\")\n",
    "gelir = int(input(\"Gelirinizi Giriniz: \"))\n",
    "\n",
    "if gelir > sinir:\n",
    "    print(\"Tebrikler, \" + magaza_adi + \" promosyon kazandiniz\")\n",
    "    #Değilse\n",
    "elif gelir < sinir:\n",
    "    print(\"Uyari! Cok dusuk gelir: \" + str(gelir))\n",
    "    # gelir verisi hata almamak için string olarak birleştirme yapılır\n",
    "else:\n",
    "    print(\"Takibe devam\")"
   ]
  },
  {
   "cell_type": "code",
   "execution_count": 405,
   "id": "51d8e2e2-6881-41d0-8373-4c9be4b71c25",
   "metadata": {},
   "outputs": [
    {
     "name": "stdin",
     "output_type": "stream",
     "text": [
      "Magaza Adi Nedir? A_SUBESI\n",
      "Gelirinizi Giriniz:  35000\n"
     ]
    },
    {
     "name": "stdout",
     "output_type": "stream",
     "text": [
      "Uyari! Cok dusuk gelir: 35000\n"
     ]
    }
   ],
   "source": [
    "sinir = 50000\n",
    "magaza_adi = input(\"Magaza Adi Nedir?\")\n",
    "gelir = int(input(\"Gelirinizi Giriniz: \"))\n",
    "\n",
    "if gelir > sinir:\n",
    "    print(\"Tebrikler, \" + magaza_adi + \" promosyon kazandiniz\")\n",
    "    #Değilse\n",
    "elif gelir < sinir:\n",
    "    print(\"Uyari! Cok dusuk gelir: \" + str(gelir))\n",
    "    # gelir verisi hata almamak için string olarak birleştirme yapılır\n",
    "else:\n",
    "    print(\"Takibe devam\")"
   ]
  },
  {
   "cell_type": "markdown",
   "id": "3a98af7f-5c9c-4398-8ba1-33a887946c21",
   "metadata": {},
   "source": [
    "-Bunun gibi bir uygulama yapabilirsin :)\n",
    "\n",
    "-Örneğin bir kişi hastalık bilgilerini de sisteme girebilir\n",
    "\n",
    "-Bir kadın 3 defa hamilelik geçirdi\n",
    "\n",
    "-Kan kolestrol değerleri, kan tahlilleri vs bilgileri girildiğinde\n",
    "\n",
    "-Makine öğrenmesi modeli bu kişinin şeker hastalığına sahip olup olmama olasılığını hesaplayacak"
   ]
  },
  {
   "cell_type": "markdown",
   "id": "0a7b1ae3-1c50-497d-9182-d68506dbf828",
   "metadata": {},
   "source": [
    "### DONGULER"
   ]
  },
  {
   "cell_type": "markdown",
   "id": "7ddb5e51-7596-4916-a456-1474f1fb1c29",
   "metadata": {},
   "source": [
    "#### for"
   ]
  },
  {
   "cell_type": "code",
   "execution_count": 406,
   "id": "79edaeba-023b-4a01-8006-fd3ddc5ba6a9",
   "metadata": {},
   "outputs": [],
   "source": [
    "# Iterative işlemler içerir\n",
    "# Bir liste içerisindeki her elemana tek tek gitme işlemi\n",
    "\n",
    "ogrenci = [\"ali\", \"veli\", \"isik\", \"berk\"]"
   ]
  },
  {
   "cell_type": "code",
   "execution_count": 407,
   "id": "539ce297-48ce-4ffe-ac81-e8594d916eff",
   "metadata": {},
   "outputs": [
    {
     "data": {
      "text/plain": [
       "'ali'"
      ]
     },
     "execution_count": 407,
     "metadata": {},
     "output_type": "execute_result"
    }
   ],
   "source": [
    "ogrenci[0]"
   ]
  },
  {
   "cell_type": "code",
   "execution_count": 408,
   "id": "845361fe-e91f-4a1f-a8bd-ce49456ea7eb",
   "metadata": {},
   "outputs": [
    {
     "data": {
      "text/plain": [
       "'veli'"
      ]
     },
     "execution_count": 408,
     "metadata": {},
     "output_type": "execute_result"
    }
   ],
   "source": [
    "ogrenci[1]"
   ]
  },
  {
   "cell_type": "code",
   "execution_count": 409,
   "id": "22e1a559-b6a5-4008-91af-8f05e78ad772",
   "metadata": {},
   "outputs": [
    {
     "data": {
      "text/plain": [
       "'isik'"
      ]
     },
     "execution_count": 409,
     "metadata": {},
     "output_type": "execute_result"
    }
   ],
   "source": [
    "ogrenci[2]"
   ]
  },
  {
   "cell_type": "code",
   "execution_count": 410,
   "id": "2acc0763-4768-414b-a77d-6e301f05573f",
   "metadata": {},
   "outputs": [
    {
     "data": {
      "text/plain": [
       "'berk'"
      ]
     },
     "execution_count": 410,
     "metadata": {},
     "output_type": "execute_result"
    }
   ],
   "source": [
    "ogrenci[3]"
   ]
  },
  {
   "cell_type": "markdown",
   "id": "700b9f41-0a71-4a02-96bd-7a8b853cc694",
   "metadata": {},
   "source": [
    "###### Binlerce, yüzlerce değer olduğunda iterative işlemler için for döngüsü yazılır."
   ]
  },
  {
   "cell_type": "code",
   "execution_count": 411,
   "id": "a6629cc5-7fbb-486c-a8a9-256fc17c1d56",
   "metadata": {},
   "outputs": [
    {
     "name": "stdout",
     "output_type": "stream",
     "text": [
      "ali\n",
      "veli\n",
      "isik\n",
      "berk\n"
     ]
    }
   ],
   "source": [
    "#i temsili değişken \n",
    "#indexlerin hepsini gezmek için kullandığımız geçici değişken = i\n",
    "for i in ogrenci:\n",
    "    print(i)"
   ]
  },
  {
   "cell_type": "code",
   "execution_count": 412,
   "id": "90f8a6e1-a42f-41e4-9879-4a8c77f0281c",
   "metadata": {},
   "outputs": [
    {
     "name": "stdout",
     "output_type": "stream",
     "text": [
      "ali\n"
     ]
    }
   ],
   "source": [
    "print(ogrenci[0]) # Birinci iterasyon"
   ]
  },
  {
   "cell_type": "code",
   "execution_count": 413,
   "id": "2477f663-0957-4ca8-9f11-732f65d91ca7",
   "metadata": {},
   "outputs": [
    {
     "name": "stdout",
     "output_type": "stream",
     "text": [
      "ali\n",
      "veli\n",
      "isik\n",
      "berk\n"
     ]
    }
   ],
   "source": [
    "for a in ogrenci: # Temsili değişken herhangi harfler olabilir\n",
    "    print(a)"
   ]
  },
  {
   "cell_type": "markdown",
   "id": "1e7c23ae-9595-4a4b-9cc0-eaa23eb3f36b",
   "metadata": {},
   "source": [
    "#### for- Örnek"
   ]
  },
  {
   "cell_type": "code",
   "execution_count": 414,
   "id": "c9232375-557d-403c-9f18-591a33a6ca31",
   "metadata": {},
   "outputs": [],
   "source": [
    "maaslar = [1000,2000,3000,4000,5000]"
   ]
  },
  {
   "cell_type": "code",
   "execution_count": 415,
   "id": "3c4ff8e1-ab18-4714-97aa-aa035e12be16",
   "metadata": {},
   "outputs": [
    {
     "data": {
      "text/plain": [
       "1000"
      ]
     },
     "execution_count": 415,
     "metadata": {},
     "output_type": "execute_result"
    }
   ],
   "source": [
    "maaslar[0]"
   ]
  },
  {
   "cell_type": "code",
   "execution_count": 416,
   "id": "8aead6ee-d9db-4890-8704-d7b9b301b2e9",
   "metadata": {},
   "outputs": [
    {
     "data": {
      "text/plain": [
       "2000"
      ]
     },
     "execution_count": 416,
     "metadata": {},
     "output_type": "execute_result"
    }
   ],
   "source": [
    "maaslar[1]"
   ]
  },
  {
   "cell_type": "code",
   "execution_count": 417,
   "id": "31515600-ccb9-4331-ba4f-c0936f0ef3d5",
   "metadata": {},
   "outputs": [
    {
     "data": {
      "text/plain": [
       "3000"
      ]
     },
     "execution_count": 417,
     "metadata": {},
     "output_type": "execute_result"
    }
   ],
   "source": [
    "maaslar[2]"
   ]
  },
  {
   "cell_type": "code",
   "execution_count": 418,
   "id": "10b19553-297e-4247-82e7-465de378f9ab",
   "metadata": {},
   "outputs": [
    {
     "data": {
      "text/plain": [
       "4000"
      ]
     },
     "execution_count": 418,
     "metadata": {},
     "output_type": "execute_result"
    }
   ],
   "source": [
    "maaslar[3]"
   ]
  },
  {
   "cell_type": "code",
   "execution_count": 419,
   "id": "c18aa0fa-52cb-4a40-a69e-7262043533ed",
   "metadata": {},
   "outputs": [
    {
     "data": {
      "text/plain": [
       "5000"
      ]
     },
     "execution_count": 419,
     "metadata": {},
     "output_type": "execute_result"
    }
   ],
   "source": [
    "maaslar[4]"
   ]
  },
  {
   "cell_type": "code",
   "execution_count": 420,
   "id": "45fba710-4778-4033-a002-118e20fa67ec",
   "metadata": {},
   "outputs": [],
   "source": [
    "# i her elemanın temsilcisi olsun, tüm elemanları tek tek gezsin"
   ]
  },
  {
   "cell_type": "code",
   "execution_count": 421,
   "id": "6b72efbb-45c9-46fb-8d8d-29b5d5f620cc",
   "metadata": {},
   "outputs": [
    {
     "name": "stdout",
     "output_type": "stream",
     "text": [
      "1000\n",
      "2000\n",
      "3000\n",
      "4000\n",
      "5000\n"
     ]
    }
   ],
   "source": [
    "# python high level bir programlama dili old için\n",
    "# hepsini tek tek for döngüsüyle gezebilir\n",
    "\n",
    "for i in maaslar: # i maaslar içinde gezsin: ne yapsın?\n",
    "    print(i) # her bir elemanı yazdır"
   ]
  },
  {
   "cell_type": "code",
   "execution_count": 422,
   "id": "122b53ee-a438-4799-b3d9-4855b525f160",
   "metadata": {},
   "outputs": [
    {
     "name": "stdout",
     "output_type": "stream",
     "text": [
      "2000\n",
      "4000\n",
      "6000\n",
      "8000\n",
      "10000\n"
     ]
    }
   ],
   "source": [
    "for i in maaslar:\n",
    "    print(i*2)  # her bir elemanı 2 ile çarp"
   ]
  },
  {
   "cell_type": "code",
   "execution_count": 423,
   "id": "205725df-46d9-4a66-adf9-da746afed178",
   "metadata": {},
   "outputs": [
    {
     "name": "stdout",
     "output_type": "stream",
     "text": [
      "0\n",
      "0\n",
      "0\n",
      "0\n",
      "0\n"
     ]
    }
   ],
   "source": [
    "for i in maaslar:\n",
    "    print(i*0) # her bir elemanı 0 ile çarp"
   ]
  },
  {
   "cell_type": "code",
   "execution_count": 424,
   "id": "972633e3-e330-4579-bc27-155868620cfa",
   "metadata": {},
   "outputs": [
    {
     "name": "stdout",
     "output_type": "stream",
     "text": [
      "1000\n",
      "2000\n",
      "3000\n",
      "4000\n",
      "5000\n"
     ]
    }
   ],
   "source": [
    "# maas geçici temsili değişkendir\n",
    "for maas in maaslar:\n",
    "    print(maas)"
   ]
  },
  {
   "cell_type": "markdown",
   "id": "624b95f9-ee0d-46d2-9eed-3d386974b49b",
   "metadata": {},
   "source": [
    "#### Döngü ve Fonksiyonları birlikte kullanmak"
   ]
  },
  {
   "cell_type": "code",
   "execution_count": 425,
   "id": "fbf593b8-0a60-42a4-b613-25a197632c69",
   "metadata": {},
   "outputs": [],
   "source": [
    "# Fonksiyon\n",
    "def kare_al(x):\n",
    "    print(x**2)"
   ]
  },
  {
   "cell_type": "code",
   "execution_count": 426,
   "id": "2236705c-6564-49ec-80c8-cfc2cbcc1e12",
   "metadata": {},
   "outputs": [
    {
     "name": "stdout",
     "output_type": "stream",
     "text": [
      "4\n"
     ]
    }
   ],
   "source": [
    "kare_al(2)"
   ]
  },
  {
   "cell_type": "code",
   "execution_count": 427,
   "id": "3c7d4f9e-4dbf-4a6c-86bf-837e647edee7",
   "metadata": {},
   "outputs": [
    {
     "name": "stdout",
     "output_type": "stream",
     "text": [
      "1000\n",
      "2000\n",
      "3000\n",
      "4000\n",
      "5000\n"
     ]
    }
   ],
   "source": [
    "# Döngü\n",
    "maaslar = [1000,2000,3000,4000,5000]\n",
    "for i in maaslar:\n",
    "    print(i)"
   ]
  },
  {
   "cell_type": "code",
   "execution_count": 428,
   "id": "c8b57c3b-12c5-4fa5-81a1-bdcfd21d2902",
   "metadata": {},
   "outputs": [
    {
     "data": {
      "text/plain": [
       "1200.0"
      ]
     },
     "execution_count": 428,
     "metadata": {},
     "output_type": "execute_result"
    }
   ],
   "source": [
    "# Patron bu maaslara zam yapmak istiyor\n",
    "# Şirkette binlerce insan var\n",
    "# Maaslara yuzde 20 zam yapilacak, gerekli kodlari yaziniz.\n",
    "\n",
    "1000*20/100 + 1000 # ilk maaş için zamlı yeni hali"
   ]
  },
  {
   "cell_type": "code",
   "execution_count": 429,
   "id": "b38182d6-9450-4108-805f-f8d4be6c0e2b",
   "metadata": {},
   "outputs": [
    {
     "data": {
      "text/plain": [
       "1200.0"
      ]
     },
     "execution_count": 429,
     "metadata": {},
     "output_type": "execute_result"
    }
   ],
   "source": [
    "maaslar[0]*20/100 + maaslar[0]"
   ]
  },
  {
   "cell_type": "code",
   "execution_count": 430,
   "id": "bcb0770a-f3d3-49b0-9075-7e3500684f32",
   "metadata": {},
   "outputs": [
    {
     "data": {
      "text/plain": [
       "2400.0"
      ]
     },
     "execution_count": 430,
     "metadata": {},
     "output_type": "execute_result"
    }
   ],
   "source": [
    "maaslar[1]*20/100 + maaslar[1]"
   ]
  },
  {
   "cell_type": "code",
   "execution_count": 431,
   "id": "48ae959d-df20-4941-b410-ed9ad2812b53",
   "metadata": {},
   "outputs": [
    {
     "data": {
      "text/plain": [
       "3600.0"
      ]
     },
     "execution_count": 431,
     "metadata": {},
     "output_type": "execute_result"
    }
   ],
   "source": [
    "maaslar[2]*20/100 + maaslar[2]"
   ]
  },
  {
   "cell_type": "code",
   "execution_count": 432,
   "id": "32b209ca-65ae-4c63-a312-bcde5dc520e3",
   "metadata": {},
   "outputs": [],
   "source": [
    "# dongu yazılacak\n",
    "# bir fonksiyon yapma\n",
    "def yeni_maas(x): # Fonksiyon ismi tanımladık, tek değişken var\n",
    "    print(x)"
   ]
  },
  {
   "cell_type": "code",
   "execution_count": 433,
   "id": "1cee4d7e-1498-4b29-b4be-8453b1b39602",
   "metadata": {},
   "outputs": [
    {
     "name": "stdout",
     "output_type": "stream",
     "text": [
      "4\n"
     ]
    }
   ],
   "source": [
    "yeni_maas(4)"
   ]
  },
  {
   "cell_type": "code",
   "execution_count": 434,
   "id": "506b092c-aaf5-4e00-9d7c-69ef9b052576",
   "metadata": {},
   "outputs": [
    {
     "data": {
      "text/plain": [
       "1200.0"
      ]
     },
     "execution_count": 434,
     "metadata": {},
     "output_type": "execute_result"
    }
   ],
   "source": [
    "# Fonksiyonda indekslere göre iterative işlem uygulanmalı\n",
    "maaslar[0]*20/100 + maaslar[0] # uygulanacak işlem (first itr)"
   ]
  },
  {
   "cell_type": "code",
   "execution_count": 435,
   "id": "e1278bd2-b374-4f56-a0a9-0417c4d42ceb",
   "metadata": {},
   "outputs": [],
   "source": [
    "# bir fonksiyon ile otonomlaştırma yap\n",
    "def yeni_maas(x):\n",
    "     print(x*20/100 + x)"
   ]
  },
  {
   "cell_type": "code",
   "execution_count": 436,
   "id": "65478957-d894-4c35-9fca-e3bc991c7051",
   "metadata": {},
   "outputs": [
    {
     "name": "stdout",
     "output_type": "stream",
     "text": [
      "1200.0\n"
     ]
    }
   ],
   "source": [
    "yeni_maas(1000)"
   ]
  },
  {
   "cell_type": "code",
   "execution_count": 437,
   "id": "a8eaba44-10d7-48d9-a56e-a123a5e35e33",
   "metadata": {},
   "outputs": [
    {
     "name": "stdout",
     "output_type": "stream",
     "text": [
      "2400.0\n"
     ]
    }
   ],
   "source": [
    "yeni_maas(2000)"
   ]
  },
  {
   "cell_type": "code",
   "execution_count": 438,
   "id": "02847b0c-330c-443f-bf44-8f4086f5ceb1",
   "metadata": {},
   "outputs": [
    {
     "name": "stdout",
     "output_type": "stream",
     "text": [
      "3600.0\n"
     ]
    }
   ],
   "source": [
    "yeni_maas(3000)"
   ]
  },
  {
   "cell_type": "code",
   "execution_count": 439,
   "id": "ffac0495-6ff1-42b5-89ba-a798ca4dbe8f",
   "metadata": {},
   "outputs": [
    {
     "name": "stdout",
     "output_type": "stream",
     "text": [
      "1200.0\n",
      "2400.0\n",
      "3600.0\n",
      "4800.0\n",
      "6000.0\n"
     ]
    }
   ],
   "source": [
    "# her çalışan için döngü yapmalıyız\n",
    "# print fonksiyonu yerine kendi oluşturduğumuz fonksiyonu kullan\n",
    "# i değeri yeni_maas(x) içindeki x'e gider\n",
    "# artık i orada x gibi davranır\n",
    "for i in maaslar:\n",
    "    yeni_maas(i)"
   ]
  },
  {
   "cell_type": "markdown",
   "id": "31f4148c-c5c6-4103-8649-9c3ffd97611e",
   "metadata": {},
   "source": [
    "### Mini Uygulama2\n",
    "#### if, for ve Fonksiyonların Birlikte Kullanımı"
   ]
  },
  {
   "cell_type": "code",
   "execution_count": 440,
   "id": "d2f7f8eb-435e-4a21-b8be-c8d83844f2e6",
   "metadata": {},
   "outputs": [],
   "source": [
    "maaslar = [1000,2000,3000,4000,5000]"
   ]
  },
  {
   "cell_type": "code",
   "execution_count": 441,
   "id": "cd493b3c-cca7-4609-9af9-dc98ec7416a1",
   "metadata": {},
   "outputs": [],
   "source": [
    "# Herkese aynı zammı yapmak yerine\n",
    "# Çok maaşa da az zam, az maaşa sahip olanlara daha çok zam\n",
    "# Maaşı 3000 den çok olana %10 zam, maaşı 3000 den az olana %20 zam\n",
    "# 2 işlem yani 2 farklı fonksiyon gerekli\n",
    "def maas_ust(x):\n",
    "    print(x*10/100 + x) # %10 zam fonksiyonu\n",
    "    \n",
    "def maas_alt(x):\n",
    "    print(x*20/100 + x) # %20 zam fonsksiyonu"
   ]
  },
  {
   "cell_type": "code",
   "execution_count": 442,
   "id": "bf06c67a-633f-4509-9378-639a5833cfc3",
   "metadata": {},
   "outputs": [
    {
     "name": "stdout",
     "output_type": "stream",
     "text": [
      "1000\n",
      "2000\n",
      "3000\n",
      "4000\n",
      "5000\n"
     ]
    }
   ],
   "source": [
    "for i in maaslar:\n",
    "    print(i) # her maaşı iterasyon şeklinde döndür"
   ]
  },
  {
   "cell_type": "code",
   "execution_count": 443,
   "id": "b3d0f125-b5ea-4a9f-8027-8a4a52da42aa",
   "metadata": {},
   "outputs": [
    {
     "name": "stdout",
     "output_type": "stream",
     "text": [
      "1200.0\n",
      "2400.0\n",
      "3300.0\n",
      "4400.0\n",
      "5500.0\n"
     ]
    }
   ],
   "source": [
    "# Bir kontrol yaparak if karar yapısı kullan (3000 şartı için)\n",
    "for i in maaslar: # Döngü maaşlar içinde gezer\n",
    "    if i >= 3000: # Eğer döngüdeki i >=3000 ise\n",
    "        maas_ust(i) # maas_ust fonksiyonu döndürerek %10 zam yap\n",
    "    else:\n",
    "        maas_alt(i) # Değilse %20 zam yap"
   ]
  },
  {
   "cell_type": "markdown",
   "id": "165ad5be-e93b-4848-9959-e35ad136fa21",
   "metadata": {},
   "source": [
    "#### break & continue"
   ]
  },
  {
   "cell_type": "markdown",
   "id": "5f45e2d1-aaa6-4d25-b9d5-31e899d46725",
   "metadata": {},
   "source": [
    "Döngüler içerisinde (for vs) bazen belirli şartların sağlandığı ifadeler yakalandığında,\n",
    "if gibi, şart sağlandığında döngü bitirilmek istenebilir veya bu şartı sağlayan eleman görmezden gelinebilir. Bu ifadelerde break veya continue kullanılır"
   ]
  },
  {
   "cell_type": "code",
   "execution_count": 444,
   "id": "ded54eaf-7e2c-4ee0-a080-47b43202094c",
   "metadata": {},
   "outputs": [],
   "source": [
    "maaslar = [8000,5000,2000,1000,3000,7000,1000]"
   ]
  },
  {
   "cell_type": "code",
   "execution_count": 445,
   "id": "7432093f-4d72-4f6c-b648-17c99433f003",
   "metadata": {},
   "outputs": [],
   "source": [
    "# maaş 3000 e geldiğinde duran fonksiyon dönsün\n",
    "dir(maaslar) # Kullanılabilen metotları çağırır\n",
    "maaslar.sort()"
   ]
  },
  {
   "cell_type": "code",
   "execution_count": 446,
   "id": "31a25666-7458-4b0c-b39e-367c4648fa68",
   "metadata": {},
   "outputs": [
    {
     "data": {
      "text/plain": [
       "[1000, 1000, 2000, 3000, 5000, 7000, 8000]"
      ]
     },
     "execution_count": 446,
     "metadata": {},
     "output_type": "execute_result"
    }
   ],
   "source": [
    "maaslar"
   ]
  },
  {
   "cell_type": "code",
   "execution_count": 447,
   "id": "1d4d4a31-6851-41be-ae47-c0e9332e2f5c",
   "metadata": {},
   "outputs": [
    {
     "name": "stdout",
     "output_type": "stream",
     "text": [
      "1000\n",
      "1000\n",
      "2000\n",
      "kesildi\n"
     ]
    }
   ],
   "source": [
    "for i in maaslar:\n",
    "    if i == 3000:\n",
    "        print(\"kesildi\")\n",
    "        break\n",
    "    # döngü 3000 e eşit değilse devam etsin istiyoruz\n",
    "    # sorgu sağlandığında döngüden beni at\n",
    "    print(i)"
   ]
  },
  {
   "cell_type": "code",
   "execution_count": 448,
   "id": "93ffc12f-bfd6-4b5a-99d5-c1fb662d31e2",
   "metadata": {},
   "outputs": [
    {
     "name": "stdout",
     "output_type": "stream",
     "text": [
      "1000\n",
      "1000\n",
      "2000\n",
      "5000\n",
      "7000\n",
      "8000\n"
     ]
    }
   ],
   "source": [
    "for i in maaslar:\n",
    "    if i == 3000:\n",
    "        continue\n",
    "    print(i)\n",
    "    # döngü 3000 e geldiğinde işlem yapmasın\n",
    "    # 3000 değeri dışındakiler var, 3000 olanı atla\n",
    "    # continue ifadesinde bir değer control ifadesine takıldığında bu değeri atlamak için kullanılır"
   ]
  },
  {
   "cell_type": "markdown",
   "id": "7cb205b4-c7b3-4f69-ae28-26e9a5bbc4b5",
   "metadata": {},
   "source": [
    "#### while"
   ]
  },
  {
   "cell_type": "code",
   "execution_count": 449,
   "id": "e42dadec-6ad1-456d-82ef-40b0b4ef4009",
   "metadata": {},
   "outputs": [],
   "source": [
    "# olduğu sürece\n",
    "# bu şart sağlandığı sürece demek\n",
    "sayi = 1"
   ]
  },
  {
   "cell_type": "code",
   "execution_count": 450,
   "id": "56f8170c-6ba7-47fb-a328-4ee3086088f9",
   "metadata": {},
   "outputs": [
    {
     "name": "stdout",
     "output_type": "stream",
     "text": [
      "2\n",
      "3\n",
      "4\n",
      "5\n",
      "6\n",
      "7\n",
      "8\n",
      "9\n",
      "10\n"
     ]
    }
   ],
   "source": [
    "while sayi < 10:\n",
    "    sayi += 1 # her iterasyonda sayının değeri 1 artacak ve sayı güncellenecek\n",
    "    print(sayi)\n",
    "    # sayi 10 a gelene kadar devam eder ( sayi 10 dan küçük olduğu sürece)\n",
    "    # 10 (sayi=9 olduğunda sayiya 1 ekle print 10 u yazdır)"
   ]
  },
  {
   "cell_type": "code",
   "execution_count": 451,
   "id": "845d1ff3-9c8e-40f8-ad99-db40513fc26b",
   "metadata": {},
   "outputs": [],
   "source": [
    "while sayi < 9:\n",
    "    sayi += 1\n",
    "    print(sayi) # sayi = 1 tanımla !!"
   ]
  },
  {
   "cell_type": "code",
   "execution_count": 452,
   "id": "be9db556-d41a-41df-ab1a-4327410c4f0e",
   "metadata": {},
   "outputs": [
    {
     "name": "stdout",
     "output_type": "stream",
     "text": [
      "2\n",
      "3\n",
      "4\n",
      "5\n",
      "6\n",
      "7\n",
      "8\n",
      "9\n"
     ]
    }
   ],
   "source": [
    "sayi = 1\n",
    "while sayi < 9:\n",
    "    sayi += 1\n",
    "    print(sayi)"
   ]
  },
  {
   "cell_type": "markdown",
   "id": "c9ccafae-d212-4b5e-8cd9-fa3a6c9093c7",
   "metadata": {},
   "source": [
    "## Python Programlama Alıştırmalar - 7"
   ]
  },
  {
   "cell_type": "markdown",
   "id": "de685aa0-129c-4ecc-a67b-10ce55429c70",
   "metadata": {},
   "source": [
    "##### Soru 1:\n",
    "##### Aşağıdakilerden hangisi fonksiyon tanımlamak için kullanılır?"
   ]
  },
  {
   "cell_type": "markdown",
   "id": "24d007d3-3de2-44c4-8b3c-c09c4b3261ae",
   "metadata": {},
   "source": [
    "###### -def"
   ]
  },
  {
   "cell_type": "markdown",
   "id": "6a178916-709e-4950-b9ff-893c9c0a0f92",
   "metadata": {},
   "source": [
    "##### Soru 2:\n",
    "##### Aşağıdaki verilen kod ne işe yarar?"
   ]
  },
  {
   "cell_type": "code",
   "execution_count": 453,
   "id": "568b5406-06d5-4e74-87f4-cf2c18469698",
   "metadata": {},
   "outputs": [
    {
     "data": {
      "text/plain": [
       "\u001b[1;31mDocstring:\u001b[0m\n",
       "print(value, ..., sep=' ', end='\\n', file=sys.stdout, flush=False)\n",
       "\n",
       "Prints the values to a stream, or to sys.stdout by default.\n",
       "Optional keyword arguments:\n",
       "file:  a file-like object (stream); defaults to the current sys.stdout.\n",
       "sep:   string inserted between values, default a space.\n",
       "end:   string appended after the last value, default a newline.\n",
       "flush: whether to forcibly flush the stream.\n",
       "\u001b[1;31mType:\u001b[0m      builtin_function_or_method\n"
      ]
     },
     "metadata": {},
     "output_type": "display_data"
    }
   ],
   "source": [
    "?print"
   ]
  },
  {
   "cell_type": "markdown",
   "id": "e3ccd213-5573-4c4e-9f4c-fedc6dce9f5d",
   "metadata": {},
   "source": [
    "###### -print fonksiyonu hakkında bilgi alma imkanı sağlar"
   ]
  },
  {
   "cell_type": "markdown",
   "id": "71c68446-ce3d-4d7e-abd2-f757e193b9e8",
   "metadata": {},
   "source": [
    "##### Soru 3:\n",
    "##### Verilen kod parçasında bir fonksiyon tanımlanmıştır. Tanımlanan fonksiyon işlevini yerine getirmek adına nasıl kullanılır?"
   ]
  },
  {
   "cell_type": "code",
   "execution_count": 454,
   "id": "e8f1aedd-477b-4118-959e-3c011db76cff",
   "metadata": {},
   "outputs": [],
   "source": [
    "def kup_al(x):\n",
    "    print(x**3)"
   ]
  },
  {
   "cell_type": "code",
   "execution_count": 455,
   "id": "e06cc42e-2fee-466d-953e-750b15cc5de4",
   "metadata": {},
   "outputs": [
    {
     "name": "stdout",
     "output_type": "stream",
     "text": [
      "8\n"
     ]
    }
   ],
   "source": [
    "kup_al(2)"
   ]
  },
  {
   "cell_type": "markdown",
   "id": "aec46bbe-c7bd-4531-8295-4cd78fb0b9e4",
   "metadata": {},
   "source": [
    "##### Soru 4:\n",
    "##### Verilen kodun çıktısı nedir?"
   ]
  },
  {
   "cell_type": "code",
   "execution_count": 456,
   "id": "b7842b86-fc6a-4dbd-b0c3-cc60ea6686c5",
   "metadata": {},
   "outputs": [
    {
     "name": "stdout",
     "output_type": "stream",
     "text": [
      "gelecegi yazanlar\n"
     ]
    }
   ],
   "source": [
    "def yazdir(metin):\n",
    "    print(metin, \"yazanlar\")\n",
    " \n",
    "yazdir(\"gelecegi\")"
   ]
  },
  {
   "cell_type": "markdown",
   "id": "c998c73a-2792-4d42-8d08-258625f2df33",
   "metadata": {},
   "source": [
    "##### Soru 5:\n",
    "##### Verilen kodun çıktısı nedir?"
   ]
  },
  {
   "cell_type": "code",
   "execution_count": 457,
   "id": "5d97f2fe-c744-4d53-af50-d47233b4f0a1",
   "metadata": {},
   "outputs": [
    {
     "name": "stdout",
     "output_type": "stream",
     "text": [
      "10\n"
     ]
    }
   ],
   "source": [
    "def islem(x, y):\n",
    "    print(x + y)\n",
    " \n",
    "islem(1,9)"
   ]
  },
  {
   "cell_type": "markdown",
   "id": "4eefea12-57bc-489f-9950-539f4157a139",
   "metadata": {},
   "source": [
    "##### Soru 6:\n",
    "##### Verilen kodun çıktısı nedir?"
   ]
  },
  {
   "cell_type": "code",
   "execution_count": 458,
   "id": "82464eda-5d1e-4b42-a532-a3d5f121d217",
   "metadata": {},
   "outputs": [
    {
     "ename": "TypeError",
     "evalue": "islem() missing 1 required positional argument: 'y'",
     "output_type": "error",
     "traceback": [
      "\u001b[1;31m---------------------------------------------------------------------------\u001b[0m",
      "\u001b[1;31mTypeError\u001b[0m                                 Traceback (most recent call last)",
      "\u001b[1;32m~\\AppData\\Local\\Temp\\ipykernel_3340\\3058115714.py\u001b[0m in \u001b[0;36m<module>\u001b[1;34m\u001b[0m\n\u001b[0;32m      2\u001b[0m     \u001b[0mprint\u001b[0m\u001b[1;33m(\u001b[0m\u001b[0mx\u001b[0m \u001b[1;33m-\u001b[0m \u001b[0my\u001b[0m\u001b[1;33m)\u001b[0m\u001b[1;33m\u001b[0m\u001b[1;33m\u001b[0m\u001b[0m\n\u001b[0;32m      3\u001b[0m \u001b[1;33m\u001b[0m\u001b[0m\n\u001b[1;32m----> 4\u001b[1;33m \u001b[0mislem\u001b[0m\u001b[1;33m(\u001b[0m\u001b[1;36m3\u001b[0m\u001b[1;33m)\u001b[0m\u001b[1;33m\u001b[0m\u001b[1;33m\u001b[0m\u001b[0m\n\u001b[0m",
      "\u001b[1;31mTypeError\u001b[0m: islem() missing 1 required positional argument: 'y'"
     ]
    }
   ],
   "source": [
    "def islem(x, y):\n",
    "    print(x - y)\n",
    " \n",
    "islem(3)"
   ]
  },
  {
   "cell_type": "markdown",
   "id": "74394f6d-b840-4e60-a57e-da0ac1f2c1b7",
   "metadata": {},
   "source": [
    "###### -İşlem hata üretir"
   ]
  },
  {
   "cell_type": "markdown",
   "id": "2097bb8b-a767-4c9e-a259-533aedd4a614",
   "metadata": {},
   "source": [
    "##### Soru 7:\n",
    "##### Verilen kod parçası çalıştırıldığında hata üretecektir. Bu hatanın önüne geçmek adına fonksiyon tanımlama esnasında ne yapmak gerekir."
   ]
  },
  {
   "cell_type": "code",
   "execution_count": 459,
   "id": "6eaabb4c-930a-417f-8b28-9457c46e6ffe",
   "metadata": {},
   "outputs": [
    {
     "ename": "TypeError",
     "evalue": "islem() missing 1 required positional argument: 'y'",
     "output_type": "error",
     "traceback": [
      "\u001b[1;31m---------------------------------------------------------------------------\u001b[0m",
      "\u001b[1;31mTypeError\u001b[0m                                 Traceback (most recent call last)",
      "\u001b[1;32m~\\AppData\\Local\\Temp\\ipykernel_3340\\4015097635.py\u001b[0m in \u001b[0;36m<module>\u001b[1;34m\u001b[0m\n\u001b[0;32m      1\u001b[0m \u001b[1;32mdef\u001b[0m \u001b[0mislem\u001b[0m\u001b[1;33m(\u001b[0m\u001b[0mx\u001b[0m\u001b[1;33m,\u001b[0m \u001b[0my\u001b[0m\u001b[1;33m)\u001b[0m\u001b[1;33m:\u001b[0m\u001b[1;33m\u001b[0m\u001b[1;33m\u001b[0m\u001b[0m\n\u001b[0;32m      2\u001b[0m     \u001b[0mprint\u001b[0m\u001b[1;33m(\u001b[0m\u001b[0mx\u001b[0m \u001b[1;33m-\u001b[0m \u001b[0my\u001b[0m\u001b[1;33m)\u001b[0m\u001b[1;33m\u001b[0m\u001b[1;33m\u001b[0m\u001b[0m\n\u001b[1;32m----> 3\u001b[1;33m \u001b[0mislem\u001b[0m\u001b[1;33m(\u001b[0m\u001b[1;36m3\u001b[0m\u001b[1;33m)\u001b[0m\u001b[1;33m\u001b[0m\u001b[1;33m\u001b[0m\u001b[0m\n\u001b[0m",
      "\u001b[1;31mTypeError\u001b[0m: islem() missing 1 required positional argument: 'y'"
     ]
    }
   ],
   "source": [
    "def islem(x, y):\n",
    "    print(x - y)\n",
    "islem(3)"
   ]
  },
  {
   "cell_type": "markdown",
   "id": "e2607b0f-c196-4364-b8dc-9ce71287ec4c",
   "metadata": {},
   "source": [
    "##### y argümanına ön tanımlı değer verilmelidir"
   ]
  },
  {
   "cell_type": "markdown",
   "id": "b56bc446-7c37-4afe-a42f-eef3e51f5205",
   "metadata": {},
   "source": [
    "##### Soru 8:\n",
    "##### Verilen kodun çıktısı nedir?"
   ]
  },
  {
   "cell_type": "code",
   "execution_count": 460,
   "id": "b5a75592-ec6a-4656-8076-2b8bcfb7ab03",
   "metadata": {},
   "outputs": [],
   "source": [
    "def harf_say(x):\n",
    "    len(x)\n",
    " \n",
    "harf_say(\"Merhaba!\")"
   ]
  },
  {
   "cell_type": "markdown",
   "id": "3ecefe66-1189-4f7e-8f43-15ae9d86f863",
   "metadata": {},
   "source": [
    "###### Kod çalışır ama çıktı üretmez"
   ]
  },
  {
   "cell_type": "markdown",
   "id": "a95c2443-3a67-45b0-8a24-c5642e88afcc",
   "metadata": {},
   "source": [
    "##### Soru 9:\n",
    "##### Verilen kod parçası çalışacak fakat çıktı üretmeyecektir. Kodun kullanılabilir bir çıktı üretmesi için ne yapmak gerekir?"
   ]
  },
  {
   "cell_type": "code",
   "execution_count": 461,
   "id": "54bc653c-fef9-4cc7-99a6-65f3d35ee36e",
   "metadata": {},
   "outputs": [
    {
     "data": {
      "text/plain": [
       "8"
      ]
     },
     "execution_count": 461,
     "metadata": {},
     "output_type": "execute_result"
    }
   ],
   "source": [
    "def harf_say(x):\n",
    "    return len(x)\n",
    "harf_say(\"Merhaba!\")"
   ]
  },
  {
   "cell_type": "markdown",
   "id": "d016459e-583d-4887-af3a-1c4d75f66887",
   "metadata": {},
   "source": [
    "##### Soru 10:\n",
    "##### Verilen kodun çıktısı nedir?"
   ]
  },
  {
   "cell_type": "code",
   "execution_count": 462,
   "id": "f5645c44-c060-41cd-8d6d-911ca93f036c",
   "metadata": {},
   "outputs": [],
   "source": [
    "def islem(x):\n",
    "    if (x<0):\n",
    "        return \"NO\"\n",
    "    else:\n",
    "        x*5\n",
    " \n",
    "islem(2)"
   ]
  },
  {
   "cell_type": "markdown",
   "id": "e6073857-e625-4f1c-b992-e1c37756870b",
   "metadata": {},
   "source": [
    "###### Kod çalışır ama çıktı üretmez, return x*5 yazılmalı"
   ]
  },
  {
   "cell_type": "markdown",
   "id": "95879375-98f6-482c-aa4b-1ab0939908e2",
   "metadata": {},
   "source": [
    "## Python Programlama Alıştırmalar - 8"
   ]
  },
  {
   "cell_type": "markdown",
   "id": "095228f9-aabc-4574-8c80-d0e9ec33f3f3",
   "metadata": {},
   "source": [
    "##### Soru 1:\n",
    "##### Verilen kodun çıktısı nedir?"
   ]
  },
  {
   "cell_type": "code",
   "execution_count": 463,
   "id": "9af24046-0bdd-4970-bfab-e0425941f3a8",
   "metadata": {},
   "outputs": [
    {
     "data": {
      "text/plain": [
       "20"
      ]
     },
     "execution_count": 463,
     "metadata": {},
     "output_type": "execute_result"
    }
   ],
   "source": [
    "def islem(x):\n",
    "    if (x>10):\n",
    "        return \"YES\"\n",
    "    else:\n",
    "        return x*5\n",
    " \n",
    "islem(4)"
   ]
  },
  {
   "cell_type": "markdown",
   "id": "e7a99acb-cc7d-4ed3-9f1f-309843202029",
   "metadata": {},
   "source": [
    "##### Soru 2:\n",
    "##### Verilen listenin her bir elemanını iteratif bir şekilde yakalayıp belirli bir işleme tabi tutmak için hangi yapı kullanılır?"
   ]
  },
  {
   "cell_type": "markdown",
   "id": "628e017c-edd4-4027-a6c5-97fcdae23605",
   "metadata": {},
   "source": [
    "###### - for"
   ]
  },
  {
   "cell_type": "markdown",
   "id": "388f85e9-74ea-45a5-92cd-aa30d5c659cb",
   "metadata": {},
   "source": [
    "##### Soru 3:\n",
    "##### Verilen kod parçasının çıktısı aşağıdakilerden hangisidir?"
   ]
  },
  {
   "cell_type": "code",
   "execution_count": 464,
   "id": "29c8556f-e411-4655-92f2-192328a52ea4",
   "metadata": {},
   "outputs": [
    {
     "name": "stdout",
     "output_type": "stream",
     "text": [
      "4\n",
      "16\n",
      "36\n",
      "64\n"
     ]
    }
   ],
   "source": [
    "a = [2,4,6,8]\n",
    " \n",
    "for i in a:\n",
    "    print(i**2)"
   ]
  },
  {
   "cell_type": "markdown",
   "id": "de50d295-26ff-488e-96f2-23b1f983702d",
   "metadata": {},
   "source": [
    "##### Soru 4:\n",
    "##### Verilen kod parçasının çıktısı aşağıdakilerden hangisidir?"
   ]
  },
  {
   "cell_type": "code",
   "execution_count": 465,
   "id": "c5fd64ac-103f-435f-9cc1-1ee4a5ad67c3",
   "metadata": {},
   "outputs": [
    {
     "name": "stdout",
     "output_type": "stream",
     "text": [
      "15.0\n"
     ]
    }
   ],
   "source": [
    "sayilar = [10,20,30]\n",
    " \n",
    "for i in sayilar:\n",
    "    if i > 20:\n",
    "        print(i/2)"
   ]
  },
  {
   "cell_type": "markdown",
   "id": "f8fa0930-d281-4216-8ed6-8951d418c629",
   "metadata": {},
   "source": [
    "##### Soru 5:\n",
    "##### Verilen kodun çıktısı nedir?"
   ]
  },
  {
   "cell_type": "code",
   "execution_count": 466,
   "id": "1322faff-ac52-47ad-90f9-f059f5bdf1f8",
   "metadata": {},
   "outputs": [
    {
     "name": "stdout",
     "output_type": "stream",
     "text": [
      "0\n",
      "0\n",
      "19.5\n"
     ]
    }
   ],
   "source": [
    "urun_fiyatlari = [19,29,39]\n",
    " \n",
    "for i in urun_fiyatlari:\n",
    "    if i >= 30:\n",
    "        print(i/2)\n",
    "    else:\n",
    "        print(i*0)"
   ]
  },
  {
   "cell_type": "markdown",
   "id": "1ed5c112-626a-49b3-bddc-8856c8b56c74",
   "metadata": {},
   "source": [
    "##### Soru 6:\n",
    "##### Verilen kod parçasının çıktısı ne olacaktır?"
   ]
  },
  {
   "cell_type": "code",
   "execution_count": 467,
   "id": "2dd4e7ce-a86a-4974-87f8-c7165cdaa020",
   "metadata": {},
   "outputs": [
    {
     "data": {
      "text/plain": [
       "[1, 4, 9]"
      ]
     },
     "execution_count": 467,
     "metadata": {},
     "output_type": "execute_result"
    }
   ],
   "source": [
    "a = [1,2,3]\n",
    "b = []\n",
    "for i in a:\n",
    "    b.append(i**2)\n",
    "    \n",
    "b"
   ]
  },
  {
   "cell_type": "markdown",
   "id": "c057571e-330b-4dae-81df-ed544dcad745",
   "metadata": {},
   "source": [
    "##### Soru 7:\n",
    "##### Verilen kod parçasının çıktısı aşağıdakilerden hangisidir?"
   ]
  },
  {
   "cell_type": "code",
   "execution_count": 468,
   "id": "85db0b91-9ace-42d0-9e5e-22420c5e6844",
   "metadata": {},
   "outputs": [
    {
     "name": "stdout",
     "output_type": "stream",
     "text": [
      "Merhaba!\n"
     ]
    }
   ],
   "source": [
    "def mesaj():\n",
    "    print(\"Merhaba!\")\n",
    " \n",
    "mesaj()"
   ]
  },
  {
   "cell_type": "markdown",
   "id": "1652a6e7-bdeb-44b5-b2be-afe484ee2b64",
   "metadata": {},
   "source": [
    "##### Soru 8:\n",
    "##### Verilen kod parçasının çıktısı aşağıdakilerden hangisidir?"
   ]
  },
  {
   "cell_type": "code",
   "execution_count": 469,
   "id": "f272a17d-d892-44c7-9247-43429a31cd26",
   "metadata": {},
   "outputs": [
    {
     "name": "stdout",
     "output_type": "stream",
     "text": [
      "a\n",
      "11\n"
     ]
    }
   ],
   "source": [
    "for i in [\"a\",11]:\n",
    "    print(i)"
   ]
  },
  {
   "cell_type": "markdown",
   "id": "cb8968e8-5b76-43c1-b90b-ccea307e718a",
   "metadata": {},
   "source": [
    "##### Soru 9:\n",
    "##### Verilen kod parçasının çıktısı ne olacaktır?"
   ]
  },
  {
   "cell_type": "code",
   "execution_count": 470,
   "id": "8f7950de-1679-4df5-964e-f541a5bb897d",
   "metadata": {},
   "outputs": [
    {
     "data": {
      "text/plain": [
       "8"
      ]
     },
     "execution_count": 470,
     "metadata": {},
     "output_type": "execute_result"
    }
   ],
   "source": [
    "def harf_say(x):\n",
    "    return len(x)\n",
    " \n",
    "harf_say(\"Merhaba!\")"
   ]
  },
  {
   "cell_type": "markdown",
   "id": "40ba07d9-00bb-4816-b2aa-e41c6954f16b",
   "metadata": {},
   "source": [
    "##### Soru 10:\n",
    "##### break ifadesi ne için kullanılır?"
   ]
  },
  {
   "cell_type": "markdown",
   "id": "b0e6fd00-fca8-4912-be6e-729bda809fc9",
   "metadata": {},
   "source": [
    "###### - Kod akışını kesmek için (Örneğin bir şart yakalandığında çalışmayı durdur demek gibi)"
   ]
  },
  {
   "cell_type": "markdown",
   "id": "607c1172-539f-4b1c-bd64-7b31570ab453",
   "metadata": {},
   "source": [
    "## Python Programlama Alıştırmalar - 9"
   ]
  },
  {
   "cell_type": "markdown",
   "id": "0f0e0c7d-5065-4855-8ad7-62c9fe0b52a2",
   "metadata": {},
   "source": [
    "##### Soru 1:\n",
    "##### continue ifadesi ne için kullanılır?"
   ]
  },
  {
   "cell_type": "markdown",
   "id": "faf95b39-095c-432f-9839-a4bae4c9a7cc",
   "metadata": {},
   "source": [
    "###### - Yakalanan şartı atlayarak işleme devam etmek için"
   ]
  },
  {
   "cell_type": "markdown",
   "id": "966019b1-6193-4f5b-958b-6d142b385f51",
   "metadata": {},
   "source": [
    "###### - "
   ]
  },
  {
   "cell_type": "markdown",
   "id": "dd74b25b-5701-4d78-a0f6-5ee4ce459dff",
   "metadata": {},
   "source": [
    "##### Soru 2:\n",
    "##### Verilen kod parçasının çıktısı aşağıdakilerden hangisidir?"
   ]
  },
  {
   "cell_type": "code",
   "execution_count": 471,
   "id": "f4f71e03-0a3b-443b-afb9-d1a99020b316",
   "metadata": {},
   "outputs": [
    {
     "name": "stdout",
     "output_type": "stream",
     "text": [
      "10\n",
      "20\n"
     ]
    }
   ],
   "source": [
    "sayilar = [10,20,30,40]\n",
    " \n",
    "for i in sayilar:\n",
    "    if i == 30:\n",
    "        break\n",
    "    print(i)"
   ]
  },
  {
   "cell_type": "markdown",
   "id": "4e1b1e98-9285-479b-b7d8-86d939444527",
   "metadata": {},
   "source": [
    "##### Soru 3:\n",
    "##### Verilen kod parçasının çıktısı aşağıdakilerden hangisidir?"
   ]
  },
  {
   "cell_type": "code",
   "execution_count": 472,
   "id": "adf02681-44fd-49a2-884f-073bbaca9fe3",
   "metadata": {},
   "outputs": [
    {
     "data": {
      "text/plain": [
       "1"
      ]
     },
     "execution_count": 472,
     "metadata": {},
     "output_type": "execute_result"
    }
   ],
   "source": [
    "A = []\n",
    " \n",
    "for i in [1,2,3,4]:\n",
    "    A.append(i)\n",
    "\n",
    "A[0]"
   ]
  },
  {
   "cell_type": "markdown",
   "id": "177b56df-9a70-419d-8444-d2833c6ec1d9",
   "metadata": {},
   "source": [
    "##### Soru 4:\n",
    "##### Verilen kod parçasının çıktısı aşağıdakilerden hangisidir?"
   ]
  },
  {
   "cell_type": "code",
   "execution_count": 473,
   "id": "87dd00dd-6f82-4df0-87a4-e6cfa1a5aaba",
   "metadata": {},
   "outputs": [
    {
     "name": "stdout",
     "output_type": "stream",
     "text": [
      "10\n",
      "20\n",
      "40\n"
     ]
    }
   ],
   "source": [
    "sayilar = [10,20,30,40]\n",
    " \n",
    "for i in sayilar:\n",
    "    if i == 30:\n",
    "        continue\n",
    "    print(i)"
   ]
  },
  {
   "cell_type": "markdown",
   "id": "7d227299-5d82-4b9f-a4aa-d73bf6f12afa",
   "metadata": {},
   "source": [
    "##### Soru 5:\n",
    "##### Verilen kod parçasının çıktısı aşağıdakilerden hangisidir?"
   ]
  },
  {
   "cell_type": "code",
   "execution_count": 474,
   "id": "d5eb7f76-8459-4b2e-aaac-8a10196d7d18",
   "metadata": {},
   "outputs": [
    {
     "name": "stdout",
     "output_type": "stream",
     "text": [
      "NO\n"
     ]
    }
   ],
   "source": [
    "if [1,2,3,4][2] == 2:\n",
    "    print(\"YES\")\n",
    "else:\n",
    "    print(\"NO\")"
   ]
  },
  {
   "cell_type": "markdown",
   "id": "bc7d71ee-9b54-4393-a021-cffb3f60bd35",
   "metadata": {},
   "source": [
    "##### Soru 6:\n",
    "##### Verilen kod parçasının çıktısı aşağıdakilerden hangisidir?"
   ]
  },
  {
   "cell_type": "code",
   "execution_count": 475,
   "id": "99fdf1c7-b3bd-4499-a0bb-4f242ab6bcb1",
   "metadata": {},
   "outputs": [
    {
     "name": "stdout",
     "output_type": "stream",
     "text": [
      "yes\n"
     ]
    }
   ],
   "source": [
    "if [1,2,3,4][1] == 2:\n",
    "    print(\"YES\".lower())\n",
    "else:\n",
    "    print(\"NO\")"
   ]
  },
  {
   "cell_type": "markdown",
   "id": "750cbd0f-57e2-4af5-a08b-66548f564530",
   "metadata": {},
   "source": [
    "##### Soru 7:\n",
    "##### Verilen kod parçasının çıktısı aşağıdakilerden hangisidir?"
   ]
  },
  {
   "cell_type": "code",
   "execution_count": 476,
   "id": "0b1dd04c-a75d-4955-a4db-1864db673a89",
   "metadata": {},
   "outputs": [
    {
     "name": "stdout",
     "output_type": "stream",
     "text": [
      "A\n"
     ]
    }
   ],
   "source": [
    "A = \"*A*\"\n",
    "if type(A) == str:\n",
    "    A = A.strip(\"*\")\n",
    "    print(A)"
   ]
  },
  {
   "cell_type": "markdown",
   "id": "ac58d799-03e1-4505-822d-045a7d871218",
   "metadata": {},
   "source": [
    "##### Soru 8:\n",
    "##### Verilen kod parçasının çıktısı aşağıdakilerden hangisidir?"
   ]
  },
  {
   "cell_type": "code",
   "execution_count": 477,
   "id": "582327cd-3aaf-4e98-9769-358ff63ab8a4",
   "metadata": {},
   "outputs": [
    {
     "name": "stdout",
     "output_type": "stream",
     "text": [
      "*12*\n"
     ]
    }
   ],
   "source": [
    "A = 12\n",
    " \n",
    "if type(A) == str:\n",
    "    A = A.strip(\"*\")\n",
    "    print(A)\n",
    "else:\n",
    "    A = \"*\" + str(A) + \"*\"\n",
    "    print(A.strip())"
   ]
  },
  {
   "cell_type": "markdown",
   "id": "8f14b473-e353-4227-bad9-b46d1a51412d",
   "metadata": {},
   "source": [
    "##### Soru 9:\n",
    "##### Verilen kod parçasının çıktısı aşağıdakilerden hangisidir?"
   ]
  },
  {
   "cell_type": "code",
   "execution_count": 478,
   "id": "96492a0f-3bee-4c4c-a4fc-d3504ea27064",
   "metadata": {},
   "outputs": [
    {
     "data": {
      "text/plain": [
       "'b'"
      ]
     },
     "execution_count": 478,
     "metadata": {},
     "output_type": "execute_result"
    }
   ],
   "source": [
    "A = []\n",
    "B = []\n",
    " \n",
    "for i in [1,\"a\",12,\"b\"]:\n",
    "    if type(i) == int:\n",
    "        B.append(i)\n",
    "    else:\n",
    "        A.append(i)\n",
    "\n",
    "A[1]"
   ]
  },
  {
   "cell_type": "code",
   "execution_count": 479,
   "id": "2a788985-2060-404e-a377-2deb2accb573",
   "metadata": {},
   "outputs": [
    {
     "data": {
      "text/plain": [
       "str"
      ]
     },
     "execution_count": 479,
     "metadata": {},
     "output_type": "execute_result"
    }
   ],
   "source": [
    "type(i)"
   ]
  },
  {
   "cell_type": "markdown",
   "id": "549a38bb-886e-45ee-bc59-bd33b58bccd7",
   "metadata": {},
   "source": [
    "##### Soru 10:\n",
    "##### Verilen kod parçasının çıktısı aşağıdakilerden hangisidir?"
   ]
  },
  {
   "cell_type": "code",
   "execution_count": 480,
   "id": "81bf45d4-9593-415b-bcbf-608d56a66737",
   "metadata": {},
   "outputs": [
    {
     "data": {
      "text/plain": [
       "4"
      ]
     },
     "execution_count": 480,
     "metadata": {},
     "output_type": "execute_result"
    }
   ],
   "source": [
    "def islem(x,y):\n",
    "    A = [x,y] # A list with strings, integers and boolean values\n",
    "    return A[0] + A[1]\n",
    " \n",
    "islem(1,3)"
   ]
  },
  {
   "cell_type": "markdown",
   "id": "9a92af51-b42d-4bc0-bec0-5fc31a533fac",
   "metadata": {},
   "source": [
    "## NESNE YONELIMLI PROGRAMLAMA (OOP)"
   ]
  },
  {
   "cell_type": "markdown",
   "id": "76d89a5f-e3c6-4d61-9cef-010fe907ffd1",
   "metadata": {},
   "source": [
    "### Sınıflara Giriş ve Sınıf(Class) Tanımlamak"
   ]
  },
  {
   "cell_type": "markdown",
   "id": "a86cce96-d435-43c4-8aa3-c66a55d4adf7",
   "metadata": {},
   "source": [
    "###### * Sınıf yapılarıyla yazılmış kodları okumak için gereklidir\n",
    "###### * Döngüler,if(kararlar), fonksiyonlar yazdığımızda tekrar eden işlemleri optimize ettik."
   ]
  },
  {
   "cell_type": "markdown",
   "id": "eec2d5c9-6258-4b4b-8a8e-533049a222b8",
   "metadata": {},
   "source": [
    "#### Sınıf nedir?\n",
    "Sınıflar; benzer özellikler, ortak amaçlar taşıyan, içerisinde metod ve değişkenler olan yapılardır. (Gruplaştırma için)"
   ]
  },
  {
   "cell_type": "markdown",
   "id": "17f5bc6b-157c-468a-9803-4e0abc6b6a5d",
   "metadata": {},
   "source": [
    "Veri görselleştirmek üzere kullanılacak fonksiyonların ortak özellikleri olur.\n",
    "- Nesneler\n",
    "- Görselleştirme Tipi\n",
    "- Veri alma şekli vs\n",
    "\n",
    "Aynı amaçlar etrafında toplanan fonksiyonları toplamak ve ihtiyaçlar olduğunda özelliklere erişmek için class yapıları kullanılır."
   ]
  },
  {
   "cell_type": "code",
   "execution_count": 1,
   "id": "af492a0e-ce4f-4afe-ad32-691215a6180a",
   "metadata": {
    "tags": []
   },
   "outputs": [
    {
     "name": "stdout",
     "output_type": "stream",
     "text": [
      "Bu bir siniftir\n"
     ]
    }
   ],
   "source": [
    "class VeriBilimci(): # Fonksiyon tanımlar gibi class tanımlanır\n",
    "    print(\"Bu bir siniftir\")"
   ]
  },
  {
   "cell_type": "markdown",
   "id": "9e7c0578-1c0c-4376-9461-dc36c5fae6a1",
   "metadata": {},
   "source": [
    "#### Sınıf Özellikleri (Class attributes)"
   ]
  },
  {
   "cell_type": "markdown",
   "id": "fe1ab23c-59c9-48ca-bb1f-66b6e93d6799",
   "metadata": {},
   "source": [
    "Veri bilimcilerin özelliklerini tutan ve kişiden kişiye değişen veriler tutmak için class kullan."
   ]
  },
  {
   "cell_type": "markdown",
   "id": "ecf1489f-ae56-4835-b959-9bb0e03bb1aa",
   "metadata": {},
   "source": [
    "Şirkette her bir veri bilimcinin bazı özellikleri olacaktır. Veri bilimcinin herkes de ortak olan genel özellikleri de olacaktır.\n",
    "\n",
    "Mehmet sql biliyor, Ahmet bilmiyor vs özellikleri bir arada ifade etmek istediğimizde class kullanılır."
   ]
  },
  {
   "cell_type": "code",
   "execution_count": 2,
   "id": "0c5ee5f2-4da9-4b29-a8fb-0077caca56d8",
   "metadata": {
    "tags": []
   },
   "outputs": [],
   "source": [
    "class VeriBilimci():\n",
    "    bolum = ''\n",
    "    sql = 'Evet'\n",
    "    deneyim_yili = 0\n",
    "    bildigi_diller = []\n",
    "\n",
    "# alt + enter ile local etki alanından çık"
   ]
  },
  {
   "cell_type": "markdown",
   "id": "04d11155-f34a-4371-8d69-981f84ab6ea9",
   "metadata": {},
   "source": [
    "##### Sınıfların özelliklerine erişmek"
   ]
  },
  {
   "cell_type": "code",
   "execution_count": 3,
   "id": "ec12777a-9618-495b-9e8e-64884bc91dc3",
   "metadata": {
    "tags": []
   },
   "outputs": [
    {
     "data": {
      "text/plain": [
       "''"
      ]
     },
     "execution_count": 3,
     "metadata": {},
     "output_type": "execute_result"
    }
   ],
   "source": [
    "VeriBilimci.bolum"
   ]
  },
  {
   "cell_type": "code",
   "execution_count": 4,
   "id": "0faaf960-7de0-49c7-9b40-830014b70c66",
   "metadata": {
    "tags": []
   },
   "outputs": [
    {
     "data": {
      "text/plain": [
       "'Evet'"
      ]
     },
     "execution_count": 4,
     "metadata": {},
     "output_type": "execute_result"
    }
   ],
   "source": [
    "VeriBilimci.sql"
   ]
  },
  {
   "cell_type": "markdown",
   "id": "28a9ec5b-0f05-4ca2-b34f-2b4f680d4bf1",
   "metadata": {},
   "source": [
    "##### Sınıfların özelliklerini Değiştirmek"
   ]
  },
  {
   "cell_type": "code",
   "execution_count": 5,
   "id": "86eea63d-6b71-4cc6-bce2-95b47b438535",
   "metadata": {
    "tags": []
   },
   "outputs": [],
   "source": [
    "VeriBilimci.sql = \"Hayir\""
   ]
  },
  {
   "cell_type": "code",
   "execution_count": 6,
   "id": "ffd52d8d-1daf-49cc-931a-304d7f3cf3d7",
   "metadata": {
    "tags": []
   },
   "outputs": [
    {
     "data": {
      "text/plain": [
       "'Hayir'"
      ]
     },
     "execution_count": 6,
     "metadata": {},
     "output_type": "execute_result"
    }
   ],
   "source": [
    "VeriBilimci.sql"
   ]
  },
  {
   "cell_type": "markdown",
   "id": "9088f9a7-4b6c-4fd1-9bde-d1a279c01785",
   "metadata": {},
   "source": [
    "##### Sınıf Örneklendirmesi (instantiation)"
   ]
  },
  {
   "cell_type": "markdown",
   "id": "1c98a58e-efbf-4ab3-b70e-4be0edfa9581",
   "metadata": {},
   "source": [
    "Veribilimci sınıfında gerekli özellikleri tanımlamıştık. Şimdi birbirinden farklı veri bilimcilerin bu özellikleri değişecek şekilde göstermek için bir de veribilimci oluşturmamız gerekiyor. Genel Sınıf özelliklerini barındıran alt kümeler(birimler) oluşturma işlemine Sınıf Örneklendirmesi denir."
   ]
  },
  {
   "cell_type": "code",
   "execution_count": 7,
   "id": "2041631a-5698-4e9c-8416-bda3565e6e35",
   "metadata": {
    "tags": []
   },
   "outputs": [],
   "source": [
    "ali = VeriBilimci() # ali isimli degisken"
   ]
  },
  {
   "cell_type": "code",
   "execution_count": 8,
   "id": "8d849df4-c042-41df-bf99-ed9cda7a2fa3",
   "metadata": {
    "tags": []
   },
   "outputs": [
    {
     "data": {
      "text/plain": [
       "'Hayir'"
      ]
     },
     "execution_count": 8,
     "metadata": {},
     "output_type": "execute_result"
    }
   ],
   "source": [
    "ali.sql # ali, VeriBilimci sınıfının özelliklerini taşır"
   ]
  },
  {
   "cell_type": "code",
   "execution_count": 9,
   "id": "b65d7705-69dc-4042-8db3-dc0bafa71bb6",
   "metadata": {
    "tags": []
   },
   "outputs": [
    {
     "data": {
      "text/plain": [
       "0"
      ]
     },
     "execution_count": 9,
     "metadata": {},
     "output_type": "execute_result"
    }
   ],
   "source": [
    "ali.deneyim_yili"
   ]
  },
  {
   "cell_type": "code",
   "execution_count": 10,
   "id": "1ef1e3b0-b748-49fd-bfcd-489d6419d628",
   "metadata": {
    "tags": []
   },
   "outputs": [
    {
     "data": {
      "text/plain": [
       "''"
      ]
     },
     "execution_count": 10,
     "metadata": {},
     "output_type": "execute_result"
    }
   ],
   "source": [
    "ali.bolum"
   ]
  },
  {
   "cell_type": "code",
   "execution_count": 11,
   "id": "d0795098-bfac-490e-878c-f123128cadcc",
   "metadata": {
    "tags": []
   },
   "outputs": [
    {
     "data": {
      "text/plain": [
       "[]"
      ]
     },
     "execution_count": 11,
     "metadata": {},
     "output_type": "execute_result"
    }
   ],
   "source": [
    "ali.bildigi_diller"
   ]
  },
  {
   "cell_type": "code",
   "execution_count": 12,
   "id": "153b19fe-e482-4dfa-98a7-4e7dcff02c0e",
   "metadata": {
    "tags": []
   },
   "outputs": [],
   "source": [
    "ali.bildigi_diller.append(\"Python\")"
   ]
  },
  {
   "cell_type": "code",
   "execution_count": 13,
   "id": "6f94732e-2d7d-466e-adba-504e8df7ee2a",
   "metadata": {
    "tags": []
   },
   "outputs": [
    {
     "data": {
      "text/plain": [
       "['Python']"
      ]
     },
     "execution_count": 13,
     "metadata": {},
     "output_type": "execute_result"
    }
   ],
   "source": [
    "ali.bildigi_diller"
   ]
  },
  {
   "cell_type": "code",
   "execution_count": 14,
   "id": "2c2bae2b-0a21-4f75-8ced-c4fa95c74141",
   "metadata": {
    "tags": []
   },
   "outputs": [],
   "source": [
    "veli = VeriBilimci()"
   ]
  },
  {
   "cell_type": "code",
   "execution_count": 15,
   "id": "9b1a40c0-cc71-46bb-b0c3-1e81d312a7d1",
   "metadata": {
    "tags": []
   },
   "outputs": [
    {
     "data": {
      "text/plain": [
       "'Hayir'"
      ]
     },
     "execution_count": 15,
     "metadata": {},
     "output_type": "execute_result"
    }
   ],
   "source": [
    "veli.sql"
   ]
  },
  {
   "cell_type": "code",
   "execution_count": 16,
   "id": "0c41f4b2-5645-4230-9df4-ae538d9d23c0",
   "metadata": {
    "tags": []
   },
   "outputs": [
    {
     "data": {
      "text/plain": [
       "['Python']"
      ]
     },
     "execution_count": 16,
     "metadata": {},
     "output_type": "execute_result"
    }
   ],
   "source": [
    "veli.bildigi_diller"
   ]
  },
  {
   "cell_type": "markdown",
   "id": "18b485de-ff97-4d26-81d1-3de5d87770ed",
   "metadata": {},
   "source": [
    "'Python' döndü, fakat veli 'Python' bilmiyordu. Yani yukarı yapılan append değişikliği genel anlamda sınıfın özelliklerini etkiledi ve bu sınıfın özelliklerini taşıyan bir instance(örnek) özelliklerine erişmek istediğimizde değiştirilenlerde görünür."
   ]
  },
  {
   "cell_type": "markdown",
   "id": "7598e068-999f-4444-976b-89fca47139b5",
   "metadata": {},
   "source": [
    "#### Instance(Örnek) Özellikleri"
   ]
  },
  {
   "cell_type": "markdown",
   "id": "d7beb96a-fefb-4440-86cc-27ef14a71168",
   "metadata": {},
   "source": [
    "###### Genel anlamda veribilmcilik sınıfında genel özelliklere sahip ali ve veli adında bireyler oluşturduk. \n",
    "###### Bu örneklere değer ataması yaptığımızda bu sınıfın genel değerlerinde değiştirir.\n",
    "###### Örneklerin her birisinin kendi içinde değişebilir özelliklerden oluştuğu bilgisini vermeniz gerekir."
   ]
  },
  {
   "cell_type": "code",
   "execution_count": 17,
   "id": "6e87ed1f-fec2-4ca3-96e0-8d4f8c34a48e",
   "metadata": {
    "tags": []
   },
   "outputs": [],
   "source": [
    "class VeriBilimci():\n",
    "    def __init__(self): # Örnek özelliği tanımlama\n",
    "        self.bildigi_diller = [] # liste olarak tanımla"
   ]
  },
  {
   "cell_type": "markdown",
   "id": "bf70cfc4-e6c1-4e8e-8f17-d3dc465f67fb",
   "metadata": {},
   "source": [
    "Her bir örneğin kendi içinde değişen özelliklerden oluşabildiği bilgisini vermek için __init__ kullanılır. Her bir ayrı örneklendirme için nicelik tutma, nitelik, özellik tutma işlemi sağlar."
   ]
  },
  {
   "cell_type": "code",
   "execution_count": 18,
   "id": "ac67f21b-e3c8-495b-b589-a1a27ff79c8c",
   "metadata": {
    "tags": []
   },
   "outputs": [],
   "source": [
    "ali = VeriBilimci()"
   ]
  },
  {
   "cell_type": "code",
   "execution_count": 19,
   "id": "8ce869a8-7572-4ac5-8f09-c492aab00a92",
   "metadata": {
    "tags": []
   },
   "outputs": [
    {
     "data": {
      "text/plain": [
       "[]"
      ]
     },
     "execution_count": 19,
     "metadata": {},
     "output_type": "execute_result"
    }
   ],
   "source": [
    "ali.bildigi_diller"
   ]
  },
  {
   "cell_type": "code",
   "execution_count": 20,
   "id": "0f222bac-65a7-4287-b427-16c4d775ee03",
   "metadata": {
    "tags": []
   },
   "outputs": [],
   "source": [
    "veli = VeriBilimci()"
   ]
  },
  {
   "cell_type": "code",
   "execution_count": 21,
   "id": "45d90572-e3ac-480b-b502-d9941b7a3bb9",
   "metadata": {
    "tags": []
   },
   "outputs": [
    {
     "data": {
      "text/plain": [
       "[]"
      ]
     },
     "execution_count": 21,
     "metadata": {},
     "output_type": "execute_result"
    }
   ],
   "source": [
    "veli.bildigi_diller"
   ]
  },
  {
   "cell_type": "code",
   "execution_count": 22,
   "id": "390b8648-8cfd-4140-9c05-b25f9f30aab8",
   "metadata": {
    "tags": []
   },
   "outputs": [],
   "source": [
    "ali.bildigi_diller.append(\"Python\")"
   ]
  },
  {
   "cell_type": "code",
   "execution_count": 23,
   "id": "b6291ffe-890c-4370-a7bc-716cff12f7dc",
   "metadata": {
    "tags": []
   },
   "outputs": [
    {
     "data": {
      "text/plain": [
       "['Python']"
      ]
     },
     "execution_count": 23,
     "metadata": {},
     "output_type": "execute_result"
    }
   ],
   "source": [
    "ali.bildigi_diller"
   ]
  },
  {
   "cell_type": "code",
   "execution_count": 24,
   "id": "c24141fb-63ce-43da-9efb-739e7b1e0fcf",
   "metadata": {
    "tags": []
   },
   "outputs": [
    {
     "data": {
      "text/plain": [
       "[]"
      ]
     },
     "execution_count": 24,
     "metadata": {},
     "output_type": "execute_result"
    }
   ],
   "source": [
    "veli.bildigi_diller"
   ]
  },
  {
   "cell_type": "markdown",
   "id": "c665b974-94c0-4369-8dff-7d42b26bd80f",
   "metadata": {},
   "source": [
    "Veli 'Python' bilmediği için '' boş döner."
   ]
  },
  {
   "cell_type": "code",
   "execution_count": 25,
   "id": "45399355-9293-4ef3-b5ff-33e418ba23b5",
   "metadata": {
    "tags": []
   },
   "outputs": [],
   "source": [
    "veli.bildigi_diller.append(\"R\")"
   ]
  },
  {
   "cell_type": "code",
   "execution_count": 26,
   "id": "edb94e38-02a1-4ae6-9d27-c3bfc7ff88ea",
   "metadata": {
    "tags": []
   },
   "outputs": [
    {
     "data": {
      "text/plain": [
       "['R']"
      ]
     },
     "execution_count": 26,
     "metadata": {},
     "output_type": "execute_result"
    }
   ],
   "source": [
    "veli.bildigi_diller"
   ]
  },
  {
   "cell_type": "code",
   "execution_count": 27,
   "id": "b1035a5c-4469-4ee0-88b0-19a9aa5909b3",
   "metadata": {
    "tags": []
   },
   "outputs": [
    {
     "data": {
      "text/plain": [
       "['Python']"
      ]
     },
     "execution_count": 27,
     "metadata": {},
     "output_type": "execute_result"
    }
   ],
   "source": [
    "ali.bildigi_diller"
   ]
  },
  {
   "cell_type": "markdown",
   "id": "db2e8fad-ba3c-4adf-a3b3-ae0b0c15e9d7",
   "metadata": {},
   "source": [
    "VeriBilimci sınıfının özelliğinde bir değişim olup olmadığını kontrol etmek istersek"
   ]
  },
  {
   "cell_type": "code",
   "execution_count": 28,
   "id": "2b4fb901-8560-4ac7-b078-c95234c6b7c3",
   "metadata": {
    "tags": []
   },
   "outputs": [
    {
     "ename": "AttributeError",
     "evalue": "type object 'VeriBilimci' has no attribute 'bildigi_diller'",
     "output_type": "error",
     "traceback": [
      "\u001b[1;31m---------------------------------------------------------------------------\u001b[0m",
      "\u001b[1;31mAttributeError\u001b[0m                            Traceback (most recent call last)",
      "Cell \u001b[1;32mIn[28], line 1\u001b[0m\n\u001b[1;32m----> 1\u001b[0m \u001b[43mVeriBilimci\u001b[49m\u001b[38;5;241;43m.\u001b[39;49m\u001b[43mbildigi_diller\u001b[49m\n",
      "\u001b[1;31mAttributeError\u001b[0m: type object 'VeriBilimci' has no attribute 'bildigi_diller'"
     ]
    }
   ],
   "source": [
    "VeriBilimci.bildigi_diller"
   ]
  },
  {
   "cell_type": "markdown",
   "id": "5c8ffbba-15ad-4dcf-8614-456a02de296b",
   "metadata": {},
   "source": [
    "AttributeError hatası yani bir özelliği yok hatası verir."
   ]
  },
  {
   "cell_type": "code",
   "execution_count": 29,
   "id": "a85ccf6a-ae6d-4084-a1b5-11b9b6174e34",
   "metadata": {
    "tags": []
   },
   "outputs": [],
   "source": [
    "class VeriBilimci():\n",
    "    bildigi_diller = [\"R\", \"PYTHON\"] # Sınıfa özellik ekledik\n",
    "    def __init__(self): # Örnek özelliği tanımlama\n",
    "        self.bildigi_diller = [] # liste olarak tanımla"
   ]
  },
  {
   "cell_type": "code",
   "execution_count": 30,
   "id": "91486555-bd2a-4882-9eaf-5e04dbc0421c",
   "metadata": {
    "tags": []
   },
   "outputs": [
    {
     "data": {
      "text/plain": [
       "['Python']"
      ]
     },
     "execution_count": 30,
     "metadata": {},
     "output_type": "execute_result"
    }
   ],
   "source": [
    "ali.bildigi_diller"
   ]
  },
  {
   "cell_type": "code",
   "execution_count": 31,
   "id": "30e4f8fe-c43a-4c7d-b1fc-afe9809e2b3e",
   "metadata": {
    "tags": []
   },
   "outputs": [
    {
     "data": {
      "text/plain": [
       "['R']"
      ]
     },
     "execution_count": 31,
     "metadata": {},
     "output_type": "execute_result"
    }
   ],
   "source": [
    "veli.bildigi_diller"
   ]
  },
  {
   "cell_type": "code",
   "execution_count": 32,
   "id": "56fbcc5e-bc2b-40bb-b690-571a72cd68a9",
   "metadata": {
    "tags": []
   },
   "outputs": [
    {
     "data": {
      "text/plain": [
       "['R', 'PYTHON']"
      ]
     },
     "execution_count": 32,
     "metadata": {},
     "output_type": "execute_result"
    }
   ],
   "source": [
    "VeriBilimci.bildigi_diller # VeriBilimci sınıfnın genel özelliği"
   ]
  },
  {
   "cell_type": "code",
   "execution_count": 33,
   "id": "5676dd11-f5fc-4d10-bcd3-09c010a4986c",
   "metadata": {
    "tags": []
   },
   "outputs": [],
   "source": [
    "class VeriBilimci():\n",
    "    bildigi_diller = [\"R\", \"PYTHON\"] # Sınıfa özellik ekledik\n",
    "    bolum = ''\n",
    "    sql = ''\n",
    "    deneyim_yili = 0\n",
    "    def __init__(self): \n",
    "        self.bildigi_diller = []"
   ]
  },
  {
   "cell_type": "markdown",
   "id": "377798e1-9051-408f-82ab-932abb38df84",
   "metadata": {},
   "source": [
    "- Sınıfmıza yeni özellikler ekledik.\n",
    "- Sınıfımızın yeni özellikleri her bir birey(instance) için sorgulanabilir."
   ]
  },
  {
   "cell_type": "code",
   "execution_count": 34,
   "id": "1a302118-fe71-464c-867d-1897cbfdee5a",
   "metadata": {
    "tags": []
   },
   "outputs": [],
   "source": [
    "ali = VeriBilimci()"
   ]
  },
  {
   "cell_type": "code",
   "execution_count": 35,
   "id": "6b3ee848-6382-48c5-9a36-6947fef0088a",
   "metadata": {
    "tags": []
   },
   "outputs": [
    {
     "data": {
      "text/plain": [
       "''"
      ]
     },
     "execution_count": 35,
     "metadata": {},
     "output_type": "execute_result"
    }
   ],
   "source": [
    "ali.bolum # Sınıfımızın özelliği geldi"
   ]
  },
  {
   "cell_type": "markdown",
   "id": "cd027468-c7c7-4402-86e2-9261317942ab",
   "metadata": {},
   "source": [
    "Sınıflar için tanımlanan özellikler, örnekler için değişebilen bir formata getirilmedikçe örnekteki değişim diğer tüm örnekleri etkiler."
   ]
  },
  {
   "cell_type": "code",
   "execution_count": 36,
   "id": "8db1f3d8-faa1-4747-8675-2fb84e540230",
   "metadata": {
    "tags": []
   },
   "outputs": [
    {
     "data": {
      "text/plain": [
       "[]"
      ]
     },
     "execution_count": 36,
     "metadata": {},
     "output_type": "execute_result"
    }
   ],
   "source": [
    "ali = VeriBilimci()\n",
    "ali.bildigi_diller"
   ]
  },
  {
   "cell_type": "code",
   "execution_count": 37,
   "id": "4482b17a-9746-4fad-93fe-71a5d9707405",
   "metadata": {
    "tags": []
   },
   "outputs": [
    {
     "data": {
      "text/plain": [
       "[]"
      ]
     },
     "execution_count": 37,
     "metadata": {},
     "output_type": "execute_result"
    }
   ],
   "source": [
    "veli = VeriBilimci()\n",
    "veli.bildigi_diller"
   ]
  },
  {
   "cell_type": "code",
   "execution_count": 38,
   "id": "9a0000ca-e02e-48be-a8af-65e72c8d7d69",
   "metadata": {
    "tags": []
   },
   "outputs": [
    {
     "data": {
      "text/plain": [
       "['Python']"
      ]
     },
     "execution_count": 38,
     "metadata": {},
     "output_type": "execute_result"
    }
   ],
   "source": [
    "ali.bildigi_diller.append(\"Python\")\n",
    "ali.bildigi_diller"
   ]
  },
  {
   "cell_type": "code",
   "execution_count": 39,
   "id": "492861e1-0260-4879-93fe-9bf5129aef64",
   "metadata": {
    "tags": []
   },
   "outputs": [
    {
     "data": {
      "text/plain": [
       "['R']"
      ]
     },
     "execution_count": 39,
     "metadata": {},
     "output_type": "execute_result"
    }
   ],
   "source": [
    "veli.bildigi_diller\n",
    "veli.bildigi_diller.append(\"R\")\n",
    "veli.bildigi_diller"
   ]
  },
  {
   "cell_type": "code",
   "execution_count": 40,
   "id": "1c5a108f-4107-4da3-9586-2baddd5245d3",
   "metadata": {
    "tags": []
   },
   "outputs": [
    {
     "data": {
      "text/plain": [
       "['R', 'PYTHON']"
      ]
     },
     "execution_count": 40,
     "metadata": {},
     "output_type": "execute_result"
    }
   ],
   "source": [
    "VeriBilimci.bildigi_diller"
   ]
  },
  {
   "cell_type": "code",
   "execution_count": 41,
   "id": "c8da3ccc-aef8-4f10-bffa-391d0568795c",
   "metadata": {
    "tags": []
   },
   "outputs": [
    {
     "data": {
      "text/plain": [
       "''"
      ]
     },
     "execution_count": 41,
     "metadata": {},
     "output_type": "execute_result"
    }
   ],
   "source": [
    "ali.bolum"
   ]
  },
  {
   "cell_type": "code",
   "execution_count": 42,
   "id": "6068af75-a1ff-4fbb-b317-bbefe9cae899",
   "metadata": {
    "tags": []
   },
   "outputs": [
    {
     "data": {
      "text/plain": [
       "''"
      ]
     },
     "execution_count": 42,
     "metadata": {},
     "output_type": "execute_result"
    }
   ],
   "source": [
    "VeriBilimci.bolum"
   ]
  },
  {
   "cell_type": "code",
   "execution_count": 43,
   "id": "b76a61d3-1b3f-44b5-9d58-be9db3766139",
   "metadata": {
    "tags": []
   },
   "outputs": [],
   "source": [
    "ali.bolum = \"istatistik\""
   ]
  },
  {
   "cell_type": "code",
   "execution_count": 44,
   "id": "5094f548-6f0c-4324-9e72-b9d669a014e3",
   "metadata": {
    "tags": []
   },
   "outputs": [
    {
     "data": {
      "text/plain": [
       "''"
      ]
     },
     "execution_count": 44,
     "metadata": {},
     "output_type": "execute_result"
    }
   ],
   "source": [
    "VeriBilimci.bolum"
   ]
  },
  {
   "cell_type": "code",
   "execution_count": 45,
   "id": "a94c9d14-8cbf-4b53-b283-bf82635e8c9e",
   "metadata": {
    "tags": []
   },
   "outputs": [
    {
     "data": {
      "text/plain": [
       "''"
      ]
     },
     "execution_count": 45,
     "metadata": {},
     "output_type": "execute_result"
    }
   ],
   "source": [
    "veli.bolum"
   ]
  },
  {
   "cell_type": "code",
   "execution_count": 46,
   "id": "dd6d27a9-2597-4c0b-a143-f5d8ceef7843",
   "metadata": {
    "tags": []
   },
   "outputs": [],
   "source": [
    "veli.bolum = \"end_muh\""
   ]
  },
  {
   "cell_type": "code",
   "execution_count": 47,
   "id": "b01302a7-d573-4a62-85ef-c6a69ebf5762",
   "metadata": {
    "tags": []
   },
   "outputs": [
    {
     "data": {
      "text/plain": [
       "'end_muh'"
      ]
     },
     "execution_count": 47,
     "metadata": {},
     "output_type": "execute_result"
    }
   ],
   "source": [
    "veli.bolum"
   ]
  },
  {
   "cell_type": "code",
   "execution_count": 48,
   "id": "cc55b3cd-5bbb-468b-80df-7a891ab170f0",
   "metadata": {
    "tags": []
   },
   "outputs": [
    {
     "data": {
      "text/plain": [
       "'istatistik'"
      ]
     },
     "execution_count": 48,
     "metadata": {},
     "output_type": "execute_result"
    }
   ],
   "source": [
    "ali.bolum"
   ]
  },
  {
   "cell_type": "code",
   "execution_count": 49,
   "id": "4774fcd4-f8cc-4ac1-b46e-67344c70f3c1",
   "metadata": {
    "tags": []
   },
   "outputs": [
    {
     "data": {
      "text/plain": [
       "''"
      ]
     },
     "execution_count": 49,
     "metadata": {},
     "output_type": "execute_result"
    }
   ],
   "source": [
    "VeriBilimci.bolum"
   ]
  },
  {
   "cell_type": "markdown",
   "id": "66ddd7f5-d6cc-4f16-a1e3-0b3507571997",
   "metadata": {},
   "source": [
    "Self, örneklemleri temsil eder. init çevresinde __ iki alt tire vardır. Örnekleyerek oluşturmuş olduğumuz ali ve veli, sınıf örneklerinin temsil edilmesini sağlayan temsilcidir. Self yerine başka yazılabilir ama genelde self kullanılır."
   ]
  },
  {
   "cell_type": "markdown",
   "id": "e1e9e8ea-88d9-4904-9f88-5448be2e9f6c",
   "metadata": {},
   "source": [
    "Örneklenebilirliği açısından sınıf özellikleri ve örnek niteliklerini tanımlarken farklı isimlendirilir."
   ]
  },
  {
   "cell_type": "markdown",
   "id": "e3e6ddb4-6197-4a52-bd43-98f255a47413",
   "metadata": {},
   "source": [
    "- Bir sınıfın örnekleri için özellikler tanımladık ama init içinde işlem gerçekleştirebileceğimiz fonksiyon tanımlamak istersek örnek metodları kullanılır"
   ]
  },
  {
   "cell_type": "markdown",
   "id": "0a37d7af-c092-488f-a38f-d403a8a73068",
   "metadata": {},
   "source": [
    "#### Instance(Örnek) Metodları"
   ]
  },
  {
   "cell_type": "markdown",
   "id": "9f99f3d9-d491-4f6a-bc92-9a642ce22f82",
   "metadata": {},
   "source": [
    "Önceki sınıf yapısı içine fonksiyon eklemek istiyoruz. Her bir veribilimci için yeni öğrenilen dilleri o veribilimcinin bildiği dillere eklensin istiyoruz. Örnekler üzerinde çalışan Fonksiyonlar istiyoruz. (append gibi metodlar kullanılır)"
   ]
  },
  {
   "cell_type": "code",
   "execution_count": 50,
   "id": "7905c6a7-2371-4f51-b6d5-e2059824f773",
   "metadata": {
    "tags": []
   },
   "outputs": [],
   "source": [
    "class VeriBilimci():\n",
    "    calisanlar = []\n",
    "    \n",
    "    def __init__(self): \n",
    "        self.bildigi_diller = []\n",
    "        self.bolum = ''"
   ]
  },
  {
   "cell_type": "code",
   "execution_count": 51,
   "id": "730a94cc-e0a7-4315-ba5c-1db515545edc",
   "metadata": {
    "tags": []
   },
   "outputs": [
    {
     "data": {
      "text/plain": [
       "''"
      ]
     },
     "execution_count": 51,
     "metadata": {},
     "output_type": "execute_result"
    }
   ],
   "source": [
    "ali = VeriBilimci()\n",
    "ali.bildigi_diller\n",
    "ali.bolum"
   ]
  },
  {
   "cell_type": "code",
   "execution_count": 52,
   "id": "5b0dec4a-8c6b-4aab-abe0-4100baaf5424",
   "metadata": {
    "tags": []
   },
   "outputs": [
    {
     "data": {
      "text/plain": [
       "''"
      ]
     },
     "execution_count": 52,
     "metadata": {},
     "output_type": "execute_result"
    }
   ],
   "source": [
    "veli = VeriBilimci()\n",
    "veli.bildigi_diller\n",
    "veli.bolum"
   ]
  },
  {
   "cell_type": "markdown",
   "id": "53b32b2d-b89b-41cf-9e0a-2eb271575678",
   "metadata": {},
   "source": [
    "Sınıfı biçimlendirerek veribilmci bildiği dilleri eklemek istediğinde,\n",
    "\n",
    "ali.bildigi_diller = \"\" yerine metod atamak istiyoruz"
   ]
  },
  {
   "cell_type": "code",
   "execution_count": 53,
   "id": "be7a2a74-abd9-4f84-b0c4-0dd9d7749d2a",
   "metadata": {
    "tags": []
   },
   "outputs": [],
   "source": [
    "class VeriBilimci():\n",
    "    calisanlar = [] # VeriBilimci sınıfının özelliği\n",
    "    \n",
    "    def __init__(self): \n",
    "        self.bildigi_diller = [] # boş liste\n",
    "        self.bolum = '' # boş string olarak nesneleri tanımladık\n",
    "        \n",
    "    def dil_ekle(self, yeni_dil): # dil_ekle fonksiyonu tanımladık, self ekleyerek örnekleri temsil ederek işlem uygulama imkanı verdik\n",
    "        self.bildigi_diller.append(yeni_dil)"
   ]
  },
  {
   "cell_type": "markdown",
   "id": "59ec8c44-f8bf-4c40-91d8-d5257910441a",
   "metadata": {},
   "source": [
    "- Sınıf tanımladık\n",
    "- calisanlar nesnesi oluşturduk\n",
    "- init içinde örnekleri ve özellikleri, veribilimci için değişen özellikler, tanımladık\n",
    "- dil_ekle ile yeni örnekleri güncelleme fonksiyonu yaratarak örnekleri veribilimci sınıfı altında örneklerin özelinde çalışsın (burada self, örnekleri yeni fonksiyonun argümanıyla bağlamak için kullanılır)"
   ]
  },
  {
   "cell_type": "code",
   "execution_count": 54,
   "id": "ffd6ad74-90b4-4047-8cac-7ac8739b0ba1",
   "metadata": {
    "tags": []
   },
   "outputs": [
    {
     "data": {
      "text/plain": [
       "['__class__',\n",
       " '__delattr__',\n",
       " '__dict__',\n",
       " '__dir__',\n",
       " '__doc__',\n",
       " '__eq__',\n",
       " '__format__',\n",
       " '__ge__',\n",
       " '__getattribute__',\n",
       " '__gt__',\n",
       " '__hash__',\n",
       " '__init__',\n",
       " '__init_subclass__',\n",
       " '__le__',\n",
       " '__lt__',\n",
       " '__module__',\n",
       " '__ne__',\n",
       " '__new__',\n",
       " '__reduce__',\n",
       " '__reduce_ex__',\n",
       " '__repr__',\n",
       " '__setattr__',\n",
       " '__sizeof__',\n",
       " '__str__',\n",
       " '__subclasshook__',\n",
       " '__weakref__',\n",
       " 'calisanlar',\n",
       " 'dil_ekle']"
      ]
     },
     "execution_count": 54,
     "metadata": {},
     "output_type": "execute_result"
    }
   ],
   "source": [
    "dir(VeriBilimci)"
   ]
  },
  {
   "cell_type": "markdown",
   "id": "507b7bd5-2cb8-40d6-9149-802094e12e7b",
   "metadata": {},
   "source": [
    "'calisanlar',\n",
    "\n",
    " 'dil_ekle' -> sınıflar da dahil hepsi birer nesnedir. VeriBilimci sınıfının kullanabileceği değerler geldi."
   ]
  },
  {
   "cell_type": "code",
   "execution_count": 55,
   "id": "bc8f130b-48ab-43b6-91f2-5cf974266234",
   "metadata": {
    "tags": []
   },
   "outputs": [
    {
     "data": {
      "text/plain": [
       "[]"
      ]
     },
     "execution_count": 55,
     "metadata": {},
     "output_type": "execute_result"
    }
   ],
   "source": [
    "ali = VeriBilimci()\n",
    "ali.bildigi_diller"
   ]
  },
  {
   "cell_type": "code",
   "execution_count": 56,
   "id": "ef3b8a40-619e-491b-8e32-1da2f255d68c",
   "metadata": {
    "tags": []
   },
   "outputs": [
    {
     "data": {
      "text/plain": [
       "[]"
      ]
     },
     "execution_count": 56,
     "metadata": {},
     "output_type": "execute_result"
    }
   ],
   "source": [
    "veli = VeriBilimci()\n",
    "veli.bildigi_diller"
   ]
  },
  {
   "cell_type": "code",
   "execution_count": 57,
   "id": "06187795-7d32-4426-a42f-b976028fe4e9",
   "metadata": {
    "tags": []
   },
   "outputs": [
    {
     "data": {
      "text/plain": [
       "<function __main__.VeriBilimci.dil_ekle(self, yeni_dil)>"
      ]
     },
     "execution_count": 57,
     "metadata": {},
     "output_type": "execute_result"
    }
   ],
   "source": [
    "VeriBilimci.dil_ekle # dil_ekle nin bir fonksiyon olduğunu ve nerede konumlandığını ifade eder"
   ]
  },
  {
   "cell_type": "code",
   "execution_count": 58,
   "id": "659d96ac-6003-457a-800a-8c42a2626d18",
   "metadata": {
    "tags": []
   },
   "outputs": [
    {
     "ename": "TypeError",
     "evalue": "dil_ekle() missing 1 required positional argument: 'yeni_dil'",
     "output_type": "error",
     "traceback": [
      "\u001b[1;31m---------------------------------------------------------------------------\u001b[0m",
      "\u001b[1;31mTypeError\u001b[0m                                 Traceback (most recent call last)",
      "Cell \u001b[1;32mIn[58], line 1\u001b[0m\n\u001b[1;32m----> 1\u001b[0m \u001b[43mVeriBilimci\u001b[49m\u001b[38;5;241;43m.\u001b[39;49m\u001b[43mdil_ekle\u001b[49m\u001b[43m(\u001b[49m\u001b[38;5;124;43m\"\u001b[39;49m\u001b[38;5;124;43mR\u001b[39;49m\u001b[38;5;124;43m\"\u001b[39;49m\u001b[43m)\u001b[49m\n",
      "\u001b[1;31mTypeError\u001b[0m: dil_ekle() missing 1 required positional argument: 'yeni_dil'"
     ]
    }
   ],
   "source": [
    "VeriBilimci.dil_ekle(\"R\")"
   ]
  },
  {
   "cell_type": "markdown",
   "id": "f9a21799-4d7a-448b-9317-795d33f8f109",
   "metadata": {},
   "source": [
    "Class ın niteliklerini tanımlarken örnek nitelikleriyle(bildigi_diller) aynı isimlendirilmemelidir.\n",
    "Daha farklı konumlanması gereken sınıf özelliklerini bozmaya izin vermez.\n",
    "Bunu örnekler üzerinden eklememiz gerekir."
   ]
  },
  {
   "cell_type": "code",
   "execution_count": 59,
   "id": "e5da7f55-7df1-4ee5-8632-627686bbb970",
   "metadata": {
    "tags": []
   },
   "outputs": [
    {
     "data": {
      "text/plain": [
       "['R']"
      ]
     },
     "execution_count": 59,
     "metadata": {},
     "output_type": "execute_result"
    }
   ],
   "source": [
    "ali.dil_ekle(\"R\")\n",
    "ali.bildigi_diller"
   ]
  },
  {
   "cell_type": "code",
   "execution_count": 60,
   "id": "7d2ce2c8-bbb0-438f-b00a-82826daa8433",
   "metadata": {
    "tags": []
   },
   "outputs": [
    {
     "data": {
      "text/plain": [
       "['Python']"
      ]
     },
     "execution_count": 60,
     "metadata": {},
     "output_type": "execute_result"
    }
   ],
   "source": [
    "veli.dil_ekle(\"Python\")\n",
    "veli.bildigi_diller"
   ]
  },
  {
   "cell_type": "markdown",
   "id": "2720912e-2555-430c-bc7d-0ddb9afc56dd",
   "metadata": {},
   "source": [
    "Sınıflar da nesnedir. Birbirine benzer görevleri yerine getirmek için ilgili fonksiyonları veya nesne gibi veri tiplerini bir araya getirmek için kullanılır. Veribilimci sınıfında özelliklerini tanımlayan calisanlar nesnesini tanımladık. Daha sonra sınıfa ait özellikleri (her bir veribilimci için, ali ..) self __init__ yapısıyla her bir örnek için birbirinden farklı değerler alabilecek şekilde 2 nesne tanımladık. "
   ]
  },
  {
   "cell_type": "markdown",
   "id": "fc895091-75c0-4e4b-b143-a781899d247a",
   "metadata": {},
   "source": [
    "Benzer amaçları bir araya getirme için bu VeriBilimci nin öğrendiği dili bu sınıf içerisinde kendini güncelleyecek şekilde bir fonksiyon yazdık. Yeni bir dil ekleme fonksiyonunu VeriBilimci sınıfında bu metodu tanımladık."
   ]
  },
  {
   "cell_type": "markdown",
   "id": "58d177b0-f7ae-497d-ae68-a785826e128d",
   "metadata": {},
   "source": [
    "### Miras(Inheritance) Yapıları"
   ]
  },
  {
   "cell_type": "markdown",
   "id": "cc9948ac-a727-443d-83db-31d767d8b5da",
   "metadata": {},
   "source": [
    "Sınıfın bazı özellikleri vardı. Örneklerini biçimlendirdik. Bu örnekleri başka sınıfta tanımlarken miras olarak bu özellikleri kullanabiliyoruz."
   ]
  },
  {
   "cell_type": "markdown",
   "id": "c333c27c-8da9-4413-a0f6-ca667c337d83",
   "metadata": {},
   "source": [
    "Bir şirkette yeni bir kod özelliği gerçekleştirilmek istendiğinde var olan bazı class ların optimizasyonla kullanılmasında miras vardır."
   ]
  },
  {
   "cell_type": "code",
   "execution_count": 61,
   "id": "fc5c9a1b-bd97-41ec-98f6-a68ea6d72dd4",
   "metadata": {
    "tags": []
   },
   "outputs": [],
   "source": [
    "# isim soyisim ortak özellik, programlama dilleri IT, pazarlama için farklı özellik\n",
    "class Employees():\n",
    "    # Örnek özellikleriyle ilgilenmeliyiz\n",
    "    def __init__(self):\n",
    "        self.FirstName = \"\"\n",
    "        self.LastName = \"\"\n",
    "        self.Adress = \"\""
   ]
  },
  {
   "cell_type": "code",
   "execution_count": 62,
   "id": "540eb22d-003c-419b-946e-1b2dc0bbd383",
   "metadata": {
    "tags": []
   },
   "outputs": [],
   "source": [
    "class DataScience():\n",
    "    def __init__(self):\n",
    "        self.Programming = \"\""
   ]
  },
  {
   "cell_type": "code",
   "execution_count": 63,
   "id": "dc151c84-7885-4e8e-b757-916395738c75",
   "metadata": {
    "tags": []
   },
   "outputs": [],
   "source": [
    "class Marketing():\n",
    "    def __init__(self):\n",
    "        self.StoryTelling = \"\""
   ]
  },
  {
   "cell_type": "code",
   "execution_count": 64,
   "id": "88a7278a-9517-4e33-bc49-ac4624b73aa5",
   "metadata": {
    "tags": []
   },
   "outputs": [
    {
     "data": {
      "text/plain": [
       "''"
      ]
     },
     "execution_count": 64,
     "metadata": {},
     "output_type": "execute_result"
    }
   ],
   "source": [
    "veriBilimci1 = DataScience() # veriBilimcileri örneklendir (Programming ve StoryTelling e sahip)\n",
    "veriBilimci1.Programming # isim, adress bilgileri vs tanımlamayı burada tanımlamak yerine DataSience sınıfı içinde Empoloyees den tanımlamalısın"
   ]
  },
  {
   "cell_type": "code",
   "execution_count": 65,
   "id": "29276331-313b-4acb-b315-f7ff62677c90",
   "metadata": {
    "tags": []
   },
   "outputs": [],
   "source": [
    "class DataScience(Employees):\n",
    "    def __init__(self):\n",
    "        self.Programming = \"\""
   ]
  },
  {
   "cell_type": "code",
   "execution_count": 66,
   "id": "e63269d2-ac76-4db1-82f6-1b1e5e91f3fa",
   "metadata": {
    "tags": []
   },
   "outputs": [],
   "source": [
    "# veriBilimci. yazdığımızda artık veriBilimci.FirstName, veriBilimci.LastName, veriBilimci.Adress ve veriBilimci.Programming özelikleri gelir."
   ]
  },
  {
   "cell_type": "code",
   "execution_count": 67,
   "id": "d9f5ff2a-715e-4bad-916a-64c98a00ca3f",
   "metadata": {
    "tags": []
   },
   "outputs": [],
   "source": [
    "class Marketing(Employees): # Aynı işlemi Marketing sınıfı içinde yaptık\n",
    "    def __init__(self):\n",
    "        self.StoryTelling = \"\""
   ]
  },
  {
   "cell_type": "code",
   "execution_count": 68,
   "id": "805c3e6b-7169-4567-af03-54c4f3fc6b61",
   "metadata": {
    "tags": []
   },
   "outputs": [],
   "source": [
    "mar1 = Marketing()"
   ]
  },
  {
   "cell_type": "code",
   "execution_count": 69,
   "id": "14110903-f1e7-4810-a9f6-92bfb1b77420",
   "metadata": {
    "tags": []
   },
   "outputs": [],
   "source": [
    "# mar1. yazdığımızda artık mar1.FirstName, mar1.LastName, mar1.Adress ve mar1.StoryTelling özelikleri gelir. \n",
    "# Daha önceki bir class ta tanımlamış olduğumuz özellikleri miras olarak bu class a bırakmış olduk."
   ]
  },
  {
   "cell_type": "markdown",
   "id": "5f644ce1-27e9-4b4b-a0da-0549063a1a1b",
   "metadata": {},
   "source": [
    "Sınıfları tanımlarken fonksiyonel bir yapı yerine sabit değerleriyle oluşturduk. "
   ]
  },
  {
   "cell_type": "markdown",
   "id": "cacb7a9b-a5bb-43a7-8a1f-442ec5e8a7db",
   "metadata": {},
   "source": [
    "- class Employees() class ını çalıştırmak istediğimizde değişken değerler olmasını istersek farklı bir değişken getirmek istediğimizde "
   ]
  },
  {
   "cell_type": "code",
   "execution_count": 70,
   "id": "10b6655d-0d0b-4e91-bf7e-e999c13cc358",
   "metadata": {
    "tags": []
   },
   "outputs": [],
   "source": [
    "class Employee_yeni():\n",
    "\n",
    "    def __init__(self, FirstName, LastName, Address): # fonksiyonel bir yapıda tanımladık\n",
    "        self.FirstName = FirstName\n",
    "        self.LastName = LastName\n",
    "        self.Address = Address"
   ]
  },
  {
   "cell_type": "code",
   "execution_count": 71,
   "id": "96eb51d1-f590-48ca-b68c-31e6e2655227",
   "metadata": {
    "tags": []
   },
   "outputs": [
    {
     "ename": "TypeError",
     "evalue": "__init__() missing 3 required positional arguments: 'FirstName', 'LastName', and 'Address'",
     "output_type": "error",
     "traceback": [
      "\u001b[1;31m---------------------------------------------------------------------------\u001b[0m",
      "\u001b[1;31mTypeError\u001b[0m                                 Traceback (most recent call last)",
      "Cell \u001b[1;32mIn[71], line 1\u001b[0m\n\u001b[1;32m----> 1\u001b[0m ali \u001b[38;5;241m=\u001b[39m \u001b[43mEmployee_yeni\u001b[49m\u001b[43m(\u001b[49m\u001b[43m)\u001b[49m\n",
      "\u001b[1;31mTypeError\u001b[0m: __init__() missing 3 required positional arguments: 'FirstName', 'LastName', and 'Address'"
     ]
    }
   ],
   "source": [
    "ali = Employee_yeni()"
   ]
  },
  {
   "cell_type": "markdown",
   "id": "4f684fd7-de65-4d4b-9482-2923fab9f1e4",
   "metadata": {},
   "source": [
    "TypeError hatası verir. Fonksiyonel yapıda tanımladığımız için kullandığımız argümanları string olarak tanımlamak zorundayız."
   ]
  },
  {
   "cell_type": "code",
   "execution_count": 72,
   "id": "3f1d5c29-ce6b-4a32-9f9b-dd05d355468c",
   "metadata": {
    "tags": []
   },
   "outputs": [],
   "source": [
    "ali = Employee_yeni(\"a\",\"b\",\"c\")"
   ]
  },
  {
   "cell_type": "code",
   "execution_count": 73,
   "id": "18aabd29-f0bd-45de-bb18-01a1e425e12a",
   "metadata": {
    "tags": []
   },
   "outputs": [
    {
     "data": {
      "text/plain": [
       "'c'"
      ]
     },
     "execution_count": 73,
     "metadata": {},
     "output_type": "execute_result"
    }
   ],
   "source": [
    "ali.Address"
   ]
  },
  {
   "cell_type": "code",
   "execution_count": 74,
   "id": "5c556ff2-a918-46c5-97b1-1d339906198d",
   "metadata": {
    "tags": []
   },
   "outputs": [
    {
     "data": {
      "text/plain": [
       "'a'"
      ]
     },
     "execution_count": 74,
     "metadata": {},
     "output_type": "execute_result"
    }
   ],
   "source": [
    "ali.FirstName # Bir sınıfı tıpkı bir fonksiyon gibi belirli argümanları almak için bu şekilde tanımlanır. Önceden sabit değerlerdi."
   ]
  },
  {
   "cell_type": "markdown",
   "id": "fc76d80c-03a6-439a-8b6d-d46c6895267c",
   "metadata": {},
   "source": [
    " Sınıflarımızın özellikleri var, örneklerimiz var. Bu sınıfların özelliklerini barındıran bu örneklerimizi de kendi içinde birbirine göre farklılaşan özellikleri var. Bunları self yapılarıyla tanımlıyoruz.Ve burada fonksiyon tanımlamak istediğimizde bunu metot olarak adlandırdığımız hemen şuradaki şekilde bir metot olarak tanımlayan biliyoruz ve son olarak da bazı klasörlerin özelliklerini bazı klasörler içerisinde kullanabiliyoruz."
   ]
  },
  {
   "cell_type": "markdown",
   "id": "a14cda20-ba7d-457a-bf84-eab836972e7c",
   "metadata": {},
   "source": [
    "### Fonksiyonel Programlamaya Giriş"
   ]
  },
  {
   "cell_type": "markdown",
   "id": "c9f85b6c-ffc4-4a1d-ae23-22df2a519faf",
   "metadata": {},
   "source": [
    "Nesne yönelimli programlama da her şey nesnelerden oluşuyordu ve orada fonksiyonlar da nesneydi, string ler de bir nesneydi, fonksiyonlar da bir nesneydi, fonksiyonel programlamada da yine benzer şeyler var. Fonksiyonlar biraz daha ön planda yani python genel amaçlı bir programlama dilidir. Programını kullanırken bir program yazacak olduğumuzda bunu nesne yönelimli programlama özellikleriyle de yazabiliriz veya fonksiyonel programlama özellikleriyle de yazabiliriz. Dolayısıyla ikisini de gerçekleştirebiliriz. "
   ]
  },
  {
   "cell_type": "markdown",
   "id": "bd4e1b39-51cb-419f-862c-66744d4d0485",
   "metadata": {},
   "source": [
    "- Fonksiyonlar dilin baş tacıdır ve daha esnek bir çalışma yapısı vardır.\n",
    "- Fonksiyonlar birinci sınıf nesnelerdir.\n",
    "- Yan etkisiz fonksiyonlar vardır. (stateless, girdi-cikti) \n",
    "- Bir girdi verildiğinde ancak çıktı ürettiğini bildiğimiz fonksiyonlar vardır. Bu nesne yönelimli programlamanın bazı eleştirilen yanlarından birisidir. Bazı kullanmış olduğumuz metotların kullanıcının isteği dışında etkilenebilir ve bozulabilmesi durumudur. Bir şekilde veri yapılarında meydana gelen bu bozukluklar ve takip edilememe durumu bazı riskler doğurmaktadır.\n",
    "- Yan etkisiz fonksiyonlar daha önce görmüş olduğumuz class yapılarındaki gibi bağımlılıklardan oluşmadığından dolayı yan etkilerinden emin oluyoruz. Yani ancak biz bir fonksiyonu kullandığımızda çalıştırdığımızda bunun hiçbir şey etkilemediğini ve biz bir girdi verdiğimizde çıktı üreteceğini biliyoruz.\n",
    "- Yüksek seviye fonksiyonlardır. (daha az çaba ile daha fazla iş yapma imkanı)\n",
    "- Vektörel operasyonlardır. \n",
    "- Örneğin döngüleri yazmak yerine daha basit yollarla bazı amaçları yerine getirebiliyor olacağız."
   ]
  },
  {
   "cell_type": "markdown",
   "id": "c60ff933-c136-4b96-9712-30a5b32c6839",
   "metadata": {},
   "source": [
    "Daha esnek ve bizi daha iyi anlayan bir programlama yaklaşımıdır."
   ]
  },
  {
   "cell_type": "markdown",
   "id": "d67375f3-1e41-4ac9-a283-69ae95d63909",
   "metadata": {},
   "source": [
    "### Yan Etkisiz Fonksiyonlar (Pure Functions)"
   ]
  },
  {
   "cell_type": "markdown",
   "id": "6cb8fd62-2c46-430c-806a-6177c88b773f",
   "metadata": {},
   "source": [
    "Fonksiyonel programlama özelliklerini biraz nesne yönelimli programlama özellikleri ile karşılaştırarak değerlendireceğiz. Öncelikle basit bir örnek alacağız ve yan etki durumunu bağımsızlık durumunu şuradaki maddelerde ancak bir girdi verildiğinde çıktı üretmesi durumunu kolayca kendi başına bağımsız da çalışabiliyor olması durumunu sonra ise ölümcül yan etkiler olan metodlardan ki değişiklikleri biraz daha ileri bir seviyeye örnek ile değerlendirmiş olacağız."
   ]
  },
  {
   "cell_type": "markdown",
   "id": "a2698290-49a2-4a6c-92c1-a365a9acd889",
   "metadata": {},
   "source": [
    "#### Yan Etkisiz Fonksiyonlar Örnek 1: Yan Etki (Bağımsızlık)"
   ]
  },
  {
   "cell_type": "code",
   "execution_count": 75,
   "id": "eceac037-f7d9-4748-810e-788f254d1947",
   "metadata": {
    "tags": []
   },
   "outputs": [],
   "source": [
    "A = 5 # global değişken "
   ]
  },
  {
   "cell_type": "markdown",
   "id": "619e478c-0cf0-473b-9920-e1f039c4b03b",
   "metadata": {},
   "source": [
    "Bir değişken fonksiyon döngü ve benzeri bir şeyin etki alanında değilse global değişkendir."
   ]
  },
  {
   "cell_type": "code",
   "execution_count": 76,
   "id": "45d97664-fddc-4569-a7d5-e7b7f1e1b1f7",
   "metadata": {
    "tags": []
   },
   "outputs": [],
   "source": [
    "def impure_sum(b): # saf olmayan\n",
    "    return b + A"
   ]
  },
  {
   "cell_type": "code",
   "execution_count": 77,
   "id": "fe700acc-a0f4-4fb8-a595-8731081294c0",
   "metadata": {
    "tags": []
   },
   "outputs": [],
   "source": [
    "def pure_sum(a,b): # saf\n",
    "    return a + b"
   ]
  },
  {
   "cell_type": "code",
   "execution_count": 78,
   "id": "cad24093-91ef-4ffb-823b-4cb31d933359",
   "metadata": {
    "tags": []
   },
   "outputs": [
    {
     "data": {
      "text/plain": [
       "11"
      ]
     },
     "execution_count": 78,
     "metadata": {},
     "output_type": "execute_result"
    }
   ],
   "source": [
    "impure_sum(6) # 6+5(global)=11"
   ]
  },
  {
   "cell_type": "code",
   "execution_count": 79,
   "id": "be3273b3-39c4-45fb-acc8-5713a40487fd",
   "metadata": {
    "tags": []
   },
   "outputs": [],
   "source": [
    "A = 9 # global değişken\n",
    "def impure_sum(b): # saf olmayan\n",
    "    return b + A"
   ]
  },
  {
   "cell_type": "code",
   "execution_count": 80,
   "id": "5f21fdfe-c525-44c3-bff4-434ae62dbebc",
   "metadata": {
    "tags": []
   },
   "outputs": [
    {
     "data": {
      "text/plain": [
       "15"
      ]
     },
     "execution_count": 80,
     "metadata": {},
     "output_type": "execute_result"
    }
   ],
   "source": [
    "impure_sum(6) # 6+9(global)=15"
   ]
  },
  {
   "cell_type": "markdown",
   "id": "71d5ea07-70ce-4fe6-9d91-083a795eb303",
   "metadata": {},
   "source": [
    "Yan etki durumunda birinci fonksiyonun bir şekilde bir dışarıdan bir bağımlılığı var. Yani bir şeyler bunu etkileyebiliyor yapısını bozabiliyor bu sebeple endişeliyiz, hiç bilemediğimiz bazı faktörler iç içe geçmiş sınıf yapılarından ve bazı tanımlanan örnek niteliklerinden ve hatta metotlarından dolayı bu şekilde etkiler ortaya çıkarabiliyor."
   ]
  },
  {
   "cell_type": "code",
   "execution_count": 81,
   "id": "07441de1-c3b5-4087-bf1e-b25fd14fa169",
   "metadata": {
    "tags": []
   },
   "outputs": [
    {
     "data": {
      "text/plain": [
       "7"
      ]
     },
     "execution_count": 81,
     "metadata": {},
     "output_type": "execute_result"
    }
   ],
   "source": [
    "pure_sum(3,4) # 3 + 4 = 7 her zaman"
   ]
  },
  {
   "cell_type": "markdown",
   "id": "c5d11512-d8d2-43f7-a248-1de6a0ca81b3",
   "metadata": {},
   "source": [
    "Bir girdi verdiğimizde çıktı üreteceğini ve bu çıktının her zaman aynı olacağını bilmemiz yan etki durumudur. Durumunun bir basit örneği arkadaşlar dışarıdaki bir nesneden etkilenmesi durumu yan etkiye sebep olabilir. Bu aynı zamanda dışarıdan etkilendiğinden dolayı şuradaki maddemiz (*stateless, girdi-cikti*) ile de ilintili olabilir. Örnek bir yan etki de başkaları bunu etkileyebiliyor."
   ]
  },
  {
   "cell_type": "markdown",
   "id": "69e86289-11bf-4c66-8442-63b928c98f14",
   "metadata": {},
   "source": [
    "#### Yan Etkisiz Fonksiyonlar Örnek 2: Ölümcül Yan Etkiler"
   ]
  },
  {
   "cell_type": "markdown",
   "id": "d9aa1c1f-82fa-44ca-8d8c-f029a215bb70",
   "metadata": {},
   "source": [
    "Bir dosyayı açıp içindeki satırları saymak üzere bir sınıf tanımlayın."
   ]
  },
  {
   "cell_type": "markdown",
   "id": "edb6a951-86fc-4ed2-aa9d-5a0d3c372f9c",
   "metadata": {},
   "source": [
    "Bir for döngüsü çalışacak. Girmiş olduğumuz dosyanın içerisindeki satırları saymak için bunu kullanacağız. Tabi ki bunu count ile birlikte kullanmış olacağız ve netice itibariyle count burada line ile satırları sayıp bize girmiş olduğunuz dosya isminin içerisindeki kaç tane satır olduğu bilgisini verecektir."
   ]
  },
  {
   "cell_type": "code",
   "execution_count": 82,
   "id": "d5f0923a-55d6-4e4d-a622-37af4e829940",
   "metadata": {
    "tags": []
   },
   "outputs": [],
   "source": [
    "#OOP\n",
    "class LineCounter:\n",
    "    def __init__(self, filename): #__init örnek özellik\n",
    "        # filename değişkeni ekledik ve open fonksiyonu kullanacağız\n",
    "        self.file = open(filename, 'r') # dosya açma\n",
    "        self.lines = []\n",
    "        \n",
    "    def read(self):\n",
    "        self.lines = [line for line in self.file]\n",
    "        # line ile for döngüsü yazarak her satırı döndürdük\n",
    "        \n",
    "    def count(self):\n",
    "        return len(self.lines) # dosyada kaç tane satır olduğunu sayar"
   ]
  },
  {
   "cell_type": "markdown",
   "id": "d3f7bce2-6349-4e87-b0ea-4f0f0083e967",
   "metadata": {},
   "source": [
    "Bir deneme.txt dosyası oluştur"
   ]
  },
  {
   "cell_type": "code",
   "execution_count": 83,
   "id": "2687ecd7-e2d9-4b6f-9101-848874c049b2",
   "metadata": {
    "tags": []
   },
   "outputs": [],
   "source": [
    "lc = LineCounter('deneme.txt') # deneme dosyası oluştur"
   ]
  },
  {
   "cell_type": "code",
   "execution_count": 84,
   "id": "779571ed-2db7-497a-a404-0008208dfe48",
   "metadata": {
    "tags": []
   },
   "outputs": [
    {
     "name": "stdout",
     "output_type": "stream",
     "text": [
      "[]\n"
     ]
    }
   ],
   "source": [
    "print(lc.lines) # Henüz işlem yapmadığımız için boş"
   ]
  },
  {
   "cell_type": "code",
   "execution_count": 85,
   "id": "265882d6-6902-4d9c-824d-f694b44ad63e",
   "metadata": {
    "tags": []
   },
   "outputs": [
    {
     "name": "stdout",
     "output_type": "stream",
     "text": [
      "0\n"
     ]
    }
   ],
   "source": [
    "print(lc.count())"
   ]
  },
  {
   "cell_type": "code",
   "execution_count": 86,
   "id": "6d7f8bff-111a-4b09-a935-bd39724c9c2c",
   "metadata": {
    "tags": []
   },
   "outputs": [],
   "source": [
    "lc.read()"
   ]
  },
  {
   "cell_type": "markdown",
   "id": "acc45a30-94ad-4836-87d3-87b2dd77469e",
   "metadata": {},
   "source": [
    "Buradaki lc instance ımız aracılığyla read metodunu çağırır.\n",
    "lc nesnesi lines ın özelliklerini uygulamak için dosyayı okumak zorunda olduğundan dosyayı okuyacak. Şimdi bu sınıf içindeki read metodunu lc nesnesini uygulamış olacağız. Yani şu anda bu sınıf içerisindeki read metodunu lc ye uygulamış olduk."
   ]
  },
  {
   "cell_type": "code",
   "execution_count": 87,
   "id": "f4fc7c96-dfb0-46cb-8d61-6a33ed78eb94",
   "metadata": {
    "tags": []
   },
   "outputs": [
    {
     "name": "stdout",
     "output_type": "stream",
     "text": [
      "['bunlar bir denemedir\\n', '\\n', 'asdasd\\n', '\\n', 'asdasd\\n', 'adsasd']\n"
     ]
    }
   ],
   "source": [
    "print(lc.lines)"
   ]
  },
  {
   "cell_type": "code",
   "execution_count": 88,
   "id": "4a39113f-7e5e-45c9-940b-870e7ad26511",
   "metadata": {
    "tags": []
   },
   "outputs": [
    {
     "name": "stdout",
     "output_type": "stream",
     "text": [
      "6\n"
     ]
    }
   ],
   "source": [
    "print(lc.count())"
   ]
  },
  {
   "cell_type": "markdown",
   "id": "1833620c-8ba4-40fb-8d35-4047fc6bf3ad",
   "metadata": {},
   "source": [
    "Bu duruma iç nesnenin durum değişmesi denir. Bakın bir işlem yaptık, bir sınıfın içerisinden bir fonksiyon kullandık ki bunu bir örnek aracılığıyla yaptık. Kullanmadan önce bu niteliklerin değerleri boş ve sıfırdı. Fakat bunu kullandıktan sonra buradaki değerlerin değiştiğini gözlemledik. İşte bu durum bu değişme durumu bu değişkenlik durumu hem problem hem faydalıdır. Bir dosya okuma işlemini gerçekleştirmeden öncesi ve sonrasında sonuçların değişimlerini gözlemledik."
   ]
  },
  {
   "cell_type": "markdown",
   "id": "25e9e475-4fee-47b4-8a1b-45fc69d04ba8",
   "metadata": {},
   "source": [
    "Bunu fonksiyonel programlama ile düşünelim. \n",
    "Bakın şimdi fonksiyonel programlamada her şey fonksiyonlardan oluşuyor. Fonksiyonlara argüman olarak fonksiyon alabiliyor. Bir fonksiyon içine birden fazla fonksiyonu argüman olarak alabildiği gibi içine argüman olarak aldığı fonksiyonlar da argüman olarak fonksiyonları alabiliyor. Tamamen fonksiyon odaklı bir düşünme yapısı vardır. "
   ]
  },
  {
   "cell_type": "markdown",
   "id": "c2847f68-3077-4217-a35c-9ce4c8546456",
   "metadata": {},
   "source": [
    "#### Fonksiyonel Programlama"
   ]
  },
  {
   "cell_type": "code",
   "execution_count": 89,
   "id": "ea29be98-1f35-45a5-a923-db334c7ae8d0",
   "metadata": {
    "tags": []
   },
   "outputs": [],
   "source": [
    "def read(filename):\n",
    "    with open(filename, 'r') as f:# dosya açma\n",
    "        return [line for line in f]\n",
    "        \n",
    "def count(lines):\n",
    "    return len(lines)"
   ]
  },
  {
   "cell_type": "markdown",
   "id": "7d8ad5ab-3705-4822-adab-27c323faa695",
   "metadata": {},
   "source": [
    "Öncelikle bir fonksiyon tanımlıyoruz. read(), okuma fonksiyonu nu ele alalım. İçindeki değişkeni argümanı filename olarak tanımladık. Bunu open fonksiyonunu kullanarak bir dosyayı açmak ile ilgili bir işlem yaptık."
   ]
  },
  {
   "cell_type": "markdown",
   "id": "27ae728d-7c1e-4715-b74d-188892b53bcf",
   "metadata": {},
   "source": [
    "Sonra da bir işlem daha yapmak için aşağıda count fonksiyonu tanımladık. Fonksiyonun içine değişkenimizin (lines) boyutu ele alınarak oluşturduk. Temelde 2 fonksiyonumuz vardır."
   ]
  },
  {
   "cell_type": "code",
   "execution_count": 90,
   "id": "754ef265-a37e-4dff-bc46-3195f1c9e054",
   "metadata": {
    "tags": []
   },
   "outputs": [],
   "source": [
    "example_lines = read('deneme.txt')"
   ]
  },
  {
   "cell_type": "code",
   "execution_count": 91,
   "id": "ca9728c6-5751-4378-9787-4c3840b3bdf4",
   "metadata": {
    "tags": []
   },
   "outputs": [
    {
     "data": {
      "text/plain": [
       "['bunlar bir denemedir\\n', '\\n', 'asdasd\\n', '\\n', 'asdasd\\n', 'adsasd']"
      ]
     },
     "execution_count": 91,
     "metadata": {},
     "output_type": "execute_result"
    }
   ],
   "source": [
    "example_lines"
   ]
  },
  {
   "cell_type": "markdown",
   "id": "46548644-c2d8-435c-a375-ecf735ea27fc",
   "metadata": {},
   "source": [
    "Daha sonra başka tanımlamış olduğum bir fonksiyon olan count fonksiyonunu bu example line ile çalıştıralım."
   ]
  },
  {
   "cell_type": "code",
   "execution_count": 92,
   "id": "b2093d3d-597e-4c87-9ebb-eacfc020a8ec",
   "metadata": {
    "tags": []
   },
   "outputs": [],
   "source": [
    "lines_count = count(example_lines)"
   ]
  },
  {
   "cell_type": "code",
   "execution_count": 93,
   "id": "8c529ba4-cb5f-4a9c-ab25-fe05749334cf",
   "metadata": {
    "tags": []
   },
   "outputs": [
    {
     "data": {
      "text/plain": [
       "6"
      ]
     },
     "execution_count": 93,
     "metadata": {},
     "output_type": "execute_result"
    }
   ],
   "source": [
    "lines_count"
   ]
  },
  {
   "cell_type": "markdown",
   "id": "ab2d635a-4a00-4c57-81b8-008d490ca336",
   "metadata": {},
   "source": [
    "example_lines ve lines_count ifadeleri değişmeyecektir ancak bir girdi ifadesi verildiğinde bir çıktı verecek şekilde değişecektir ve başka hiç bir yapıyı etkilemeyecektir."
   ]
  },
  {
   "cell_type": "markdown",
   "id": "9ae98b91-1199-4879-951a-21f57822356f",
   "metadata": {},
   "source": [
    "İki tane birbirinden tamamen bağımsız fonksiyondurlar. Birisi okuma işlemi yaptı, buradaki line satır satır okumayı ifade ediyor, öbürü ise sayma işlemi yapıyor. Bakın önce ben bir fonksiyonun çalıştırayım, sonra öbür fonksiyonu çalıştırayım dediğimizde bakın birbirinden bağımsız birbirini etkileyen herhangi bir yapı yok. Biz ancak bir girdi verdiğimizde çıktı üretmesini bekliyoruz. Verdiğimiz girdiler dışında çıktı üretemez. Çünkü yandan etkileyen yapısını bozan bir şey yoktur. Nesne yönelimli programlama da Pure olmayan (saf olmayan) ve ölümcül yan etkili fonksiyonları ifade ettiğimizde birbirini etkilemesi anlamına gelirken, fonksiyonel programlama da ise birbirinin içinde \n",
    "kullanılabilen peş peşe kullanılabilen daha rahat, daha bağımsız ancak bir girdi verildiğinde çıktı verileceğini bildiğimiz fonksiyonel programlama yapısıdır."
   ]
  },
  {
   "cell_type": "markdown",
   "id": "8bbab496-6cc6-4548-8a8a-7c26e9db15cb",
   "metadata": {},
   "source": [
    "### İsimsiz Fonksiyonlar (Anonymous Functions)"
   ]
  },
  {
   "cell_type": "markdown",
   "id": "83c9d0de-6c69-457a-a3d4-5e10f59a75bf",
   "metadata": {},
   "source": [
    "Toplamı işlemi yapacak bir fonksiyon yazalım."
   ]
  },
  {
   "cell_type": "code",
   "execution_count": 94,
   "id": "34ce1926-1e8e-44b6-84cd-577749624a05",
   "metadata": {
    "tags": []
   },
   "outputs": [],
   "source": [
    "def old_sum(a,b):\n",
    "    return a + b"
   ]
  },
  {
   "cell_type": "code",
   "execution_count": 95,
   "id": "f861e5d6-282c-40f8-8b45-5ceb68812d81",
   "metadata": {
    "tags": []
   },
   "outputs": [
    {
     "data": {
      "text/plain": [
       "9"
      ]
     },
     "execution_count": 95,
     "metadata": {},
     "output_type": "execute_result"
    }
   ],
   "source": [
    "old_sum(4,5)"
   ]
  },
  {
   "cell_type": "markdown",
   "id": "60d114dd-a093-4fee-94d6-74845ee26f3e",
   "metadata": {},
   "source": [
    "Lambda ile fonksiyon tanımlamayı isimlendirme yaparak gösterelim. Sonra lambdayı isimlendirme yapmadan nasıl kullanacağımızı göstereceğim. "
   ]
  },
  {
   "cell_type": "code",
   "execution_count": 96,
   "id": "1b6e4803-1f2c-48ba-a49a-eac934a193a2",
   "metadata": {
    "tags": []
   },
   "outputs": [],
   "source": [
    "new_sum = lambda a,b : a+b"
   ]
  },
  {
   "cell_type": "markdown",
   "id": "d49ec10f-02b1-40a7-9109-2daa9836294b",
   "metadata": {},
   "source": [
    "İki değerden oluşacak birisi a birisi b, ve ne iş yapacak diye sorduğunda ikisini toplayacaksın diyoruz. "
   ]
  },
  {
   "cell_type": "code",
   "execution_count": 97,
   "id": "33a91fc6-5cbc-4b62-bbc1-b47f115ce53f",
   "metadata": {
    "tags": []
   },
   "outputs": [
    {
     "data": {
      "text/plain": [
       "9"
      ]
     },
     "execution_count": 97,
     "metadata": {},
     "output_type": "execute_result"
    }
   ],
   "source": [
    "new_sum(4,5)"
   ]
  },
  {
   "cell_type": "code",
   "execution_count": 98,
   "id": "303ecfc4-d897-4c8f-b36f-a1f1f1315f59",
   "metadata": {
    "tags": []
   },
   "outputs": [],
   "source": [
    "sirasiz_liste = [('b', 3), ('a', 8), ('d', 12), ('c', 1)]"
   ]
  },
  {
   "cell_type": "code",
   "execution_count": 99,
   "id": "cf224106-aed5-46df-a07c-9907f3ed0d6a",
   "metadata": {
    "tags": []
   },
   "outputs": [
    {
     "data": {
      "text/plain": [
       "[('b', 3), ('a', 8), ('d', 12), ('c', 1)]"
      ]
     },
     "execution_count": 99,
     "metadata": {},
     "output_type": "execute_result"
    }
   ],
   "source": [
    "sirasiz_liste"
   ]
  },
  {
   "cell_type": "markdown",
   "id": "bd015502-6c6c-493b-ab11-cb4b8de91b56",
   "metadata": {},
   "source": [
    "Farklı farklı değerlerden oluşan sırasız bir liste oluşturduk. Bu liste içerisindeki tuple ları sıralayarak her bir tuple ın içerisinde bulunan ikinci elemanlara gidip yani indekse göre birinci elemanlara gidip ,integer lara gidip, bunları küçükten büyüğe doğru sıralamak istiyorum."
   ]
  },
  {
   "cell_type": "code",
   "execution_count": 100,
   "id": "acda2aea-43bc-47bd-8528-5fdda547f22b",
   "metadata": {
    "tags": []
   },
   "outputs": [
    {
     "data": {
      "text/plain": [
       "[('c', 1), ('b', 3), ('a', 8), ('d', 12)]"
      ]
     },
     "execution_count": 100,
     "metadata": {},
     "output_type": "execute_result"
    }
   ],
   "source": [
    "sorted(sirasiz_liste, key = lambda x: x[1])"
   ]
  },
  {
   "cell_type": "markdown",
   "id": "0f3a63dd-476e-4bfe-88c7-0efc7f0578d8",
   "metadata": {},
   "source": [
    "x e bağlı bir fonksiyon tanımlayarak kullanıldığı nesneden birinci değeri seçsin diyorum. Fonksiyon tanımladık ama hiçbir değere atamadık yani isimlendirme işlemi yapmadık. Sadece lambda yı fonksiyon tanımlamak için kullandık."
   ]
  },
  {
   "cell_type": "markdown",
   "id": "be62047b-272d-4b1a-8195-f92925f16661",
   "metadata": {},
   "source": [
    "### Vektörel Operasyonlar (Vectorel Operations)"
   ]
  },
  {
   "cell_type": "markdown",
   "id": "85da4e29-1898-455a-8ca9-eca15eab854e",
   "metadata": {},
   "source": [
    "İki listenin içerisindeki her bir elemanı çarpmak isteyelim."
   ]
  },
  {
   "cell_type": "code",
   "execution_count": 101,
   "id": "3ad67383-2820-427f-bd8c-d22c450200dc",
   "metadata": {
    "tags": []
   },
   "outputs": [],
   "source": [
    "a = [1,2,3,4] # Tek boyutlu vector\n",
    "b = [2,3,4,5]"
   ]
  },
  {
   "cell_type": "code",
   "execution_count": 102,
   "id": "1243787e-4797-4537-a192-16b2045ed662",
   "metadata": {
    "tags": []
   },
   "outputs": [
    {
     "data": {
      "text/plain": [
       "range(0, 4)"
      ]
     },
     "execution_count": 102,
     "metadata": {},
     "output_type": "execute_result"
    }
   ],
   "source": [
    "# İki vektörü çarpmak için döngü yazalım\n",
    "\n",
    "ab = []\n",
    "\n",
    "range(0, len(a)) # 0'dan a'nın içinde ne kadar eleman varsa gezin"
   ]
  },
  {
   "cell_type": "code",
   "execution_count": 103,
   "id": "34e1065a-e2c6-401f-a20d-036eb8f992d8",
   "metadata": {
    "tags": []
   },
   "outputs": [
    {
     "name": "stdout",
     "output_type": "stream",
     "text": [
      "0\n",
      "1\n",
      "2\n",
      "3\n"
     ]
    }
   ],
   "source": [
    "for i in range(0, len(a)):\n",
    "    print(i)"
   ]
  },
  {
   "cell_type": "code",
   "execution_count": 104,
   "id": "4ba82a77-4673-439d-8c68-697e7bae2f57",
   "metadata": {
    "tags": []
   },
   "outputs": [],
   "source": [
    "# OOP\n",
    "for i in range(0, len(a)): # range ile elemanları tek tek yakalar\n",
    "    ab.append(a[i]*b[i])\n",
    "# İlk operasyonda 0. indeksleri çarptı ve bunları çarpıp ab nin içerisine attı \n",
    "# ve bu döngü ikinciye geldiğinde ikinci değerimiz olan birinci elemanların çarpmasını sağlar"
   ]
  },
  {
   "cell_type": "code",
   "execution_count": 105,
   "id": "0e6b86c4-0fa3-4368-b5fe-90292ca524b7",
   "metadata": {
    "tags": []
   },
   "outputs": [
    {
     "data": {
      "text/plain": [
       "[2, 6, 12, 20]"
      ]
     },
     "execution_count": 105,
     "metadata": {},
     "output_type": "execute_result"
    }
   ],
   "source": [
    "ab"
   ]
  },
  {
   "cell_type": "markdown",
   "id": "05a69d6e-67f2-470a-8658-52fa77f78768",
   "metadata": {},
   "source": [
    "Matematik, istatistik, veri bilimi, makine öğrenmesi gibi işlemler olduğunda asla bu tip döngülere girmiyoruz. Vektörel operasyonlara girmemiz gerekir."
   ]
  },
  {
   "cell_type": "code",
   "execution_count": 106,
   "id": "b937279b-a867-4b72-ae0a-29acf176c337",
   "metadata": {
    "tags": []
   },
   "outputs": [],
   "source": [
    "# FP\n",
    "\n",
    "import numpy as np\n",
    "\n",
    "a = np.array([1,2,3,4]) # nesne liste oluşturma işlemini np array yapısı ile oluşturalım\n",
    "# Elimizde aynı şekilde liste olmuş oldu diyebiliriz\n",
    "b = np.array([2,3,4,5])"
   ]
  },
  {
   "cell_type": "code",
   "execution_count": 107,
   "id": "8c847487-23e5-45de-a61d-890d5c9b0b45",
   "metadata": {
    "tags": []
   },
   "outputs": [
    {
     "data": {
      "text/plain": [
       "array([ 2,  6, 12, 20])"
      ]
     },
     "execution_count": 107,
     "metadata": {},
     "output_type": "execute_result"
    }
   ],
   "source": [
    "a*b"
   ]
  },
  {
   "cell_type": "markdown",
   "id": "efb1f907-80d4-47ef-bf2e-5f19c7aa6446",
   "metadata": {},
   "source": [
    "Vektör tanımlaması için döngü yazmaya gerek olmadan vektör düzeyinde operasyon gerçekleştirmek için numpy kütüphanesini kullanmalıyız."
   ]
  },
  {
   "cell_type": "markdown",
   "id": "565e7652-3f46-432c-b39e-defc6aa47974",
   "metadata": {},
   "source": [
    "### map, filter ve reduce Fonksiyonları"
   ]
  },
  {
   "cell_type": "markdown",
   "id": "64be0467-e5da-455b-8b8a-a0b31719f3c1",
   "metadata": {},
   "source": [
    "Bir fonksiyon kendisine argüman olarak başka bir fonksiyon aldı durumu yani fonksiyonlara argüman olarak fonksiyon eklemek olayına first class fonksiyonlar denir. Bu fonksiyonlar kendilerine iteratif nesneleri ve fonksiyonları argüman olarak alarak işlemlerimizi oldukça kolay hale getirebilir."
   ]
  },
  {
   "cell_type": "code",
   "execution_count": 108,
   "id": "85e0a8a9-853b-4c56-b55b-3d9545fa0486",
   "metadata": {
    "tags": []
   },
   "outputs": [],
   "source": [
    "liste = [1,2,3,4,5]"
   ]
  },
  {
   "cell_type": "markdown",
   "id": "307d6621-54ed-45cc-9f30-ca7c44e48a2c",
   "metadata": {},
   "source": [
    "Listenin her bir elemanının üzerine 10 değerini eklemek için döngü yazmak istersek"
   ]
  },
  {
   "cell_type": "code",
   "execution_count": 109,
   "id": "ecdf1421-6229-40ea-9703-e06b551d4c30",
   "metadata": {
    "tags": []
   },
   "outputs": [
    {
     "name": "stdout",
     "output_type": "stream",
     "text": [
      "11\n",
      "12\n",
      "13\n",
      "14\n",
      "15\n"
     ]
    }
   ],
   "source": [
    "for i in liste:\n",
    "    print(i+10)"
   ]
  },
  {
   "cell_type": "markdown",
   "id": "6716ecd2-bfb8-41b8-b603-50cae762b03a",
   "metadata": {},
   "source": [
    "#### map Fonksiyonu"
   ]
  },
  {
   "cell_type": "markdown",
   "id": "0ac4115f-2ebb-4c3c-9cc8-7110514128d9",
   "metadata": {},
   "source": [
    "Map yapısını kullanarak lambda mimarisiyle birlikte bir fonksiyon tanımlama ve bu şekilde vektör özelindeki işlemleri ele almak istersek"
   ]
  },
  {
   "cell_type": "code",
   "execution_count": 110,
   "id": "65b701fb-1069-476b-acf5-76f499dfb7f5",
   "metadata": {
    "tags": []
   },
   "outputs": [
    {
     "data": {
      "text/plain": [
       "[11, 12, 13, 14, 15]"
      ]
     },
     "execution_count": 110,
     "metadata": {},
     "output_type": "execute_result"
    }
   ],
   "source": [
    "list(map(lambda x: x + 10, liste))\n",
    "# map fonksiyonu burada verilen bir vektörün içerisinde belirli bir fonksiyonu çalıştırır.\n",
    "# lamda x fonksiyon tanımlıyorum. (isimsiz fonksiyon)\n",
    "# Ne iş yapacak bu fonksiyon? Her bir elemanın üzerine 10 değerini ekleme işlemi yapsın. \n",
    "# Nerede yapsın? Liste de yapsın ."
   ]
  },
  {
   "cell_type": "code",
   "execution_count": 111,
   "id": "a0f8f886-b583-4c0b-b7b3-be2b8f6a4fb7",
   "metadata": {
    "tags": []
   },
   "outputs": [
    {
     "data": {
      "text/plain": [
       "[10, 20, 30, 40, 50]"
      ]
     },
     "execution_count": 111,
     "metadata": {},
     "output_type": "execute_result"
    }
   ],
   "source": [
    "list(map(lambda x: x*10, liste))"
   ]
  },
  {
   "cell_type": "markdown",
   "id": "dbc7f0e5-5ac8-457b-b111-2ec34fbd0e93",
   "metadata": {},
   "source": [
    "#### filter Fonksiyonu"
   ]
  },
  {
   "cell_type": "markdown",
   "id": "05550313-b3dc-4fb2-a05a-91eb4c258388",
   "metadata": {},
   "source": [
    "Benzer şekilde bir fonksiyon ve iteratif bir nesne olarak çalışır. Burada filter fonksiyonu iteratif bir nesne alır. Bu nesne üzerinden başka bir iteratif nesne oluşturulur ve iteratif nesne içinde aradığı şartın sağlandığı tüm elemanlar filtrelenir."
   ]
  },
  {
   "cell_type": "code",
   "execution_count": 112,
   "id": "09015d94-a6f7-479e-b7a8-33a90ef5436b",
   "metadata": {
    "tags": []
   },
   "outputs": [],
   "source": [
    "liste = [1,2,3,4,5,6,7,8,9,10]"
   ]
  },
  {
   "cell_type": "markdown",
   "id": "e3a4e3a1-def2-4a06-9a03-2958d2cf609e",
   "metadata": {},
   "source": [
    "İkiye bölündüğünde sıfır kalan değerlere ulaşmak istiyorum. Bunu for ve if kullanarak yapabiliriz. Bölecek ve şart sağlayacak şekilde daha çok çaba gerektirecek şekilde yapmak gerekecek."
   ]
  },
  {
   "cell_type": "code",
   "execution_count": 113,
   "id": "d9219934-895a-43f0-b98b-d58cf6e0ac96",
   "metadata": {
    "tags": []
   },
   "outputs": [
    {
     "data": {
      "text/plain": [
       "[2, 4, 6, 8, 10]"
      ]
     },
     "execution_count": 113,
     "metadata": {},
     "output_type": "execute_result"
    }
   ],
   "source": [
    "list(filter(lambda x: x%2==0, liste))\n",
    "# lambda fonksiyon tanımlıyorum. \n",
    "# Ne tanımıyorsun? İkiye bölümünden kalan sıfır\n",
    "# Nereye uygulayacaksın? listeye uygula"
   ]
  },
  {
   "cell_type": "markdown",
   "id": "0b0d30ef-c238-453c-8ff9-cf8007b7bd7a",
   "metadata": {},
   "source": [
    "Bu listenin içerisinde true dönenleri bu listeye orijinal değerlerini gösterecek şekilde getirdi. Kısaca filter fonksiyonun iterative bir nesne alacağından bahsettik. Başka bir alternatif nesne oluşturur diye bahsettik. Sonrasında şartın sağlandığı elemanları filtreler dedik. Yani değerleriyle ilgili bir işlem yapmadı. "
   ]
  },
  {
   "cell_type": "markdown",
   "id": "8db282fa-f631-4851-a1bb-4e144c6599cc",
   "metadata": {},
   "source": [
    "#### reduce Fonksiyonu"
   ]
  },
  {
   "cell_type": "markdown",
   "id": "5f036d05-04b3-4295-a21f-4fad11756a95",
   "metadata": {},
   "source": [
    "map ve filter fonksiyonlarına benzerdir fakat indirgeme işlemleri yapar."
   ]
  },
  {
   "cell_type": "markdown",
   "id": "82dacb3d-1919-44d6-bed3-f645ee026664",
   "metadata": {},
   "source": [
    "functools modülü içerisinden kütüphane çağıracağız"
   ]
  },
  {
   "cell_type": "code",
   "execution_count": 114,
   "id": "3a4feeac-eb75-4a05-9b24-2f4703c58bfe",
   "metadata": {
    "tags": []
   },
   "outputs": [],
   "source": [
    "from functools import reduce # fonksiyon import etme işlemi "
   ]
  },
  {
   "cell_type": "code",
   "execution_count": 115,
   "id": "ba12bdc2-85e3-4dcb-8a69-4c4b95166743",
   "metadata": {
    "tags": []
   },
   "outputs": [],
   "source": [
    "liste = [1,2,3,4]"
   ]
  },
  {
   "cell_type": "code",
   "execution_count": 116,
   "id": "e5ad1341-625c-4e2d-a4cb-775e93aa1213",
   "metadata": {
    "tags": []
   },
   "outputs": [
    {
     "data": {
      "text/plain": [
       "10"
      ]
     },
     "execution_count": 116,
     "metadata": {},
     "output_type": "execute_result"
    }
   ],
   "source": [
    "reduce(lambda a,b: a+b, liste)\n",
    "# İsimsiz bir lambda fonksiyonunu a,b ye bağlı olarak tanımladık\n",
    "# Ne yapsın? a ile b toplama işlemi yapsın\n",
    "# Nerede yapsın? liste de yapsın"
   ]
  },
  {
   "cell_type": "markdown",
   "id": "f98eb845-e322-456f-b9ca-c6ebb03217c6",
   "metadata": {},
   "source": [
    "Fonksiyonel programlamaya göre Nesne yönelimli programlama yaklaşımıyla yazılan programların kötü olduğu anlamına asla gelmez. OOP nin de birçok nimeti ve birçok iyi olduğu yön vardır. Fakat biraz daha matematiksel işlemler, vektörel operasyonlar, matris işlemleri, lineer cebir işlemleri ve buna paralel olarak istatistik veri bilimi, makine öğrenmesi işlemlerine doğru ilerlediğimizde artık biraz daha python'nın daha kolay hale getirdiği, daha az yan etkileri ve daha az problemler oluşturduğu yapıları fonksiyonel programlama ile kullanmak gerekir."
   ]
  },
  {
   "cell_type": "markdown",
   "id": "c0d98913-14ef-4c00-840b-682e19074980",
   "metadata": {},
   "source": [
    "### Modül Oluşturmak"
   ]
  },
  {
   "cell_type": "markdown",
   "id": "1f75f9e8-e0d7-48a1-8efd-2d578a6c8596",
   "metadata": {},
   "source": [
    "- Modül\n",
    "- Kütüphane\n",
    "- Paket\n",
    "\n",
    "Bunların üçü de doğrudur ve aynı anlama gelir. Modüller, belirli amaçları yerine getirmek için bir arada bulunan fonksiyonlar topluluğudur. Örneğin Metin madenciliği işlemleri için geliştirilen bir kütüphane olduğunu, bir model olduğunu düşünelim. Bu durumda Metin madenciliği etrafında kullanılan fonksiyonlar bir araya getirilmiş demektir. Bu genelde bir modül söz konusu olduğunda bazı özel işler için spesifikleştirilmiş amaçlar taşıyan fonksiyonların bir araya getirildiği anlamına gelir."
   ]
  },
  {
   "cell_type": "markdown",
   "id": "5ff77ad1-eab6-4d46-9acc-ce93e027511d",
   "metadata": {},
   "source": [
    "- from functools import reduce\n",
    "\n",
    "Burada hazır olan bir modülü kullanarak içerisinden bir fonksiyonu import ettik.\n",
    "\n",
    "- import numpy as np\n",
    "\n",
    "Burada numpy isimli modülün kendisini import ederek kısayol atadık. Daha sonra Numpy kütüphanesi içerisinden bir fonksiyon kullanarak bazı işlemler yaptık. "
   ]
  },
  {
   "cell_type": "markdown",
   "id": "41d2e563-8b97-4b65-870d-63c3130b7e60",
   "metadata": {
    "tags": []
   },
   "source": [
    "Bu modül kısmını spyder içinde yapabilirsin."
   ]
  },
  {
   "cell_type": "markdown",
   "id": "c7d2962f-2594-4ec6-aead-6b6a132e0299",
   "metadata": {},
   "source": [
    "Örneğin maaşlarla ilgili işlemler gerçekleştiren birkaç tane mesela fonksiyonumuz olduğunu düşünelim ve bunu paketleyip bir program haline getirip kullanılabilen bir model haline getirip insanlara açmak istediğimizi düşünelim ve sonra insanların bu hazırlamış olduğumuz modülü kullanacak olduğunu düşünelim. "
   ]
  },
  {
   "cell_type": "markdown",
   "id": "781d2833-77b6-4380-aa06-043101d6f8fa",
   "metadata": {},
   "source": [
    "HesapModulu.py dosyası adında bir modül oluşturalım. "
   ]
  },
  {
   "cell_type": "markdown",
   "id": "32bf7d35-4c95-4ed9-b156-6fc3cd8eded5",
   "metadata": {},
   "source": [
    "HesapModulu.py dosyası içinde yeni_maas hesaplama işlemi yapan bir fonksiyonu olsun\n",
    "\n",
    "def yeni_maas(x):\n",
    "\n",
    "    print(x*20/100 + x)"
   ]
  },
  {
   "cell_type": "markdown",
   "id": "6e323e4f-6e41-42d0-af58-84c2da879434",
   "metadata": {},
   "source": [
    "Yeni bir py dosyası içinde artık HesapModulu kütüphanemizi import edebiliriz."
   ]
  },
  {
   "cell_type": "code",
   "execution_count": 117,
   "id": "212d6d95-b8fb-4982-943e-fb9295a8a7de",
   "metadata": {
    "tags": []
   },
   "outputs": [],
   "source": [
    "#%% Modül Kullanma Tekniği - 1\n",
    "#import HesapModulu\n",
    "#HesapModulu.yeni_maas(1000)"
   ]
  },
  {
   "cell_type": "markdown",
   "id": "c1a51203-634c-466b-8f01-36272e49c789",
   "metadata": {},
   "source": [
    "JupyterLab da kütüpheneler başka bir klasörden import edildiği için orada oluşturmak gerekiyor. Bu sebeple bu bölümü spyder da çalıştırın."
   ]
  },
  {
   "cell_type": "code",
   "execution_count": 118,
   "id": "5a620788-6003-476f-a2db-af26db7423c8",
   "metadata": {
    "tags": []
   },
   "outputs": [],
   "source": [
    "#%% Modül Kullanma Tekniği - 2\n",
    "#import HesapModulu as hm\n",
    "#hm.yeni_maas(1000)"
   ]
  },
  {
   "cell_type": "code",
   "execution_count": 119,
   "id": "3e39b6a5-d613-4c6a-bf82-23c1e72443de",
   "metadata": {
    "tags": []
   },
   "outputs": [],
   "source": [
    "#%% Modül Kullanma Tekniği - 3\n",
    "#from HesapModulu import yeni_maas\n",
    "#yeni_maas(4000)"
   ]
  },
  {
   "cell_type": "markdown",
   "id": "682106e3-7d5e-4e07-be37-ed368ea8580e",
   "metadata": {},
   "source": [
    "3 farklı modül kullanma tekniğini gördük. \n",
    "\n",
    "Birincisi modülün adı olduğu gibi yazılır noktayla fonksiyon çağrılır. \n",
    "\n",
    "İkincisi modül anlı adı kısaltılır. Bu kısa isim üzerinden fonksiyon çağrılır. \n",
    "\n",
    "Üçüncüsü ise direkt fonksiyonun kendisi modülün içerisinden çağrılır."
   ]
  },
  {
   "cell_type": "code",
   "execution_count": 120,
   "id": "7d526362-8af1-4c4e-a96c-64717ed2befb",
   "metadata": {
    "tags": []
   },
   "outputs": [],
   "source": [
    "#HesapModulu.py\n",
    "# def yeni_maas(x):\n",
    "#     print(x*20/100 + x)\n",
    "\n",
    "# maaslar = [1000, 2000, 3000, 5000]"
   ]
  },
  {
   "cell_type": "code",
   "execution_count": 121,
   "id": "bec799d9-885a-4e5b-bd2a-003771c8b555",
   "metadata": {
    "tags": []
   },
   "outputs": [],
   "source": [
    "#test.py\n",
    "#%% Modül Kullanarak Nesne Çağırma\n",
    "#import HesapModulu as hm\n",
    "#hm.maaslar"
   ]
  },
  {
   "cell_type": "markdown",
   "id": "ca4cdc07-18e8-4b55-bf2b-ecd0428a37d1",
   "metadata": {},
   "source": [
    "Modüller istediğimiz şekilde amaçlarımıza göre yazılacak şekilde biçimlendirilen bir kütüphanedir. Buraya birbirinden fazla 10 farklı 10 tane fonksiyon yazabiliriz, nesneler koyabiliriz, listeler oluşturabiliriz.\n",
    "\n",
    "Bütün işleri optimize eden güzel bir kütüphane yazılabilir. Yani bir modül yazdım, aldığın modülü sen kullan. Bir de buna bir dökümantasyon yaz. Fonksiyonların argümanlarını yaz. Ne işe yaradıklarını yaz, nasıl kullanılacağını yaz ve alın size bir kütüphane haline gelmiş olsun."
   ]
  },
  {
   "cell_type": "markdown",
   "id": "6c9899ef-1eb3-4070-9765-2cc44f628a74",
   "metadata": {},
   "source": [
    "### Hatalar / İstisnalar (exceptions)"
   ]
  },
  {
   "cell_type": "markdown",
   "id": "4611afda-ed17-4ece-b130-20170064a5fb",
   "metadata": {},
   "source": [
    "Hatalar genelde kaba hatlarıyla üçe ayrılır.\n",
    "\n",
    "* Programcı hataları: Basit hatalardır ve genelde python söz dizimi (syntax) üzerinde gözlemlenebilir ve yakalanabilir hatalardır.\n",
    "\n",
    "* Program hataları: Bug dediğimiz bu hatalar kritik hatalardır ve uğraşması zor hatalardır. Çünkü program çalışmasını sürdürür, çalışmaya devam eder. Ancak çıktılar problemlidir ve bazen çıktıların problemli olduğu dahi anlaşılmayabilir. İşte bu durumda tester dediğimiz tester lar devreye girer.\n",
    "\n",
    "* İstisnalar(exceptions): Programda bildiğimiz bazı hatalardır. Fakat bu hatalar gözlendiğinde programın çalışmasını durdurma, çalışmaya devam et demenin yoludur."
   ]
  },
  {
   "cell_type": "markdown",
   "id": "d69e506c-9ffb-4f97-b44a-114769059377",
   "metadata": {},
   "source": [
    "#### İstisnalar(exceptions)"
   ]
  },
  {
   "cell_type": "markdown",
   "id": "ce226b05-fb59-4829-b3b8-c572b76caac3",
   "metadata": {},
   "source": [
    "##### ZeroDivisionError Hatası"
   ]
  },
  {
   "cell_type": "code",
   "execution_count": 122,
   "id": "2ba0c592-a685-48fa-8517-dca1bfa3dedc",
   "metadata": {
    "tags": []
   },
   "outputs": [],
   "source": [
    "a = 10\n",
    "b = 0"
   ]
  },
  {
   "cell_type": "code",
   "execution_count": 123,
   "id": "28085d8f-388e-4a08-ba14-7c08a17bd636",
   "metadata": {
    "tags": []
   },
   "outputs": [
    {
     "ename": "ZeroDivisionError",
     "evalue": "division by zero",
     "output_type": "error",
     "traceback": [
      "\u001b[1;31m---------------------------------------------------------------------------\u001b[0m",
      "\u001b[1;31mZeroDivisionError\u001b[0m                         Traceback (most recent call last)",
      "Cell \u001b[1;32mIn[123], line 1\u001b[0m\n\u001b[1;32m----> 1\u001b[0m \u001b[43ma\u001b[49m\u001b[38;5;241;43m/\u001b[39;49m\u001b[43mb\u001b[49m\n",
      "\u001b[1;31mZeroDivisionError\u001b[0m: division by zero"
     ]
    }
   ],
   "source": [
    "a/b"
   ]
  },
  {
   "cell_type": "markdown",
   "id": "8d50e300-2315-47f5-9ee6-9c15fb13334b",
   "metadata": {},
   "source": [
    "Kullanıcı bu işlemi gerçekleştirirken veya kod içerisinde bu tip durumlar gerçekleştiği zaman buna bir önlem koyabiliyoruz. \"try except\" yapısını kullanırız. Yukarıdaki ZeroDivisionError: division by zero hatası için kullanalım."
   ]
  },
  {
   "cell_type": "code",
   "execution_count": 124,
   "id": "cc52c678-c6ac-4f4e-9af0-838644fc21ae",
   "metadata": {
    "tags": []
   },
   "outputs": [
    {
     "name": "stdout",
     "output_type": "stream",
     "text": [
      "Payda da sifir olmaz\n"
     ]
    }
   ],
   "source": [
    "try: # kodu çalıştırmaya çalış bakalım demek\n",
    "    print(a/b)\n",
    "except ZeroDivisionError: # bakın bu hatayı alıyorum\n",
    "    print(\"Payda da sifir olmaz\")"
   ]
  },
  {
   "cell_type": "markdown",
   "id": "11c6347e-be41-4428-b571-0ed5a82413f2",
   "metadata": {},
   "source": [
    "Yani demek istiyorum ki bunu çalıştırmaya çalış eğer çalışmazsa hatanın türünü ifade et. Bu hatanın tipini belirttik. Çalıştırmaya devam ederken \"Payda da sifir olmaz\" uyarısını vermesini sağladık. Bu durumla çalışmayı sürdür ve benim programımı bozma. Dışarıda bırak ve bunu istisna olarak gör dedik. Bir de mesaj yayınladık."
   ]
  },
  {
   "cell_type": "markdown",
   "id": "43448315-e4d8-495d-ae63-ad62889702ff",
   "metadata": {},
   "source": [
    "##### TypeError Hatası"
   ]
  },
  {
   "cell_type": "code",
   "execution_count": 125,
   "id": "e5541ce6-ef71-43b2-89e1-2cfd0a8a3943",
   "metadata": {
    "tags": []
   },
   "outputs": [],
   "source": [
    "a = 10\n",
    "b = \"2\""
   ]
  },
  {
   "cell_type": "markdown",
   "id": "592bc534-2a8e-4610-8e10-96309ec3087a",
   "metadata": {},
   "source": [
    "Bir string ifadeyle bir integer ifadeyi (nümerik bir ifadeyi) matematiksel bir işleme sokarsam hata alırım."
   ]
  },
  {
   "cell_type": "code",
   "execution_count": 126,
   "id": "25534a2a-db8f-4b30-a41b-45e58c5aad86",
   "metadata": {
    "tags": []
   },
   "outputs": [
    {
     "ename": "TypeError",
     "evalue": "unsupported operand type(s) for /: 'int' and 'str'",
     "output_type": "error",
     "traceback": [
      "\u001b[1;31m---------------------------------------------------------------------------\u001b[0m",
      "\u001b[1;31mTypeError\u001b[0m                                 Traceback (most recent call last)",
      "Cell \u001b[1;32mIn[126], line 1\u001b[0m\n\u001b[1;32m----> 1\u001b[0m \u001b[43ma\u001b[49m\u001b[38;5;241;43m/\u001b[39;49m\u001b[43mb\u001b[49m\n",
      "\u001b[1;31mTypeError\u001b[0m: unsupported operand type(s) for /: 'int' and 'str'"
     ]
    }
   ],
   "source": [
    "a/b"
   ]
  },
  {
   "cell_type": "markdown",
   "id": "ccd71ff9-3fb3-4818-a796-8c028cb649c1",
   "metadata": {},
   "source": [
    "Integer ve string arasında böyle bir işlem yapamazsın.Kullanıcı muhtemelen bu hatayı biliyordur ama bir şekilde bir fonksiyonun türettiği sonuç olabilir veya kullanıcı bir hata yapmış olabilir veya biz hatalı bir işlem yapmış olabiliriz. Böyle hatalarla karşılaşıldığında try except yapısı kullanılır. Bunu görmezden gel bilgisini şimdi programa benzer şekilde verelim."
   ]
  },
  {
   "cell_type": "code",
   "execution_count": 127,
   "id": "757e0cc2-4a8a-4546-92d3-7a2418a7aef0",
   "metadata": {
    "tags": []
   },
   "outputs": [
    {
     "name": "stdout",
     "output_type": "stream",
     "text": [
      "Sayı ve string problemi\n"
     ]
    }
   ],
   "source": [
    "try:\n",
    "    print(a/b)\n",
    "except TypeError:\n",
    "    print(\"Sayı ve string problemi\")"
   ]
  },
  {
   "cell_type": "markdown",
   "id": "4d217b89-be64-4e28-942d-c8f44208bbd7",
   "metadata": {},
   "source": [
    "Program çalışmayı kesmeden çalışmasına devam etti ve uyarısını yazdırdı. Gerçekten bölünebilen sayılar yazsaydık sonuç bölüm çıkardı."
   ]
  },
  {
   "cell_type": "code",
   "execution_count": 128,
   "id": "55e96137-e1ad-40be-82f5-1cf90400952b",
   "metadata": {
    "tags": []
   },
   "outputs": [
    {
     "name": "stdout",
     "output_type": "stream",
     "text": [
      "5.0\n"
     ]
    }
   ],
   "source": [
    "a = 10\n",
    "b = 2\n",
    "try:\n",
    "    print(a/b)\n",
    "except TypeError:\n",
    "    print(\"Sayı ve string problemi\")"
   ]
  },
  {
   "cell_type": "markdown",
   "id": "e60ce124-4061-4f93-ae0d-d7674c41203a",
   "metadata": {},
   "source": [
    "Kısaca kod akışı esnasında bunun bozulmaması adına görmezden gel istisna bir durumdur. Bu gibi bir bilgiyi try ve except yapısı ile vermiş oluyoruz. Python da birçok hata alabilirz. Bazen veri işlerken problemle karşılaşacağız. Bazen kod yazarken problemle karşılaşacağız. Bunları mutlaka bir Google lama google'da arama kültürüne sahip olmak gerekiyor."
   ]
  },
  {
   "cell_type": "markdown",
   "id": "a5a0b17e-2821-4bc2-a343-8348721ef97d",
   "metadata": {},
   "source": [
    "## Python Programlama Alıştırmalar - 10"
   ]
  },
  {
   "cell_type": "markdown",
   "id": "167ea1d9-b58a-42ab-b9d0-4e953e1b417c",
   "metadata": {},
   "source": [
    "##### Soru 1:\n",
    "##### Bir sınıf tanımlamak aşağıdakilerden hangisi kullanılır?"
   ]
  },
  {
   "cell_type": "markdown",
   "id": "c3f38771-b33c-4704-a08a-b8ebcc7c69d1",
   "metadata": {},
   "source": [
    "###### - class"
   ]
  },
  {
   "cell_type": "markdown",
   "id": "07180c01-acac-402f-9a43-63dd43bccaba",
   "metadata": {},
   "source": [
    "##### Soru 2:\n",
    "##### Kod parçasında yer alan “fonksiyonlar” ve “OOP” tanımlamaları ne ifade etmektedir?"
   ]
  },
  {
   "cell_type": "code",
   "execution_count": 129,
   "id": "01fc8308-159f-4151-b6f6-e83402718dbd",
   "metadata": {
    "tags": []
   },
   "outputs": [],
   "source": [
    "class BolumSorulari():\n",
    "    fonksiyonlar = []\n",
    "    OOP = []"
   ]
  },
  {
   "cell_type": "markdown",
   "id": "478fece4-cebc-408f-b4b9-460096da5606",
   "metadata": {},
   "source": [
    "###### - Sınıf özellikleri tanımlama"
   ]
  },
  {
   "cell_type": "markdown",
   "id": "f163f710-7a23-4dc6-8bd1-3815243f3090",
   "metadata": {},
   "source": [
    "Burada fonksiyonlar ve OOP adlı iki değişken tanımladık. Teknik dilde bu değişkenlere ‘sınıf niteliği’ (class attribute) adı verilir.\n",
    "\n",
    "Biraz önce, sınıf tanımlamayı öğrenirken sınıf tanımlamanın fonksiyon tanımlamaya çok benzediğini söylemiştik. Gerçekten de öyledir. Ancak fonksiyonlarla sınıflar arasında (başka farkların dışında) çok önemli bir fark bulunur. Bildiğiniz gibi, bir fonksiyonu tanımladıktan sonra, o fonksiyonun işlemeye başlaması için, o fonksiyonun mutlaka çağrılması gerekir. Çağrılmayan fonksiyonlar çalışmaz."
   ]
  },
  {
   "cell_type": "markdown",
   "id": "93b5e1d2-f3b8-4e36-a71b-91e7a283618b",
   "metadata": {},
   "source": [
    "##### Soru 3:\n",
    "##### Verilen kod parçacığında yapılan işlem ne anlama gelmektedir?"
   ]
  },
  {
   "cell_type": "code",
   "execution_count": 130,
   "id": "c58def82-6978-4a73-a872-eb644ac22a46",
   "metadata": {
    "tags": []
   },
   "outputs": [
    {
     "data": {
      "text/plain": [
       "[]"
      ]
     },
     "execution_count": 130,
     "metadata": {},
     "output_type": "execute_result"
    }
   ],
   "source": [
    "class BolumSorulari():\n",
    "    fonksiyonlar = []\n",
    "    OOP = []\n",
    "\n",
    "BolumSorulari.OOP"
   ]
  },
  {
   "cell_type": "markdown",
   "id": "84a861a4-0050-4acd-a962-f9070fd13216",
   "metadata": {
    "tags": []
   },
   "source": [
    "###### - Bir sınıf özelliğine erişilmiştir"
   ]
  },
  {
   "cell_type": "markdown",
   "id": "be3280ee-83ca-4854-ae5d-1b450a64de62",
   "metadata": {},
   "source": [
    "##### Soru 4:\n",
    "##### Verilen kod parçacığına göre aşağıdakilerden hangisi bir sınıf örneklendirmesidir?"
   ]
  },
  {
   "cell_type": "code",
   "execution_count": 131,
   "id": "d811c2ce-9001-4ff4-92e5-ee490dc0bd57",
   "metadata": {
    "tags": []
   },
   "outputs": [],
   "source": [
    "class BolumSorulari():\n",
    "    fonksiyonlar = []\n",
    "    OOP = []"
   ]
  },
  {
   "cell_type": "markdown",
   "id": "43abda43-c37b-43aa-9545-fb1e3453602b",
   "metadata": {
    "tags": []
   },
   "source": [
    "###### - donguler = BolumSorulari()"
   ]
  },
  {
   "cell_type": "markdown",
   "id": "1395af90-bb9a-47ad-9f4d-0743982668f0",
   "metadata": {},
   "source": [
    "##### Soru 5:\n",
    "##### Aşağıdaki fonksiyonel programlama ile ilgili ifadelerden hangisi yanlıştır?\n",
    "\n"
   ]
  },
  {
   "cell_type": "markdown",
   "id": "de550acb-eb15-44f3-9771-ec25daba4e6a",
   "metadata": {},
   "source": [
    "- Fonksiyonlar dilin baş tacıdır\n",
    "- İsimsiz fonksyionlar kullanılabilir\n",
    "- Vektörel işlemlere imkan sağlanır\n",
    "\n",
    "- Yan etkisiz fonksiyonlar daha önce görmüş olduğumuz class yapılarındaki gibi bağımlılıklardan oluşmadığından dolayı yan etkilerinden emin oluyoruz. Yani ancak biz bir fonksiyonu kullandığımızda çalıştırdığımızda bunun hiçbir şey etkilemediğini ve biz bir girdi verdiğimizde çıktı üreteceğini biliyoruz."
   ]
  },
  {
   "cell_type": "markdown",
   "id": "74cb8d6d-b734-4979-a6e3-c14b57cfc287",
   "metadata": {},
   "source": [
    "##### - \"Yan etkili fonksiyonlar vardır\" ifadesi yanlıştır"
   ]
  },
  {
   "cell_type": "markdown",
   "id": "185e8d80-ad0d-4fe8-972b-121a3555a087",
   "metadata": {},
   "source": [
    "##### Soru 6:\n",
    "##### “Ancak bir girdi verildiğinde çıktı üreten fonksiyonlar” ifadesi aşağıdaki fonksiyonel programlama özelliklerinden hangisini işaret etmektedir."
   ]
  },
  {
   "cell_type": "markdown",
   "id": "bcacc4cb-8dd5-458e-899a-2eb54767d48c",
   "metadata": {},
   "source": [
    "###### - Yan etkisiz fonksiyonlar"
   ]
  },
  {
   "cell_type": "markdown",
   "id": "e0fb92d9-e39f-48ef-aeb4-9fd4f3f5c779",
   "metadata": {},
   "source": [
    "##### Soru 7:\n",
    "##### Verilen kod parçasının çıktısı aşağıdakilerden hangisidir?"
   ]
  },
  {
   "cell_type": "code",
   "execution_count": 132,
   "id": "1342b82d-76bb-4372-b782-330303a112c2",
   "metadata": {
    "tags": []
   },
   "outputs": [
    {
     "data": {
      "text/plain": [
       "9"
      ]
     },
     "execution_count": 132,
     "metadata": {},
     "output_type": "execute_result"
    }
   ],
   "source": [
    "fun = lambda x: x**2\n",
    "fun(3)"
   ]
  },
  {
   "cell_type": "markdown",
   "id": "b5c3b1cc-b12d-4672-bbf9-1ce27ff83b86",
   "metadata": {},
   "source": [
    "##### Soru 8:\n",
    "##### Verilen kod parçacığının çıktısı aşağıdakilerden hangisidir?"
   ]
  },
  {
   "cell_type": "code",
   "execution_count": 133,
   "id": "8900c5d8-d275-4390-a985-c3fda4d557f9",
   "metadata": {
    "tags": []
   },
   "outputs": [
    {
     "data": {
      "text/plain": [
       "[2, 7, 4]"
      ]
     },
     "execution_count": 133,
     "metadata": {},
     "output_type": "execute_result"
    }
   ],
   "source": [
    "list(map(lambda x: x*1, [2,7,4]))"
   ]
  },
  {
   "cell_type": "markdown",
   "id": "86e3ecfd-b255-4a1c-b31d-d7eda96cb80c",
   "metadata": {},
   "source": [
    "##### Soru 9:\n",
    "##### Verilen kod parçacığının çıktısı aşağıdakilerden hangisidir?"
   ]
  },
  {
   "cell_type": "code",
   "execution_count": 134,
   "id": "612639dc-901c-462e-8364-9f5e4db65e6f",
   "metadata": {
    "tags": []
   },
   "outputs": [
    {
     "data": {
      "text/plain": [
       "[2, 4, 6]"
      ]
     },
     "execution_count": 134,
     "metadata": {},
     "output_type": "execute_result"
    }
   ],
   "source": [
    "a = [1,2,3]\n",
    "list(map(lambda x: x*2, a))"
   ]
  },
  {
   "cell_type": "markdown",
   "id": "71f0b66a-e328-48a3-b9f9-0ee84f9bdd19",
   "metadata": {},
   "source": [
    "##### Soru 10:\n",
    "##### Var olan sınıfların özelliklerini başka sınıflar için kullanmak için aşağıdakilerden hangisi kullanılır?"
   ]
  },
  {
   "cell_type": "markdown",
   "id": "036b3837-a1f3-45d5-bc89-49c0710eef19",
   "metadata": {},
   "source": [
    "###### - Miras yapıları"
   ]
  },
  {
   "cell_type": "markdown",
   "id": "4638e76a-2270-4fd4-a13b-07848c44951b",
   "metadata": {},
   "source": [
    "## Python Programlama Alıştırmalar - 11"
   ]
  },
  {
   "cell_type": "markdown",
   "id": "7eb266ea-8811-44e2-89db-b5943ca76f0e",
   "metadata": {},
   "source": [
    "##### Soru 1:\n",
    "##### Aşağıdakilerden hangisi bir modül import etmek için kullanılamaz."
   ]
  },
  {
   "cell_type": "code",
   "execution_count": null,
   "id": "687506a3-1bfe-4bfe-a723-1fcda743f443",
   "metadata": {},
   "outputs": [],
   "source": [
    "import modul_ismi\n",
    "import modul_ismi as mi\n",
    "import modul_ismi as modül"
   ]
  },
  {
   "cell_type": "markdown",
   "id": "bbb91fa9-cf7b-4909-a10f-35516eb9109b",
   "metadata": {
    "tags": []
   },
   "source": [
    "###### - from import modul ismi"
   ]
  },
  {
   "cell_type": "markdown",
   "id": "eab381cc-e64d-4e22-a9a8-98ce1aed484b",
   "metadata": {},
   "source": [
    "##### Soru 2:\n",
    "##### Verilen kod parçasının çıktısı aşağıdakilerden hangisidir?"
   ]
  },
  {
   "cell_type": "code",
   "execution_count": 135,
   "id": "68c6580e-d266-4266-a01d-5fcb8d47a621",
   "metadata": {
    "tags": []
   },
   "outputs": [
    {
     "data": {
      "text/plain": [
       "['ALI', 'VELI', 'ISIK']"
      ]
     },
     "execution_count": 135,
     "metadata": {},
     "output_type": "execute_result"
    }
   ],
   "source": [
    "list(map(lambda x: x.upper(), [\"Ali\",\"Veli\",\"isik\"]))"
   ]
  },
  {
   "cell_type": "markdown",
   "id": "7a649461-a881-4eef-9939-bb453b5a87ba",
   "metadata": {},
   "source": [
    "##### Soru 3:\n",
    "##### Verilen kod parçacığının çıktısı aşağıdakilerden hangisidir?"
   ]
  },
  {
   "cell_type": "code",
   "execution_count": 136,
   "id": "f811ea73-ac60-45a6-84b8-0f76d0eda3dd",
   "metadata": {
    "tags": []
   },
   "outputs": [
    {
     "data": {
      "text/plain": [
       "24"
      ]
     },
     "execution_count": 136,
     "metadata": {},
     "output_type": "execute_result"
    }
   ],
   "source": [
    "from functools import reduce\n",
    "a = [1,2,3,4]\n",
    "reduce(lambda a,b: a*b, a)"
   ]
  },
  {
   "cell_type": "markdown",
   "id": "56e21eb4-4a38-4001-b019-6b5877c35609",
   "metadata": {},
   "source": [
    "##### Soru 4:\n",
    "##### Verilen kod parçasının çıktısı aşağıdakilerden hangisidir?"
   ]
  },
  {
   "cell_type": "code",
   "execution_count": 137,
   "id": "09d1fe61-a77e-422d-b37e-c1d7255c4944",
   "metadata": {
    "tags": []
   },
   "outputs": [
    {
     "data": {
      "text/plain": [
       "[3, 9, 15]"
      ]
     },
     "execution_count": 137,
     "metadata": {},
     "output_type": "execute_result"
    }
   ],
   "source": [
    "A = [[1,2],[3,4],[5,6]]\n",
    "list(map(lambda x: x[0]*3, A))"
   ]
  },
  {
   "cell_type": "markdown",
   "id": "39384d24-0693-4d22-abf0-7fbc4c1b3a78",
   "metadata": {},
   "source": [
    "##### Soru 5:\n",
    "##### Aşağıda verilen for döngüsünde ele alınan matematiksel işlem map() fonksiyonu ile nasıl gerçekleştirilir?"
   ]
  },
  {
   "cell_type": "code",
   "execution_count": 138,
   "id": "d0eb0ed4-e223-4820-ac96-d1e555bffccf",
   "metadata": {
    "tags": []
   },
   "outputs": [
    {
     "name": "stdout",
     "output_type": "stream",
     "text": [
      "[1, 4, 9, 16]\n"
     ]
    }
   ],
   "source": [
    "liste = [1,2,3,4]\n",
    "A = []\n",
    " \n",
    "for i in liste:\n",
    "    A.append(i**2)\n",
    " \n",
    "print(A)"
   ]
  },
  {
   "cell_type": "code",
   "execution_count": 139,
   "id": "00777b47-599e-4a6f-bfd6-5177813e4d00",
   "metadata": {
    "tags": []
   },
   "outputs": [
    {
     "data": {
      "text/plain": [
       "[1, 4, 9, 16]"
      ]
     },
     "execution_count": 139,
     "metadata": {},
     "output_type": "execute_result"
    }
   ],
   "source": [
    "list(map(lambda x:x**2,liste))"
   ]
  },
  {
   "cell_type": "markdown",
   "id": "355b4985-20d1-48bf-9252-b47f49cb9fbc",
   "metadata": {},
   "source": [
    "##### Soru 6:\n",
    "##### Verilen kod parçasının çıktısı aşağıdakilerden hangisidir?"
   ]
  },
  {
   "cell_type": "code",
   "execution_count": 140,
   "id": "2e8f6b79-9e26-4587-a1bb-a38b1b613741",
   "metadata": {
    "tags": []
   },
   "outputs": [
    {
     "name": "stdout",
     "output_type": "stream",
     "text": [
      "[1.0, 2.0, 3.0, 4.0, 5.0]\n"
     ]
    }
   ],
   "source": [
    "A = [1,2,3,4,5]\n",
    " \n",
    "if type(A) == ():\n",
    "    print(\"islem gecersiz\")\n",
    "else:\n",
    "    print(list(map(lambda x: x/1, A)))"
   ]
  },
  {
   "cell_type": "markdown",
   "id": "aa78a6d9-b2cc-439f-8861-097686706ff8",
   "metadata": {},
   "source": [
    "##### Soru 7:\n",
    "##### Verilen kod parçasının çıktısı aşağıdakilerden hangisidir?"
   ]
  },
  {
   "cell_type": "code",
   "execution_count": 141,
   "id": "9319fafb-8b22-41ae-8a5c-9c2cda13c737",
   "metadata": {
    "tags": []
   },
   "outputs": [
    {
     "data": {
      "text/plain": [
       "1.0"
      ]
     },
     "execution_count": 141,
     "metadata": {},
     "output_type": "execute_result"
    }
   ],
   "source": [
    "from functools import reduce\n",
    "reduce(lambda a,b: a/b, [8,4,2])"
   ]
  },
  {
   "cell_type": "markdown",
   "id": "4ff17b1b-9dea-44b7-aa69-3ed3ce2a7988",
   "metadata": {},
   "source": [
    "##### Soru 8:\n",
    "##### Verilen kod parçasının çıktısı aşağıdakilerden hangisidir?"
   ]
  },
  {
   "cell_type": "code",
   "execution_count": 142,
   "id": "4571633c-bfe8-4ebb-9001-de334c219a45",
   "metadata": {
    "tags": []
   },
   "outputs": [
    {
     "name": "stdout",
     "output_type": "stream",
     "text": [
      "0.0\n"
     ]
    }
   ],
   "source": [
    "def yap(x,y,z):\n",
    "    try:\n",
    "        print(x/y*z)\n",
    "    except ZeroDivisionError:\n",
    "        print(\"gecersiz islem\")\n",
    " \n",
    "yap(1,2,0)"
   ]
  },
  {
   "cell_type": "markdown",
   "id": "3445b826-fe96-4bd0-b0b7-12c793786a7a",
   "metadata": {},
   "source": [
    "##### Soru 9:\n",
    "##### Verilen kod parçası ve çıktı için yazılması gereken kod aşağıdakilerden hangisidir?"
   ]
  },
  {
   "cell_type": "code",
   "execution_count": 143,
   "id": "b41db927-71ad-44d2-8b39-12658ed315f1",
   "metadata": {
    "tags": []
   },
   "outputs": [],
   "source": [
    "def islem(x,y,z):\n",
    "    if y == 0:\n",
    "        print(\"hatali islem\")\n",
    "    else:\n",
    "        return x/y*z\n",
    "# hatali islem"
   ]
  },
  {
   "cell_type": "code",
   "execution_count": 144,
   "id": "77f875e9-e08e-4d3a-a895-a5376252d275",
   "metadata": {
    "tags": []
   },
   "outputs": [
    {
     "name": "stdout",
     "output_type": "stream",
     "text": [
      "hatali islem\n"
     ]
    }
   ],
   "source": [
    "islem(1,0,2)"
   ]
  },
  {
   "cell_type": "markdown",
   "id": "976ae9fd-cb3f-4494-ad5b-14f7c8400bc7",
   "metadata": {},
   "source": [
    "##### Soru 10:\n",
    "##### Verilen kod parçasının çıktısı aşağıdakilerden hangisidir?"
   ]
  },
  {
   "cell_type": "code",
   "execution_count": 145,
   "id": "e35d826b-67b9-4be9-8a6d-0b66c15e26f8",
   "metadata": {
    "tags": []
   },
   "outputs": [
    {
     "data": {
      "text/plain": [
       "array([3, 3, 3])"
      ]
     },
     "execution_count": 145,
     "metadata": {},
     "output_type": "execute_result"
    }
   ],
   "source": [
    "import numpy as np\n",
    "a = np.array([1,1,1])\n",
    "b = np.array([2])\n",
    " \n",
    "a+b"
   ]
  },
  {
   "cell_type": "markdown",
   "id": "8526d5e8-5f90-4d25-a383-41c38d15621a",
   "metadata": {},
   "source": [
    "## Python Programlama Alıştırmalar - 12"
   ]
  },
  {
   "cell_type": "markdown",
   "id": "64ed0c34-4303-42fe-8239-568348c4b3b2",
   "metadata": {},
   "source": [
    "##### Soru 1:\n",
    "##### Verilen kodun çıktısı nedir?"
   ]
  },
  {
   "cell_type": "code",
   "execution_count": 146,
   "id": "c3b50a33-7f29-4b4e-917e-1b4a7edc739f",
   "metadata": {
    "tags": []
   },
   "outputs": [
    {
     "name": "stdout",
     "output_type": "stream",
     "text": [
      "['ala', 'vela', 'asak']\n"
     ]
    }
   ],
   "source": [
    "A = []\n",
    " \n",
    "for i in [\"ali\",\"veli\",\"isik\"]:\n",
    "    A.append(i.replace(\"i\",\"a\"))\n",
    " \n",
    "print(A)"
   ]
  },
  {
   "cell_type": "markdown",
   "id": "7bdc2bfe-b867-481a-a98b-0a5f7a068920",
   "metadata": {},
   "source": [
    "##### Soru 2:\n",
    "##### Verilen kod parçasının çıktısı aşağıdakilerden hangisidir?"
   ]
  },
  {
   "cell_type": "code",
   "execution_count": 147,
   "id": "771aca87-c323-44f7-9e8e-cee511657278",
   "metadata": {
    "tags": []
   },
   "outputs": [
    {
     "data": {
      "text/plain": [
       "[1]"
      ]
     },
     "execution_count": 147,
     "metadata": {},
     "output_type": "execute_result"
    }
   ],
   "source": [
    "list(filter(lambda x: x < 2, [1,2,3,4,5]))"
   ]
  },
  {
   "cell_type": "markdown",
   "id": "e1be457a-b8eb-4395-985c-01e0bc6d0b60",
   "metadata": {},
   "source": [
    "##### Soru 3:\n",
    "##### Verilen kod parçasının çıktısı aşağıdakilerden hangisidir?"
   ]
  },
  {
   "cell_type": "code",
   "execution_count": 148,
   "id": "430626c6-3631-482d-b970-6e4aaae7ee07",
   "metadata": {
    "tags": []
   },
   "outputs": [
    {
     "data": {
      "text/plain": [
       "[20, 10, 30]"
      ]
     },
     "execution_count": 148,
     "metadata": {},
     "output_type": "execute_result"
    }
   ],
   "source": [
    "liste = [\"a\",20,10,30,\"b\"]\n",
    "list(filter(lambda x: type(x) == int, liste))"
   ]
  },
  {
   "cell_type": "markdown",
   "id": "770d02b8-bf57-435c-a34c-bfe433e5612a",
   "metadata": {},
   "source": [
    "##### Soru 4:\n",
    "##### Verilen kod parçasının çıktısı aşağıdakilerden hangisidir?"
   ]
  },
  {
   "cell_type": "code",
   "execution_count": 149,
   "id": "a982dd88-a96e-4e87-a6e7-a37e91fcae84",
   "metadata": {
    "tags": []
   },
   "outputs": [
    {
     "data": {
      "text/plain": [
       "['pazartesi']"
      ]
     },
     "execution_count": 149,
     "metadata": {},
     "output_type": "execute_result"
    }
   ],
   "source": [
    "list(filter(lambda x: len(x) > 8, [\"pazartesi\",\"sali\",\"carsamba\",\"persembe\",\"cuma\"]))"
   ]
  },
  {
   "cell_type": "markdown",
   "id": "041105ad-2966-43a4-97e8-f8fc9d16b788",
   "metadata": {},
   "source": [
    "##### Soru 5:\n",
    "##### Verilen kod parçasının çıktısı aşağıdakilerden hangisidir?"
   ]
  },
  {
   "cell_type": "code",
   "execution_count": 150,
   "id": "e3148feb-f30b-42f2-8b19-db0c3c6f88cd",
   "metadata": {
    "tags": []
   },
   "outputs": [
    {
     "data": {
      "text/plain": [
       "['Abc', 'Bcd', 'Cde']"
      ]
     },
     "execution_count": 150,
     "metadata": {},
     "output_type": "execute_result"
    }
   ],
   "source": [
    "list(map(lambda x: x.capitalize(), [\"abc\",\"bcd\",\"cde\"]))"
   ]
  },
  {
   "cell_type": "markdown",
   "id": "85a250f4-61d4-464b-8365-092f1e7e5ea1",
   "metadata": {},
   "source": [
    "##### Soru 6:\n",
    "##### Verilen kod parçasının çıktısı aşağıdakilerden hangisidir?"
   ]
  },
  {
   "cell_type": "code",
   "execution_count": 151,
   "id": "4143f171-11e8-4b2f-b7cf-5325750cfbdd",
   "metadata": {
    "tags": []
   },
   "outputs": [
    {
     "data": {
      "text/plain": [
       "'a4a'"
      ]
     },
     "execution_count": 151,
     "metadata": {},
     "output_type": "execute_result"
    }
   ],
   "source": [
    "from functools import reduce\n",
    "reduce(lambda a,b: a+b, [\"a\",\"4\",\"a\"])"
   ]
  },
  {
   "cell_type": "markdown",
   "id": "5ef75673-eb45-48ef-b964-641af5cdb902",
   "metadata": {},
   "source": [
    "##### Soru 7:\n",
    "##### Verilen kod parçasının çıktısı aşağıdakilerden hangisidir?"
   ]
  },
  {
   "cell_type": "code",
   "execution_count": 152,
   "id": "14b4319d-8c8d-4ad4-8b82-6715d084b636",
   "metadata": {
    "tags": []
   },
   "outputs": [
    {
     "name": "stdout",
     "output_type": "stream",
     "text": [
      "[-2, -1, 0]\n"
     ]
    }
   ],
   "source": [
    "A = [\"ali\",\"veli\",\"isik\"]\n",
    "B = [1,2,3]\n",
    "AB = [A,B]\n",
    " \n",
    " \n",
    "for i in AB:\n",
    "    if type(i[0]) == int:\n",
    "        print(list(map(lambda x: x-3, i)))"
   ]
  },
  {
   "cell_type": "code",
   "execution_count": 153,
   "id": "5ab6ab85-a575-4c23-b3b4-564ef9e78434",
   "metadata": {
    "tags": []
   },
   "outputs": [
    {
     "data": {
      "text/plain": [
       "[['ali', 'veli', 'isik'], [1, 2, 3]]"
      ]
     },
     "execution_count": 153,
     "metadata": {},
     "output_type": "execute_result"
    }
   ],
   "source": [
    "AB"
   ]
  },
  {
   "cell_type": "markdown",
   "id": "73fdf8b8-8968-4f6a-b1f4-2167a3277842",
   "metadata": {},
   "source": [
    "##### Soru 8:\n",
    "##### Verilen kod parçasının çıktısı aşağıdakilerden hangisidir?"
   ]
  },
  {
   "cell_type": "code",
   "execution_count": 154,
   "id": "66f7ee76-19ea-4f18-869f-9df62b828b8f",
   "metadata": {
    "tags": []
   },
   "outputs": [
    {
     "data": {
      "text/plain": [
       "[3.0, 4.0, 5.0]"
      ]
     },
     "execution_count": 154,
     "metadata": {},
     "output_type": "execute_result"
    }
   ],
   "source": [
    "list(map(lambda x: x/10, filter(lambda x: x > 20, [10,20,30,40,50])))"
   ]
  },
  {
   "cell_type": "markdown",
   "id": "32624892-aeea-4a2f-9b6d-b031600635bd",
   "metadata": {},
   "source": [
    "##### Soru 9:\n",
    "##### Verilen kod parçasının çıktısı aşağıdakilerden hangisidir?"
   ]
  },
  {
   "cell_type": "code",
   "execution_count": 155,
   "id": "7d820bf6-3800-4ae3-8bb5-03a473f3c5dc",
   "metadata": {
    "tags": []
   },
   "outputs": [
    {
     "name": "stdout",
     "output_type": "stream",
     "text": [
      "['ali hi', 'veli hi', 'isik hi']\n"
     ]
    }
   ],
   "source": [
    "A = [\"ali\",\"veli\",\"isik\"]\n",
    "B = [1,2,3]\n",
    "AB = [A, B]\n",
    " \n",
    "for i in AB:\n",
    "    if type(i[0]) == str:\n",
    "        print(list(map(lambda x: x + \" hi\", i)))"
   ]
  },
  {
   "cell_type": "code",
   "execution_count": 156,
   "id": "e8e40210-3145-4a21-9c67-f2f34b26cbd5",
   "metadata": {
    "tags": []
   },
   "outputs": [
    {
     "data": {
      "text/plain": [
       "[['ali', 'veli', 'isik'], [1, 2, 3]]"
      ]
     },
     "execution_count": 156,
     "metadata": {},
     "output_type": "execute_result"
    }
   ],
   "source": [
    "AB"
   ]
  },
  {
   "cell_type": "code",
   "execution_count": 157,
   "id": "62bbee8e-6ebd-46c9-9b89-bfaa2fa41a7a",
   "metadata": {
    "tags": []
   },
   "outputs": [
    {
     "name": "stdout",
     "output_type": "stream",
     "text": [
      "['ali', 'veli', 'isik']\n",
      "[1, 2, 3]\n"
     ]
    }
   ],
   "source": [
    "for i in AB:\n",
    "    print(i)"
   ]
  },
  {
   "cell_type": "markdown",
   "id": "b1b59531-5a7f-46bc-9b65-3b43dafc4427",
   "metadata": {},
   "source": [
    "##### Soru 10:\n",
    "##### Verilen kod parçasının çıktısı aşağıdakilerden hangisidir?"
   ]
  },
  {
   "cell_type": "code",
   "execution_count": 158,
   "id": "bed84817-0401-4a70-a5c4-40215e35c845",
   "metadata": {
    "tags": []
   },
   "outputs": [
    {
     "data": {
      "text/plain": [
       "'VBO'"
      ]
     },
     "execution_count": 158,
     "metadata": {},
     "output_type": "execute_result"
    }
   ],
   "source": [
    "from functools import reduce\n",
    "A = [\"Veri\",\"Bilimi\",\"Okulu\"]\n",
    "reduce(lambda a,b: a+b, list(map(lambda x: x[0], A)))"
   ]
  },
  {
   "cell_type": "code",
   "execution_count": 162,
   "id": "8b584f19-7eec-4841-9509-38756f7b93a0",
   "metadata": {
    "tags": []
   },
   "outputs": [
    {
     "data": {
      "text/plain": [
       "['V', 'B', 'O']"
      ]
     },
     "execution_count": 162,
     "metadata": {},
     "output_type": "execute_result"
    }
   ],
   "source": [
    "list(map(lambda x: x[0], A))"
   ]
  },
  {
   "cell_type": "code",
   "execution_count": null,
   "id": "d55c5e99-178c-467d-a801-a6b8123f6120",
   "metadata": {},
   "outputs": [],
   "source": []
  }
 ],
 "metadata": {
  "kernelspec": {
   "display_name": "Python 3 (ipykernel)",
   "language": "python",
   "name": "python3"
  },
  "language_info": {
   "codemirror_mode": {
    "name": "ipython",
    "version": 3
   },
   "file_extension": ".py",
   "mimetype": "text/x-python",
   "name": "python",
   "nbconvert_exporter": "python",
   "pygments_lexer": "ipython3",
   "version": "3.8.16"
  }
 },
 "nbformat": 4,
 "nbformat_minor": 5
}
