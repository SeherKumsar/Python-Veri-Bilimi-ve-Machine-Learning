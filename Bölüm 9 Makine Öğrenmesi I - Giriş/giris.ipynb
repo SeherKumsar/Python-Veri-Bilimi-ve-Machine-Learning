{
 "cells": [
  {
   "cell_type": "markdown",
   "id": "3b8cd4d6-6d13-494c-a6ab-850aae872f8f",
   "metadata": {},
   "source": [
    "# İnsanoğluna İnsan Üstü Fayda!"
   ]
  },
  {
   "cell_type": "markdown",
   "id": "07d04a4d-2382-48b7-aeb9-bd4d39744351",
   "metadata": {},
   "source": [
    "## Makine Öğrenmesi Nedir ?\n",
    "\n",
    "Bilgisayarların insanlara benzer şekilde öğrenmesini sağlamak amacıyla çeşitli algoritma ve tekniklerin geliştirilmesi için çalışılan bilimsel çalışma alanıdır."
   ]
  },
  {
   "cell_type": "markdown",
   "id": "e2e4fb3c-b457-40fa-8b8e-2131454f5e70",
   "metadata": {},
   "source": [
    "### Gerçek Hayat Örnekleri\n",
    "\n",
    "* Fotoğraftan araç tanıma uygulaması\n",
    "* Kredi Başvurusu Değerlendirme\n",
    "* Linkedin , letgo ve gmail hazır cevap uygulamaları\n",
    "* Chatbotlar ve kişisel asistanlar (Siri ve diğerleri)\n",
    "* Facebook\n",
    "* Netflix, Amazon ve E Ticarette tavsiye sistemleri\n",
    "* Spam Engelleme\n",
    "* Cümle tamamlama ve smile tamamlama"
   ]
  },
  {
   "cell_type": "markdown",
   "id": "16ba3155-98b8-46f9-b430-cf0018556345",
   "metadata": {},
   "source": [
    "## Terminoloji\n",
    "Makine öğrenmesinde sık kullanılan kavramlara kısa bir bakış."
   ]
  },
  {
   "cell_type": "markdown",
   "id": "65b7e579-153b-4d8d-9866-00d214f5f837",
   "metadata": {},
   "source": [
    "#### **1-Bağımlı Değişken & Bağımsız Değişken**\n",
    "Bağımlı değişken, deneylerde değişkenlerden birinin değişmesine bağlı olarak değişen sonuçlardır. Bağımsız değişkenler de bir şeye bağlı olmadan değişen ve daha çok neden oluşturan değişkenlerdir."
   ]
  },
  {
   "cell_type": "markdown",
   "id": "923fb2a2-7f16-454c-aaeb-289a56484569",
   "metadata": {},
   "source": [
    "#### **2-Öğrenme Türleri**\n",
    "* Gözetimli Öğrenme (Supervised Learning)\n",
    "Verilen girdi kümesinden istenen çıktı kümesinin elde edilmesi için bir fonksiyon öğrenilmesidir.\n",
    "\n",
    "* Gözetimsiz Öğrenme (Unsupervised Learning)\n",
    "Gözetimsiz öğrenme, gözetimli öğrenmeden farklı olarak, verileri sebep-sonuç ya da giriş-çıkış şeklinde etiketlemeden, veri içerisinde var olan ilişkilerin ve yapıların öğrenilmesidir.\n",
    "\n",
    "* Yarı Gözetimli Öğrenme (Semi supervised learning)\n",
    "Eğitim sırasında az miktarda etiketlenmiş verileri büyük miktarda etiketlenmemiş verilerle birleştiren makine öğrenimine bir yaklaşımdır."
   ]
  },
  {
   "cell_type": "markdown",
   "id": "441f15d4-439d-4509-a11b-ba0b4b8fd364",
   "metadata": {},
   "source": [
    "#### **3-Problem Türü**\n",
    "* Regresyon\n",
    "\n",
    "**Regresyon** , iki (ya da daha çok) değişken arasındaki doğrusal ilişkinin fonksiyonel şeklini, biri bağımlı diğeri bağımsız değişken olarak bir doğru denklemi olarak gösterilmesine denir.\n",
    "\n",
    "* Sınıflandırma\n",
    "\n",
    "**Sınıflandırma** kavramı, basitçe bir veri kümesi (data set) üzerinde tanımlı olan çeşitli sınıflar arasında veriyi dağıtmaktır."
   ]
  },
  {
   "cell_type": "markdown",
   "id": "c213feaa-5be8-4495-906a-fbaf72fade51",
   "metadata": {},
   "source": [
    "#### **4-Feature Engineering (Değişken Mühendisliği)**\n",
    "Kişinin kendisinin veya otomatikleştirdiği sistemin içerisinden yeni değişkenler oluşturma basamağıdır."
   ]
  },
  {
   "cell_type": "markdown",
   "id": "6aa241f8-20f3-4038-937d-23f999812463",
   "metadata": {},
   "source": [
    "#### **5-Variable Selection (Değişken Seçimi)**\n",
    "Değişkenlerin Bağımlı değişken üzerindeki etkisi ve model üzerindeki etkisi göz önüne alınarak düşük performanslı değişkenlerin model dışında bırakılma işlemine Değişken Seçimi denir."
   ]
  },
  {
   "cell_type": "markdown",
   "id": "cf7e9a72-c990-49fb-82ef-dcfb7622628b",
   "metadata": {},
   "source": [
    "#### **6-Model Seçimi**\n",
    "Model Seçimini iki durumda ele alalım.\n",
    "\n",
    "* Oluşabilecek değişken kombinasyonları ile oluşturulan modeller arasında en iyi modellerin seçilmesi.\n",
    "* Kurulan birbirinden farklı modeller arasından model seçimi."
   ]
  },
  {
   "cell_type": "markdown",
   "id": "425e6d38-f22b-4df1-9bab-4c31146ae2cf",
   "metadata": {},
   "source": [
    "#### **7-Model Neye Göre Seçilir ?**\n",
    "Regresyon için açıklanabilirlik oranı ve RMSE benzeri bir değer.\n",
    "Sınıflandırma için doğru sınıflandırma oranı benzeri bir değer."
   ]
  },
  {
   "cell_type": "markdown",
   "id": "bb88ac28-c3c7-489b-b194-e237c9d54ece",
   "metadata": {},
   "source": [
    "#### **8-Overfitting(Aşırı Öğrenme)**\n",
    "Eğitilen modelin bir veri kümesini ezberleyecek derecede iyi öğrenmesi sonucunda bu veri kümesinde yer almayan yeni verilere uyum sağlayamamasına OverFitting denir."
   ]
  },
  {
   "cell_type": "markdown",
   "id": "f6a76f0b-8003-41b0-b98f-b8721f07acbc",
   "metadata": {},
   "source": [
    "#### **9- Kıyaslamalar**\n",
    "* Deterministik vs Stokastik\n",
    "* Doğrusal modeller vs Doğrusal olmayan modeller"
   ]
  },
  {
   "cell_type": "markdown",
   "id": "6cb2ae98-9970-4f8b-8cc6-3b5988ad87e1",
   "metadata": {},
   "source": [
    "#### **10-Model Doğrulama Yöntemleri**\n",
    "Modellerin ürettiği sonuçların doğru değerlendirilmesi çalışmasıdır.\n",
    "\n",
    "* **Holdout Yöntemi**\n",
    "\n",
    "Veri setini 2 parçaya ayırıp bir kısmıyla eğitip diğer kısmıyla modelin başarısını test etmek için kullanılan bir yapıdır.\n",
    "\n",
    "* **K-Katlı Çapraz Doğrulama (K-fold Cross Validation)**\n",
    "\n",
    "K-Folds Cross Validation’da verilerimizi k farklı alt kümeye ayırırız. Verilerimizi eğitmek ve son alt kümeyi test verisi olarak bırakmak için k-1 adet alt kümeyi kullanırız. k adet deney sonucunda ortaya çıkan ortalama hata değeri modelimizin geçerliliğini belirtir.\n",
    "\n",
    "* **Leave One Out**\n",
    "\n",
    "Eğer veriseti, verisetinin boyutu kadar parçaya ayrılıp test edilirse bu yönteminin adı ise Leave One Out olur.\n",
    "\n",
    "* **Bootstrap**\n",
    "\n",
    "Orjinal veri seti içinden yerine koymalı örnek çekilir.Bunlar üzerinde elde edilen örneklerin her birinin hataları alınarak modelin test hatası belirlenir."
   ]
  },
  {
   "cell_type": "markdown",
   "id": "cc74aaa4-f7e1-4628-9426-7bc356d65f7e",
   "metadata": {},
   "source": [
    "#### **11- Model Başarı Değerlendirme**\n",
    "* *Regresyon*\n",
    "\n",
    "Mean Square Error (Hata Kareler Ortalaması) bir modelin ortalama kare hatalarının karelerinin ortalamasını, yani tahmini değerler ile gerçek değer arasındaki ortalama kare farkını ölçer.\n",
    "\n",
    "* *Sınıflandırma*\n",
    "\n",
    "**Karışıklık matrisi** : Karışıklık matrisi, bir modelin performansını değerlendirirken daha eksiksiz bir sonuca sahip olmak için kullanılır. Aşağıdaki şekilde tanımlanmıştır:\n",
    "\n",
    "\n",
    "\n",
    "**Ana metrikler** : Sınıflandırma modellerinin performansını değerlendirmek için aşağıda verilen metrikler yaygın olarak kullanılmaktadır.\n",
    "\n",
    "* **İşlem Karakteristik Eğrisi (ROC)**\n",
    "İşlem Karakteristik Eğrisi (receiver operating curve), eşik değeri değiştirilerek Doğru Pozitif Oranı-Yanlış Pozitif Oranı grafiğidir. Bu metrikler aşağıdaki tabloda özetlenmiştir.\n",
    "\n",
    "* **Eğri Altında Kalan Alan (AUC)**\n",
    "Aynı zamanda AUC veya AUROC olarak belirtilen işlem karakteristik eğrisi altındaki alan, aşağıdaki şekilde gösterildiği gibi İşlem Karakteristik Eğrisi (ROC)’nin altındaki alandır.\n",
    "\n"
   ]
  },
  {
   "cell_type": "code",
   "execution_count": null,
   "id": "d25f2df7-d76a-4a47-a200-1ca514c8afe1",
   "metadata": {},
   "outputs": [],
   "source": []
  }
 ],
 "metadata": {
  "kernelspec": {
   "display_name": "Python 3 (ipykernel)",
   "language": "python",
   "name": "python3"
  },
  "language_info": {
   "codemirror_mode": {
    "name": "ipython",
    "version": 3
   },
   "file_extension": ".py",
   "mimetype": "text/x-python",
   "name": "python",
   "nbconvert_exporter": "python",
   "pygments_lexer": "ipython3",
   "version": "3.7.16"
  }
 },
 "nbformat": 4,
 "nbformat_minor": 5
}
