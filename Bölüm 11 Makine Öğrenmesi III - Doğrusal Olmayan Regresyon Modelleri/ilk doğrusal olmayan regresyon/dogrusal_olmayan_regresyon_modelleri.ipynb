{
 "cells": [
  {
   "cell_type": "markdown",
   "metadata": {},
   "source": [
    "# Bölüm 11: Makine Öğrenmesi III - Doğrusal Olmayan Regresyon Modelleri"
   ]
  },
  {
   "cell_type": "markdown",
   "metadata": {},
   "source": [
    "Sınıflandırma ve regresyon klasik makine öğrenme algoritmalarının gözetimli öğrenme basamağında yer almaktadır. Sınıflandırma ve regresyon modelleri ortak amaçlar için kullanılmakla beraber her iki modelde de elde edilen fonksiyonlarda açıklanan değişkenin nitel veya nicel olması yöntemler arası farka sebep olmaktadır. Bir sınıflandırma modeli bir hastalık türü için başvurulan ilaçların yan etkilerini gruplandırmak amacıyla oluşturulurken; bir regresyon modeli, bina yaşı, bulunduğu kent bilgisi ve oda sayısı gibi bilgiler ile evlerin kira fiyatını tahmin etmek için oluşturulabilir. "
   ]
  },
  {
   "cell_type": "markdown",
   "metadata": {},
   "source": [
    "Ek olarak, bu iki modelin bir arada kullanıldığı analizlerde yapılmaktadır. Çok terimli lojistik regresyon analizinde nitel değerler tahmin edilerek, bu iki model birbirine yaklaşmakta ve beraber kullanılabilmektedir."
   ]
  },
  {
   "cell_type": "markdown",
   "metadata": {},
   "source": [
    "# Python ile Makine Öğrenmesi: Polinomal Regression"
   ]
  },
  {
   "cell_type": "code",
   "execution_count": 1,
   "metadata": {},
   "outputs": [],
   "source": [
    "#1.kutuphaneler\n",
    "import numpy as np\n",
    "import matplotlib.pyplot as plt\n",
    "import pandas as pd"
   ]
  },
  {
   "cell_type": "code",
   "execution_count": 2,
   "metadata": {},
   "outputs": [],
   "source": [
    "# veri yukleme\n",
    "veriler = pd.read_csv('maaslar.csv')\n",
    "\n",
    "x = veriler.iloc[:,1:2]\n",
    "y = veriler.iloc[:,2:]\n",
    "X = x.values\n",
    "Y = y.values"
   ]
  },
  {
   "cell_type": "code",
   "execution_count": 3,
   "metadata": {},
   "outputs": [
    {
     "data": {
      "image/png": "[encoded data removed]",
      "text/plain": [
       "<Figure size 432x288 with 1 Axes>"
      ]
     },
     "metadata": {
      "needs_background": "light"
     },
     "output_type": "display_data"
    }
   ],
   "source": [
    "#linear regression\n",
    "from sklearn.linear_model import LinearRegression\n",
    "lin_reg = LinearRegression()\n",
    "lin_reg.fit(X,Y)\n",
    "\n",
    "plt.scatter(X,Y,color='red')\n",
    "plt.plot(x,lin_reg.predict(X), color = 'blue')\n",
    "plt.show()"
   ]
  },
  {
   "cell_type": "code",
   "execution_count": 4,
   "metadata": {},
   "outputs": [
    {
     "name": "stdout",
     "output_type": "stream",
     "text": [
      "[[  1.   1.   1.]\n",
      " [  1.   2.   4.]\n",
      " [  1.   3.   9.]\n",
      " [  1.   4.  16.]\n",
      " [  1.   5.  25.]\n",
      " [  1.   6.  36.]\n",
      " [  1.   7.  49.]\n",
      " [  1.   8.  64.]\n",
      " [  1.   9.  81.]\n",
      " [  1.  10. 100.]]\n"
     ]
    },
    {
     "data": {
      "image/png": "[encoded data removed]",
      "text/plain": [
       "<Figure size 432x288 with 1 Axes>"
      ]
     },
     "metadata": {
      "needs_background": "light"
     },
     "output_type": "display_data"
    }
   ],
   "source": [
    "#polynomial regression\n",
    "from sklearn.preprocessing import PolynomialFeatures\n",
    "poly_reg = PolynomialFeatures(degree = 2)\n",
    "x_poly = poly_reg.fit_transform(X)\n",
    "print(x_poly)\n",
    "lin_reg2 = LinearRegression()\n",
    "lin_reg2.fit(x_poly,y)\n",
    "plt.scatter(X,Y,color = 'red')\n",
    "plt.plot(X,lin_reg2.predict(poly_reg.fit_transform(X)), color = 'blue')\n",
    "plt.show()"
   ]
  },
  {
   "cell_type": "code",
   "execution_count": 5,
   "metadata": {},
   "outputs": [
    {
     "name": "stdout",
     "output_type": "stream",
     "text": [
      "[[1.000e+00 1.000e+00 1.000e+00 1.000e+00 1.000e+00]\n",
      " [1.000e+00 2.000e+00 4.000e+00 8.000e+00 1.600e+01]\n",
      " [1.000e+00 3.000e+00 9.000e+00 2.700e+01 8.100e+01]\n",
      " [1.000e+00 4.000e+00 1.600e+01 6.400e+01 2.560e+02]\n",
      " [1.000e+00 5.000e+00 2.500e+01 1.250e+02 6.250e+02]\n",
      " [1.000e+00 6.000e+00 3.600e+01 2.160e+02 1.296e+03]\n",
      " [1.000e+00 7.000e+00 4.900e+01 3.430e+02 2.401e+03]\n",
      " [1.000e+00 8.000e+00 6.400e+01 5.120e+02 4.096e+03]\n",
      " [1.000e+00 9.000e+00 8.100e+01 7.290e+02 6.561e+03]\n",
      " [1.000e+00 1.000e+01 1.000e+02 1.000e+03 1.000e+04]]\n"
     ]
    },
    {
     "data": {
      "image/png": "[encoded data removed]",
      "text/plain": [
       "<Figure size 432x288 with 1 Axes>"
      ]
     },
     "metadata": {
      "needs_background": "light"
     },
     "output_type": "display_data"
    }
   ],
   "source": [
    "from sklearn.preprocessing import PolynomialFeatures\n",
    "poly_reg3 = PolynomialFeatures(degree = 4)\n",
    "x_poly3 = poly_reg3.fit_transform(X)\n",
    "print(x_poly3)\n",
    "lin_reg3 = LinearRegression()\n",
    "lin_reg3.fit(x_poly3,y)\n",
    "plt.scatter(X,Y,color = 'red')\n",
    "plt.plot(X,lin_reg3.predict(poly_reg3.fit_transform(X)), color = 'blue')\n",
    "plt.show()"
   ]
  },
  {
   "cell_type": "code",
   "execution_count": 6,
   "metadata": {},
   "outputs": [],
   "source": [
    "#tahminler"
   ]
  },
  {
   "cell_type": "code",
   "execution_count": 7,
   "metadata": {},
   "outputs": [
    {
     "name": "stdout",
     "output_type": "stream",
     "text": [
      "[[34716.66666667]]\n",
      "[[16923.33333333]]\n"
     ]
    }
   ],
   "source": [
    "print(lin_reg.predict([[11]]))\n",
    "print(lin_reg.predict([[6.6]]))"
   ]
  },
  {
   "cell_type": "code",
   "execution_count": 8,
   "metadata": {},
   "outputs": [
    {
     "name": "stdout",
     "output_type": "stream",
     "text": [
      "[[56091.66666667]]\n",
      "[[10083.33333333]]\n"
     ]
    }
   ],
   "source": [
    "print(lin_reg2.predict(poly_reg.fit_transform([[11]])))\n",
    "print(lin_reg2.predict(poly_reg.fit_transform([[6.6]])))"
   ]
  },
  {
   "cell_type": "code",
   "execution_count": 9,
   "metadata": {},
   "outputs": [
    {
     "name": "stdout",
     "output_type": "stream",
     "text": [
      "[[8146.9948718]]\n",
      "[[89041.66666669]]\n"
     ]
    }
   ],
   "source": [
    "print(lin_reg3.predict(poly_reg3.fit_transform([[6.6]])))\n",
    "print(lin_reg3.predict(poly_reg3.fit_transform([[11]])))"
   ]
  },
  {
   "cell_type": "markdown",
   "metadata": {},
   "source": [
    "# Doğrusal Olmayan Regreson Modelleri"
   ]
  },
  {
   "cell_type": "code",
   "execution_count": 10,
   "metadata": {},
   "outputs": [],
   "source": [
    "import numpy as np\n",
    "import pandas as pd \n",
    "from sklearn.model_selection import train_test_split, GridSearchCV,cross_val_score\n",
    "from sklearn.metrics import mean_squared_error, r2_score\n",
    "import matplotlib.pyplot as plt\n",
    "from sklearn.preprocessing import scale \n",
    "from sklearn import model_selection\n",
    "from sklearn.tree import DecisionTreeRegressor, DecisionTreeClassifier\n",
    "from sklearn.neighbors import KNeighborsRegressor\n",
    "from sklearn.ensemble import BaggingRegressor\n",
    "\n",
    "from warnings import filterwarnings\n",
    "filterwarnings('ignore')"
   ]
  },
  {
   "cell_type": "markdown",
   "metadata": {},
   "source": [
    "# KNN"
   ]
  },
  {
   "cell_type": "markdown",
   "metadata": {},
   "source": [
    "*Tahminler gözlem benzerliğine göre yapılır.*\n",
    "*Bana arkadaşını söyle sana kim olduğunu söyleyeyim.*"
   ]
  },
  {
   "cell_type": "markdown",
   "metadata": {},
   "source": [
    "Genel amaç gözlem değerleri dışından gelen gözlemin her bir gözlem değerine olan uzaklığı (öklid) vb. yöntemlerle hesaplanır ve sonuçların ortalaması alınır. Çıkan ortalama belirlenen en yakın komşu değerlerinin ortalaması alınarak tahmin değeri olarak atanır."
   ]
  },
  {
   "cell_type": "markdown",
   "metadata": {},
   "source": [
    "KNN Basamakları:\n",
    "\n",
    "* K katsayısını belirle\n",
    "* Bilinmeyen nokta ile diğer tüm noktalar ile arasındaki uzaklıkları hesapla\n",
    "* Uzaklıkları sırala ve atanan k değerine göre en yakın k gözlemi seç\n",
    "* Sınıflandırma ise en çok tekrar edeni, regresyon ise ortalamaları tahmin değeri olarak atanır."
   ]
  },
  {
   "cell_type": "markdown",
   "metadata": {},
   "source": [
    "## Model Kurulması"
   ]
  },
  {
   "cell_type": "code",
   "execution_count": 11,
   "metadata": {},
   "outputs": [],
   "source": [
    "hit = pd.read_csv(\"Hitters.csv\")\n",
    "df = hit.copy()\n",
    "df = df.dropna()\n",
    "dms = pd.get_dummies(df[['League', 'Division', 'NewLeague']])\n",
    "y = df[\"Salary\"]\n",
    "X_ = df.drop(['Salary', 'League', 'Division', 'NewLeague'], axis=1).astype('float64')\n",
    "X = pd.concat([X_, dms[['League_N', 'Division_W', 'NewLeague_N']]], axis=1)\n",
    "X_train, X_test, y_train, y_test = train_test_split(X, y, \n",
    "                                                    test_size=0.25, \n",
    "                                                    random_state=42)"
   ]
  },
  {
   "cell_type": "code",
   "execution_count": 12,
   "metadata": {},
   "outputs": [],
   "source": [
    "knn_model = KNeighborsRegressor().fit(X_train, y_train)"
   ]
  },
  {
   "cell_type": "code",
   "execution_count": 13,
   "metadata": {},
   "outputs": [
    {
     "data": {
      "text/plain": [
       "KNeighborsRegressor()"
      ]
     },
     "execution_count": 13,
     "metadata": {},
     "output_type": "execute_result"
    }
   ],
   "source": [
    "knn_model # model nesnesi"
   ]
  },
  {
   "cell_type": "code",
   "execution_count": 14,
   "metadata": {},
   "outputs": [
    {
     "data": {
      "text/plain": [
       "5"
      ]
     },
     "execution_count": 14,
     "metadata": {},
     "output_type": "execute_result"
    }
   ],
   "source": [
    "knn_model.n_neighbors # komşuluk kat sayısı"
   ]
  },
  {
   "cell_type": "code",
   "execution_count": 15,
   "metadata": {},
   "outputs": [
    {
     "data": {
      "text/plain": [
       "'euclidean'"
      ]
     },
     "execution_count": 15,
     "metadata": {},
     "output_type": "execute_result"
    }
   ],
   "source": [
    "knn_model.effective_metric_"
   ]
  },
  {
   "cell_type": "markdown",
   "metadata": {},
   "source": [
    "## Tahmin"
   ]
  },
  {
   "cell_type": "code",
   "execution_count": 16,
   "metadata": {},
   "outputs": [],
   "source": [
    "y_pred = knn_model.predict(X_test)"
   ]
  },
  {
   "cell_type": "code",
   "execution_count": 17,
   "metadata": {},
   "outputs": [
    {
     "data": {
      "text/plain": [
       "426.6570764525201"
      ]
     },
     "execution_count": 17,
     "metadata": {},
     "output_type": "execute_result"
    }
   ],
   "source": [
    "np.sqrt(mean_squared_error(y_test, y_pred)) # Test hatası"
   ]
  },
  {
   "cell_type": "code",
   "execution_count": 18,
   "metadata": {},
   "outputs": [
    {
     "name": "stdout",
     "output_type": "stream",
     "text": [
      "k = 1 için RMSE değeri:  0.0\n",
      "k = 2 için RMSE değeri:  179.52761335480352\n",
      "k = 3 için RMSE değeri:  205.20157172291863\n",
      "k = 4 için RMSE değeri:  220.5139794876305\n",
      "k = 5 için RMSE değeri:  239.64671325413764\n",
      "k = 6 için RMSE değeri:  243.5904190007242\n",
      "k = 7 için RMSE değeri:  258.1478781634636\n",
      "k = 8 için RMSE değeri:  266.05374203349805\n",
      "k = 9 için RMSE değeri:  269.73782093553376\n",
      "k = 10 için RMSE değeri:  271.2798300436963\n"
     ]
    }
   ],
   "source": [
    "RMSE = [] \n",
    "\n",
    "for k in range(10):\n",
    "    k = k+1\n",
    "    knn_model = KNeighborsRegressor(n_neighbors = k).fit(X_train, y_train)\n",
    "    y_pred = knn_model.predict(X_train) \n",
    "    rmse = np.sqrt(mean_squared_error(y_train,y_pred)) \n",
    "    RMSE.append(rmse) \n",
    "    print(\"k =\" , k , \"için RMSE değeri: \", rmse)"
   ]
  },
  {
   "cell_type": "markdown",
   "metadata": {},
   "source": [
    "## Model Tuning"
   ]
  },
  {
   "cell_type": "markdown",
   "metadata": {},
   "source": [
    "GridSearchCV bütün makine öğrenmesi modellerinde ızgara ile olası tüm kombinasyonları deneyerek hiperparametre tespitinde cross validation kullanılarak hesaplanır."
   ]
  },
  {
   "cell_type": "code",
   "execution_count": 19,
   "metadata": {},
   "outputs": [],
   "source": [
    "from sklearn.model_selection import GridSearchCV"
   ]
  },
  {
   "cell_type": "code",
   "execution_count": 20,
   "metadata": {},
   "outputs": [
    {
     "data": {
      "text/plain": [
       "array([ 1,  2,  3,  4,  5,  6,  7,  8,  9, 10, 11, 12, 13, 14, 15, 16, 17,\n",
       "       18, 19, 20, 21, 22, 23, 24, 25, 26, 27, 28, 29])"
      ]
     },
     "execution_count": 20,
     "metadata": {},
     "output_type": "execute_result"
    }
   ],
   "source": [
    "np.arange(1,30,1) # 1 den 30 akadar komşuluk değerleri"
   ]
  },
  {
   "cell_type": "code",
   "execution_count": 21,
   "metadata": {},
   "outputs": [],
   "source": [
    "knn_params = {'n_neighbors': np.arange(1,30,1)}\n",
    "# dict kullanarak GridSearch içinde aranacak parametre yazdık"
   ]
  },
  {
   "cell_type": "code",
   "execution_count": 22,
   "metadata": {},
   "outputs": [],
   "source": [
    "knn = KNeighborsRegressor()"
   ]
  },
  {
   "cell_type": "code",
   "execution_count": 23,
   "metadata": {},
   "outputs": [],
   "source": [
    "knn_cv_model = GridSearchCV(knn, knn_params, cv = 10)\n",
    "# cross-validation uyguladık"
   ]
  },
  {
   "cell_type": "code",
   "execution_count": 24,
   "metadata": {},
   "outputs": [
    {
     "data": {
      "text/plain": [
       "GridSearchCV(cv=10, estimator=KNeighborsRegressor(),\n",
       "             param_grid={'n_neighbors': array([ 1,  2,  3,  4,  5,  6,  7,  8,  9, 10, 11, 12, 13, 14, 15, 16, 17,\n",
       "       18, 19, 20, 21, 22, 23, 24, 25, 26, 27, 28, 29])})"
      ]
     },
     "execution_count": 24,
     "metadata": {},
     "output_type": "execute_result"
    }
   ],
   "source": [
    "knn_cv_model.fit(X_train, y_train) # model fit etme"
   ]
  },
  {
   "cell_type": "markdown",
   "metadata": {},
   "source": [
    "Hata gelirse,\n",
    "\n",
    "- from warnings import filterwarnings\n",
    "- filterwarnings('ignore')"
   ]
  },
  {
   "cell_type": "code",
   "execution_count": 25,
   "metadata": {},
   "outputs": [
    {
     "data": {
      "text/plain": [
       "8"
      ]
     },
     "execution_count": 25,
     "metadata": {},
     "output_type": "execute_result"
    }
   ],
   "source": [
    "knn_cv_model.best_params_[\"n_neighbors\"]\n",
    "# en uygun parametre"
   ]
  },
  {
   "cell_type": "code",
   "execution_count": 26,
   "metadata": {},
   "outputs": [
    {
     "name": "stdout",
     "output_type": "stream",
     "text": [
      "k = 1 için RMSE değeri:  0.0 RMSE_CV değeri:  325.39475147063825\n",
      "k = 2 için RMSE değeri:  179.52761335480352 RMSE_CV değeri:  293.24000183333817\n",
      "k = 3 için RMSE değeri:  205.20157172291863 RMSE_CV değeri:  283.7486667487823\n",
      "k = 4 için RMSE değeri:  220.5139794876305 RMSE_CV değeri:  286.3240222024089\n",
      "k = 5 için RMSE değeri:  239.64671325413764 RMSE_CV değeri:  290.0705466132226\n",
      "k = 6 için RMSE değeri:  243.5904190007242 RMSE_CV değeri:  298.1263115575851\n",
      "k = 7 için RMSE değeri:  258.1478781634636 RMSE_CV değeri:  294.77070479194987\n",
      "k = 8 için RMSE değeri:  266.05374203349805 RMSE_CV değeri:  291.98672028891235\n",
      "k = 9 için RMSE değeri:  269.73782093553376 RMSE_CV değeri:  295.7162739573105\n",
      "k = 10 için RMSE değeri:  271.2798300436963 RMSE_CV değeri:  301.31047022701154\n"
     ]
    }
   ],
   "source": [
    "# Hata değer karelerin ortalaması - Root mean square deviation\n",
    "RMSE = [] # valide edilmemiş (test ve train üzerinden direkt train hatası hesaplama)\n",
    "RMSE_CV = [] # # valide edilmiş (valide edilmiş model üzerinden elde edilen train hatası)\n",
    "for k in range(10):\n",
    "    k = k+1\n",
    "    knn_model = KNeighborsRegressor(n_neighbors = k).fit(X_train, y_train)\n",
    "    y_pred = knn_model.predict(X_train) \n",
    "    rmse = np.sqrt(mean_squared_error(y_train,y_pred)) \n",
    "    rmse_cv = np.sqrt(-1*cross_val_score(knn_model, X_train, y_train, cv=10, \n",
    "                                         scoring = \"neg_mean_squared_error\").mean())\n",
    "    RMSE.append(rmse) \n",
    "    RMSE_CV.append(rmse_cv)\n",
    "    print(\"k =\" , k , \"için RMSE değeri: \", rmse, \"RMSE_CV değeri: \", rmse_cv )\n"
   ]
  },
  {
   "cell_type": "markdown",
   "metadata": {},
   "source": [
    "RMSE_CV 283 ile 301 arasında değişmiş, küçük olanı aramayız. RMSE en küçük 179 fakat RMSE için oluşan sonuçlar %80 lik train seti için geçerlidir. GridSearchCV yöntemiyle cross validation yöntemiyle elde ettiğimiz parametre sayısı ise k=8 dir(291.986).\n",
    "Doğrulanmış model üzerinden değerlendir."
   ]
  },
  {
   "cell_type": "markdown",
   "metadata": {},
   "source": [
    "Cross-validationdan önceki hata kareleri ortalamamız daha küçük gözüküyor olsa da dikkat etmemiz gereken sonuç bu değildir. Cross-validation ile elde ettiğimiz değerler arasındaki açıklık daha küçüktür bu yüzden bu sonuçlar daha iyi sonuçlar verir."
   ]
  },
  {
   "cell_type": "markdown",
   "metadata": {},
   "source": [
    "Cross-validation yöntemi ile tespit ettiğimiz k değerini knn_cv_model.best_params_[“n_neighbors”] ile knn_tuned modelimize belirleyerek gönderiyoruz."
   ]
  },
  {
   "cell_type": "code",
   "execution_count": 27,
   "metadata": {},
   "outputs": [],
   "source": [
    "knn_tuned = KNeighborsRegressor(n_neighbors = knn_cv_model.best_params_[\"n_neighbors\"])"
   ]
  },
  {
   "cell_type": "code",
   "execution_count": 28,
   "metadata": {},
   "outputs": [
    {
     "data": {
      "text/plain": [
       "KNeighborsRegressor(n_neighbors=8)"
      ]
     },
     "execution_count": 28,
     "metadata": {},
     "output_type": "execute_result"
    }
   ],
   "source": [
    "knn_tuned.fit(X_train, y_train)"
   ]
  },
  {
   "cell_type": "code",
   "execution_count": 29,
   "metadata": {},
   "outputs": [
    {
     "data": {
      "text/plain": [
       "413.7094731463598"
      ]
     },
     "execution_count": 29,
     "metadata": {},
     "output_type": "execute_result"
    }
   ],
   "source": [
    "# Knn ile tune edilmiş modelin test hatasını hesapla\n",
    "np.sqrt(mean_squared_error(y_test, knn_tuned.predict(X_test)))"
   ]
  },
  {
   "cell_type": "markdown",
   "metadata": {},
   "source": [
    "# SVR (Destek Vektör Regresyonu)"
   ]
  },
  {
   "cell_type": "markdown",
   "metadata": {},
   "source": [
    "Destek vektör algoritması ilk başta sınıflandırma için çıkmış bir algoritma olmasına rağmen zamanla regresyon içinde kullanılmaktadır. Destek vektör regresyonu uyguladığımızda, çizeceğimiz aralığın maksimum noktayı içerisine almasını sağlamaktır. Bu çizilen maksimum aralıkların kestiği noktalara destek noktaları adı verilmektedir."
   ]
  },
  {
   "cell_type": "markdown",
   "metadata": {},
   "source": [
    "**Amaç, bir marjin aralığına maksimum noktayı en küçük hata ile alabilecek şekilde doğru ya da eğriyi belirlemektir.**"
   ]
  },
  {
   "cell_type": "code",
   "execution_count": 30,
   "metadata": {},
   "outputs": [
    {
     "data": {
      "text/plain": [
       "<matplotlib.image.AxesImage at 0x12d203a2b70>"
      ]
     },
     "execution_count": 30,
     "metadata": {},
     "output_type": "execute_result"
    },
    {
     "data": {
      "image/png": "[encoded data removed]",
      "text/plain": [
       "<Figure size 432x288 with 1 Axes>"
      ]
     },
     "metadata": {
      "needs_background": "light"
     },
     "output_type": "display_data"
    }
   ],
   "source": [
    "import matplotlib.pyplot as plt\n",
    "import matplotlib.image as mpimg\n",
    "plt.imshow(mpimg.imread(\"SVR.png\"))"
   ]
  },
  {
   "cell_type": "markdown",
   "metadata": {},
   "source": [
    "Regresyon doğrusu etrafındaki Epsilon ifadesi hata miktarıdır. "
   ]
  },
  {
   "cell_type": "markdown",
   "metadata": {},
   "source": [
    "Aykırı değerlerimiz belirlediğimiz ceza parametresi “C” etkisinde Doğrumuzun konum ve eğrisini belirliyor. \n",
    "\n",
    "Gerçek değerler ile tahmin edilen değerler arasındaki farklar regresyon eğrisinin iki yönünden belirli epsilon ifadesinden uzun olamayacaktır."
   ]
  },
  {
   "cell_type": "markdown",
   "metadata": {},
   "source": [
    "Kabul edilebilir hata miktarı eğriyi belirler. "
   ]
  },
  {
   "cell_type": "markdown",
   "metadata": {},
   "source": [
    "## Model Kurulumu"
   ]
  },
  {
   "cell_type": "code",
   "execution_count": 31,
   "metadata": {},
   "outputs": [],
   "source": [
    "hit = pd.read_csv(\"Hitters.csv\")\n",
    "df = hit.copy()\n",
    "df = df.dropna()\n",
    "dms = pd.get_dummies(df[['League', 'Division', 'NewLeague']])\n",
    "y = df[\"Salary\"]\n",
    "X_ = df.drop(['Salary', 'League', 'Division', 'NewLeague'], axis=1).astype('float64')\n",
    "X = pd.concat([X_, dms[['League_N', 'Division_W', 'NewLeague_N']]], axis=1)\n",
    "X_train, X_test, y_train, y_test = train_test_split(X, y, \n",
    "                                                    test_size=0.25, \n",
    "                                                    random_state=42)"
   ]
  },
  {
   "cell_type": "code",
   "execution_count": 32,
   "metadata": {},
   "outputs": [],
   "source": [
    "X_train = pd.DataFrame(X_train[\"Hits\"])\n",
    "X_test = pd.DataFrame(X_test[\"Hits\"])"
   ]
  },
  {
   "cell_type": "code",
   "execution_count": 33,
   "metadata": {},
   "outputs": [],
   "source": [
    "from sklearn.svm import SVR"
   ]
  },
  {
   "cell_type": "code",
   "execution_count": 34,
   "metadata": {},
   "outputs": [],
   "source": [
    "svr_model = SVR(\"linear\").fit(X_train, y_train)"
   ]
  },
  {
   "cell_type": "code",
   "execution_count": 35,
   "metadata": {},
   "outputs": [
    {
     "data": {
      "text/plain": [
       "array([403.52804878, 666.91219512, 706.66829268, 194.80853659,\n",
       "       423.40609756])"
      ]
     },
     "execution_count": 35,
     "metadata": {},
     "output_type": "execute_result"
    }
   ],
   "source": [
    "svr_model.predict(X_train)[0:5] # tahmin"
   ]
  },
  {
   "cell_type": "code",
   "execution_count": 36,
   "metadata": {},
   "outputs": [
    {
     "name": "stdout",
     "output_type": "stream",
     "text": [
      "y = -48.69756097561513 + 4.969512195122093 x\n"
     ]
    }
   ],
   "source": [
    "# SVR ın regresyon formülü (model denklemi)\n",
    "print (\"y = {0} + {1} x\".format(svr_model.intercept_[0], \n",
    "                                svr_model.coef_[0][0])) # iki parantez sebebi array den kurtarmak için "
   ]
  },
  {
   "cell_type": "code",
   "execution_count": 37,
   "metadata": {},
   "outputs": [
    {
     "data": {
      "text/plain": [
       "183    91.0\n",
       "Name: Hits, dtype: float64"
      ]
     },
     "execution_count": 37,
     "metadata": {},
     "output_type": "execute_result"
    }
   ],
   "source": [
    "X_train[\"Hits\"][0:1]"
   ]
  },
  {
   "cell_type": "code",
   "execution_count": 38,
   "metadata": {},
   "outputs": [
    {
     "data": {
      "text/plain": [
       "403.5280487804953"
      ]
     },
     "execution_count": 38,
     "metadata": {},
     "output_type": "execute_result"
    }
   ],
   "source": [
    "-48.69756097561513 + 4.969512195122093*91"
   ]
  },
  {
   "cell_type": "code",
   "execution_count": 39,
   "metadata": {},
   "outputs": [],
   "source": [
    "y_pred = svr_model.predict(X_train)"
   ]
  },
  {
   "cell_type": "code",
   "execution_count": 40,
   "metadata": {},
   "outputs": [
    {
     "data": {
      "text/plain": [
       "[<matplotlib.lines.Line2D at 0x12d203d8a20>]"
      ]
     },
     "execution_count": 40,
     "metadata": {},
     "output_type": "execute_result"
    },
    {
     "data": {
      "image/png": "[encoded data removed]",
      "text/plain": [
       "<Figure size 432x288 with 1 Axes>"
      ]
     },
     "metadata": {
      "needs_background": "light"
     },
     "output_type": "display_data"
    }
   ],
   "source": [
    "plt.scatter(X_train, y_train)\n",
    "plt.plot(X_train, y_pred, color = \"r\")"
   ]
  },
  {
   "cell_type": "code",
   "execution_count": 41,
   "metadata": {},
   "outputs": [
    {
     "name": "stdout",
     "output_type": "stream",
     "text": [
      "y = -8.814095480334345 + 5.172456135470686 x\n"
     ]
    }
   ],
   "source": [
    "from sklearn.linear_model import LinearRegression\n",
    "lm_model = LinearRegression().fit(X_train, y_train)\n",
    "lm_pred  = lm_model.predict(X_train)\n",
    "print(\"y = {0} + {1} x\".format(lm_model.intercept_, lm_model.coef_[0]))"
   ]
  },
  {
   "cell_type": "code",
   "execution_count": 42,
   "metadata": {},
   "outputs": [
    {
     "data": {
      "text/plain": [
       "461.879412847498"
      ]
     },
     "execution_count": 42,
     "metadata": {},
     "output_type": "execute_result"
    }
   ],
   "source": [
    "-8.814095480334572 + 5.1724561354706875*91"
   ]
  },
  {
   "cell_type": "code",
   "execution_count": 43,
   "metadata": {},
   "outputs": [
    {
     "data": {
      "text/plain": [
       "Text(0, 0.5, 'Maaş (Salary)')"
      ]
     },
     "execution_count": 43,
     "metadata": {},
     "output_type": "execute_result"
    },
    {
     "data": {
      "image/png": "[encoded data removed]",
      "text/plain": [
       "<Figure size 432x288 with 1 Axes>"
      ]
     },
     "metadata": {
      "needs_background": "light"
     },
     "output_type": "display_data"
    }
   ],
   "source": [
    "plt.scatter(X_train, y_train, alpha=0.5, s=23)\n",
    "plt.plot(X_train, lm_pred, 'g') # Lineer Regression -> 461.87\n",
    "plt.plot(X_train, y_pred, color='r') # SVR -> 403.52\n",
    "\n",
    "plt.xlabel(\"Atış Sayısı(Hits)\")\n",
    "plt.ylabel(\"Maaş (Salary)\")"
   ]
  },
  {
   "cell_type": "markdown",
   "metadata": {},
   "source": [
    "SVR modelinde 91.0 hits ile  403 maaş tahminini vermiştir.\n",
    "Lineer regresyon modeli daha yukarıda olduğu için daha yüksek bir tahmin verecektir.\n",
    "\n",
    "Neden SVR daha aşağıdadır?\n",
    "EKK (en küçük kareler) den kaynaklı aykırı değerlerin etkisi SVR da daha düşüktür."
   ]
  },
  {
   "cell_type": "markdown",
   "metadata": {},
   "source": [
    "## Tahmin"
   ]
  },
  {
   "cell_type": "code",
   "execution_count": 44,
   "metadata": {},
   "outputs": [
    {
     "name": "stdout",
     "output_type": "stream",
     "text": [
      "y = -48.69756097561513 + 4.969512195122093 x\n"
     ]
    }
   ],
   "source": [
    "print (\"y = {0} + {1} x\".format(svr_model.intercept_[0], svr_model.coef_[0][0])) "
   ]
  },
  {
   "cell_type": "code",
   "execution_count": 45,
   "metadata": {},
   "outputs": [
    {
     "data": {
      "text/plain": [
       "array([403.52804878])"
      ]
     },
     "execution_count": 45,
     "metadata": {},
     "output_type": "execute_result"
    }
   ],
   "source": [
    "svr_model.predict([[91]])"
   ]
  },
  {
   "cell_type": "code",
   "execution_count": 46,
   "metadata": {},
   "outputs": [],
   "source": [
    "y_pred = svr_model.predict(X_test) # Test Hatası"
   ]
  },
  {
   "cell_type": "code",
   "execution_count": 47,
   "metadata": {},
   "outputs": [
    {
     "data": {
      "text/plain": [
       "459.0187960365147"
      ]
     },
     "execution_count": 47,
     "metadata": {},
     "output_type": "execute_result"
    }
   ],
   "source": [
    "np.sqrt(mean_squared_error(y_test, y_pred))"
   ]
  },
  {
   "cell_type": "code",
   "execution_count": 48,
   "metadata": {},
   "outputs": [
    {
     "data": {
      "text/plain": [
       "SVR(kernel='linear')"
      ]
     },
     "execution_count": 48,
     "metadata": {},
     "output_type": "execute_result"
    }
   ],
   "source": [
    "svr_model"
   ]
  },
  {
   "cell_type": "markdown",
   "metadata": {},
   "source": [
    "## Model Tuning"
   ]
  },
  {
   "cell_type": "code",
   "execution_count": 49,
   "metadata": {},
   "outputs": [
    {
     "data": {
      "text/plain": [
       "SVR(kernel='linear')"
      ]
     },
     "execution_count": 49,
     "metadata": {},
     "output_type": "execute_result"
    }
   ],
   "source": [
    "svr_model"
   ]
  },
  {
   "cell_type": "code",
   "execution_count": 50,
   "metadata": {},
   "outputs": [],
   "source": [
    "svr_params = {\"C\": np.arange(0.1,2,0.1)} # tuple ile ceza parametresi\n",
    "svr_cv_model = GridSearchCV(svr_model, svr_params, cv = 10).fit(X_train,y_train)"
   ]
  },
  {
   "cell_type": "code",
   "execution_count": 51,
   "metadata": {},
   "outputs": [
    {
     "data": {
      "text/plain": [
       "{'C': 0.1}"
      ]
     },
     "execution_count": 51,
     "metadata": {},
     "output_type": "execute_result"
    }
   ],
   "source": [
    "svr_cv_model.best_params_"
   ]
  },
  {
   "cell_type": "code",
   "execution_count": 52,
   "metadata": {},
   "outputs": [
    {
     "data": {
      "text/plain": [
       "0.1"
      ]
     },
     "execution_count": 52,
     "metadata": {},
     "output_type": "execute_result"
    }
   ],
   "source": [
    "pd.Series(svr_cv_model.best_params_)[0] # modelde real bir number olması için"
   ]
  },
  {
   "cell_type": "code",
   "execution_count": 53,
   "metadata": {},
   "outputs": [],
   "source": [
    "svr_tuned = SVR(\"linear\", \n",
    "                C = pd.Series(svr_cv_model.best_params_)[0]).fit(X_train, y_train)"
   ]
  },
  {
   "cell_type": "code",
   "execution_count": 54,
   "metadata": {},
   "outputs": [],
   "source": [
    "y_pred = svr_tuned.predict(X_test)"
   ]
  },
  {
   "cell_type": "code",
   "execution_count": 55,
   "metadata": {},
   "outputs": [
    {
     "data": {
      "text/plain": [
       "458.198966781116"
      ]
     },
     "execution_count": 55,
     "metadata": {},
     "output_type": "execute_result"
    }
   ],
   "source": [
    "np.sqrt(mean_squared_error(y_test, y_pred))"
   ]
  },
  {
   "cell_type": "markdown",
   "metadata": {},
   "source": [
    "svr_cv_model nesnesini direkt model nesnesi gibi kullanıp tune edilmiş parametreyi de kullanabilirsiniz. Biz (svr_cv_model.best_params_)[0] ile yeni bir model oluşturarak test hatamızı hesapladık. Daha az C parametresi ile de modeli çalıştırabilirsiniz. İşlemcinin %20 sinden fazlasını kullanmak için belli ayarlar yapılır."
   ]
  },
  {
   "cell_type": "code",
   "execution_count": 56,
   "metadata": {},
   "outputs": [],
   "source": [
    "hit = pd.read_csv(\"Hitters.csv\")\n",
    "df = hit.copy()\n",
    "df = df.dropna()\n",
    "dms = pd.get_dummies(df[['League', 'Division', 'NewLeague']])\n",
    "y = df[\"Salary\"]\n",
    "X_ = df.drop(['Salary', 'League', 'Division', 'NewLeague'], axis=1).astype('float64')\n",
    "X = pd.concat([X_, dms[['League_N', 'Division_W', 'NewLeague_N']]], axis=1)\n",
    "X_train, X_test, y_train, y_test = train_test_split(X, y, \n",
    "                                                    test_size=0.25, \n",
    "                                                    random_state=42)"
   ]
  },
  {
   "cell_type": "code",
   "execution_count": 57,
   "metadata": {},
   "outputs": [],
   "source": [
    "svr_params = {\"C\": np.arange(0.1,2,0.1)} # tuple ile ceza parametresi\n",
    "svr_cv_model = GridSearchCV(svr_model, svr_params, cv = 10).fit(X_train,y_train)"
   ]
  },
  {
   "cell_type": "code",
   "execution_count": 58,
   "metadata": {},
   "outputs": [
    {
     "data": {
      "text/plain": [
       "0.4"
      ]
     },
     "execution_count": 58,
     "metadata": {},
     "output_type": "execute_result"
    }
   ],
   "source": [
    "pd.Series(svr_cv_model.best_params_)[0]"
   ]
  },
  {
   "cell_type": "code",
   "execution_count": 59,
   "metadata": {},
   "outputs": [],
   "source": [
    "svr_tuned = SVR(\"linear\", \n",
    "                C = pd.Series(svr_cv_model.best_params_)[0]).fit(X_train, y_train)"
   ]
  },
  {
   "cell_type": "code",
   "execution_count": 60,
   "metadata": {},
   "outputs": [],
   "source": [
    "y_pred = svr_tuned.predict(X_test)"
   ]
  },
  {
   "cell_type": "code",
   "execution_count": 61,
   "metadata": {},
   "outputs": [
    {
     "data": {
      "text/plain": [
       "367.5385297249052"
      ]
     },
     "execution_count": 61,
     "metadata": {},
     "output_type": "execute_result"
    }
   ],
   "source": [
    "np.sqrt(mean_squared_error(y_test, y_pred))"
   ]
  },
  {
   "cell_type": "markdown",
   "metadata": {},
   "source": [
    "Öncekinde sadece Hits değişkeni vardı. Modelimizde maaş tahminini hesaplarken bağımsız değişkenleri arttırdığımızda modelimizi çalıştırmak 16 dk sürdü. Hata değerimiz azalmıştır."
   ]
  },
  {
   "cell_type": "markdown",
   "metadata": {},
   "source": [
    "# Doğrusal Olmayan SVR"
   ]
  },
  {
   "cell_type": "markdown",
   "metadata": {},
   "source": [
    "Suni veri seti üstünden aykırı gözlemleri görselleştirelim."
   ]
  },
  {
   "cell_type": "code",
   "execution_count": 62,
   "metadata": {},
   "outputs": [],
   "source": [
    "np.random.seed(3)\n",
    "\n",
    "x_sim = np.random.uniform(2, 10, 145)\n",
    "y_sim = np.sin(x_sim) + np.random.normal(0, 0.4, 145)\n",
    "\n",
    "x_outliers = np.arange(2.5, 5, 0.5)\n",
    "y_outliers = -5*np.ones(5)\n",
    "\n",
    "x_sim_idx = np.argsort(np.concatenate([x_sim, x_outliers]))\n",
    "x_sim = np.concatenate([x_sim, x_outliers])[x_sim_idx]\n",
    "y_sim = np.concatenate([y_sim, y_outliers])[x_sim_idx]"
   ]
  },
  {
   "cell_type": "code",
   "execution_count": 63,
   "metadata": {},
   "outputs": [],
   "source": [
    "\n",
    "from sklearn.linear_model import LinearRegression\n",
    "ols = LinearRegression()\n",
    "ols.fit(np.sin(x_sim[:, np.newaxis]), y_sim)\n",
    "ols_pred = ols.predict(np.sin(x_sim[:, np.newaxis]))\n",
    "\n",
    "from sklearn.svm import SVR\n",
    "eps = 0.1\n",
    "svr = SVR('rbf', epsilon = eps)\n",
    "svr.fit(x_sim[:, np.newaxis], y_sim)\n",
    "svr_pred = svr.predict(x_sim[:, np.newaxis])"
   ]
  },
  {
   "cell_type": "code",
   "execution_count": 64,
   "metadata": {},
   "outputs": [
    {
     "data": {
      "image/png": "[encoded data removed]",
      "text/plain": [
       "<Figure size 432x288 with 1 Axes>"
      ]
     },
     "metadata": {
      "needs_background": "light"
     },
     "output_type": "display_data"
    }
   ],
   "source": [
    "plt.scatter(x_sim, y_sim, alpha=0.5, s=26)\n",
    "plt_ols, = plt.plot(x_sim, ols_pred, 'g')\n",
    "plt_svr, = plt.plot(x_sim, svr_pred, color='r')\n",
    "plt.xlabel(\"Bağımsız Değişken\")\n",
    "plt.ylabel(\"Bağımlı Değişken\")\n",
    "plt.ylim(-5.2, 2.2)\n",
    "plt.legend([plt_ols, plt_svr], ['EKK', 'SVR'], loc = 4);"
   ]
  },
  {
   "cell_type": "code",
   "execution_count": 65,
   "metadata": {},
   "outputs": [],
   "source": [
    "hit = pd.read_csv(\"Hitters.csv\")\n",
    "df = hit.copy()\n",
    "df = df.dropna()\n",
    "dms = pd.get_dummies(df[['League', 'Division', 'NewLeague']])\n",
    "y = df[\"Salary\"]\n",
    "X_ = df.drop(['Salary', 'League', 'Division', 'NewLeague'], axis=1).astype('float64')\n",
    "X = pd.concat([X_, dms[['League_N', 'Division_W', 'NewLeague_N']]], axis=1)\n",
    "X_train, X_test, y_train, y_test = train_test_split(X, y, \n",
    "                                                    test_size=0.25, \n",
    "                                                    random_state=42)"
   ]
  },
  {
   "cell_type": "code",
   "execution_count": 66,
   "metadata": {},
   "outputs": [],
   "source": [
    "svr_rbf = SVR(\"rbf\").fit(X_train, y_train) # model kurma"
   ]
  },
  {
   "cell_type": "markdown",
   "metadata": {},
   "source": [
    "## Tahmin"
   ]
  },
  {
   "cell_type": "code",
   "execution_count": 67,
   "metadata": {},
   "outputs": [],
   "source": [
    "y_pred = svr_rbf.predict(X_test)"
   ]
  },
  {
   "cell_type": "code",
   "execution_count": 68,
   "metadata": {},
   "outputs": [
    {
     "data": {
      "text/plain": [
       "460.0032657244849"
      ]
     },
     "execution_count": 68,
     "metadata": {},
     "output_type": "execute_result"
    }
   ],
   "source": [
    "np.sqrt(mean_squared_error(y_test, y_pred))"
   ]
  },
  {
   "cell_type": "markdown",
   "metadata": {},
   "source": [
    "## Model Tuning"
   ]
  },
  {
   "cell_type": "code",
   "execution_count": 69,
   "metadata": {},
   "outputs": [
    {
     "data": {
      "text/plain": [
       "SVR()"
      ]
     },
     "execution_count": 69,
     "metadata": {},
     "output_type": "execute_result"
    }
   ],
   "source": [
    "svr_rbf # epsilonu ön tanımlı değeriyle kabul edelim"
   ]
  },
  {
   "cell_type": "code",
   "execution_count": 70,
   "metadata": {},
   "outputs": [
    {
     "data": {
      "text/plain": [
       "GridSearchCV(cv=10, estimator=SVR(),\n",
       "             param_grid={'C': [0.01, 0.1, 0.4, 5, 10, 20, 30, 40, 50]})"
      ]
     },
     "execution_count": 70,
     "metadata": {},
     "output_type": "execute_result"
    }
   ],
   "source": [
    "svr_params = {\"C\": [0.01, 0.1,0.4,5,10,20,30,40,50]}\n",
    "svr_cv_model = GridSearchCV(svr_rbf,svr_params, cv = 10)\n",
    "svr_cv_model.fit(X_train, y_train)"
   ]
  },
  {
   "cell_type": "code",
   "execution_count": 71,
   "metadata": {},
   "outputs": [
    {
     "data": {
      "text/plain": [
       "50"
      ]
     },
     "execution_count": 71,
     "metadata": {},
     "output_type": "execute_result"
    }
   ],
   "source": [
    "pd.Series(svr_cv_model.best_params_)[0]"
   ]
  },
  {
   "cell_type": "code",
   "execution_count": 72,
   "metadata": {},
   "outputs": [],
   "source": [
    "svr_tuned = SVR(\"rbf\", C = pd.Series(svr_cv_model.best_params_)[0]).fit(X_train, \n",
    "                                                                        y_train)"
   ]
  },
  {
   "cell_type": "code",
   "execution_count": 73,
   "metadata": {},
   "outputs": [
    {
     "data": {
      "text/plain": [
       "428.00406888095694"
      ]
     },
     "execution_count": 73,
     "metadata": {},
     "output_type": "execute_result"
    }
   ],
   "source": [
    "y_pred = svr_tuned.predict(X_test)\n",
    "\n",
    "np.sqrt(mean_squared_error(y_test, y_pred))\n",
    "# En yüksek hatayı aldık. Bazı veri yapılarında farklı modeller daha iyi açıklayabilir."
   ]
  },
  {
   "cell_type": "markdown",
   "metadata": {},
   "source": [
    "# Yapay Sinir Ağları (YSA)"
   ]
  },
  {
   "cell_type": "markdown",
   "metadata": {},
   "source": [
    "İnsan beyninin bilgi işleme şeklini referans alan sınıflandırma ve regresyon problemleri için kullanılabilen kuvvetli makine öğrenmesi algoritmalarından birisidir."
   ]
  },
  {
   "cell_type": "code",
   "execution_count": 74,
   "metadata": {},
   "outputs": [
    {
     "data": {
      "text/plain": [
       "<matplotlib.image.AxesImage at 0x12d1e010080>"
      ]
     },
     "execution_count": 74,
     "metadata": {},
     "output_type": "execute_result"
    },
    {
     "data": {
      "image/png": "[encoded data removed]",
      "text/plain": [
       "<Figure size 432x288 with 1 Axes>"
      ]
     },
     "metadata": {
      "needs_background": "light"
     },
     "output_type": "display_data"
    }
   ],
   "source": [
    "import matplotlib.pyplot as plt\n",
    "import matplotlib.image as mpimg\n",
    "plt.imshow(mpimg.imread(\"ysa.png\"))"
   ]
  },
  {
   "cell_type": "markdown",
   "metadata": {},
   "source": [
    "SVR gibi aslında sınıflandırma problemleri için geliştirilmiş bir algoritam olmasına rağmen regresyon modelleri içinde kullanılmaktadır. İnsan beyninin bilgi işleme tekniğinden esinlenerek geliştirilmiştir.\n",
    "Yani biyolojik nöron hücrelerinin ve bu hücrelerin birbirleri ile arasında kurduğu sinaptik bağın dijital olarak modellenmesidir.\n",
    "\n",
    "Biyolojik sistemlerde öğrenme, nöronlar arasındaki sinaptik (synaptic) bağlantıların ayarlanması ile olur. Yani, insanlar doğumlarından itibaren bir yaşayarak öğrenme süreci içerisine girerler. Bu süreç içinde beyin sürekli bir gelişme göstermektedir. Yaşayıp tecrübe ettikçe sinaptik bağlantılar ayarlanır ve hatta yeni bağlantılar oluşur. Bu sayede öğrenme gerçekleşir.\n",
    "\n",
    "Bu durum YSA için de geçerlidir. Öğrenme, eğitme yoluyla örnekler kullanarak olur; başka bir deyişle, gerçekleşme girdi/çıktı verilerinin işlenmesiyle, yani eğitme algoritmasının bu verileri kullanarak bağlantı ağırlıklarını (weights of the synapses) bir yakınsama sağlanana kadar, tekrar tekrar ayarlamasıyla olur."
   ]
  },
  {
   "cell_type": "markdown",
   "metadata": {},
   "source": [
    "Geleneksel işlemcilerde, tek bir merkezi işlem birimi her hareketi sırasıyla gerçekleştirir. YSA’lar ise her biri büyük bir problemin bir parçası ile ilgilenen, çok sayıda basit işlem birimlerinden oluşmaktadır. En basit şekilde, bir işlem birimi, bir girdiyi bir ağırlık kümesi ile ağırlıklandırır, doğrusal olmayan bir şekilde dönüşümünü sağlar ve bir çıktı değeri oluşturur.\n",
    "\n",
    "*1.Girdiler: Girdiler nöronlara gelen verilerdir. Bu girdilerden gelen veriler biyolojik sinir hücrelerinde olduğu gibi toplanmak üzere nöron çekirdeğine gönderilir.*\n",
    "\n",
    "*2.Ağırlıklar: Yapay sinir hücresine gelen bilgiler girdiler üzerinden çekirdeğe ulaşmadan önce geldikleri bağlantıların ağırlığıyla çarpılarak çekirdeğe iletilir. Bu sayede girdilerin üretilecek çıktı üzerindeki etkisi ayarlanabilinmektedir.*\n",
    "\n",
    "*3.Toplama Fonksiyonu (Birleştirme Fonksiyonu): Toplama fonksiyonu bir yapay sinir hücresine ağırlıklarla çarpılarak gelen girdileri toplayarak o hücrenin net girdisini hesaplayan bir fonksiyondur.*\n",
    "\n",
    "*4.Aktivasyon fonksiyonu: Önceki katmandaki tüm girdilerin ağırlıklı toplamını alan ve daha sonra bir çıkış değeri (tipik olarak doğrusal olmayan) üreten ve bir sonraki katmana geçiren bir fonksiyondur. (örneğin, ReLU veya sigmoid ).*\n",
    "\n",
    "*5.Çıktılar: Aktivasyon fonksiyonundan çıkan değer hücrenin çıktı değeri olmaktadır. Her hücrenin birden fazla girdisi olmasına rağmen bir tek çıktısı olmaktadır. Bu çıktı istenilen sayıda hücreye bağlanabilir.*"
   ]
  },
  {
   "cell_type": "code",
   "execution_count": 75,
   "metadata": {},
   "outputs": [
    {
     "data": {
      "text/plain": [
       "<matplotlib.image.AxesImage at 0x12d204bde10>"
      ]
     },
     "execution_count": 75,
     "metadata": {},
     "output_type": "execute_result"
    },
    {
     "data": {
      "image/png": "[encoded data removed]",
      "text/plain": [
       "<Figure size 432x288 with 1 Axes>"
      ]
     },
     "metadata": {
      "needs_background": "light"
     },
     "output_type": "display_data"
    }
   ],
   "source": [
    "import matplotlib.pyplot as plt\n",
    "import matplotlib.image as mpimg\n",
    "plt.imshow(mpimg.imread(\"ysa2.png\"))"
   ]
  },
  {
   "cell_type": "markdown",
   "metadata": {},
   "source": [
    "Yapay sinir ağları üç ana katmanda incelenir; Giriş Katmanı, Ara (Gizli) Katmanlar ve Çıkış Katmanı.\n",
    "\n",
    "Bilgiler ağa girdi katmanından iletilir. Ara katmanlarda işlenerek oradan çıktı katmanına gönderilirler. Bilgi işlemeden kasıt ağa gelen bilgilerin ağın ağırlık değerleri kullanılarak çıktıya dönüştürülmesidir. Ağın girdiler için doğru çıktıları üretebilmesi için ağırlıkların doğru değerlerinin olması gerekmektedir."
   ]
  },
  {
   "cell_type": "markdown",
   "metadata": {},
   "source": [
    "**Katman Sayısının Model Verimliliğine Etkisi Nedir ?**\n",
    "Bir katmandaki nöron sayısı arttıkça ağırlık sayıları ve bias değerleri artacaktır. Bu durumda öğrenilmesi gereken parametre sayısında da artış olacaktır. Katman sayısı arttıkça öğrenme performansı artar gibi görünse de bu doğru değildir. Çünkü model performansı girdiler ve katman sayısına bağlı olsa da sadece bu iki değer ile belirlenmez"
   ]
  },
  {
   "cell_type": "markdown",
   "metadata": {},
   "source": [
    "**Sinir Ağları Türleri Nelerdir ?**\n",
    "*Beslemeli sinir ağları*\n",
    "\n",
    "Beslemeli sinir ağları, verileri girdi düğümünden çıktı düğümüne olmak üzere tek yönde işler. Bir katmandaki her düğüm, bir sonraki katmandaki her bir düğüme bağlıdır. Beslemeli bir ağ, tahminleri zaman içinde iyileştirmek için bir geri bildirim sürecinden yararlanır.\n",
    "\n",
    "*Geri Sayılım Algoritması*\n",
    "\n",
    "Yapay sinir ağları, tahmine dayalı analizlerini geliştirmek için düzeltici geri bildirim döngülerini kullanarak sürekli olarak öğrenir. Basitçe, sinir ağındaki pek çok farklı yolda girdi düğümünden çıktı düğümüne akan verileri düşünebilirsiniz. Girdi düğümünü, doğru çıktı düğümüyle eşleştiren yalnızca bir doğru yol vardır. Sinir ağı, bu yolu bulmak için aşağıdaki gibi çalışan bir geri bildirim döngüsü kullanır:\n",
    "\n",
    "* Her düğüm, yoldaki bir sonraki düğüm hakkında bir tahminde bulunur.\n",
    "* Tahminin doğru olup olmadığını kontrol eder. Düğümler, daha doğru tahminler sunan yollara daha yüksek ağırlık değerleri ve yanlış tahminler sunan düğüm yollarına daha düşük ağırlık değerleri tayin eder.\n",
    "* Düğümler, bir sonraki veri noktası için daha yüksek ağırlık değerine sahip yolları kullanarak yeni bir tahminde bulunur ve ardından 1. Adımı tekrarlar."
   ]
  },
  {
   "cell_type": "markdown",
   "metadata": {},
   "source": [
    "SSE veya SSR -> hata kareler toplamı nı \n",
    "\n",
    "minimize edecek şekilde modeller oluşturulur."
   ]
  },
  {
   "cell_type": "markdown",
   "metadata": {},
   "source": [
    "YSA genel olarak overfit etmeye eğilimlidir. Bununla mücadele etmek için EarlyStopping, Weight Decay gibi yöntemler geliştirilmiştir. Yapay Sinir ağlarının Lasso gibi regresyonlardan farkı katmanlar içermesidir."
   ]
  },
  {
   "cell_type": "markdown",
   "metadata": {},
   "source": [
    "# Çok Katmanlı Algılayıcı"
   ]
  },
  {
   "cell_type": "code",
   "execution_count": 76,
   "metadata": {},
   "outputs": [],
   "source": [
    "hit = pd.read_csv(\"Hitters.csv\")\n",
    "df = hit.copy()\n",
    "df = df.dropna()\n",
    "dms = pd.get_dummies(df[['League', 'Division', 'NewLeague']])\n",
    "y = df[\"Salary\"]\n",
    "X_ = df.drop(['Salary', 'League', 'Division', 'NewLeague'], axis=1).astype('float64')\n",
    "X = pd.concat([X_, dms[['League_N', 'Division_W', 'NewLeague_N']]], axis=1)\n",
    "X_train, X_test, y_train, y_test = train_test_split(X, y, \n",
    "                                                    test_size=0.25, \n",
    "                                                    random_state=42)"
   ]
  },
  {
   "cell_type": "markdown",
   "metadata": {},
   "source": [
    "Ortalamayı kaldırarak ve birim varyansa ölçeklendirerek özellikleri standartlaştırma işlemi yapıyoruz. Merkezleme ve ölçekleme, eğitim setindeki örnekler üzerindeki ilgili istatistikleri hesaplayarak her bir özellik üzerinde bağımsız olarak gerçekleşir. Ortalama ve standart sapma daha sonra kullanılarak daha sonraki verilerde kullanılmak üzere saklanır.\n",
    "\n",
    "Bir veri kümesinin standardizasyonu, birçok makine öğrenimi tahmincisi için ortak bir gereksinimdir: bireysel özellikler az çok standart normal dağıtılmış verilere benzemiyorsa kötü davranabilirler.\n",
    "\n",
    "Örneğin, bir öğrenme algoritmasının amaç fonksiyonunda kullanılan birçok öğe (Destek Vektör Makinelerinin RBF çekirdeği veya doğrusal modellerin L1 ve L2 düzenleyicileri gibi), tüm özelliklerin 0 etrafında ortalandığını ve aynı sırada varyansa sahip olduğunu varsayar. Bir özelliğin varyansı diğerlerinden daha büyükse, amaç fonksiyonuna hükmedebilir ve tahmincinin beklendiği gibi diğer özelliklerden doğru bir şekilde öğrenememesine neden olabilir."
   ]
  },
  {
   "cell_type": "code",
   "execution_count": 77,
   "metadata": {},
   "outputs": [],
   "source": [
    "from sklearn.preprocessing import StandardScaler"
   ]
  },
  {
   "cell_type": "code",
   "execution_count": 78,
   "metadata": {},
   "outputs": [
    {
     "data": {
      "text/plain": [
       "StandardScaler()"
      ]
     },
     "execution_count": 78,
     "metadata": {},
     "output_type": "execute_result"
    }
   ],
   "source": [
    "scaler = StandardScaler()\n",
    "scaler.fit(X_train)"
   ]
  },
  {
   "cell_type": "code",
   "execution_count": 79,
   "metadata": {},
   "outputs": [],
   "source": [
    "X_train_scaled = scaler.transform(X_train) # dönüştürülmüş ölçeklendirme işlemi"
   ]
  },
  {
   "cell_type": "code",
   "execution_count": 80,
   "metadata": {},
   "outputs": [],
   "source": [
    "X_test_scaled = scaler.transform(X_test)"
   ]
  },
  {
   "cell_type": "code",
   "execution_count": 81,
   "metadata": {},
   "outputs": [],
   "source": [
    "from sklearn.neural_network import MLPRegressor"
   ]
  },
  {
   "cell_type": "code",
   "execution_count": 82,
   "metadata": {},
   "outputs": [],
   "source": [
    "#Modelin Kurulması\n",
    "mlp_model = MLPRegressor(hidden_layer_sizes = (100,20)).fit(X_train_scaled, y_train)"
   ]
  },
  {
   "cell_type": "code",
   "execution_count": 83,
   "metadata": {},
   "outputs": [
    {
     "data": {
      "text/plain": [
       "MLPRegressor(hidden_layer_sizes=(100, 20))"
      ]
     },
     "execution_count": 83,
     "metadata": {},
     "output_type": "execute_result"
    }
   ],
   "source": [
    "mlp_model"
   ]
  },
  {
   "cell_type": "markdown",
   "metadata": {},
   "source": [
    "Yapay sinir ağlarının üç ana katmandan oluştuğunu daha öncede belirtmiştik.  Giriş Katmanı, Ara (Gizli) Katmanlar ve Çıkış Katmanı"
   ]
  },
  {
   "cell_type": "code",
   "execution_count": 84,
   "metadata": {},
   "outputs": [
    {
     "data": {
      "text/plain": [
       "4"
      ]
     },
     "execution_count": 84,
     "metadata": {},
     "output_type": "execute_result"
    }
   ],
   "source": [
    "mlp_model.n_layers_ # katman sayısı (gizli katman sayısı 2 oduğunda katman sayısı 4)"
   ]
  },
  {
   "cell_type": "code",
   "execution_count": 86,
   "metadata": {},
   "outputs": [
    {
     "data": {
      "text/plain": [
       "(100, 20)"
      ]
     },
     "execution_count": 86,
     "metadata": {},
     "output_type": "execute_result"
    }
   ],
   "source": [
    "mlp_model.hidden_layer_sizes # gizli katmandaki eleman sayısı yani nöron sayısı"
   ]
  },
  {
   "cell_type": "markdown",
   "metadata": {},
   "source": [
    "## Tahmin"
   ]
  },
  {
   "cell_type": "code",
   "execution_count": 87,
   "metadata": {},
   "outputs": [],
   "source": [
    "y_pred = mlp_model.predict(X_test_scaled) #Y tahmin değeri"
   ]
  },
  {
   "cell_type": "code",
   "execution_count": 88,
   "metadata": {},
   "outputs": [
    {
     "data": {
      "text/plain": [
       "527.4270090447499"
      ]
     },
     "execution_count": 88,
     "metadata": {},
     "output_type": "execute_result"
    }
   ],
   "source": [
    "np.sqrt(mean_squared_error(y_test, y_pred)) #İlkel test hatası"
   ]
  },
  {
   "cell_type": "markdown",
   "metadata": {},
   "source": [
    "SVR modelinin ilkel test hatası ile kıyasladığımızda modelimizin tune edilmiş halinden daha yüksek bir hatadır."
   ]
  },
  {
   "cell_type": "markdown",
   "metadata": {},
   "source": [
    "## Model Tuning"
   ]
  },
  {
   "cell_type": "code",
   "execution_count": 90,
   "metadata": {},
   "outputs": [
    {
     "data": {
      "text/plain": [
       "MLPRegressor(hidden_layer_sizes=(100, 20))"
      ]
     },
     "execution_count": 90,
     "metadata": {},
     "output_type": "execute_result"
    }
   ],
   "source": [
    "mlp_model\n",
    "# Paramaterlerimizi liste içerisinde belirliyoruz, Katman sayıları ve katmanlardaki nöron sayıları"
   ]
  },
  {
   "cell_type": "code",
   "execution_count": 91,
   "metadata": {},
   "outputs": [],
   "source": [
    "mlp_params = {'alpha': [0.1, 0.01,0.02,0.005], # parametreler\n",
    "             'hidden_layer_sizes': [(20,20),(100,50,150),(300,200,150)], #2 katmanlı, 3 katmanlı, 3 katmanlı\n",
    "             'activation': ['relu','logistic']} # aktivayson fonksiyonu"
   ]
  },
  {
   "cell_type": "code",
   "execution_count": 92,
   "metadata": {},
   "outputs": [],
   "source": [
    "#Modelimizi Cross-validation ile en iyi değerleri arıyoruz.\n",
    "mlp_cv_model = GridSearchCV(mlp_model, mlp_params, cv = 10)"
   ]
  },
  {
   "cell_type": "code",
   "execution_count": 93,
   "metadata": {},
   "outputs": [
    {
     "data": {
      "text/plain": [
       "GridSearchCV(cv=10, estimator=MLPRegressor(hidden_layer_sizes=(100, 20)),\n",
       "             param_grid={'activation': ['relu', 'logistic'],\n",
       "                         'alpha': [0.1, 0.01, 0.02, 0.005],\n",
       "                         'hidden_layer_sizes': [(20, 20), (100, 50, 150),\n",
       "                                                (300, 200, 150)]})"
      ]
     },
     "execution_count": 93,
     "metadata": {},
     "output_type": "execute_result"
    }
   ],
   "source": [
    "#Kurduğumuzmodeli train setlerimiz ile eğitiyoruz.\n",
    "mlp_cv_model.fit(X_train_scaled, y_train)"
   ]
  },
  {
   "cell_type": "code",
   "execution_count": 94,
   "metadata": {},
   "outputs": [
    {
     "data": {
      "text/plain": [
       "{'activation': 'relu', 'alpha': 0.01, 'hidden_layer_sizes': (100, 50, 150)}"
      ]
     },
     "execution_count": 94,
     "metadata": {},
     "output_type": "execute_result"
    }
   ],
   "source": [
    "#Belirlediğimiz kriterler altında en iyi çözümü veren parametleri görüyoruz.\n",
    "mlp_cv_model.best_params_"
   ]
  },
  {
   "cell_type": "code",
   "execution_count": 99,
   "metadata": {},
   "outputs": [],
   "source": [
    "#Modelimizi en iyi parametreler ile tekrar eğitiyoruz (Tune Model)\n",
    "mlp_tuned = MLPRegressor(alpha = 0.01, hidden_layer_sizes = (100,50,150))"
   ]
  },
  {
   "cell_type": "code",
   "execution_count": 100,
   "metadata": {},
   "outputs": [
    {
     "data": {
      "text/plain": [
       "MLPRegressor(alpha=0.01, hidden_layer_sizes=(100, 50, 150))"
      ]
     },
     "execution_count": 100,
     "metadata": {},
     "output_type": "execute_result"
    }
   ],
   "source": [
    "mlp_tuned.fit(X_train_scaled, y_train) # (bağımsız, bağımlı)"
   ]
  },
  {
   "cell_type": "code",
   "execution_count": 101,
   "metadata": {},
   "outputs": [],
   "source": [
    "#Testsetimiz ile y tahminlemelerinde bulunuyoruz.\n",
    "y_pred = mlp_tuned.predict(X_test_scaled)"
   ]
  },
  {
   "cell_type": "code",
   "execution_count": 102,
   "metadata": {},
   "outputs": [
    {
     "data": {
      "text/plain": [
       "358.23719573003655"
      ]
     },
     "execution_count": 102,
     "metadata": {},
     "output_type": "execute_result"
    }
   ],
   "source": [
    "#Test Değerleri ve Tahmin değerleri ile Hata Karaler ortalamasını tespit ediyoruz.\n",
    "np.sqrt(mean_squared_error(y_test, y_pred))\n",
    "# En düşük test hatasını bu ysa modeli vermiştir :)"
   ]
  },
  {
   "cell_type": "markdown",
   "metadata": {},
   "source": [
    "# Regression Trees (KARAR AĞAÇLARI)"
   ]
  },
  {
   "cell_type": "markdown",
   "metadata": {},
   "source": [
    "Amaç veri seti içerisindeki karmaşık yapıları basit karar yapılarına dönüştürmektir.\n",
    "\n",
    "Heterojen veri setleri belirlenmiş bir hedef değişkene göre homojen alt gruplara ayrılır."
   ]
  },
  {
   "cell_type": "markdown",
   "metadata": {},
   "source": [
    "Karar ağaçları da hem sınıflandırma hem de regresyon için kullanılmaktadır. Karar ağaçları, doğrusal olmayan ilişkilerin, karma veri türlerinin ve aykırı değerlerin olduğu veri setlerinde sınıflandırma modelinin çıkarılmasına imkân verir. Karar ağaçları karar teorisi, sınıflama, tahmin ve kümeleme hallerinde kullanılmaktadır. Hedef değişkenin sürekli olması durumunda karar ağaçları regresyon ağaçları olarak, kategorik ise sınıflama ağaçları olarak adlandırılmaktadır. Bu farklı duruma karşın karar ağaçlarının kurulma biçimleri benzerlik göstermektedir."
   ]
  },
  {
   "cell_type": "markdown",
   "metadata": {},
   "source": [
    "Karar ağaçlarının yapısı kök düğüm, düğüm ve dallardan oluşmaktadır. Kök düğümden aşağı indikçe veri kümeleri küçük parçalara arılarak yeni düğüm ve dallar oluşturmaktadır. Her bir düğüm bir soruyu temsil etmekte ve verilen her bir yanıt düğümden farklı dalları oluşturmaktadır."
   ]
  },
  {
   "cell_type": "markdown",
   "metadata": {},
   "source": [
    "**Karar Ağaçlarında Algoritma Seçimi**\n",
    "\n",
    "Veri madenciliği çalışmalarında algoritmaların temel kullanım amacı milyonlarca veri yığını arasından anlamlı örüntülere ulaşmayı sağlayacak kuralları oluşturmasıdır. Algoritma seçimi başta uygulanacak modelin ve veri setinin özelliklerine bağlıdır. Algoritma seçimi model başarısını önemli derecede etkilemektedir. Modelinizden aldığınız doğruluk oranı her zaman sizin başarılı bir model kurup kurmadığınızı belirlemede yeterli değildir. Başarılı bir modeli modelin çalışma süresi de etkilemektedir. Bu yüzden algoritma seçimi modeller üzerinde önemli bir dereceye sahiptir.\n",
    "\n",
    "Karar ağaçları algoritmaları; AID (Automatic Interaction Detector Algorithm), CHAID (Chi-Squared Automatic Interaction Detector), CART (Classification and Regression Trees), ID3, C4.5, C5.0, SLIQ (Supervised Learning in Quest), SPRINT (Scalable Parallelizable Induction of Decision Trees), QUEST (Quick, Unbiased, Efficient Statistical Tree), MARS (Multivariate Adaptive Regression Splines) ve Exhaustive CHAID şeklindedir. Karar ağaçları algoritmaları kök, düğüm ve dallanma kriterlerinin seçiminde izlenen yol açısından birbirinden ayrılmaktadır. Karar ağaçlarında seçilen algoritmaya bağlı olarak ağaç şeklinin değişmesi farklı sınıflandırma sonuçlarını vermektedir."
   ]
  },
  {
   "cell_type": "markdown",
   "metadata": {},
   "source": [
    "Doğrusallıktan kurtulduğu için çok fazla dallanmalar olabiliyor. Fakat aşırı dallanma olduğunda overfitting oluşur. Karmaşıklık parametresini(cez parametresi) kullanarak belirli bir eşik değeri belirleyerk bölünmeyi durduruz."
   ]
  },
  {
   "cell_type": "markdown",
   "metadata": {},
   "source": [
    "# CART\n",
    "## Classification and Regression Trees"
   ]
  },
  {
   "cell_type": "code",
   "execution_count": 103,
   "metadata": {},
   "outputs": [
    {
     "data": {
      "text/plain": [
       "<matplotlib.image.AxesImage at 0x12d2055b438>"
      ]
     },
     "execution_count": 103,
     "metadata": {},
     "output_type": "execute_result"
    },
    {
     "data": {
      "image/png": "[encoded data removed]",
      "text/plain": [
       "<Figure size 432x288 with 1 Axes>"
      ]
     },
     "metadata": {
      "needs_background": "light"
     },
     "output_type": "display_data"
    }
   ],
   "source": [
    "import matplotlib.pyplot as plt\n",
    "import matplotlib.image as mpimg\n",
    "plt.imshow(mpimg.imread(\"cart.png\"))"
   ]
  },
  {
   "cell_type": "code",
   "execution_count": 106,
   "metadata": {},
   "outputs": [],
   "source": [
    "hit = pd.read_csv(\"Hitters.csv\")\n",
    "df = hit.copy()\n",
    "df = df.dropna()\n",
    "dms = pd.get_dummies(df[['League', 'Division', 'NewLeague']])\n",
    "y = df[\"Salary\"]\n",
    "X_ = df.drop(['Salary', 'League', 'Division', 'NewLeague'], axis=1).astype('float64')\n",
    "X = pd.concat([X_, dms[['League_N', 'Division_W', 'NewLeague_N']]], axis=1)\n",
    "X_train, X_test, y_train, y_test = train_test_split(X, y, \n",
    "                                                    test_size=0.25, \n",
    "                                                    random_state=42)"
   ]
  },
  {
   "cell_type": "markdown",
   "metadata": {},
   "source": [
    "Train-Test olarak ayırdığım X_train ve X_testin içindeki Atış değişkenini dataFrame çeviriyoruz"
   ]
  },
  {
   "cell_type": "code",
   "execution_count": 107,
   "metadata": {},
   "outputs": [],
   "source": [
    "X_train = pd.DataFrame(X_train[\"Hits\"])\n",
    "X_test = pd.DataFrame(X_test[\"Hits\"])"
   ]
  },
  {
   "cell_type": "markdown",
   "metadata": {},
   "source": [
    "Modelimizi DecisionTreeRegressor kütüphanesi yardımı ile tanımlıyoruz. min_samples_split parametresi;\n",
    "Bir dahili düğümü bölmek için gereken minimum örnek sayısını tanımlamamıza yarıyor. yani her düğüm için minumum 2 dala ayrılmaktadır. Yani Arka planda if-else den oluşan bir yapı oluşturmaktadır. Sayımızı arttırdıkça if-elif-else yapısı belirdeğimiz sayıya göre şekillenecektir.\n",
    "min_sample_leaf ise Bir yaprak düğümde olması gereken minimum numune sayısını verir. Bu gibi parametreler hakkında bilgi almak için\n",
    "“?cart_model” çalıştırabilirsiniz."
   ]
  },
  {
   "cell_type": "code",
   "execution_count": 108,
   "metadata": {},
   "outputs": [],
   "source": [
    "# cart_model = DecisionTreeRegressor(max_lead_nodes = 2)\n",
    "cart_model = DecisionTreeRegressor(min_samples_split = 2)"
   ]
  },
  {
   "cell_type": "code",
   "execution_count": 110,
   "metadata": {},
   "outputs": [],
   "source": [
    "#?cart_model"
   ]
  },
  {
   "cell_type": "markdown",
   "metadata": {},
   "source": [
    "Modelimizi eğitim setlerimiz ile fit ediyoruz."
   ]
  },
  {
   "cell_type": "code",
   "execution_count": 111,
   "metadata": {},
   "outputs": [
    {
     "data": {
      "text/plain": [
       "DecisionTreeRegressor()"
      ]
     },
     "execution_count": 111,
     "metadata": {},
     "output_type": "execute_result"
    }
   ],
   "source": [
    "cart_model.fit(X_train, y_train)"
   ]
  },
  {
   "cell_type": "markdown",
   "metadata": {},
   "source": [
    "X_train ve y_train i kullanarak bir korelasyon grafiği oluşturuyoruz. Regresyon grafiğinde Noktalar arsındaki Regresyon ağacının çizgilerini göstermek için X_grid adı altında bir değişken oluşturuyoruz. Bu değişkeni oluşturmak için x_train içinde yer alan max ve min değerlerini alarak 0.01 artış ile beraber bir numpy vektörü oluşturuyoruz."
   ]
  },
  {
   "cell_type": "code",
   "execution_count": 112,
   "metadata": {},
   "outputs": [
    {
     "data": {
      "image/png": "[encoded data removed]",
      "text/plain": [
       "<Figure size 432x288 with 1 Axes>"
      ]
     },
     "metadata": {
      "needs_background": "light"
     },
     "output_type": "display_data"
    }
   ],
   "source": [
    "X_grid = np.arange(min(np.array(X_train)),max(np.array(X_train)), 0.01) \n",
    "X_grid = X_grid.reshape((len(X_grid), 1))  \n",
    "plt.scatter(X_train, y_train, color = 'red') \n",
    "plt.plot(X_grid, cart_model.predict(X_grid), color = 'blue')  \n",
    "plt.title('CART REGRESON AĞACI')  \n",
    "plt.xlabel('Atış Sayısı(Hits)') \n",
    "plt.ylabel('Maaş (Salary)') ;"
   ]
  },
  {
   "cell_type": "markdown",
   "metadata": {},
   "source": [
    "Belli bir kural modunu python kod olarak tanımlamak için aşağıdaki kütüphaneyi kullanabilirsiniz."
   ]
  },
  {
   "cell_type": "code",
   "execution_count": 113,
   "metadata": {},
   "outputs": [],
   "source": [
    "#!pip install skompiler"
   ]
  },
  {
   "cell_type": "code",
   "execution_count": 117,
   "metadata": {},
   "outputs": [
    {
     "name": "stdout",
     "output_type": "stream",
     "text": [
      "Collecting astor\n",
      "  Downloading astor-0.8.1-py2.py3-none-any.whl (27 kB)\n",
      "Installing collected packages: astor\n",
      "Successfully installed astor-0.8.1\n"
     ]
    }
   ],
   "source": [
    "!pip install astor"
   ]
  },
  {
   "cell_type": "code",
   "execution_count": 118,
   "metadata": {},
   "outputs": [],
   "source": [
    "from skompiler import skompile"
   ]
  },
  {
   "cell_type": "code",
   "execution_count": 119,
   "metadata": {},
   "outputs": [
    {
     "name": "stdout",
     "output_type": "stream",
     "text": [
      "((920.0 if x[0] <= 18.0 else ((500.0 if x[0] <= 34.5 else (70.0 if x[0] <= \n",
      "    38.0 else 175.0) if x[0] <= 39.5 else 90.0 if x[0] <= 40.5 else 67.5) if\n",
      "    x[0] <= 41.5 else 900.0 if x[0] <= 42.5 else (((((215.55566666666667 if\n",
      "    x[0] <= 44.5 else 180.0) if x[0] <= 46.5 else 347.5 if x[0] <= 48.0 else\n",
      "    337.5) if x[0] <= 50.0 else 70.0) if x[0] <= 51.5 else 507.5) if x[0] <=\n",
      "    52.5 else 150.0 if x[0] <= 53.5 else 146.83333333333334) if x[0] <= \n",
      "    54.5 else 1300.0 if x[0] <= 55.5 else (170.0 if x[0] <= 56.5 else \n",
      "    193.75) if x[0] <= 57.5 else ((((((340.0 if x[0] <= 59.0 else 418.5) if\n",
      "    x[0] <= 60.5 else 235.0 if x[0] <= 62.0 else 341.667) if x[0] <= 63.5 else\n",
      "    75.0) if x[0] <= 64.5 else 650.0) if x[0] <= 65.5 else 170.0 if x[0] <=\n",
      "    67.0 else 228.66666666666666) if x[0] <= 69.0 else 472.5) if x[0] <= \n",
      "    70.5 else (100.0 if x[0] <= 71.5 else 130.0) if x[0] <= 72.5 else \n",
      "    409.16650000000004 if x[0] <= 74.5 else 215.0) if x[0] <= 76.5 else (((\n",
      "    505.0 if x[0] <= 77.5 else ((((328.88899999999995 if x[0] <= 79.0 else \n",
      "    700.0) if x[0] <= 80.5 else 348.75 if x[0] <= 81.5 else 267.5) if x[0] <=\n",
      "    82.5 else 600.0 if x[0] <= 83.5 else 600.0) if x[0] <= 84.5 else (\n",
      "    331.25 if x[0] <= 85.5 else (180.0 if x[0] <= 86.5 else 91.5) if x[0] <=\n",
      "    88.5 else 450.0 if x[0] <= 90.5 else 125.0) if x[0] <= 91.5 else 411.25 if\n",
      "    x[0] <= 92.5 else 250.0) if x[0] <= 93.5 else 670.0 if x[0] <= 94.5 else\n",
      "    ((100.0 if x[0] <= 95.5 else 504.16650000000004) if x[0] <= 96.5 else \n",
      "    210.0 if x[0] <= 98.0 else 87.5) if x[0] <= 100.0 else 466.0) if x[0] <=\n",
      "    101.5 else 247.5 if x[0] <= 102.5 else 257.3334) if x[0] <= 103.5 else \n",
      "    (750.0 if x[0] <= 105.0 else 850.0) if x[0] <= 107.0 else 162.5 if x[0] <=\n",
      "    109.0 else (560.0 if x[0] <= 111.0 else 442.5 if x[0] <= 112.5 else \n",
      "    487.5) if x[0] <= 114.0 else 300.0) if x[0] <= 116.0 else 110.0) if x[0\n",
      "    ] <= 117.5 else ((((1300.0 if x[0] <= 118.5 else 773.3333333333334 if x\n",
      "    [0] <= 120.5 else 442.5) if x[0] <= 122.5 else 1240.0 if x[0] <= 124.0 else\n",
      "    1925.5710000000001) if x[0] <= 125.5 else (561.25 if x[0] <= 126.5 else\n",
      "    (695.2776666666667 if x[0] <= 127.5 else 1043.75) if x[0] <= 128.5 else\n",
      "    (750.0 if x[0] <= 129.5 else 480.0) if x[0] <= 130.5 else \n",
      "    726.6666666666666) if x[0] <= 131.5 else (((611.6665 if x[0] <= 133.5 else\n",
      "    461.0) if x[0] <= 135.5 else 725.0) if x[0] <= 137.0 else 152.5 if x[0] <=\n",
      "    138.5 else 555.0 if x[0] <= 139.5 else 200.0) if x[0] <= 140.5 else \n",
      "    712.5 if x[0] <= 141.5 else 777.5) if x[0] <= 143.0 else (((\n",
      "    1021.6666666666666 if x[0] <= 144.5 else 500.0 if x[0] <= 145.5 else \n",
      "    815.0) if x[0] <= 146.5 else 1230.0 if x[0] <= 148.0 else 787.5 if x[0] <=\n",
      "    149.5 else 1000.0) if x[0] <= 150.5 else 2460.0) if x[0] <= 151.5 else \n",
      "    (451.6666666666667 if x[0] <= 153.0 else 580.0 if x[0] <= 155.5 else \n",
      "    530.0) if x[0] <= 157.5 else (((((775.0 if x[0] <= 158.5 else 759.1665) if\n",
      "    x[0] <= 159.5 else 1670.0 if x[0] <= 161.5 else 923.0 if x[0] <= 165.5 else\n",
      "    863.0556666666666) if x[0] <= 168.5 else 743.3333333333334) if x[0] <= \n",
      "    169.5 else 1118.75 if x[0] <= 170.5 else 1350.0) if x[0] <= 171.5 else \n",
      "    165.0 if x[0] <= 173.0 else (849.3335 if x[0] <= 175.5 else 1350.0) if \n",
      "    x[0] <= 177.5 else (740.0 if x[0] <= 178.5 else 575.0 if x[0] <= 181.5 else\n",
      "    630.0) if x[0] <= 185.0 else 1300.0 if x[0] <= 198.5 else 740.0) if x[0\n",
      "    ] <= 212.0 else 350.0) if x[0] <= 225.5 else 1975.0)\n",
      "\n"
     ]
    }
   ],
   "source": [
    "print(skompile(cart_model.predict).to('python/code'))"
   ]
  },
  {
   "cell_type": "markdown",
   "metadata": {},
   "source": [
    "Yukarda kullandığımız skompiler kütüphanesi ile modelimiz içinde predict ettiğimiz tahmin değerlerini python code çevirmiştik. Bu kod ile tahmin işlemlerimiz gerçekleştirebiliriz."
   ]
  },
  {
   "cell_type": "markdown",
   "metadata": {},
   "source": [
    "## Tahmin"
   ]
  },
  {
   "cell_type": "code",
   "execution_count": 120,
   "metadata": {},
   "outputs": [],
   "source": [
    "x = [91]"
   ]
  },
  {
   "cell_type": "code",
   "execution_count": 121,
   "metadata": {},
   "outputs": [
    {
     "data": {
      "text/plain": [
       "345.2011551724138"
      ]
     },
     "execution_count": 121,
     "metadata": {},
     "output_type": "execute_result"
    }
   ],
   "source": [
    "(345.2011551724138 if x[0] <= 117.5 else ((((1300.0 if x[0] <= 118.5 else \n",
    "    641.0) if x[0] <= 122.5 else 1468.5236666666667) if x[0] <= 125.5 else \n",
    "    621.9679230769232) if x[0] <= 143.0 else (958.6111111111111 if x[0] <= \n",
    "    150.5 else 2460.0) if x[0] <= 151.5 else 499.1666666666667 if x[0] <= \n",
    "    157.5 else 892.5402413793104) if x[0] <= 225.5 else 1975.0)"
   ]
  },
  {
   "cell_type": "markdown",
   "metadata": {},
   "source": [
    "Her zaman yaptığımız gibi tahminleme ve hata kareler ortalamasını yazdıralım"
   ]
  },
  {
   "cell_type": "code",
   "execution_count": 122,
   "metadata": {},
   "outputs": [
    {
     "data": {
      "text/plain": [
       "array([ 725.    , 1230.    ,  725.    ,  504.1665,   67.5   ])"
      ]
     },
     "execution_count": 122,
     "metadata": {},
     "output_type": "execute_result"
    }
   ],
   "source": [
    "cart_model.predict(X_test)[0:5]"
   ]
  },
  {
   "cell_type": "code",
   "execution_count": 123,
   "metadata": {},
   "outputs": [
    {
     "data": {
      "text/plain": [
       "array([125.])"
      ]
     },
     "execution_count": 123,
     "metadata": {},
     "output_type": "execute_result"
    }
   ],
   "source": [
    "cart_model.predict([[91]])"
   ]
  },
  {
   "cell_type": "code",
   "execution_count": 124,
   "metadata": {},
   "outputs": [],
   "source": [
    "y_pred =cart_model.predict(X_test)"
   ]
  },
  {
   "cell_type": "code",
   "execution_count": 125,
   "metadata": {},
   "outputs": [
    {
     "data": {
      "text/plain": [
       "468.49579052913884"
      ]
     },
     "execution_count": 125,
     "metadata": {},
     "output_type": "execute_result"
    }
   ],
   "source": [
    "np.sqrt(mean_squared_error(y_test, y_pred))"
   ]
  },
  {
   "cell_type": "markdown",
   "metadata": {},
   "source": [
    "## Model Tuning"
   ]
  },
  {
   "cell_type": "markdown",
   "metadata": {},
   "source": [
    "Cart modelimizin alacağı parametlerden min_samples_split ve max_leaf_nodes parametrelerini 2–100 e kadar 1 er 1 er artan bir bir aralık olarak belirledik. Belirlediğimiz bu değeri grid-cross-validation içine modelimiz, belirlediğimiz parametreler ve cv = derinliğini 10 olacak şekilde gönderdik. Modelimizi eğitim setimiz ile fit ettik."
   ]
  },
  {
   "cell_type": "code",
   "execution_count": 126,
   "metadata": {},
   "outputs": [],
   "source": [
    "cart_model = DecisionTreeRegressor()\n",
    "cart_model.fit(X_train, y_train)\n",
    "y_pred = cart_model.predict(X_test)"
   ]
  },
  {
   "cell_type": "code",
   "execution_count": 127,
   "metadata": {},
   "outputs": [
    {
     "data": {
      "text/plain": [
       "468.49579052913884"
      ]
     },
     "execution_count": 127,
     "metadata": {},
     "output_type": "execute_result"
    }
   ],
   "source": [
    "np.sqrt(mean_squared_error(y_test, y_pred))"
   ]
  },
  {
   "cell_type": "markdown",
   "metadata": {},
   "source": [
    "min_samples_split değerlerini seçerken eğer max_leaf_nodes değeri ile aynı best_params değeri çıkarsa hiperparemetrenin doğru aralıkta aranmadığını düşünürüz."
   ]
  },
  {
   "cell_type": "code",
   "execution_count": 128,
   "metadata": {},
   "outputs": [],
   "source": [
    "cart_params = {\"min_samples_split\": range(2,100),\n",
    "               \"max_leaf_nodes\": range(2,10)}"
   ]
  },
  {
   "cell_type": "code",
   "execution_count": 129,
   "metadata": {},
   "outputs": [],
   "source": [
    "cart_cv_model = GridSearchCV(cart_model, cart_params, cv = 10)"
   ]
  },
  {
   "cell_type": "code",
   "execution_count": 130,
   "metadata": {},
   "outputs": [
    {
     "data": {
      "text/plain": [
       "GridSearchCV(cv=10, estimator=DecisionTreeRegressor(),\n",
       "             param_grid={'max_leaf_nodes': range(2, 10),\n",
       "                         'min_samples_split': range(2, 100)})"
      ]
     },
     "execution_count": 130,
     "metadata": {},
     "output_type": "execute_result"
    }
   ],
   "source": [
    "cart_cv_model.fit(X_train, y_train)"
   ]
  },
  {
   "cell_type": "markdown",
   "metadata": {},
   "source": [
    "En iyi parametrelerimizi yazdırıyoruz."
   ]
  },
  {
   "cell_type": "code",
   "execution_count": 131,
   "metadata": {},
   "outputs": [
    {
     "data": {
      "text/plain": [
       "{'max_leaf_nodes': 9, 'min_samples_split': 76}"
      ]
     },
     "execution_count": 131,
     "metadata": {},
     "output_type": "execute_result"
    }
   ],
   "source": [
    "cart_cv_model.best_params_"
   ]
  },
  {
   "cell_type": "code",
   "execution_count": 132,
   "metadata": {},
   "outputs": [],
   "source": [
    "cart_tuned = DecisionTreeRegressor(max_leaf_nodes = 9, min_samples_split = 37)\n",
    "# Hata oranımızın az olduğu parametreler ile modelimizi oluşturduk"
   ]
  },
  {
   "cell_type": "code",
   "execution_count": 133,
   "metadata": {},
   "outputs": [
    {
     "data": {
      "text/plain": [
       "DecisionTreeRegressor(max_leaf_nodes=9, min_samples_split=37)"
      ]
     },
     "execution_count": 133,
     "metadata": {},
     "output_type": "execute_result"
    }
   ],
   "source": [
    "cart_tuned.fit(X_train, y_train)"
   ]
  },
  {
   "cell_type": "code",
   "execution_count": 134,
   "metadata": {},
   "outputs": [],
   "source": [
    "y_pred = cart_tuned.predict(X_test)"
   ]
  },
  {
   "cell_type": "code",
   "execution_count": 135,
   "metadata": {},
   "outputs": [
    {
     "data": {
      "text/plain": [
       "434.2326688144208"
      ]
     },
     "execution_count": 135,
     "metadata": {},
     "output_type": "execute_result"
    }
   ],
   "source": [
    "np.sqrt(mean_squared_error(y_test, y_pred))"
   ]
  },
  {
   "cell_type": "markdown",
   "metadata": {},
   "source": [
    "En iyi parametreleri cart_tuned adında belirlediğimiz en iyi parametreler ile model oluşturduk. Eğitim setimiz ile eğittik. Ve tahmin edilen y değerleri ile test setimizdeki y değerlerinin hata karaler ortalamasını aldık."
   ]
  },
  {
   "cell_type": "markdown",
   "metadata": {},
   "source": [
    "# Bagged Trees Regresyon"
   ]
  },
  {
   "cell_type": "markdown",
   "metadata": {},
   "source": [
    "Temeli bootstrap yöntemi ile oluşturulan birden fazla karar ağacının ürettiği tahminlerin bir araya getirilerek değerlendirilmesine dayanır."
   ]
  },
  {
   "cell_type": "code",
   "execution_count": 136,
   "metadata": {},
   "outputs": [
    {
     "data": {
      "text/plain": [
       "<matplotlib.image.AxesImage at 0x12d20d6e5f8>"
      ]
     },
     "execution_count": 136,
     "metadata": {},
     "output_type": "execute_result"
    },
    {
     "data": {
      "image/png": "[encoded data removed]",
      "text/plain": [
       "<Figure size 432x288 with 1 Axes>"
      ]
     },
     "metadata": {
      "needs_background": "light"
     },
     "output_type": "display_data"
    }
   ],
   "source": [
    "import matplotlib.pyplot as plt\n",
    "import matplotlib.image as mpimg\n",
    "plt.imshow(mpimg.imread(\"bagtrees.png\"))"
   ]
  },
  {
   "cell_type": "code",
   "execution_count": 137,
   "metadata": {},
   "outputs": [],
   "source": [
    "hit = pd.read_csv(\"Hitters.csv\")\n",
    "df = hit.copy()\n",
    "df = df.dropna()\n",
    "dms = pd.get_dummies(df[['League', 'Division', 'NewLeague']])\n",
    "y = df[\"Salary\"]\n",
    "X_ = df.drop(['Salary', 'League', 'Division', 'NewLeague'], axis=1).astype('float64')\n",
    "X = pd.concat([X_, dms[['League_N', 'Division_W', 'NewLeague_N']]], axis=1)\n",
    "X_train, X_test, y_train, y_test = train_test_split(X, y, \n",
    "                                                    test_size=0.25, \n",
    "                                                    random_state=42)"
   ]
  },
  {
   "cell_type": "code",
   "execution_count": 138,
   "metadata": {},
   "outputs": [
    {
     "data": {
      "text/plain": [
       "BaggingRegressor(bootstrap_features=True)"
      ]
     },
     "execution_count": 138,
     "metadata": {},
     "output_type": "execute_result"
    }
   ],
   "source": [
    "bag_model = BaggingRegressor(bootstrap_features = True)\n",
    "bag_model.fit(X_train, y_train) # modeli kurduk"
   ]
  },
  {
   "cell_type": "code",
   "execution_count": 139,
   "metadata": {},
   "outputs": [
    {
     "data": {
      "text/plain": [
       "10"
      ]
     },
     "execution_count": 139,
     "metadata": {},
     "output_type": "execute_result"
    }
   ],
   "source": [
    "bag_model.n_estimators # Birden fazla kaç ağaç var"
   ]
  },
  {
   "cell_type": "code",
   "execution_count": 140,
   "metadata": {},
   "outputs": [
    {
     "data": {
      "text/plain": [
       "[DecisionTreeRegressor(random_state=1226492222),\n",
       " DecisionTreeRegressor(random_state=1678213587),\n",
       " DecisionTreeRegressor(random_state=1865117999),\n",
       " DecisionTreeRegressor(random_state=568562694),\n",
       " DecisionTreeRegressor(random_state=1717550938),\n",
       " DecisionTreeRegressor(random_state=1661473692),\n",
       " DecisionTreeRegressor(random_state=439043039),\n",
       " DecisionTreeRegressor(random_state=330785540),\n",
       " DecisionTreeRegressor(random_state=1644284216),\n",
       " DecisionTreeRegressor(random_state=1499766192)]"
      ]
     },
     "execution_count": 140,
     "metadata": {},
     "output_type": "execute_result"
    }
   ],
   "source": [
    "bag_model.estimators_ # Her birisi birbirinden farklı ağaç"
   ]
  },
  {
   "cell_type": "code",
   "execution_count": 141,
   "metadata": {},
   "outputs": [
    {
     "data": {
      "text/plain": [
       "[array([ 61,  65, 171,  85,  80, 131,  63, 134,  66, 158,  19,  64, 143,\n",
       "         98, 148,  48, 176,   1,  45,  90,  42, 174,   1, 163, 106,  85,\n",
       "        192, 122, 123, 122,  93, 100,  46,   2,  92,  36,  80, 125, 150,\n",
       "         66, 130, 169, 177, 124,  19, 141,  12, 194, 194, 165,  43, 186,\n",
       "        116, 103,  79,  72, 159, 153,  19, 116, 160,  63,  84, 105, 171,\n",
       "        118, 112,  44, 117,  28,  80, 136,  70,   3,  16,  66, 164,  96,\n",
       "         84,  58, 114, 168, 163, 127, 120, 162, 104,  24, 139,  92, 170,\n",
       "        128,  69, 117, 139,  64,  75, 111, 163,  80, 145,  45,  89,  83,\n",
       "         44,  51,  90, 115, 134,  60,  11,  22,  57, 162, 160, 172,  90,\n",
       "         57, 124, 144, 190, 183,  37,  40, 105,  29, 116, 150,   0, 165,\n",
       "         21, 120,   3, 194,  34, 137,   8, 181, 196,  36, 138, 190, 156,\n",
       "        135,  86, 187, 101,  59,  69, 136,  90, 149,  26, 140, 145,   0,\n",
       "          6, 158,  62,  32, 110,  20, 165,  58, 114,  30, 137, 160,  24,\n",
       "          9, 164,  97,  93,  70, 170, 102,  19, 121, 138,  67,   7, 194,\n",
       "         20,  62, 140,  20, 170,  12, 192,  60,  89,  92, 140, 174, 181,\n",
       "        162, 165]),\n",
       " array([ 34, 130, 154,  50, 117, 146,  20, 166, 122,  81, 130,  69,  25,\n",
       "         46, 122, 133,  49, 196,  43, 159,  15,   5,  12, 137,  78,  44,\n",
       "         16,   9, 196,  64,  87, 176,  65, 122,  60, 171,  24, 119,  56,\n",
       "        135,  62,   9, 175,  43, 114, 196, 181,  96, 140,   9,  63,   7,\n",
       "         44, 133, 144,  29,  42, 105,  84, 183, 193,  78, 102,  75,  63,\n",
       "        138,  95,  47, 155, 117, 121, 108, 158,  93,  83,  29, 169, 114,\n",
       "        106,  65,  67, 140, 167, 107, 130, 196, 160,  73,  49, 131,  58,\n",
       "         61,  75,   9, 189,  47, 158, 169,  77,  64, 172,  95, 166,  38,\n",
       "         50,  51, 138, 140, 134,  32,  46,  90,  69,  92,  36, 105, 188,\n",
       "         40, 175, 152,  17,  11,  12,  83, 164, 182,  73,  18, 135, 152,\n",
       "        143,  54,  68,  19,  16,  34,  93,  32,  23,  53,  82, 131,   8,\n",
       "         39,  65, 137,  86,  65, 180, 126, 160,  64, 138,  66,  13,   2,\n",
       "         28,  92,  23,  30,  84,  49, 126, 177,  49, 184,  92,  83, 130,\n",
       "        104, 144,  73,  53, 108, 116, 152, 196, 106, 192,  87, 148,  34,\n",
       "        189, 109, 177, 186,  52, 128, 183,  71, 120, 169,   5,  31,  64,\n",
       "         63, 170]),\n",
       " array([ 34,  57, 159, 141,  67,  92,  37, 115, 142, 167, 124,  64,  98,\n",
       "        136, 104,   9,  50,   2, 145,   1,  13,  72,  76,  57,  46,  16,\n",
       "         46, 168,  44, 173,   0, 137,  68,   9, 193,   6, 168,   6, 120,\n",
       "         49,  61,  40,   3,   3, 160, 163,  37, 150,  11,   5, 136,  23,\n",
       "        185, 139,  48,   7, 170,  22, 166, 124,  14, 135, 134,  90, 179,\n",
       "         85, 173,  10, 123, 180,  65,  43,  79, 171, 115,  29,  15,  15,\n",
       "         41, 154,   3,  58,  99,  64, 111, 177,  34, 157, 148,  61, 123,\n",
       "         77,  99,  26, 113,  92, 144,  23,  31, 130, 163,  78, 184, 193,\n",
       "         21, 177,  71, 195,  97, 147, 172, 138,  55, 159,  50, 166,  48,\n",
       "         26, 103, 141,  24,  46,  11, 163, 152,  32, 135,  84, 109, 178,\n",
       "        190, 142,  41,  31, 139,  31,  81,  89, 183, 107,  58, 169, 160,\n",
       "         56,  93, 131, 177, 116,  61,  33, 107,   4,  95,  34, 116, 101,\n",
       "         37, 137, 166,  83,  89,  66,  87, 154, 159, 156,  67,  81, 171,\n",
       "        141, 170, 106,  59, 114,  24,  52, 115,  11,   8, 196,  38,  12,\n",
       "         42,  34,  83, 173,  75, 107,  77, 114, 179,  25,  16, 126,  84,\n",
       "         50, 143]),\n",
       " array([ 70, 166, 190, 107,  55,  33,  84,  88,  38,  66,  36,   6, 132,\n",
       "         27,  39, 172,  18, 103,  89, 101,  76, 140,  10,  40,  78, 104,\n",
       "        111, 180,  93, 142, 196, 114, 134, 173,  57,  94, 161,  17, 138,\n",
       "         33, 133,  81,  87, 194, 133,  13,   4,  99,  92,  62,  36, 173,\n",
       "        101,   6,  52, 135,  81,  83, 143,  36,  76,  95, 121, 134, 176,\n",
       "         15, 146,  84,  31,   9, 107, 174,  46, 148, 185, 132, 141, 132,\n",
       "         37, 173, 134, 134,  98, 129,  97, 179, 111, 118,  34,  67,   3,\n",
       "         51,  92,  29, 177,   2, 139, 183,  60,  39,  90,  33,  83, 176,\n",
       "        135, 183,  86, 184, 196,  33,  51,  90, 173, 111,  41,  95,  86,\n",
       "         80, 191,  15, 112,  33, 132,  38,  50,  29,  61,  95, 158,  32,\n",
       "         59, 161, 111,  99, 164, 179, 175,  54,  66,  92, 122,  80, 119,\n",
       "        196,  34,  66,  55, 142,  37,  94,   6,  73,  96,  45,  51,  16,\n",
       "        129,  53,  90,  99, 150,  29, 169, 113,  60,  62, 127, 187,   8,\n",
       "        192,  11,   7, 176, 131,  49,  22, 190,  28, 172,  91, 192,  94,\n",
       "         33, 154, 125,  71, 133, 177,  99,  68,  22, 100,  83, 193, 115,\n",
       "        194,  77]),\n",
       " array([102,  33,  76,   3, 193, 118,  35, 115, 185,   4,  50,  45,  73,\n",
       "        124, 112, 118,  14,  21,  87,  23, 100,  33,  40, 126,  81,  18,\n",
       "         83,  98,  58,   6, 122,  50, 179,  87, 155, 142, 132, 175,  18,\n",
       "        137, 141, 105, 194,   7, 117,  58, 178,  17,  78, 153, 151, 144,\n",
       "        147,  32, 168, 102, 187, 130, 121,  75,  91, 186,  10, 144, 115,\n",
       "         55,  35, 157, 183, 111,  88,  73,  90, 188,  35, 167,  86, 111,\n",
       "         19, 138, 116,  54, 103,  84, 133, 158,  12, 123,  91, 154, 133,\n",
       "        111, 184,  65, 120,   1,  70,  77,  26, 111, 160,   0, 107,  17,\n",
       "        114,  29,  15, 162, 167,  12, 183, 100,  66, 101,  64,  56, 178,\n",
       "        108,   4, 100, 111,  84,  41,   4, 168, 150,  33,  13, 136, 165,\n",
       "          0, 123, 187, 125, 158, 119,   9,  25,  72, 185,  88, 176,   4,\n",
       "         74,  14,  47,  54, 104,  87, 168,  30, 134, 104,  84,  27,  27,\n",
       "        192,  17, 183, 146, 163,  70, 164, 194,  36, 117, 118,  34,  68,\n",
       "        169,  86, 108, 156,  83,  47, 180,  71, 176, 180,  53,  40, 167,\n",
       "        156,  47, 192, 190, 144, 147, 159, 180, 177, 175, 195,  68, 130,\n",
       "         27,  89]),\n",
       " array([169, 114,  17,  43,  42,  55, 194, 125,  93, 115, 122, 145, 160,\n",
       "        150, 119,  91,  19, 129,  58,  23,  43, 158, 126, 195, 109,  18,\n",
       "        195,  27,  69, 142, 101, 148, 193, 163, 174,  87,  13,  62,  65,\n",
       "         28,   6, 138,  74,  51,  31, 139,  85, 149, 141, 130,  14,  91,\n",
       "        101,  94,  69, 101, 153, 155, 175,  16, 190, 126,  44,  63,  82,\n",
       "         19, 189, 155,   8, 167,  55,  12,  37,  76,  70, 114,  39,   4,\n",
       "        149,  42, 189,   9, 168,  92,  52, 151,  45, 159,  24, 102, 126,\n",
       "        163,  21, 102, 155, 118,  79, 163, 134, 137,  44,  18, 118, 118,\n",
       "        132,  43, 116, 195, 173, 116,  53,  94,  46, 121, 167, 115,  29,\n",
       "          8, 163, 105,  51, 138,  19,  62, 188, 196, 182, 176,  16, 169,\n",
       "        117,  17,  69, 126, 141,  85,  69,  99, 142,  59,  68,  22,  45,\n",
       "         81,  99, 129,  36,   6, 155, 130, 103,  23,  58, 142,  63,  25,\n",
       "        143, 183,  89,  61,  26, 161, 155,  42,  81,  72,  92, 179, 126,\n",
       "         85, 192, 131, 107,  33, 133, 147,  36,   1, 130, 115,  82,   6,\n",
       "         84,  54,  68, 125, 167, 176, 100,  56, 185, 137,  67, 125, 110,\n",
       "        168, 148]),\n",
       " array([ 62, 187,  74,  56,  33,  11, 151, 125, 188,  74,  17,  99,  73,\n",
       "        165,  25,  57, 189,  83, 139,  42,  74,  27, 167, 166,   1,  42,\n",
       "         64,   0,  88, 114,   3,  56, 136, 161, 167, 105,  29, 112,  77,\n",
       "         49, 139, 151,  99, 112,  62, 159, 109, 151,   2,  91, 149,   2,\n",
       "         34,  70,   2, 167,  30,  13,  39,   4,  66, 103, 168, 109, 144,\n",
       "        120, 172, 154,  59,  70,  10,  18,  72, 119, 102,  86, 191, 112,\n",
       "         33, 187, 111,  14,  74, 168,  79,  59,  41,   4, 131, 165, 112,\n",
       "        120,   5,  97,  69, 178, 112,  32,  78, 115,   0, 196, 127,  78,\n",
       "         13,  12, 167, 166, 182,  56,  56, 101, 122, 128,  44,  96,  62,\n",
       "         22,  20, 162, 170, 166, 171, 127,  55, 133, 130, 162,  64, 185,\n",
       "         46, 108, 164, 183,  50,  93,  78,  29, 173, 149,  93, 130,  60,\n",
       "        110, 160,  43, 178,   9, 147, 174,  25, 153, 141, 188, 128, 189,\n",
       "         95,  11, 174,  59, 148,  87,  27, 181,  63,  54,  29, 168, 118,\n",
       "         50, 101,  78,  12, 153,  23, 185, 111,  90, 118,  96, 151, 144,\n",
       "        170,   4, 146,  74,  63, 163, 165, 145, 117, 184, 195, 137,  52,\n",
       "        182,  55]),\n",
       " array([ 47, 111, 105, 105, 105, 168,  31,  25, 176,  95,  28,  25, 173,\n",
       "        138,  82, 152,  79, 194, 166,  77, 129,  59, 167,  96,  29,  46,\n",
       "         60, 121, 126, 104, 188,  47,  70,   1,  91, 158, 190,  46,  56,\n",
       "          6, 194, 196, 196, 186,  17, 147,   0, 126,  34,  39, 158,  81,\n",
       "        152, 116, 128, 189, 180, 177,  49, 100,  74,  70,  63, 129,  74,\n",
       "         52, 118,  72,  92, 157,   2, 123, 185,  15,  29,  91,  14,  98,\n",
       "         47, 162, 106, 129,  46,  30,  67,  51, 156,  17, 174, 171, 103,\n",
       "        127, 138, 169,  14,  97, 148, 109, 108,  48,  95, 102, 107, 175,\n",
       "        168,  46, 180,  69, 161, 160,  29, 129, 112, 195, 122,  41, 164,\n",
       "        168, 190,  14, 188, 107, 193,  65, 169, 142,   1, 158,   9,  30,\n",
       "        150,  42, 161, 194, 187,  70,  30, 115,  56,  69, 133,  77,  71,\n",
       "        162,  48,   1, 186,  70,  71, 172,   1, 142,  62, 167, 118,  75,\n",
       "         15, 195, 165,  32, 161, 141, 146,  45, 179, 138, 138, 172,  71,\n",
       "         87, 164,  50,  89,  53, 114,  45, 157, 182,  98, 112,  27,  52,\n",
       "         49, 114,  21, 172,  85, 183,  18,  66,  96,  49,  35, 142,  69,\n",
       "        165, 160]),\n",
       " array([124, 141,  66,  16, 144, 158,  60,  21, 156,  55, 131,  16, 137,\n",
       "         97, 112, 181, 164, 150,  30, 121,  93,  92, 156, 129,  50,  95,\n",
       "        190,  25,  32,  41, 140,  75,  26, 182,  96,  47, 109,  16,  68,\n",
       "        133, 150,  29, 117,  39, 121, 106, 115, 170, 150, 170, 110, 123,\n",
       "        146, 144,  74, 152,  98,   5,  13,  72,  72, 147, 136, 137,   0,\n",
       "         71,  44,  63, 184,  69, 167, 193, 132, 145,  40, 112,   9, 189,\n",
       "        173, 134,  81, 182,  62,  47, 125, 158, 160,  36,  92, 140,  58,\n",
       "        107, 125, 101, 100, 162, 121,  94, 136, 151, 129,  32,  23, 182,\n",
       "        165,   4,  77, 182, 153,  21,  44, 163, 177,   5, 149, 196, 158,\n",
       "         62,  86,  81,  54,  39,  25, 106, 174,  82,  14, 193, 120,  16,\n",
       "        186, 100, 128, 133, 119,  37,  32, 196,  14,  84, 177, 154,  24,\n",
       "        178, 126,  42,  47,  72, 156,  75, 191,  53, 172, 126,  60, 175,\n",
       "         57,  93, 143,  84, 107, 164,  84, 115, 147, 179,  79, 170,  57,\n",
       "         94, 179, 132, 122, 109,  11,  24,  46,  65, 136,  70, 164,  27,\n",
       "         93,   1,   8,  41, 148,  34,  16,  37,  44, 174, 149, 175, 110,\n",
       "        167,   2]),\n",
       " array([110,  44, 182,  90, 165,  95,  49, 191,  28, 124, 184, 162, 141,\n",
       "        135, 168,  81, 153, 148,  13,  92,  23,  27,  69, 101, 194,  95,\n",
       "         95,  40, 155,  62,  14, 142,  56,   5, 170, 142,  26,  94, 140,\n",
       "        101, 115,  81,  65,  75, 138,  68, 149,  89, 188,  30,  97,  96,\n",
       "         89, 133, 195,  56,  89,  48,  33, 121,  71,  61,  27, 118, 189,\n",
       "        100,  91, 107,  63,   3,  84, 147, 140, 133,  54,  92, 135, 157,\n",
       "         24,  82, 165,  95, 132, 152, 188,  26, 112,  75,  92,   6,  62,\n",
       "        101,  76, 187, 190, 136,  12,  56, 111,  92,  10,  13, 138, 119,\n",
       "         76, 104, 128,  14,  43, 144,  66,  82,  91,  37, 141,  91,  76,\n",
       "        130, 115, 121, 129, 133, 184, 183,   9,  63, 185, 174,  82,  61,\n",
       "         99,  80, 157, 175,  43,  78,  28,  19,   3,   7, 180,  50, 184,\n",
       "          0, 104,  35, 136, 133, 153, 133, 147,  68,  10,  67,  17,  65,\n",
       "        123, 124,  53,  82, 176,  55, 187,  64, 105,  98, 195, 102, 130,\n",
       "         77,  90, 119,  37,  70, 173, 174, 166, 129,  46, 183, 105,  28,\n",
       "         73, 119, 183, 182,  70, 149, 161, 109,  45, 177, 129, 157, 173,\n",
       "         38,  12])]"
      ]
     },
     "execution_count": 141,
     "metadata": {},
     "output_type": "execute_result"
    }
   ],
   "source": [
    "bag_model.estimators_samples_ # Her ağacın örnekleri"
   ]
  },
  {
   "cell_type": "code",
   "execution_count": 142,
   "metadata": {},
   "outputs": [
    {
     "data": {
      "text/plain": [
       "[array([ 0,  1,  7, 17,  5, 11,  2,  7,  4,  3, 12, 11, 14,  7, 11,  7,  4,\n",
       "         2,  3]),\n",
       " array([ 8,  8, 18, 18,  7,  1, 11, 15, 13,  0,  1, 15, 18, 12,  6,  1, 12,\n",
       "        14,  5]),\n",
       " array([15,  8,  1, 10, 18, 15,  8,  8, 14, 11, 10,  5, 10, 10,  8, 14,  0,\n",
       "         5,  5]),\n",
       " array([ 6,  0, 11, 18,  9, 16, 17,  7, 16,  1,  1,  5, 13, 11,  2, 10, 12,\n",
       "        11, 17]),\n",
       " array([12,  8,  2,  4, 18, 18,  5,  6, 18, 18, 12, 12,  9, 11, 10,  6, 13,\n",
       "         6, 13]),\n",
       " array([ 8,  1, 18,  0,  9, 15, 10,  6,  4, 11,  9, 14, 13,  0,  2,  0,  7,\n",
       "         8, 10]),\n",
       " array([15, 15,  0,  1,  2, 11, 12, 18,  4, 15, 17,  9,  9, 12,  9, 11, 11,\n",
       "         8, 14]),\n",
       " array([ 4,  6,  5, 13,  2, 18,  7, 18,  5, 16, 10, 17, 13,  4,  2,  9,  8,\n",
       "         2,  9]),\n",
       " array([ 2,  1, 17, 11,  8,  3,  7, 16,  6,  4,  2, 12, 11, 13,  8, 11,  0,\n",
       "         9, 12]),\n",
       " array([16,  1,  3, 17,  3, 18,  0, 13, 16, 11, 17, 10, 11, 16,  0, 15, 10,\n",
       "        15, 17])]"
      ]
     },
     "execution_count": 142,
     "metadata": {},
     "output_type": "execute_result"
    }
   ],
   "source": [
    "bag_model.estimators_features_ # Her ağacın kullandığı bağımsız değişkenler"
   ]
  },
  {
   "cell_type": "code",
   "execution_count": 143,
   "metadata": {},
   "outputs": [
    {
     "data": {
      "text/plain": [
       "DecisionTreeRegressor(random_state=1226492222)"
      ]
     },
     "execution_count": 143,
     "metadata": {},
     "output_type": "execute_result"
    }
   ],
   "source": [
    "# Her modele özel değerler\n",
    "bag_model.estimators_[0] # ilk modelin özellikleri"
   ]
  },
  {
   "cell_type": "code",
   "execution_count": 144,
   "metadata": {},
   "outputs": [
    {
     "data": {
      "text/plain": [
       "DecisionTreeRegressor(random_state=1678213587)"
      ]
     },
     "execution_count": 144,
     "metadata": {},
     "output_type": "execute_result"
    }
   ],
   "source": [
    "bag_model.estimators_[1]"
   ]
  },
  {
   "cell_type": "markdown",
   "metadata": {},
   "source": [
    "## Tahmin"
   ]
  },
  {
   "cell_type": "code",
   "execution_count": 145,
   "metadata": {},
   "outputs": [],
   "source": [
    "y_pred = bag_model.predict(X_test) # ilkel test hatası"
   ]
  },
  {
   "cell_type": "code",
   "execution_count": 146,
   "metadata": {},
   "outputs": [
    {
     "data": {
      "text/plain": [
       "345.6797832335559"
      ]
     },
     "execution_count": 146,
     "metadata": {},
     "output_type": "execute_result"
    }
   ],
   "source": [
    "np.sqrt(mean_squared_error(y_test, y_pred))"
   ]
  },
  {
   "cell_type": "code",
   "execution_count": 147,
   "metadata": {},
   "outputs": [],
   "source": [
    "# Belirli bir ağacı seçerek test etme\n",
    "iki_y_pred = bag_model.estimators_[1].fit(X_train, y_train).predict(X_test)"
   ]
  },
  {
   "cell_type": "code",
   "execution_count": 148,
   "metadata": {},
   "outputs": [
    {
     "data": {
      "text/plain": [
       "446.38812257440276"
      ]
     },
     "execution_count": 148,
     "metadata": {},
     "output_type": "execute_result"
    }
   ],
   "source": [
    "np.sqrt(mean_squared_error(y_test, iki_y_pred)) # ikinci ağacın hata miktarı"
   ]
  },
  {
   "cell_type": "code",
   "execution_count": 149,
   "metadata": {},
   "outputs": [],
   "source": [
    "yedi_y_pred = bag_model.estimators_[6].fit(X_train, y_train).predict(X_test)"
   ]
  },
  {
   "cell_type": "code",
   "execution_count": 150,
   "metadata": {},
   "outputs": [
    {
     "data": {
      "text/plain": [
       "524.9746214976982"
      ]
     },
     "execution_count": 150,
     "metadata": {},
     "output_type": "execute_result"
    }
   ],
   "source": [
    "np.sqrt(mean_squared_error(y_test, yedi_y_pred))"
   ]
  },
  {
   "cell_type": "markdown",
   "metadata": {},
   "source": [
    "# Model Tuning"
   ]
  },
  {
   "cell_type": "markdown",
   "metadata": {},
   "source": [
    "Bagging methodolojisi bootstrap birleştirmesi yapmaktır. Herhangi bir ağacı bag ettiğimizde cart a uyguladğımızda ve değiken seçiminde random_state getirdiğimizde random forest yapmış oluruz."
   ]
  },
  {
   "cell_type": "markdown",
   "metadata": {},
   "source": [
    "Tahminci sayısını değiştirerek gözlemleme yapalım."
   ]
  },
  {
   "cell_type": "code",
   "execution_count": 151,
   "metadata": {},
   "outputs": [
    {
     "data": {
      "text/plain": [
       "BaggingRegressor(bootstrap_features=True)"
      ]
     },
     "execution_count": 151,
     "metadata": {},
     "output_type": "execute_result"
    }
   ],
   "source": [
    "bag_model = BaggingRegressor(bootstrap_features = True)\n",
    "bag_model.fit(X_train, y_train)"
   ]
  },
  {
   "cell_type": "code",
   "execution_count": 152,
   "metadata": {},
   "outputs": [],
   "source": [
    "bag_params = {\"n_estimators\": range(2,20)}"
   ]
  },
  {
   "cell_type": "code",
   "execution_count": 154,
   "metadata": {},
   "outputs": [],
   "source": [
    "bag_cv_model = GridSearchCV(bag_model, bag_params, cv = 10)\n",
    "# cv = cross validation"
   ]
  },
  {
   "cell_type": "code",
   "execution_count": 155,
   "metadata": {},
   "outputs": [
    {
     "data": {
      "text/plain": [
       "GridSearchCV(cv=10, estimator=BaggingRegressor(bootstrap_features=True),\n",
       "             param_grid={'n_estimators': range(2, 20)})"
      ]
     },
     "execution_count": 155,
     "metadata": {},
     "output_type": "execute_result"
    }
   ],
   "source": [
    "bag_cv_model.fit(X_train, y_train)"
   ]
  },
  {
   "cell_type": "code",
   "execution_count": 156,
   "metadata": {},
   "outputs": [
    {
     "data": {
      "text/plain": [
       "{'n_estimators': 13}"
      ]
     },
     "execution_count": 156,
     "metadata": {},
     "output_type": "execute_result"
    }
   ],
   "source": [
    "bag_cv_model.best_params_"
   ]
  },
  {
   "cell_type": "code",
   "execution_count": 157,
   "metadata": {},
   "outputs": [],
   "source": [
    "bag_tuned = BaggingRegressor( n_estimators = 13, random_state = 45)"
   ]
  },
  {
   "cell_type": "code",
   "execution_count": 158,
   "metadata": {},
   "outputs": [
    {
     "data": {
      "text/plain": [
       "BaggingRegressor(n_estimators=13, random_state=45)"
      ]
     },
     "execution_count": 158,
     "metadata": {},
     "output_type": "execute_result"
    }
   ],
   "source": [
    "bag_tuned.fit(X_train, y_train)"
   ]
  },
  {
   "cell_type": "code",
   "execution_count": 159,
   "metadata": {},
   "outputs": [],
   "source": [
    "y_pred = bag_tuned.predict(X_test)"
   ]
  },
  {
   "cell_type": "code",
   "execution_count": 160,
   "metadata": {},
   "outputs": [
    {
     "data": {
      "text/plain": [
       "351.75005432670355"
      ]
     },
     "execution_count": 160,
     "metadata": {},
     "output_type": "execute_result"
    }
   ],
   "source": [
    "np.sqrt(mean_squared_error(y_test, y_pred))"
   ]
  },
  {
   "cell_type": "markdown",
   "metadata": {},
   "source": [
    "# Random Forests"
   ]
  },
  {
   "cell_type": "markdown",
   "metadata": {},
   "source": [
    "Temeli birden çok karar ağacının ürettiği tahminlerin bir araya getirilerek değerlendirilmesine dayanır."
   ]
  },
  {
   "cell_type": "markdown",
   "metadata": {},
   "source": [
    "Rastgele ormanlar, karar ağaçlarının bir koleksiyonudur, ancak bazı farklılıklar gösterir. Bu algoritmada tek bir ağacın aksine birden fazla ağaç yetiştirilir. Sınıflandırma durumunda ormandaki tüm ağaçlar arasında en çok oyu alan seçilir. Regresyon durumunda, farklı ağaçların çıktılarının ortalamasını alır. Bu algoritma çok kararlıdır ve mevcut makine öğrenmesi sistemlerinin çoğunu oluşturan hem sınıflandırma hem de regresyon problemleri için kullanılabilir. Ancak sınıflandırmada regresyona göre daha başarılıdır. Hızlı bir şekilde eğitilebilir, ama bir kez eğitildiklerinde tahminler oluşturmak için oldukça yavaştır. Aşağıdaki alanlarda kullanılabilir."
   ]
  },
  {
   "cell_type": "markdown",
   "metadata": {},
   "source": [
    "* Görüntü Sınıflandırma\n",
    "* Nesne algılama\n",
    "* Nesne takibi\n",
    "* Kenar algılama\n",
    "* Anlamsal Bölümleme\n",
    "* Yüz ifadesi tanıma"
   ]
  },
  {
   "cell_type": "markdown",
   "metadata": {},
   "source": [
    "- Ağaçlar için gözlemler bootstrap rastgele örnek seçim yöntemi ile *değişkenler random subspace yöntemi ile seçilir.*\n",
    "\n",
    "\n",
    "- Karar ağacını her bir düğümünde en iyi dallara ayırıcı (bilgi kazancı) değişken tüm değişkenler arasından rastgele seçilen daha az sayıdaki değişken arasından seçilir.\n",
    "\n",
    "\n",
    "- Ağaç oluşturmada veri setinin 2/3’ü kullanılır. Dışarıda kalan veri ağaçları, performansın test edilmesi ve değişken öneminin belirlenmesi için kullanılır.\n",
    "\n",
    "\n",
    "- Her düğüm noktasında rastgele değişken seçimi yapılır.( regresyon’da p/3,sınıflandırma’da karekök p)\n",
    "\n",
    "\n",
    "- Nihai tahmin için ağaçlardan tahmin değerleri talep edilirken her bir ağacın daha önce hesaplanan hata oranları göz önüne alınarak ağaçlara ağırlık verilir. Çok başarısız olan ağaçların tahmin değerlerini neredeyse önemsemez. Bu özellik Random Forests’ı , Bagging’ten ayıran en büyük özelliktir.\n",
    "\n",
    "\n",
    "- Random Forests da eksik değerlerle başa çıkabilir. Bunu yapmasının iki yolu var; sürekli değişkenleri değiştirmek için medyan değeri kullanma ve eksik değerlerin yakınlık ağırlıklı ortalamasını hesaplama."
   ]
  },
  {
   "cell_type": "code",
   "execution_count": 161,
   "metadata": {},
   "outputs": [],
   "source": [
    "hit = pd.read_csv(\"Hitters.csv\")\n",
    "df = hit.copy()\n",
    "df = df.dropna()\n",
    "dms = pd.get_dummies(df[['League', 'Division', 'NewLeague']])\n",
    "y = df[\"Salary\"]\n",
    "X_ = df.drop(['Salary', 'League', 'Division', 'NewLeague'], axis=1).astype('float64')\n",
    "X = pd.concat([X_, dms[['League_N', 'Division_W', 'NewLeague_N']]], axis=1)\n",
    "X_train, X_test, y_train, y_test = train_test_split(X, y, \n",
    "                                                    test_size=0.25, \n",
    "                                                    random_state=42)\n"
   ]
  },
  {
   "cell_type": "code",
   "execution_count": 162,
   "metadata": {},
   "outputs": [],
   "source": [
    "from sklearn.ensemble import RandomForestRegressor"
   ]
  },
  {
   "cell_type": "code",
   "execution_count": 163,
   "metadata": {},
   "outputs": [],
   "source": [
    "rf_model = RandomForestRegressor(random_state = 42)"
   ]
  },
  {
   "cell_type": "code",
   "execution_count": 164,
   "metadata": {},
   "outputs": [
    {
     "data": {
      "text/plain": [
       "RandomForestRegressor(random_state=42)"
      ]
     },
     "execution_count": 164,
     "metadata": {},
     "output_type": "execute_result"
    }
   ],
   "source": [
    "rf_model.fit(X_train, y_train)"
   ]
  },
  {
   "cell_type": "markdown",
   "metadata": {},
   "source": [
    "## Tahmin"
   ]
  },
  {
   "cell_type": "code",
   "execution_count": 165,
   "metadata": {},
   "outputs": [
    {
     "data": {
      "text/plain": [
       "array([ 740.62167,  895.99497, 1184.695  ,  139.65167,  634.75833])"
      ]
     },
     "execution_count": 165,
     "metadata": {},
     "output_type": "execute_result"
    }
   ],
   "source": [
    "rf_model.predict(X_test)[0:5]"
   ]
  },
  {
   "cell_type": "code",
   "execution_count": 166,
   "metadata": {},
   "outputs": [],
   "source": [
    "y_pred = rf_model.predict(X_test)"
   ]
  },
  {
   "cell_type": "code",
   "execution_count": 167,
   "metadata": {},
   "outputs": [
    {
     "data": {
      "text/plain": [
       "345.00286717448006"
      ]
     },
     "execution_count": 167,
     "metadata": {},
     "output_type": "execute_result"
    }
   ],
   "source": [
    "np.sqrt(mean_squared_error(y_test, y_pred))"
   ]
  },
  {
   "cell_type": "markdown",
   "metadata": {},
   "source": [
    "## Model Tuning"
   ]
  },
  {
   "cell_type": "code",
   "execution_count": 168,
   "metadata": {},
   "outputs": [],
   "source": [
    "rf_params = {'max_depth': list(range(1,10)), # max derinlik\n",
    "            'max_features': [3,5,10,15], # max özellik (veri setinde toplam 19 değişken var)\n",
    "            'n_estimators' : [100, 200, 500, 1000, 2000]} # ağaç sayısı (itr sayısı)"
   ]
  },
  {
   "cell_type": "code",
   "execution_count": 169,
   "metadata": {},
   "outputs": [],
   "source": [
    "rf_model = RandomForestRegressor(random_state = 42)"
   ]
  },
  {
   "cell_type": "code",
   "execution_count": 170,
   "metadata": {},
   "outputs": [],
   "source": [
    "rf_cv_model = GridSearchCV(rf_model, \n",
    "                           rf_params, \n",
    "                           cv = 10, \n",
    "                            n_jobs = -1)"
   ]
  },
  {
   "cell_type": "markdown",
   "metadata": {},
   "source": [
    "Ağaç sayısını 500 e çıkarıp cv = 10 parametrelerini seçtiğimizde işlem çok uzun sürecektir. Bilgisayarın işlemcisini tam performansla çalışmasını sağlamak için n_jobs argümanına -1 girilerek bilgisayarın soğutucusu devreye girer.\n",
    "\n",
    "(50 Saat) Python A-Z™: Veri Bilimi ve Machine Learning eğitiminde Python 3.7 versiyonu kullanılır."
   ]
  },
  {
   "cell_type": "code",
   "execution_count": 171,
   "metadata": {},
   "outputs": [
    {
     "data": {
      "text/plain": [
       "GridSearchCV(cv=10, estimator=RandomForestRegressor(random_state=42), n_jobs=-1,\n",
       "             param_grid={'max_depth': [1, 2, 3, 4, 5, 6, 7, 8, 9],\n",
       "                         'max_features': [3, 5, 10, 15],\n",
       "                         'n_estimators': [100, 200, 500, 1000, 2000]})"
      ]
     },
     "execution_count": 171,
     "metadata": {},
     "output_type": "execute_result"
    }
   ],
   "source": [
    "rf_cv_model.fit(X_train, y_train)"
   ]
  },
  {
   "cell_type": "code",
   "execution_count": 172,
   "metadata": {},
   "outputs": [
    {
     "data": {
      "text/plain": [
       "{'max_depth': 8, 'max_features': 3, 'n_estimators': 100}"
      ]
     },
     "execution_count": 172,
     "metadata": {},
     "output_type": "execute_result"
    }
   ],
   "source": [
    "rf_cv_model.best_params_"
   ]
  },
  {
   "cell_type": "code",
   "execution_count": 173,
   "metadata": {},
   "outputs": [],
   "source": [
    "rf_tuned = RandomForestRegressor(max_depth  = 8, \n",
    "                                 max_features = 3, \n",
    "                                 n_estimators =100)"
   ]
  },
  {
   "cell_type": "code",
   "execution_count": 174,
   "metadata": {},
   "outputs": [
    {
     "data": {
      "text/plain": [
       "RandomForestRegressor(max_depth=8, max_features=3)"
      ]
     },
     "execution_count": 174,
     "metadata": {},
     "output_type": "execute_result"
    }
   ],
   "source": [
    "rf_tuned.fit(X_train, y_train)"
   ]
  },
  {
   "cell_type": "code",
   "execution_count": 175,
   "metadata": {},
   "outputs": [],
   "source": [
    "y_pred = rf_tuned.predict(X_test)"
   ]
  },
  {
   "cell_type": "code",
   "execution_count": 176,
   "metadata": {},
   "outputs": [
    {
     "data": {
      "text/plain": [
       "347.6236636233905"
      ]
     },
     "execution_count": 176,
     "metadata": {},
     "output_type": "execute_result"
    }
   ],
   "source": [
    "np.sqrt(mean_squared_error(y_test, y_pred))"
   ]
  },
  {
   "cell_type": "markdown",
   "metadata": {},
   "source": [
    "“Bagging ile Boosting yöntemlerinin en belirgin farkı, bagging yöntemlerinde ağaçların birbirlerine bağımlılıkları yoktur. Boosting yönteminde ise ağaçlar artıklar üzerine kurulur dolayısıyla ağaçların birbirlerine bağımlılıkları söz konusudur.”"
   ]
  },
  {
   "cell_type": "markdown",
   "metadata": {},
   "source": [
    "Breiman, tıpkı Bagging tekniğinde rastgele gözlem birimleri üzerinden elde ettiği rastgeleliği, değişkenler için de edinmek amacıyla, değişkenlerde rastgele seçimler yaparak **Random Subspace** tekniğini geliştirmiştir."
   ]
  },
  {
   "cell_type": "code",
   "execution_count": 177,
   "metadata": {},
   "outputs": [],
   "source": [
    "Importance = pd.DataFrame({\"Importance\": rf_tuned.feature_importances_*100},\n",
    "                         index = X_train.columns)"
   ]
  },
  {
   "cell_type": "code",
   "execution_count": 178,
   "metadata": {},
   "outputs": [
    {
     "data": {
      "text/plain": [
       "Text(0.5, 0, 'Değişken Önem Düzeyleri')"
      ]
     },
     "execution_count": 178,
     "metadata": {},
     "output_type": "execute_result"
    },
    {
     "data": {
      "image/png": "[encoded data removed]",
      "text/plain": [
       "<Figure size 432x288 with 1 Axes>"
      ]
     },
     "metadata": {
      "needs_background": "light"
     },
     "output_type": "display_data"
    }
   ],
   "source": [
    "Importance.sort_values(by = \"Importance\", \n",
    "                       axis = 0, \n",
    "                       ascending = True).plot(kind =\"barh\", color = \"r\")\n",
    "\n",
    "plt.xlabel(\"Değişken Önem Düzeyleri\")"
   ]
  },
  {
   "cell_type": "markdown",
   "metadata": {},
   "source": [
    "# Boosting Yöntemleri"
   ]
  },
  {
   "cell_type": "markdown",
   "metadata": {},
   "source": [
    "Zayıf öğrenicileri bir araya getirip güçlü bir öğrenici ortaya çıkarmak fikrine dayanır."
   ]
  },
  {
   "cell_type": "markdown",
   "metadata": {},
   "source": [
    "# Adaptive Boosting (AdaBoost)"
   ]
  },
  {
   "cell_type": "markdown",
   "metadata": {},
   "source": [
    "Zayıf sınıflandırıcıların bir araya gelerek güçlü bir sınıflandırıcı oluşturması fikrini hayata geçiren algoritmadır. Ağaçların birbirine bağımlılığı söz konusudur."
   ]
  },
  {
   "cell_type": "markdown",
   "metadata": {},
   "source": [
    "# Gradient Boosting Machines"
   ]
  },
  {
   "cell_type": "markdown",
   "metadata": {},
   "source": [
    "AdaBoost'un sınıflandırma  ve regresyon problelerine kolayca uyarlanabilen genelleştirilmiş versiyonudur.\n",
    "\n",
    "Artıklar üzerine tek bir tahminsel model formundaolan modeller serisi kurulur."
   ]
  },
  {
   "cell_type": "markdown",
   "metadata": {},
   "source": [
    "* Gradient boosting tek bir tahminsel model formunda olan modeller serisi oluşturur. \n",
    "* Seri içerisindeki bir model serideki bir önceki modelin tahmin artıklanının/ hatalarının (residuals) üzerine kurularak (fit) oluşturulur. \n",
    "* GBM diferansiyellenebilen herhangi bir kayıp fonksiyonunu optimize edebilen Gradient descent algoritmasını kullanmakta.\n",
    "* GB bir çok temel öğrenici tipi (base learner type) kullanabilir. (Trees, linear terms, splines,...) \n",
    "* Cost fonksiyonları ve link fonksiyonları modifiye edilebilirdir. \n",
    "* Boosting+Gradient Descent"
   ]
  },
  {
   "cell_type": "code",
   "execution_count": 179,
   "metadata": {},
   "outputs": [],
   "source": [
    "from sklearn.ensemble import GradientBoostingRegressor"
   ]
  },
  {
   "cell_type": "code",
   "execution_count": 180,
   "metadata": {},
   "outputs": [
    {
     "data": {
      "text/plain": [
       "GradientBoostingRegressor()"
      ]
     },
     "execution_count": 180,
     "metadata": {},
     "output_type": "execute_result"
    }
   ],
   "source": [
    "gbm_model = GradientBoostingRegressor() # model kurma\n",
    "gbm_model.fit(X_train, y_train)"
   ]
  },
  {
   "cell_type": "markdown",
   "metadata": {},
   "source": [
    "## Tahmin"
   ]
  },
  {
   "cell_type": "code",
   "execution_count": 181,
   "metadata": {},
   "outputs": [
    {
     "data": {
      "text/plain": [
       "352.88368370114756"
      ]
     },
     "execution_count": 181,
     "metadata": {},
     "output_type": "execute_result"
    }
   ],
   "source": [
    "y_pred = gbm_model.predict(X_test)\n",
    "np.sqrt(mean_squared_error(y_test, y_pred))"
   ]
  },
  {
   "cell_type": "markdown",
   "metadata": {},
   "source": [
    "## Model Tuning"
   ]
  },
  {
   "cell_type": "code",
   "execution_count": 182,
   "metadata": {},
   "outputs": [],
   "source": [
    "gbm_params = {\n",
    "    'learning_rate': [0.001, 0.01, 0.1, 0.2],\n",
    "    'max_depth': [3, 5, 8,50,100],\n",
    "    'n_estimators': [200, 500, 1000, 2000],\n",
    "    'subsample': [1,0.5,0.75],\n",
    "}"
   ]
  },
  {
   "cell_type": "code",
   "execution_count": 183,
   "metadata": {},
   "outputs": [
    {
     "name": "stdout",
     "output_type": "stream",
     "text": [
      "Fitting 10 folds for each of 240 candidates, totalling 2400 fits\n"
     ]
    },
    {
     "data": {
      "text/plain": [
       "GridSearchCV(cv=10, estimator=GradientBoostingRegressor(), n_jobs=-1,\n",
       "             param_grid={'learning_rate': [0.001, 0.01, 0.1, 0.2],\n",
       "                         'max_depth': [3, 5, 8, 50, 100],\n",
       "                         'n_estimators': [200, 500, 1000, 2000],\n",
       "                         'subsample': [1, 0.5, 0.75]},\n",
       "             verbose=2)"
      ]
     },
     "execution_count": 183,
     "metadata": {},
     "output_type": "execute_result"
    }
   ],
   "source": [
    "gbm = GradientBoostingRegressor()\n",
    "gbm_cv_model = GridSearchCV(gbm, gbm_params, cv = 10, n_jobs = -1, verbose = 2)\n",
    "gbm_cv_model.fit(X_train, y_train)"
   ]
  },
  {
   "cell_type": "markdown",
   "metadata": {},
   "source": [
    "2400 deneme yaptığı için işlem uzun sürdü."
   ]
  },
  {
   "cell_type": "code",
   "execution_count": 184,
   "metadata": {},
   "outputs": [
    {
     "data": {
      "text/plain": [
       "{'learning_rate': 0.01,\n",
       " 'max_depth': 3,\n",
       " 'n_estimators': 2000,\n",
       " 'subsample': 0.75}"
      ]
     },
     "execution_count": 184,
     "metadata": {},
     "output_type": "execute_result"
    }
   ],
   "source": [
    "gbm_cv_model.best_params_"
   ]
  },
  {
   "cell_type": "code",
   "execution_count": 185,
   "metadata": {},
   "outputs": [],
   "source": [
    "gbm_tuned = GradientBoostingRegressor(learning_rate = 0.1,  \n",
    "                                      max_depth = 5, \n",
    "                                      n_estimators = 200, \n",
    "                                      subsample = 0.5)\n",
    "\n",
    "gbm_tuned = gbm_tuned.fit(X_train,y_train)"
   ]
  },
  {
   "cell_type": "code",
   "execution_count": 186,
   "metadata": {},
   "outputs": [
    {
     "data": {
      "text/plain": [
       "338.8060459215527"
      ]
     },
     "execution_count": 186,
     "metadata": {},
     "output_type": "execute_result"
    }
   ],
   "source": [
    "# Bu zamana kadar ki en düşük test hatası olabilir?\n",
    "y_pred = gbm_tuned.predict(X_test)\n",
    "np.sqrt(mean_squared_error(y_test, y_pred))"
   ]
  },
  {
   "cell_type": "code",
   "execution_count": 187,
   "metadata": {},
   "outputs": [],
   "source": [
    "Importance = pd.DataFrame({\"Importance\": gbm_tuned.feature_importances_*100},\n",
    "                         index = X_train.columns)"
   ]
  },
  {
   "cell_type": "code",
   "execution_count": 188,
   "metadata": {},
   "outputs": [
    {
     "data": {
      "text/plain": [
       "Text(0.5, 0, 'Değişken Önem Düzeyleri')"
      ]
     },
     "execution_count": 188,
     "metadata": {},
     "output_type": "execute_result"
    },
    {
     "data": {
      "image/png": "[encoded data removed]",
      "text/plain": [
       "<Figure size 432x288 with 1 Axes>"
      ]
     },
     "metadata": {
      "needs_background": "light"
     },
     "output_type": "display_data"
    }
   ],
   "source": [
    "Importance.sort_values(by = \"Importance\", \n",
    "                       axis = 0, \n",
    "                       ascending = True).plot(kind =\"barh\", color = \"r\")\n",
    "\n",
    "plt.xlabel(\"Değişken Önem Düzeyleri\")"
   ]
  },
  {
   "cell_type": "markdown",
   "metadata": {},
   "source": [
    "# XGBoost (eXtreme Gradient Boosting)"
   ]
  },
  {
   "cell_type": "markdown",
   "metadata": {},
   "source": [
    "XGBoost, GBM'in hız ve tahmin performansını arttırmak üzere optimize edilmiş; ölçeklenebilir ve farklı platformlara entegre edilebilir halidir. Spark ile kullanılabilir ve GPU desteği vardır."
   ]
  },
  {
   "cell_type": "markdown",
   "metadata": {},
   "source": [
    "* R, Python, Hadoop, Scala, Julia ile kullanılabilir. \n",
    "* Ölçeklenebilirdir.\n",
    "* Hızlıdır. \n",
    "* Tahmin başarısı yüksektir. \n",
    "* Bir çok kaggle yarışmasında başarısını kanıtlamıştır."
   ]
  },
  {
   "cell_type": "code",
   "execution_count": null,
   "metadata": {},
   "outputs": [],
   "source": [
    "hit = pd.read_csv(\"Hitters.csv\")\n",
    "df = hit.copy()\n",
    "df = df.dropna()\n",
    "dms = pd.get_dummies(df[['League', 'Division', 'NewLeague']])\n",
    "y = df[\"Salary\"]\n",
    "X_ = df.drop(['Salary', 'League', 'Division', 'NewLeague'], axis=1).astype('float64')\n",
    "X = pd.concat([X_, dms[['League_N', 'Division_W', 'NewLeague_N']]], axis=1)\n",
    "X_train, X_test, y_train, y_test = train_test_split(X, y, \n",
    "                                                    test_size=0.25, \n",
    "                                                    random_state=42)"
   ]
  },
  {
   "cell_type": "code",
   "execution_count": null,
   "metadata": {},
   "outputs": [],
   "source": [
    "#!pip install xgboost"
   ]
  },
  {
   "cell_type": "code",
   "execution_count": null,
   "metadata": {},
   "outputs": [],
   "source": [
    "import xgboost as xgb\n",
    "# xgboost da standart pandas dataframe ve numpy ları kullanmak yerine \n",
    "# xgb nin kendi veri yapısını kullanırsanız daha iyi performans alırsınız."
   ]
  },
  {
   "cell_type": "code",
   "execution_count": null,
   "metadata": {},
   "outputs": [],
   "source": [
    "DM_train = xgb.DMatrix(data = X_train, label = y_train) # label(bağımlı değişken)\n",
    "DM_test = xgb.DMatrix(data = X_test, label = y_test)"
   ]
  },
  {
   "cell_type": "code",
   "execution_count": null,
   "metadata": {},
   "outputs": [],
   "source": [
    "from xgboost import XGBRegressor"
   ]
  },
  {
   "cell_type": "code",
   "execution_count": null,
   "metadata": {},
   "outputs": [],
   "source": [
    "xgb_model = XGBRegressor().fit(X_train, y_train)"
   ]
  },
  {
   "cell_type": "markdown",
   "metadata": {},
   "source": [
    "## Tahmin"
   ]
  },
  {
   "cell_type": "code",
   "execution_count": null,
   "metadata": {},
   "outputs": [],
   "source": [
    "# ilkel test hatası\n",
    "y_pred = xgb_model.predict(X_test)\n",
    "np.sqrt(mean_squared_error(y_test, y_pred))"
   ]
  },
  {
   "cell_type": "markdown",
   "metadata": {},
   "source": [
    "## Model Tuning"
   ]
  },
  {
   "cell_type": "code",
   "execution_count": null,
   "metadata": {},
   "outputs": [],
   "source": [
    "xgb_model"
   ]
  },
  {
   "cell_type": "markdown",
   "metadata": {},
   "source": [
    "- colsample_bytree parametresi ağaç başına değişkenlerden alınacak olan örnek oranıdır.\n",
    "- Overfitting i engellemek için learning_rate (daraltma adım boyu) kullanırız. \n",
    "- learning_rate oranı küçültüldükçe tahmin süresini arttırmasına rağmen başarısını arttırır. \n",
    "- max_depth (karmaşıklık parametresi) overfitting in önüne geçer.\n",
    "- n_estimators ise ağaç sayısı (itr sayısı) nı belirtir."
   ]
  },
  {
   "cell_type": "code",
   "execution_count": null,
   "metadata": {},
   "outputs": [],
   "source": [
    "xgb_grid = {\n",
    "     'colsample_bytree': [0.4, 0.5,0.6,0.9,1], #ağaç başına değişkenlerden alınacak olan örnek oranı\n",
    "     'n_estimators':[100, 200, 500, 1000],\n",
    "     'max_depth': [2,3,4,5,6],\n",
    "     'learning_rate': [0.1, 0.01, 0.5]\n",
    "}"
   ]
  },
  {
   "cell_type": "code",
   "execution_count": null,
   "metadata": {},
   "outputs": [],
   "source": [
    "xgb = XGBRegressor()\n",
    "\n",
    "xgb_cv = GridSearchCV(xgb, \n",
    "                      param_grid = xgb_grid, \n",
    "                      cv = 10, \n",
    "                      n_jobs = -1,\n",
    "                      verbose = 2)\n",
    "\n",
    "\n",
    "xgb_cv.fit(X_train, y_train)"
   ]
  },
  {
   "cell_type": "code",
   "execution_count": null,
   "metadata": {},
   "outputs": [],
   "source": [
    "xgb_cv.best_params_"
   ]
  },
  {
   "cell_type": "code",
   "execution_count": null,
   "metadata": {},
   "outputs": [],
   "source": [
    "# Tune Model\n",
    "xgb_tuned = XGBRegressor(colsample_bytree = 0.9, \n",
    "                         learning_rate = 0.01, \n",
    "                         max_depth = 5, \n",
    "                         n_estimators = 1000) \n",
    "\n",
    "xgb_tuned = xgb_tuned.fit(X_train,y_train)"
   ]
  },
  {
   "cell_type": "code",
   "execution_count": null,
   "metadata": {},
   "outputs": [],
   "source": [
    "y_pred = xgb_tuned.predict(X_test)\n",
    "np.sqrt(mean_squared_error(y_test, y_pred))"
   ]
  },
  {
   "cell_type": "markdown",
   "metadata": {},
   "source": [
    "# Light GBM"
   ]
  },
  {
   "cell_type": "code",
   "execution_count": null,
   "metadata": {},
   "outputs": [],
   "source": [
    "hit = pd.read_csv(\"Hitters.csv\")\n",
    "df = hit.copy()\n",
    "df = df.dropna()\n",
    "dms = pd.get_dummies(df[['League', 'Division', 'NewLeague']])\n",
    "y = df[\"Salary\"]\n",
    "X_ = df.drop(['Salary', 'League', 'Division', 'NewLeague'], axis=1).astype('float64')\n",
    "X = pd.concat([X_, dms[['League_N', 'Division_W', 'NewLeague_N']]], axis=1)\n",
    "X_train, X_test, y_train, y_test = train_test_split(X, y, \n",
    "                                                    test_size=0.25, \n",
    "                                                    random_state=42)\n"
   ]
  },
  {
   "cell_type": "code",
   "execution_count": null,
   "metadata": {},
   "outputs": [],
   "source": [
    "#!pip install lightgbm"
   ]
  },
  {
   "cell_type": "code",
   "execution_count": null,
   "metadata": {},
   "outputs": [],
   "source": [
    "from lightgbm import LGBMRegressor"
   ]
  },
  {
   "cell_type": "code",
   "execution_count": null,
   "metadata": {},
   "outputs": [],
   "source": [
    "#conda install -c conda-forge lightgbm"
   ]
  },
  {
   "cell_type": "code",
   "execution_count": null,
   "metadata": {},
   "outputs": [],
   "source": [
    "from lightgbm import LGBMRegressor"
   ]
  },
  {
   "cell_type": "code",
   "execution_count": null,
   "metadata": {},
   "outputs": [],
   "source": [
    "lgbm = LGBMRegressor()\n",
    "lgbm_model = lgbm.fit(X_train, y_train)"
   ]
  },
  {
   "cell_type": "markdown",
   "metadata": {},
   "source": [
    "## Tahmin"
   ]
  },
  {
   "cell_type": "code",
   "execution_count": null,
   "metadata": {},
   "outputs": [],
   "source": [
    "y_pred = lgbm_model.predict(X_test, \n",
    "                            num_iteration = lgbm_model.best_iteration_)"
   ]
  },
  {
   "cell_type": "code",
   "execution_count": null,
   "metadata": {},
   "outputs": [],
   "source": [
    "np.sqrt(mean_squared_error(y_test, y_pred))"
   ]
  },
  {
   "cell_type": "markdown",
   "metadata": {},
   "source": [
    "## Model Tuning"
   ]
  },
  {
   "cell_type": "code",
   "execution_count": null,
   "metadata": {},
   "outputs": [],
   "source": [
    "lgbm_model"
   ]
  },
  {
   "cell_type": "code",
   "execution_count": null,
   "metadata": {},
   "outputs": [],
   "source": [
    "lgbm_grid = {\n",
    "    'colsample_bytree': [0.4, 0.5,0.6,0.9,1],\n",
    "    'learning_rate': [0.01, 0.1, 0.5,1],\n",
    "    'n_estimators': [20, 40, 100, 200, 500,1000],\n",
    "    'max_depth': [1,2,3,4,5,6,7,8] }\n",
    "\n",
    "lgbm = LGBMRegressor()\n",
    "lgbm_cv_model = GridSearchCV(lgbm, lgbm_grid, cv=10, n_jobs = -1, verbose = 2)"
   ]
  },
  {
   "cell_type": "code",
   "execution_count": null,
   "metadata": {},
   "outputs": [],
   "source": [
    "lgbm_cv_model.fit(X_train, y_train)"
   ]
  },
  {
   "cell_type": "code",
   "execution_count": null,
   "metadata": {},
   "outputs": [],
   "source": [
    "lgbm_cv_model.best_params_"
   ]
  },
  {
   "cell_type": "code",
   "execution_count": null,
   "metadata": {},
   "outputs": [],
   "source": [
    "lgbm_tuned = LGBMRegressor(learning_rate = 0.1, \n",
    "                           max_depth = 7, \n",
    "                           n_estimators = 40,\n",
    "                          colsample_bytree = 0.6)\n",
    "\n",
    "lgbm_tuned = lgbm_tuned.fit(X_train,y_train)"
   ]
  },
  {
   "cell_type": "code",
   "execution_count": null,
   "metadata": {},
   "outputs": [],
   "source": [
    "y_pred = lgbm_tuned.predict(X_test)"
   ]
  },
  {
   "cell_type": "code",
   "execution_count": null,
   "metadata": {},
   "outputs": [],
   "source": [
    "np.sqrt(mean_squared_error(y_test, y_pred))"
   ]
  },
  {
   "cell_type": "markdown",
   "metadata": {},
   "source": [
    "# CatBoost"
   ]
  },
  {
   "cell_type": "code",
   "execution_count": null,
   "metadata": {},
   "outputs": [],
   "source": [
    "hit = pd.read_csv(\"Hitters.csv\")\n",
    "df = hit.copy()\n",
    "df = df.dropna()\n",
    "dms = pd.get_dummies(df[['League', 'Division', 'NewLeague']])\n",
    "y = df[\"Salary\"]\n",
    "X_ = df.drop(['Salary', 'League', 'Division', 'NewLeague'], axis=1).astype('float64')\n",
    "X = pd.concat([X_, dms[['League_N', 'Division_W', 'NewLeague_N']]], axis=1)\n",
    "X_train, X_test, y_train, y_test = train_test_split(X, y, \n",
    "                                                    test_size=0.25, \n",
    "                                                    random_state=42)\n"
   ]
  },
  {
   "cell_type": "code",
   "execution_count": null,
   "metadata": {},
   "outputs": [],
   "source": [
    "!pip install catboost"
   ]
  },
  {
   "cell_type": "code",
   "execution_count": null,
   "metadata": {},
   "outputs": [],
   "source": [
    "from catboost import CatBoostRegressor"
   ]
  },
  {
   "cell_type": "code",
   "execution_count": null,
   "metadata": {},
   "outputs": [],
   "source": [
    "catb = CatBoostRegressor()\n",
    "catb_model = catb.fit(X_train, y_train)"
   ]
  },
  {
   "cell_type": "markdown",
   "metadata": {},
   "source": [
    "## Tahmin"
   ]
  },
  {
   "cell_type": "code",
   "execution_count": null,
   "metadata": {},
   "outputs": [],
   "source": [
    "y_pred = catb_model.predict(X_test)\n",
    "np.sqrt(mean_squared_error(y_test, y_pred))"
   ]
  },
  {
   "cell_type": "markdown",
   "metadata": {},
   "source": [
    "## Model Tuning"
   ]
  },
  {
   "cell_type": "code",
   "execution_count": null,
   "metadata": {},
   "outputs": [],
   "source": [
    "catb_grid = {\n",
    "    'iterations': [200,500,1000,2000],\n",
    "    'learning_rate': [0.01, 0.03, 0.05, 0.1],\n",
    "    'depth': [3,4,5,6,7,8] }"
   ]
  },
  {
   "cell_type": "code",
   "execution_count": null,
   "metadata": {},
   "outputs": [],
   "source": [
    "catb = CatBoostRegressor()\n",
    "catb_cv_model = GridSearchCV(catb, catb_grid, cv=5, n_jobs = -1, verbose = 2)"
   ]
  },
  {
   "cell_type": "code",
   "execution_count": null,
   "metadata": {},
   "outputs": [],
   "source": [
    "catb_cv_model.fit(X_train, y_train)"
   ]
  },
  {
   "cell_type": "code",
   "execution_count": null,
   "metadata": {},
   "outputs": [],
   "source": [
    "catb_cv_model.best_params_"
   ]
  },
  {
   "cell_type": "code",
   "execution_count": null,
   "metadata": {},
   "outputs": [],
   "source": [
    "catb_tuned = CatBoostRegressor(iterations = 200, \n",
    "                               learning_rate = 0.01, \n",
    "                               depth = 8)\n",
    "\n",
    "catb_tuned = catb_tuned.fit(X_train,y_train)"
   ]
  },
  {
   "cell_type": "code",
   "execution_count": null,
   "metadata": {},
   "outputs": [],
   "source": [
    "y_pred = catb_tuned.predict(X_test)\n",
    "np.sqrt(mean_squared_error(y_test, y_pred))"
   ]
  },
  {
   "cell_type": "code",
   "execution_count": 189,
   "metadata": {},
   "outputs": [
    {
     "data": {
      "text/plain": [
       "'3.6.13 |Anaconda, Inc.| (default, Mar 16 2021, 11:37:27) [MSC v.1916 64 bit (AMD64)]'"
      ]
     },
     "execution_count": 189,
     "metadata": {},
     "output_type": "execute_result"
    }
   ],
   "source": [
    "import sys\n",
    "sys.version"
   ]
  },
  {
   "cell_type": "code",
   "execution_count": null,
   "metadata": {},
   "outputs": [],
   "source": []
  }
 ],
 "metadata": {
  "kernelspec": {
   "display_name": "Python 3",
   "language": "python",
   "name": "python3"
  },
  "language_info": {
   "codemirror_mode": {
    "name": "ipython",
    "version": 3
   },
   "file_extension": ".py",
   "mimetype": "text/x-python",
   "name": "python",
   "nbconvert_exporter": "python",
   "pygments_lexer": "ipython3",
   "version": "3.6.13"
  }
 },
 "nbformat": 4,
 "nbformat_minor": 4
}
